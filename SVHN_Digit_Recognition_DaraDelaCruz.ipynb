{
  "cells": [
    {
      "cell_type": "markdown",
      "metadata": {
        "id": "view-in-github",
        "colab_type": "text"
      },
      "source": [
        "<a href=\"https://colab.research.google.com/github/ddlcz/mit-datasci-program/blob/main/SVHN_Digit_Recognition_DaraDelaCruz.ipynb\" target=\"_parent\"><img src=\"https://colab.research.google.com/assets/colab-badge.svg\" alt=\"Open In Colab\"/></a>"
      ]
    },
    {
      "cell_type": "markdown",
      "metadata": {
        "id": "Q91KqmCRu64D"
      },
      "source": [
        "# **Deep Learning Project: Street View Housing Number Digit Recognition**\n",
        "\n",
        "# **Marks: 60**\n",
        "\n",
        "--------------\n",
        "## **Context**\n",
        "--------------\n",
        "\n",
        "One of the most interesting tasks in deep learning is to recognize objects in natural scenes. The ability to process visual information using machine learning algorithms can be very useful as demonstrated in various applications.\n",
        "\n",
        "The SVHN dataset contains over 600,000 labeled digits cropped from street-level photos. It is one of the most popular image recognition datasets. It has been used in neural networks created by Google to improve the map quality by automatically transcribing the address numbers from a patch of pixels. The transcribed number with a known street address helps pinpoint the location of the building it represents.\n",
        "\n",
        "----------------\n",
        "## **Objective**\n",
        "----------------\n",
        "\n",
        "Our objective is to predict the number depicted inside the image by using Artificial or Fully Connected Feed Forward Neural Networks and Convolutional Neural Networks. We will go through various models of each and finally select the one that is giving us the best performance.\n",
        "\n",
        "-------------\n",
        "## **Dataset**\n",
        "-------------\n",
        "Here, we will use a subset of the original data to save some computation time. The dataset is provided as a .h5 file. The basic preprocessing steps have been applied on the dataset."
      ]
    },
    {
      "cell_type": "markdown",
      "metadata": {
        "id": "8z2Z7-OAs8QG"
      },
      "source": [
        "## **Mount the drive**\n",
        "\n",
        "Let us start by mounting the Google drive. You can run the below cell to mount the Google drive."
      ]
    },
    {
      "cell_type": "code",
      "execution_count": null,
      "metadata": {
        "id": "03lDyQUuef7z",
        "colab": {
          "base_uri": "https://localhost:8080/"
        },
        "outputId": "34c74e26-d642-4ad0-db27-6938fa696d3e"
      },
      "outputs": [
        {
          "output_type": "stream",
          "name": "stdout",
          "text": [
            "Drive already mounted at /content/drive; to attempt to forcibly remount, call drive.mount(\"/content/drive\", force_remount=True).\n"
          ]
        }
      ],
      "source": [
        "from google.colab import drive\n",
        "drive.mount('/content/drive')"
      ]
    },
    {
      "cell_type": "code",
      "source": [
        "path = ('/content/drive/MyDrive/SVHN_single_grey1.h5')"
      ],
      "metadata": {
        "id": "t6b81VaiWowP"
      },
      "execution_count": null,
      "outputs": []
    },
    {
      "cell_type": "markdown",
      "metadata": {
        "id": "C8U3DUa3eNsT"
      },
      "source": [
        "## **Importing the necessary libraries**"
      ]
    },
    {
      "cell_type": "code",
      "execution_count": null,
      "metadata": {
        "id": "-dVzeuF3eQx1"
      },
      "outputs": [],
      "source": [
        "import h5py\n",
        "\n",
        "import numpy as np\n",
        "import pandas as pd\n",
        "\n",
        "import matplotlib.pyplot as plt\n",
        "import os\n",
        "import zipfile\n",
        "\n",
        "import cv2\n",
        "import seaborn as sns\n",
        "\n",
        "import tensorflow as tf\n",
        "import keras\n",
        "from tensorflow.keras.models import Sequential, Model\n",
        "from tensorflow.keras.layers import Dense, Conv2D, MaxPooling2D, BatchNormalization, Activation, Input, LeakyReLU, Dropout, Flatten\n",
        "from tensorflow.keras import backend\n",
        "from tensorflow.keras.utils import to_categorical\n",
        "from tensorflow.keras.optimizers import Adam, SGD, RMSprop\n",
        "from tensorflow.keras.callbacks import EarlyStopping, ModelCheckpoint\n",
        "from tensorflow.keras import losses, optimizers\n",
        "from tensorflow.keras.preprocessing.image import load_img\n",
        "from google.colab.patches import cv2_imshow"
      ]
    },
    {
      "cell_type": "markdown",
      "metadata": {
        "id": "ucnevGLoyKf_"
      },
      "source": [
        "**Let us check the version of tensorflow.**"
      ]
    },
    {
      "cell_type": "code",
      "execution_count": null,
      "metadata": {
        "id": "W5as47YxyJVk",
        "colab": {
          "base_uri": "https://localhost:8080/"
        },
        "outputId": "d225e8a3-77ae-4e24-d5ff-b4115e3893cb"
      },
      "outputs": [
        {
          "output_type": "stream",
          "name": "stdout",
          "text": [
            "2.15.0\n"
          ]
        }
      ],
      "source": [
        "print(tf.__version__)"
      ]
    },
    {
      "cell_type": "markdown",
      "metadata": {
        "id": "8lsux2ZwyTTR"
      },
      "source": [
        "## **Load the dataset**\n",
        "\n",
        "- Let us now load the dataset that is available as a .h5 file.\n",
        "- Split the data into the train and the test dataset."
      ]
    },
    {
      "cell_type": "code",
      "execution_count": null,
      "metadata": {
        "id": "BApX9qgNsqV0",
        "scrolled": true
      },
      "outputs": [],
      "source": [
        "h5f = h5py.File(path, 'r')"
      ]
    },
    {
      "cell_type": "code",
      "source": [
        "#split data in train and test\n",
        "X_train = h5f['X_train'][:]\n",
        "y_train = h5f['y_train'][:]\n",
        "X_test = h5f['X_test'][:]\n",
        "y_test = h5f['y_test'][:]\n",
        "\n",
        "#close the file\n",
        "h5f.close()"
      ],
      "metadata": {
        "id": "Kw66QKa6Yjf3"
      },
      "execution_count": null,
      "outputs": []
    },
    {
      "cell_type": "markdown",
      "metadata": {
        "id": "hVe0CYpUgj7w"
      },
      "source": [
        "Check the number of images in the training and the testing dataset."
      ]
    },
    {
      "cell_type": "code",
      "execution_count": null,
      "metadata": {
        "id": "y3lwKpOefkpA",
        "colab": {
          "base_uri": "https://localhost:8080/"
        },
        "outputId": "7d65d731-a678-4101-9795-8fe69992ad74"
      },
      "outputs": [
        {
          "output_type": "execute_result",
          "data": {
            "text/plain": [
              "(42000, 32, 32)"
            ]
          },
          "metadata": {},
          "execution_count": 7
        }
      ],
      "source": [
        "X_train.shape"
      ]
    },
    {
      "cell_type": "code",
      "source": [
        "X_test.shape"
      ],
      "metadata": {
        "colab": {
          "base_uri": "https://localhost:8080/"
        },
        "id": "WS9IXT1tY40B",
        "outputId": "faf6145c-db6e-4229-aceb-e4de8bbe7537"
      },
      "execution_count": null,
      "outputs": [
        {
          "output_type": "execute_result",
          "data": {
            "text/plain": [
              "(18000, 32, 32)"
            ]
          },
          "metadata": {},
          "execution_count": 8
        }
      ]
    },
    {
      "cell_type": "markdown",
      "metadata": {
        "id": "akTUOfLlgwoM"
      },
      "source": [
        "**Observation:**\n",
        "\n",
        "\n",
        "*  There are 42,000 images in the training data set\n",
        "*  There are 18,000 images in the test data set\n",
        "\n"
      ]
    },
    {
      "cell_type": "markdown",
      "metadata": {
        "id": "kxODV6HKykuc"
      },
      "source": [
        "## **Visualizing images**\n",
        "\n",
        "- Use X_train to visualize the first 10 images.\n",
        "- Use Y_train to print the first 10 labels."
      ]
    },
    {
      "cell_type": "code",
      "execution_count": null,
      "metadata": {
        "id": "Bvsc8ytHsqWD",
        "colab": {
          "base_uri": "https://localhost:8080/",
          "height": 148
        },
        "outputId": "a23e47b6-0464-434e-8ae3-3e340692e1f0"
      },
      "outputs": [
        {
          "output_type": "display_data",
          "data": {
            "text/plain": [
              "<Figure size 1000x100 with 10 Axes>"
            ],
            "image/png": "[encoded data removed]"
          },
          "metadata": {}
        },
        {
          "output_type": "stream",
          "name": "stdout",
          "text": [
            "image labels for first 10 images: [2 6 7 4 4 0 3 0 7 3]\n"
          ]
        }
      ],
      "source": [
        "#For loop to visualize first 10 images and labels in the training dataset\n",
        "\n",
        "plt.figure(figsize=(10,1))\n",
        "\n",
        "for i in range(10):\n",
        "  plt.subplot (1,10,i+1)\n",
        "  plt.imshow(X_train[i], cmap='gray')\n",
        "\n",
        "plt.show()\n",
        "print('image labels for first 10 images: %s' % (y_train[0:10]))\n"
      ]
    },
    {
      "cell_type": "markdown",
      "metadata": {
        "id": "kzoyeXHOy80N"
      },
      "source": [
        "## **Data preparation**\n",
        "\n",
        "- Print the shape and the array of pixels for the first image in the training dataset.\n",
        "- Normalize the train and the test dataset by dividing by 255.\n",
        "- Print the new shapes of the train and the test dataset.\n",
        "- One-hot encode the target variable."
      ]
    },
    {
      "cell_type": "code",
      "execution_count": null,
      "metadata": {
        "id": "NqndzQXng9rL",
        "colab": {
          "base_uri": "https://localhost:8080/"
        },
        "outputId": "9e4d6433-388b-42b3-9a32-d78f8cc32b51"
      },
      "outputs": [
        {
          "output_type": "stream",
          "name": "stdout",
          "text": [
            "Shape: (32, 32)\n",
            "Array of pixels:\n",
            " [[ 33.0704  30.2601  26.852  ...  71.4471  58.2204  42.9939]\n",
            " [ 25.2283  25.5533  29.9765 ... 113.0209 103.3639  84.2949]\n",
            " [ 26.2775  22.6137  40.4763 ... 113.3028 121.775  115.4228]\n",
            " ...\n",
            " [ 28.5502  36.212   45.0801 ...  24.1359  25.0927  26.0603]\n",
            " [ 38.4352  26.4733  23.2717 ...  28.1094  29.4683  30.0661]\n",
            " [ 50.2984  26.0773  24.0389 ...  49.6682  50.853   53.0377]]\n"
          ]
        }
      ],
      "source": [
        "#print shape and array of pixels for 1st image in training dataset\n",
        "\n",
        "print(\"Shape:\", X_train[0].shape)\n",
        "print(\"Array of pixels:\\n\", X_train[0])"
      ]
    },
    {
      "cell_type": "markdown",
      "metadata": {
        "id": "f4CQkKtQ0XII"
      },
      "source": [
        "### **Normalize the train and the test data**"
      ]
    },
    {
      "cell_type": "code",
      "execution_count": null,
      "metadata": {
        "id": "q_yUUTp_mUzB"
      },
      "outputs": [],
      "source": [
        "#Reshape dataset into 1D array\n",
        "X_train = X_train.reshape(X_train.shape[0], 1024)\n",
        "\n",
        "X_test = X_test.reshape(X_test.shape[0], 1024)"
      ]
    },
    {
      "cell_type": "code",
      "source": [
        "#normalize test and training data\n",
        "X_train = X_train/255.0\n",
        "X_test = X_test/255.0"
      ],
      "metadata": {
        "id": "f5zj6_d5cJNA"
      },
      "execution_count": null,
      "outputs": []
    },
    {
      "cell_type": "markdown",
      "metadata": {
        "id": "YSlYN6pb8kMY"
      },
      "source": [
        "Print the shapes of Training and Test data"
      ]
    },
    {
      "cell_type": "code",
      "execution_count": null,
      "metadata": {
        "id": "t7FSqOpamWkH",
        "colab": {
          "base_uri": "https://localhost:8080/"
        },
        "outputId": "5e07b2a5-6441-4bf6-c984-dcdcbaade788"
      },
      "outputs": [
        {
          "output_type": "stream",
          "name": "stdout",
          "text": [
            "Shape of X_train: (42000, 1024)\n",
            "Shape of X_test: (18000, 1024)\n"
          ]
        }
      ],
      "source": [
        "#print shapes of training and test data\n",
        "print(\"Shape of X_train:\", X_train.shape)\n",
        "print(\"Shape of X_test:\", X_test.shape)"
      ]
    },
    {
      "cell_type": "markdown",
      "metadata": {
        "id": "0uLxXBpz81vk"
      },
      "source": [
        "### **One-hot encode output**"
      ]
    },
    {
      "cell_type": "code",
      "execution_count": null,
      "metadata": {
        "id": "zL0lYER4sqWw"
      },
      "outputs": [],
      "source": [
        "#one-hot encoding for y labels\n",
        "y_train = to_categorical(y_train)\n",
        "y_test = to_categorical(y_test)"
      ]
    },
    {
      "cell_type": "code",
      "source": [
        "y_test"
      ],
      "metadata": {
        "colab": {
          "base_uri": "https://localhost:8080/"
        },
        "id": "WIN8JoS8cxPL",
        "outputId": "f7c80613-1e52-4e68-c0c8-369d741a0ddf"
      },
      "execution_count": null,
      "outputs": [
        {
          "output_type": "execute_result",
          "data": {
            "text/plain": [
              "array([[0., 1., 0., ..., 0., 0., 0.],\n",
              "       [0., 0., 0., ..., 1., 0., 0.],\n",
              "       [0., 0., 1., ..., 0., 0., 0.],\n",
              "       ...,\n",
              "       [0., 0., 0., ..., 1., 0., 0.],\n",
              "       [0., 0., 0., ..., 0., 0., 1.],\n",
              "       [0., 0., 1., ..., 0., 0., 0.]], dtype=float32)"
            ]
          },
          "metadata": {},
          "execution_count": 32
        }
      ]
    },
    {
      "cell_type": "code",
      "source": [
        "#ensure number of labels match the number of images\n",
        "y_test.shape, X_test.shape"
      ],
      "metadata": {
        "colab": {
          "base_uri": "https://localhost:8080/"
        },
        "id": "wArBv0GEdGEX",
        "outputId": "7e2e90e1-8191-4422-9a90-0f0d4ad7df05"
      },
      "execution_count": null,
      "outputs": [
        {
          "output_type": "execute_result",
          "data": {
            "text/plain": [
              "((18000, 10), (18000, 1024))"
            ]
          },
          "metadata": {},
          "execution_count": 33
        }
      ]
    },
    {
      "cell_type": "markdown",
      "metadata": {
        "id": "ViqPOTquCF76"
      },
      "source": [
        "**Observation:**\n",
        "\n",
        "\n",
        "*   Labels for test and training sets have been converted from original integers to one-hot encoded vectors\n"
      ]
    },
    {
      "cell_type": "markdown",
      "metadata": {
        "id": "yH-gVrzuByNA"
      },
      "source": [
        "## **Model Building**\n",
        "\n",
        "Now that we have done the data preprocessing, let's build an ANN model.\n",
        "\n",
        "### Fix the seed for random number generators"
      ]
    },
    {
      "cell_type": "code",
      "execution_count": null,
      "metadata": {
        "id": "BcKRwrGn0XIL"
      },
      "outputs": [],
      "source": [
        "import random"
      ]
    },
    {
      "cell_type": "code",
      "source": [
        "#seed() used to initialize random number generator\n",
        "seed = 42\n",
        "random.seed()\n",
        "np.random.seed(seed)\n",
        "tf.random.set_seed(seed)"
      ],
      "metadata": {
        "id": "OhNq_5wNdRNy"
      },
      "execution_count": null,
      "outputs": []
    },
    {
      "cell_type": "markdown",
      "metadata": {
        "id": "UJDUoaEj1d6e"
      },
      "source": [
        "### **Model Architecture**\n",
        "- Write a function that returns a sequential model with the following architecture:\n",
        " - First hidden layer with **64 nodes and the relu activation** and the **input shape = (1024, )**\n",
        " - Second hidden layer with **32 nodes and the relu activation**\n",
        " - Output layer with **activation as 'softmax' and number of nodes equal to the number of classes, i.e., 10**\n",
        " - Compile the model with the **loss equal to categorical_crossentropy, optimizer equal to Adam(learning_rate = 0.001), and metric equal to 'accuracy'**. Do not fit the model here, just return the compiled model.\n",
        "- Call the nn_model_1 function and store the model in a new variable.\n",
        "- Print the summary of the model.\n",
        "- Fit on the train data with a **validation split of 0.2, batch size = 128, verbose = 1, and epochs = 20**. Store the model building history to use later for visualization."
      ]
    },
    {
      "cell_type": "markdown",
      "source": [],
      "metadata": {
        "id": "dBBwV80zeG9Q"
      }
    },
    {
      "cell_type": "markdown",
      "metadata": {
        "id": "A48z6ucF0XIP"
      },
      "source": [
        "### **Build and train an ANN model as per the above mentioned architecture.**"
      ]
    },
    {
      "cell_type": "code",
      "execution_count": null,
      "metadata": {
        "id": "Cmi81Gr5sqW-"
      },
      "outputs": [],
      "source": [
        "def nn_model_1():\n",
        "  model = Sequential()\n",
        "  #First hidden layer\n",
        "  model.add(Dense(64, activation='relu', input_shape=(1024,)))\n",
        "  #Second hidden layer\n",
        "  model.add(Dense(32, activation='relu'))\n",
        "  #Output layer\n",
        "  model.add(Dense(10, activation='softmax'))\n",
        "  #Compile model\n",
        "  model.compile(loss='categorical_crossentropy', optimizer=Adam(learning_rate=0.001), metrics=['accuracy'])\n",
        "  return model"
      ]
    },
    {
      "cell_type": "code",
      "source": [
        "model_1 = nn_model_1()\n",
        "model_1.summary()"
      ],
      "metadata": {
        "colab": {
          "base_uri": "https://localhost:8080/"
        },
        "id": "F131157feiQs",
        "outputId": "742fc1f5-4863-433b-a346-8116baf4ee3b"
      },
      "execution_count": null,
      "outputs": [
        {
          "output_type": "stream",
          "name": "stdout",
          "text": [
            "Model: \"sequential_2\"\n",
            "_________________________________________________________________\n",
            " Layer (type)                Output Shape              Param #   \n",
            "=================================================================\n",
            " dense_6 (Dense)             (None, 64)                65600     \n",
            "                                                                 \n",
            " dense_7 (Dense)             (None, 32)                2080      \n",
            "                                                                 \n",
            " dense_8 (Dense)             (None, 10)                330       \n",
            "                                                                 \n",
            "=================================================================\n",
            "Total params: 68010 (265.66 KB)\n",
            "Trainable params: 68010 (265.66 KB)\n",
            "Non-trainable params: 0 (0.00 Byte)\n",
            "_________________________________________________________________\n"
          ]
        }
      ]
    },
    {
      "cell_type": "code",
      "source": [
        "#Fit on the train data with a validation split of 0.2, batch size = 128, verbose = 1, and epochs = 20\n",
        "history_model_1 = model_1.fit(X_train, y_train, batch_size=128, epochs=20, validation_split=0.2, verbose=1)"
      ],
      "metadata": {
        "colab": {
          "base_uri": "https://localhost:8080/"
        },
        "id": "5DzAP6KIe7t9",
        "outputId": "c579a72f-53be-4b8c-e363-b969814aa7cb"
      },
      "execution_count": null,
      "outputs": [
        {
          "output_type": "stream",
          "name": "stdout",
          "text": [
            "Epoch 1/20\n",
            "263/263 [==============================] - 4s 5ms/step - loss: 2.2966 - accuracy: 0.1244 - val_loss: 2.2704 - val_accuracy: 0.1451\n",
            "Epoch 2/20\n",
            "263/263 [==============================] - 1s 4ms/step - loss: 2.0783 - accuracy: 0.2590 - val_loss: 1.8438 - val_accuracy: 0.3577\n",
            "Epoch 3/20\n",
            "263/263 [==============================] - 2s 6ms/step - loss: 1.6638 - accuracy: 0.4462 - val_loss: 1.5453 - val_accuracy: 0.4933\n",
            "Epoch 4/20\n",
            "263/263 [==============================] - 2s 6ms/step - loss: 1.4952 - accuracy: 0.5065 - val_loss: 1.4708 - val_accuracy: 0.5140\n",
            "Epoch 5/20\n",
            "263/263 [==============================] - 1s 4ms/step - loss: 1.4063 - accuracy: 0.5422 - val_loss: 1.3800 - val_accuracy: 0.5412\n",
            "Epoch 6/20\n",
            "263/263 [==============================] - 1s 4ms/step - loss: 1.3358 - accuracy: 0.5718 - val_loss: 1.3174 - val_accuracy: 0.5781\n",
            "Epoch 7/20\n",
            "263/263 [==============================] - 1s 4ms/step - loss: 1.2928 - accuracy: 0.5900 - val_loss: 1.2702 - val_accuracy: 0.6020\n",
            "Epoch 8/20\n",
            "263/263 [==============================] - 1s 4ms/step - loss: 1.2491 - accuracy: 0.6062 - val_loss: 1.2428 - val_accuracy: 0.6096\n",
            "Epoch 9/20\n",
            "263/263 [==============================] - 1s 4ms/step - loss: 1.2139 - accuracy: 0.6212 - val_loss: 1.2045 - val_accuracy: 0.6235\n",
            "Epoch 10/20\n",
            "263/263 [==============================] - 1s 4ms/step - loss: 1.1915 - accuracy: 0.6272 - val_loss: 1.1738 - val_accuracy: 0.6339\n",
            "Epoch 11/20\n",
            "263/263 [==============================] - 1s 4ms/step - loss: 1.1652 - accuracy: 0.6385 - val_loss: 1.1608 - val_accuracy: 0.6382\n",
            "Epoch 12/20\n",
            "263/263 [==============================] - 1s 4ms/step - loss: 1.1486 - accuracy: 0.6434 - val_loss: 1.1429 - val_accuracy: 0.6408\n",
            "Epoch 13/20\n",
            "263/263 [==============================] - 1s 4ms/step - loss: 1.1273 - accuracy: 0.6526 - val_loss: 1.1362 - val_accuracy: 0.6464\n",
            "Epoch 14/20\n",
            "263/263 [==============================] - 2s 6ms/step - loss: 1.1163 - accuracy: 0.6569 - val_loss: 1.1141 - val_accuracy: 0.6543\n",
            "Epoch 15/20\n",
            "263/263 [==============================] - 2s 6ms/step - loss: 1.1028 - accuracy: 0.6606 - val_loss: 1.1160 - val_accuracy: 0.6574\n",
            "Epoch 16/20\n",
            "263/263 [==============================] - 1s 5ms/step - loss: 1.0860 - accuracy: 0.6672 - val_loss: 1.1172 - val_accuracy: 0.6514\n",
            "Epoch 17/20\n",
            "263/263 [==============================] - 1s 4ms/step - loss: 1.0742 - accuracy: 0.6736 - val_loss: 1.0816 - val_accuracy: 0.6686\n",
            "Epoch 18/20\n",
            "263/263 [==============================] - 1s 4ms/step - loss: 1.0609 - accuracy: 0.6773 - val_loss: 1.1061 - val_accuracy: 0.6582\n",
            "Epoch 19/20\n",
            "263/263 [==============================] - 1s 4ms/step - loss: 1.0545 - accuracy: 0.6783 - val_loss: 1.0678 - val_accuracy: 0.6724\n",
            "Epoch 20/20\n",
            "263/263 [==============================] - 1s 5ms/step - loss: 1.0433 - accuracy: 0.6855 - val_loss: 1.0565 - val_accuracy: 0.6833\n"
          ]
        }
      ]
    },
    {
      "cell_type": "markdown",
      "metadata": {
        "id": "MeF8XSWz0XIU"
      },
      "source": [
        "### **Plot the Training and Validation Accuracies and write down your Observations.**"
      ]
    },
    {
      "cell_type": "code",
      "execution_count": null,
      "metadata": {
        "id": "lt77zgGMP4yw",
        "colab": {
          "base_uri": "https://localhost:8080/",
          "height": 472
        },
        "outputId": "9b134447-d782-4100-f5e5-e594ff40a0ee"
      },
      "outputs": [
        {
          "output_type": "display_data",
          "data": {
            "text/plain": [
              "<Figure size 640x480 with 1 Axes>"
            ],
            "image/png": "[encoded data removed]"
          },
          "metadata": {}
        }
      ],
      "source": [
        "#Plot accuracy of model 1\n",
        "plt.plot(history_model_1.history['accuracy'])\n",
        "plt.plot(history_model_1.history['val_accuracy'])\n",
        "plt.title('model_1 accuracy')\n",
        "plt.ylabel('accuracy')\n",
        "plt.xlabel('epoch')\n",
        "plt.legend(['train', 'test'], loc='upper left')\n",
        "plt.show()"
      ]
    },
    {
      "cell_type": "markdown",
      "metadata": {
        "id": "pGBbQpLONX7k"
      },
      "source": [
        "**Observations:**\n",
        "\n",
        "\n",
        "* Model 1 resulted in 68,010 total trainable parameters, with accuracy of just under ~68% on the test and train data  \n",
        "* The training data continued to improve as epochs increased\n",
        "* Test data accuracy continued to imrpove up until the 16th epoch with slight decreases through the 20th epoch\n",
        "\n"
      ]
    },
    {
      "cell_type": "markdown",
      "metadata": {
        "id": "z0qgLMBZm5-K"
      },
      "source": [
        "Let's build one more model with higher complexity and see if we can improve the performance of the model.\n",
        "\n",
        "First, we need to clear the previous model's history from the Keras backend. Also, let's fix the seed again after clearing the backend."
      ]
    },
    {
      "cell_type": "code",
      "execution_count": null,
      "metadata": {
        "id": "I_ih3wEU9wIk"
      },
      "outputs": [],
      "source": [
        "#clear backend\n",
        "backend.clear_session()"
      ]
    },
    {
      "cell_type": "code",
      "source": [
        "#reset random seed\n",
        "seed = 42\n",
        "random.seed()\n",
        "np.random.seed(seed)\n",
        "tf.random.set_seed(seed)"
      ],
      "metadata": {
        "id": "MOTH_9SCgz3s"
      },
      "execution_count": null,
      "outputs": []
    },
    {
      "cell_type": "markdown",
      "metadata": {
        "id": "lT6o3TIKuCtk"
      },
      "source": [
        "### **Second Model Architecture**\n",
        "- Write a function that returns a sequential model with the following architecture:\n",
        " - First hidden layer with **256 nodes and the relu activation** and the **input shape = (1024, )**\n",
        " - Second hidden layer with **128 nodes and the relu activation**\n",
        " - Add the **Dropout layer with the rate equal to 0.2**\n",
        " - Third hidden layer with **64 nodes and the relu activation**\n",
        " - Fourth hidden layer with **64 nodes and the relu activation**\n",
        " - Fifth hidden layer with **32 nodes and the relu activation**\n",
        " - Add the **BatchNormalization layer**\n",
        " - Output layer with **activation as 'softmax' and number of nodes equal to the number of classes, i.e., 10**\n",
        " -Compile the model with the **loss equal to categorical_crossentropy, optimizer equal to Adam(learning_rate = 0.0005), and metric equal to 'accuracy'**. Do not fit the model here, just return the compiled model.\n",
        "- Call the nn_model_2 function and store the model in a new variable.\n",
        "- Print the summary of the model.\n",
        "- Fit on the train data with a **validation split of 0.2, batch size = 128, verbose = 1, and epochs = 30**. Store the model building history to use later for visualization."
      ]
    },
    {
      "cell_type": "markdown",
      "metadata": {
        "id": "f-ZjNBmH0XIV"
      },
      "source": [
        "### **Build and train the new ANN model as per the above mentioned architecture**"
      ]
    },
    {
      "cell_type": "code",
      "execution_count": null,
      "metadata": {
        "id": "EEPYLFIPnSDP"
      },
      "outputs": [],
      "source": [
        "def nn_model_2():\n",
        "  model = Sequential()\n",
        "  #First layer\n",
        "  model.add(Dense(256, activation='relu', input_shape=(1024,)))\n",
        "  #Second layer\n",
        "  model.add(Dense(128, activation = 'relu'))\n",
        "  #Dropout layer = 0.2\n",
        "  model.add(Dropout(0.2))\n",
        "  #third layer\n",
        "  model.add(Dense(64, activation = 'relu'))\n",
        "  #fourth layer\n",
        "  model.add(Dense(64, activation = 'relu'))\n",
        "  #fifth layer\n",
        "  model.add(Dense(32, activation = 'relu'))\n",
        "  #BatchNormalization layer\n",
        "  model.add(BatchNormalization())\n",
        "  #Output layer with 'softmax'\n",
        "  model.add(Dense(10, activation = 'softmax'))\n",
        "  #Compile the model with the loss equal to categorical_crossentropy, optimizer equal to Adam(learning_rate = 0.0005), and metric equal to 'accuracy'\n",
        "  model.compile(loss='categorical_crossentropy', optimizer=Adam(learning_rate=0.0005), metrics=['accuracy'])\n",
        "  return model"
      ]
    },
    {
      "cell_type": "code",
      "source": [
        "#build model 2 and print summary\n",
        "model_2 = nn_model_2()\n",
        "model_2.summary()"
      ],
      "metadata": {
        "colab": {
          "base_uri": "https://localhost:8080/"
        },
        "id": "ZNLrzMnMiHgx",
        "outputId": "2f5eec2f-b420-4760-858e-ce89a38f6cf9"
      },
      "execution_count": null,
      "outputs": [
        {
          "output_type": "stream",
          "name": "stdout",
          "text": [
            "Model: \"sequential\"\n",
            "_________________________________________________________________\n",
            " Layer (type)                Output Shape              Param #   \n",
            "=================================================================\n",
            " dense (Dense)               (None, 256)               262400    \n",
            "                                                                 \n",
            " dense_1 (Dense)             (None, 128)               32896     \n",
            "                                                                 \n",
            " dropout (Dropout)           (None, 128)               0         \n",
            "                                                                 \n",
            " dense_2 (Dense)             (None, 64)                8256      \n",
            "                                                                 \n",
            " dense_3 (Dense)             (None, 64)                4160      \n",
            "                                                                 \n",
            " dense_4 (Dense)             (None, 32)                2080      \n",
            "                                                                 \n",
            " batch_normalization (Batch  (None, 32)                128       \n",
            " Normalization)                                                  \n",
            "                                                                 \n",
            " dense_5 (Dense)             (None, 10)                330       \n",
            "                                                                 \n",
            "=================================================================\n",
            "Total params: 310250 (1.18 MB)\n",
            "Trainable params: 310186 (1.18 MB)\n",
            "Non-trainable params: 64 (256.00 Byte)\n",
            "_________________________________________________________________\n"
          ]
        }
      ]
    },
    {
      "cell_type": "code",
      "source": [
        "#Fit model 2\n",
        "history_model_2 = model_2.fit(X_train, y_train, batch_size=128, epochs=30, validation_split=0.2, verbose=1)"
      ],
      "metadata": {
        "colab": {
          "base_uri": "https://localhost:8080/"
        },
        "id": "HYfAi3-8iUkU",
        "outputId": "f4d32021-e63c-4048-dccb-fe99d01fd4ad"
      },
      "execution_count": null,
      "outputs": [
        {
          "output_type": "stream",
          "name": "stdout",
          "text": [
            "Epoch 1/30\n",
            "263/263 [==============================] - 7s 10ms/step - loss: 2.3465 - accuracy: 0.1049 - val_loss: 2.3094 - val_accuracy: 0.1106\n",
            "Epoch 2/30\n",
            "263/263 [==============================] - 2s 8ms/step - loss: 2.2447 - accuracy: 0.1436 - val_loss: 2.1904 - val_accuracy: 0.1696\n",
            "Epoch 3/30\n",
            "263/263 [==============================] - 2s 7ms/step - loss: 1.8832 - accuracy: 0.3104 - val_loss: 1.7028 - val_accuracy: 0.4279\n",
            "Epoch 4/30\n",
            "263/263 [==============================] - 2s 8ms/step - loss: 1.4901 - accuracy: 0.5002 - val_loss: 1.3862 - val_accuracy: 0.5423\n",
            "Epoch 5/30\n",
            "263/263 [==============================] - 2s 8ms/step - loss: 1.3126 - accuracy: 0.5706 - val_loss: 1.1702 - val_accuracy: 0.6296\n",
            "Epoch 6/30\n",
            "263/263 [==============================] - 2s 7ms/step - loss: 1.1947 - accuracy: 0.6152 - val_loss: 1.0897 - val_accuracy: 0.6538\n",
            "Epoch 7/30\n",
            "263/263 [==============================] - 2s 6ms/step - loss: 1.1338 - accuracy: 0.6372 - val_loss: 1.0956 - val_accuracy: 0.6518\n",
            "Epoch 8/30\n",
            "263/263 [==============================] - 2s 6ms/step - loss: 1.0805 - accuracy: 0.6566 - val_loss: 1.0626 - val_accuracy: 0.6646\n",
            "Epoch 9/30\n",
            "263/263 [==============================] - 2s 7ms/step - loss: 1.0474 - accuracy: 0.6681 - val_loss: 0.9856 - val_accuracy: 0.6887\n",
            "Epoch 10/30\n",
            "263/263 [==============================] - 2s 7ms/step - loss: 1.0128 - accuracy: 0.6796 - val_loss: 0.9790 - val_accuracy: 0.6930\n",
            "Epoch 11/30\n",
            "263/263 [==============================] - 2s 7ms/step - loss: 0.9894 - accuracy: 0.6869 - val_loss: 0.9352 - val_accuracy: 0.7048\n",
            "Epoch 12/30\n",
            "263/263 [==============================] - 2s 9ms/step - loss: 0.9764 - accuracy: 0.6890 - val_loss: 0.9738 - val_accuracy: 0.6873\n",
            "Epoch 13/30\n",
            "263/263 [==============================] - 2s 7ms/step - loss: 0.9458 - accuracy: 0.7022 - val_loss: 0.9316 - val_accuracy: 0.7042\n",
            "Epoch 14/30\n",
            "263/263 [==============================] - 2s 6ms/step - loss: 0.9494 - accuracy: 0.6998 - val_loss: 0.9564 - val_accuracy: 0.6973\n",
            "Epoch 15/30\n",
            "263/263 [==============================] - 2s 6ms/step - loss: 0.9130 - accuracy: 0.7103 - val_loss: 0.9046 - val_accuracy: 0.7154\n",
            "Epoch 16/30\n",
            "263/263 [==============================] - 2s 7ms/step - loss: 0.9090 - accuracy: 0.7095 - val_loss: 0.9030 - val_accuracy: 0.7085\n",
            "Epoch 17/30\n",
            "263/263 [==============================] - 2s 6ms/step - loss: 0.8930 - accuracy: 0.7186 - val_loss: 0.9155 - val_accuracy: 0.7099\n",
            "Epoch 18/30\n",
            "263/263 [==============================] - 2s 7ms/step - loss: 0.8815 - accuracy: 0.7184 - val_loss: 0.8876 - val_accuracy: 0.7146\n",
            "Epoch 19/30\n",
            "263/263 [==============================] - 2s 9ms/step - loss: 0.8651 - accuracy: 0.7235 - val_loss: 0.8530 - val_accuracy: 0.7314\n",
            "Epoch 20/30\n",
            "263/263 [==============================] - 2s 7ms/step - loss: 0.8551 - accuracy: 0.7292 - val_loss: 0.8370 - val_accuracy: 0.7405\n",
            "Epoch 21/30\n",
            "263/263 [==============================] - 2s 6ms/step - loss: 0.8520 - accuracy: 0.7320 - val_loss: 0.8334 - val_accuracy: 0.7365\n",
            "Epoch 22/30\n",
            "263/263 [==============================] - 2s 7ms/step - loss: 0.8404 - accuracy: 0.7325 - val_loss: 0.8489 - val_accuracy: 0.7325\n",
            "Epoch 23/30\n",
            "263/263 [==============================] - 2s 6ms/step - loss: 0.8271 - accuracy: 0.7395 - val_loss: 0.8498 - val_accuracy: 0.7289\n",
            "Epoch 24/30\n",
            "263/263 [==============================] - 2s 7ms/step - loss: 0.8212 - accuracy: 0.7406 - val_loss: 0.8062 - val_accuracy: 0.7489\n",
            "Epoch 25/30\n",
            "263/263 [==============================] - 2s 6ms/step - loss: 0.8099 - accuracy: 0.7439 - val_loss: 0.8024 - val_accuracy: 0.7513\n",
            "Epoch 26/30\n",
            "263/263 [==============================] - 2s 9ms/step - loss: 0.7933 - accuracy: 0.7480 - val_loss: 0.7944 - val_accuracy: 0.7513\n",
            "Epoch 27/30\n",
            "263/263 [==============================] - 2s 8ms/step - loss: 0.7849 - accuracy: 0.7518 - val_loss: 0.8268 - val_accuracy: 0.7362\n",
            "Epoch 28/30\n",
            "263/263 [==============================] - 2s 6ms/step - loss: 0.7863 - accuracy: 0.7524 - val_loss: 0.7724 - val_accuracy: 0.7589\n",
            "Epoch 29/30\n",
            "263/263 [==============================] - 2s 7ms/step - loss: 0.7939 - accuracy: 0.7479 - val_loss: 0.8157 - val_accuracy: 0.7419\n",
            "Epoch 30/30\n",
            "263/263 [==============================] - 2s 6ms/step - loss: 0.7784 - accuracy: 0.7531 - val_loss: 0.7684 - val_accuracy: 0.7605\n"
          ]
        }
      ]
    },
    {
      "cell_type": "markdown",
      "metadata": {
        "id": "ZJYsvjmw0XIX"
      },
      "source": [
        "### **Plot the Training and Validation Accuracies and write down your Observations.**"
      ]
    },
    {
      "cell_type": "code",
      "source": [
        "#Plot accuracy of model 2\n",
        "plt.plot(history_model_2.history['accuracy'])\n",
        "plt.plot(history_model_2.history['val_accuracy'])\n",
        "plt.title('model_2 accuracy')\n",
        "plt.ylabel('accuracy')\n",
        "plt.xlabel('epoch')\n",
        "plt.legend(['train', 'test'], loc='upper left')\n",
        "plt.show()"
      ],
      "metadata": {
        "colab": {
          "base_uri": "https://localhost:8080/",
          "height": 472
        },
        "id": "ztRiOsPziDFv",
        "outputId": "3d6c7cce-a587-4298-bc56-1ff5fb152f47"
      },
      "execution_count": null,
      "outputs": [
        {
          "output_type": "display_data",
          "data": {
            "text/plain": [
              "<Figure size 640x480 with 1 Axes>"
            ],
            "image/png": "[encoded data removed]"
          },
          "metadata": {}
        }
      ]
    },
    {
      "cell_type": "markdown",
      "metadata": {
        "id": "VPW1LlD61RDn"
      },
      "source": [
        "**Observations:**\n",
        "\n",
        "\n",
        "*   Model 2 has an increased nuber of 310,000 total trainable parameters, and had an increased accuracy of ~75% (compared to the 68% accuracy in model 1)\n",
        "* The addition of regularization such as a dropout layer and Batch Normalization reduced overfitting, and resulted in a higher performance compared to the previous model, which did not have any regularization\n",
        "*   The test validation accuracy surpassed the training accuracy from the first 11 epochs, indicating that this model will perform well on new and unseen data\n",
        "\n"
      ]
    },
    {
      "cell_type": "markdown",
      "metadata": {
        "id": "8kuXx9Bvu00f"
      },
      "source": [
        "## **Predictions on the test data**\n",
        "\n",
        "- Make predictions on the test set using the second model.\n",
        "- Print the obtained results using the classification report and the confusion matrix.\n",
        "- Final observations on the obtained results."
      ]
    },
    {
      "cell_type": "code",
      "execution_count": null,
      "metadata": {
        "id": "xbWMEtTj5Ad0",
        "colab": {
          "base_uri": "https://localhost:8080/"
        },
        "outputId": "e3b20f74-bd78-4fdb-d83e-6bcad30dfca0"
      },
      "outputs": [
        {
          "output_type": "stream",
          "name": "stdout",
          "text": [
            "563/563 [==============================] - 1s 2ms/step\n"
          ]
        }
      ],
      "source": [
        "#Make predictions on the test data using model_2\n",
        "pred = model_2.predict(X_test)\n",
        "pred = np.argmax(pred, axis=-1)"
      ]
    },
    {
      "cell_type": "markdown",
      "metadata": {
        "id": "i3li8Ib08yts"
      },
      "source": [
        "**Note:** Earlier, we noticed that each entry of the target variable is a one-hot encoded vector but to print the classification report and confusion matrix, we must convert each entry of y_test to a single label."
      ]
    },
    {
      "cell_type": "code",
      "execution_count": null,
      "metadata": {
        "id": "NByu7uAQ8x9P"
      },
      "outputs": [],
      "source": [
        "#convert y_test to a single label from one-hot encoded vector\n",
        "y_test = np.argmax(y_test, axis=-1)"
      ]
    },
    {
      "cell_type": "markdown",
      "metadata": {
        "id": "1_SIoopr0XIg"
      },
      "source": [
        "### **Print the classification report and the confusion matrix for the test predictions. Write your observations on the final results.**"
      ]
    },
    {
      "cell_type": "code",
      "source": [
        "#import libraries for classiication report and confusion matrix\n",
        "from sklearn.metrics import classification_report, confusion_matrix, ConfusionMatrixDisplay\n"
      ],
      "metadata": {
        "id": "q0Zam7zBllbn"
      },
      "execution_count": null,
      "outputs": []
    },
    {
      "cell_type": "code",
      "execution_count": null,
      "metadata": {
        "id": "xRddeJ-3EHT1",
        "colab": {
          "base_uri": "https://localhost:8080/"
        },
        "outputId": "64f46945-6fc9-47b8-efad-6a36655a618a"
      },
      "outputs": [
        {
          "output_type": "stream",
          "name": "stdout",
          "text": [
            "              precision    recall  f1-score   support\n",
            "\n",
            "           0       0.81      0.78      0.80      1814\n",
            "           1       0.71      0.81      0.76      1828\n",
            "           2       0.83      0.75      0.79      1803\n",
            "           3       0.72      0.71      0.72      1719\n",
            "           4       0.70      0.85      0.77      1812\n",
            "           5       0.76      0.72      0.74      1768\n",
            "           6       0.85      0.69      0.76      1832\n",
            "           7       0.80      0.79      0.79      1808\n",
            "           8       0.71      0.73      0.72      1812\n",
            "           9       0.74      0.74      0.74      1804\n",
            "\n",
            "    accuracy                           0.76     18000\n",
            "   macro avg       0.76      0.76      0.76     18000\n",
            "weighted avg       0.76      0.76      0.76     18000\n",
            "\n"
          ]
        }
      ],
      "source": [
        "#print classification report\n",
        "print(classification_report(y_test, pred))"
      ]
    },
    {
      "cell_type": "code",
      "source": [
        "#display confusion matrix\n",
        "ConfusionMatrixDisplay.from_predictions(y_test, pred)\n",
        "plt.show()"
      ],
      "metadata": {
        "colab": {
          "base_uri": "https://localhost:8080/",
          "height": 449
        },
        "id": "GGFcT03_l0Ri",
        "outputId": "35d7bb91-6a8a-4a77-8b6d-b953530c7475"
      },
      "execution_count": null,
      "outputs": [
        {
          "output_type": "display_data",
          "data": {
            "text/plain": [
              "<Figure size 640x480 with 2 Axes>"
            ],
            "image/png": "[encoded data removed]"
          },
          "metadata": {}
        }
      ]
    },
    {
      "cell_type": "markdown",
      "metadata": {
        "id": "DjErl4GA2u9s"
      },
      "source": [
        "**Final Observations:**\n",
        "\n",
        "\n",
        "*   Recall: is high overall across all labels, lowest recall on label 6 at 69%, where the label is mostly being mistaken for 4s or 8s\n",
        "*   Precision: Also fairly high of at least 71% across all labels, with label 6 having highest precision\n",
        "* Label 6 had highest precision, and lowest recall resulting in accurate identification of this label, but missed many true positives.\n",
        "* Label 4 is the inverse, where it had the highest recall, but lower precision, in which many of the true positives are identified, but included many false positives.\n",
        "\n",
        "\n"
      ]
    },
    {
      "cell_type": "markdown",
      "metadata": {
        "id": "xkR4JioMsuIV"
      },
      "source": [
        "## **Using Convolutional Neural Networks**"
      ]
    },
    {
      "cell_type": "markdown",
      "metadata": {
        "id": "YN2YgkGL_6xQ"
      },
      "source": [
        "### **Load the dataset again and split the data into the train and the test dataset.**"
      ]
    },
    {
      "cell_type": "code",
      "execution_count": null,
      "metadata": {
        "id": "mqM204HbAjP2",
        "scrolled": true
      },
      "outputs": [],
      "source": [
        "#load dataset\n",
        "h5f = h5py.File(path, 'r')"
      ]
    },
    {
      "cell_type": "code",
      "source": [
        "#split data in train and test\n",
        "X_train = h5f['X_train'][:]\n",
        "y_train = h5f['y_train'][:]\n",
        "X_test = h5f['X_test'][:]\n",
        "y_test = h5f['y_test'][:]\n",
        "\n",
        "#close the file\n",
        "h5f.close()"
      ],
      "metadata": {
        "id": "5wKy162yaqxy"
      },
      "execution_count": null,
      "outputs": []
    },
    {
      "cell_type": "markdown",
      "metadata": {
        "id": "6fPqF_xGAjQB"
      },
      "source": [
        "Check the number of images in the training and the testing dataset."
      ]
    },
    {
      "cell_type": "code",
      "execution_count": null,
      "metadata": {
        "id": "gTLJZWjPAjQB",
        "colab": {
          "base_uri": "https://localhost:8080/"
        },
        "outputId": "4c152b0f-cbf6-419b-aabe-a3bbf416e83f"
      },
      "outputs": [
        {
          "output_type": "execute_result",
          "data": {
            "text/plain": [
              "((42000, 32, 32), (18000, 32, 32))"
            ]
          },
          "metadata": {},
          "execution_count": 14
        }
      ],
      "source": [
        "X_train.shape, X_test.shape"
      ]
    },
    {
      "cell_type": "markdown",
      "metadata": {
        "id": "9qyMiP_rAjQB"
      },
      "source": [
        "**Observation:**\n",
        "\n",
        "\n",
        "*   There are 42,000 images in the training dataset\n",
        "*   And 18,000 images in the test dataset\n",
        "\n",
        "\n"
      ]
    },
    {
      "cell_type": "markdown",
      "metadata": {
        "id": "OJndFfEVAjQG"
      },
      "source": [
        "## **Data preparation**\n",
        "\n",
        "- Print the shape and the array of pixels for the first image in the training dataset.\n",
        "- Reshape the train and the test dataset because we always have to give a 4D array as input to CNNs.\n",
        "- Normalize the train and the test dataset by dividing by 255.\n",
        "- Print the new shapes of the train and the test dataset.\n",
        "- One-hot encode the target variable."
      ]
    },
    {
      "cell_type": "code",
      "execution_count": null,
      "metadata": {
        "id": "W4uXqKz1AjQG",
        "colab": {
          "base_uri": "https://localhost:8080/"
        },
        "outputId": "40ffb98f-9802-4ef6-a35b-46e26b37c361"
      },
      "outputs": [
        {
          "output_type": "stream",
          "name": "stdout",
          "text": [
            "first image shape:\n",
            " (32, 32)\n"
          ]
        }
      ],
      "source": [
        "#print shape of pixels for the first image\n",
        "print(\"first image shape:\\n\",\n",
        "      X_train[0].shape)"
      ]
    },
    {
      "cell_type": "code",
      "source": [
        "#print array of pixels for first image\n",
        "print(\"first image array:\\n\",\n",
        "      X_train[0])"
      ],
      "metadata": {
        "colab": {
          "base_uri": "https://localhost:8080/"
        },
        "id": "_KZpN-pAbND_",
        "outputId": "bfea932f-82d5-49af-a4d3-8846bd033d63"
      },
      "execution_count": null,
      "outputs": [
        {
          "output_type": "stream",
          "name": "stdout",
          "text": [
            "first image array:\n",
            " [[ 33.0704  30.2601  26.852  ...  71.4471  58.2204  42.9939]\n",
            " [ 25.2283  25.5533  29.9765 ... 113.0209 103.3639  84.2949]\n",
            " [ 26.2775  22.6137  40.4763 ... 113.3028 121.775  115.4228]\n",
            " ...\n",
            " [ 28.5502  36.212   45.0801 ...  24.1359  25.0927  26.0603]\n",
            " [ 38.4352  26.4733  23.2717 ...  28.1094  29.4683  30.0661]\n",
            " [ 50.2984  26.0773  24.0389 ...  49.6682  50.853   53.0377]]\n"
          ]
        }
      ]
    },
    {
      "cell_type": "markdown",
      "metadata": {
        "id": "at30iiX1__7F"
      },
      "source": [
        "Reshape the dataset to be able to pass them to CNNs. Remember that we always have to give a 4D array as input to CNNs"
      ]
    },
    {
      "cell_type": "code",
      "execution_count": null,
      "metadata": {
        "id": "D9YPwf9ysqWU"
      },
      "outputs": [],
      "source": [
        "#Reshape test and train dataset as 4D arrays\n",
        "X_train = X_train.reshape(X_train.shape[0], 32, 32, 1)\n",
        "X_test = X_test.reshape(X_test.shape[0], 32, 32, 1)"
      ]
    },
    {
      "cell_type": "markdown",
      "metadata": {
        "id": "ODYnoLfaAEGx"
      },
      "source": [
        "Normalize inputs from 0-255 to 0-1"
      ]
    },
    {
      "cell_type": "code",
      "execution_count": null,
      "metadata": {
        "id": "eOGLAn40AjQG"
      },
      "outputs": [],
      "source": [
        "#Normalize training and test inputs\n",
        "X_train = X_train/255.0\n",
        "X_test = X_test/255.0"
      ]
    },
    {
      "cell_type": "markdown",
      "metadata": {
        "id": "cS9T4HqjAoyM"
      },
      "source": [
        "Print New shape of Training and Test"
      ]
    },
    {
      "cell_type": "code",
      "execution_count": null,
      "metadata": {
        "id": "5qf8S5NQAjQG",
        "colab": {
          "base_uri": "https://localhost:8080/"
        },
        "outputId": "754092e4-422b-44c0-df2c-e829ce015a97"
      },
      "outputs": [
        {
          "output_type": "stream",
          "name": "stdout",
          "text": [
            "new shape of training inputs: (42000, 32, 32, 1)\n",
            "shape of training labels: (42000,)\n",
            "new shape of testing dataset: (18000, 32, 32, 1)\n",
            "shape of testing labels: (18000,)\n"
          ]
        }
      ],
      "source": [
        "#print new shape of test and train data\n",
        "print(\"new shape of training inputs:\", X_train.shape)\n",
        "print(\"shape of training labels:\", y_train.shape)\n",
        "print(\"new shape of testing dataset:\", X_test.shape)\n",
        "print(\"shape of testing labels:\", y_test.shape)"
      ]
    },
    {
      "cell_type": "markdown",
      "metadata": {
        "id": "10QaOV-xR7Jn"
      },
      "source": [
        "### **One-hot encode the labels in the target variable y_train and y_test.**"
      ]
    },
    {
      "cell_type": "code",
      "execution_count": null,
      "metadata": {
        "id": "3KHWFWKMAjQH"
      },
      "outputs": [],
      "source": [
        "#one-hot encode labels in training and test sets\n",
        "y_train = to_categorical(y_train)\n",
        "y_test = to_categorical(y_test)"
      ]
    },
    {
      "cell_type": "code",
      "source": [
        "y_train"
      ],
      "metadata": {
        "colab": {
          "base_uri": "https://localhost:8080/"
        },
        "id": "UzrNRcDBdSDQ",
        "outputId": "d12a7a50-3843-4f49-e018-8e644b7f1feb"
      },
      "execution_count": null,
      "outputs": [
        {
          "output_type": "execute_result",
          "data": {
            "text/plain": [
              "array([[0., 0., 1., ..., 0., 0., 0.],\n",
              "       [0., 0., 0., ..., 0., 0., 0.],\n",
              "       [0., 0., 0., ..., 1., 0., 0.],\n",
              "       ...,\n",
              "       [0., 0., 0., ..., 1., 0., 0.],\n",
              "       [1., 0., 0., ..., 0., 0., 0.],\n",
              "       [0., 0., 0., ..., 0., 0., 0.]], dtype=float32)"
            ]
          },
          "metadata": {},
          "execution_count": 21
        }
      ]
    },
    {
      "cell_type": "code",
      "source": [
        "y_train.shape, X_train.shape"
      ],
      "metadata": {
        "colab": {
          "base_uri": "https://localhost:8080/"
        },
        "id": "BdF5Ev-ddexA",
        "outputId": "3ccad296-22cc-4023-cf5a-bd952c864705"
      },
      "execution_count": null,
      "outputs": [
        {
          "output_type": "execute_result",
          "data": {
            "text/plain": [
              "((42000, 10), (42000, 32, 32, 1))"
            ]
          },
          "metadata": {},
          "execution_count": 22
        }
      ]
    },
    {
      "cell_type": "markdown",
      "metadata": {
        "id": "H-8jYVQTAjQH"
      },
      "source": [
        "**Observation:**\n",
        "\n",
        "\n",
        "*   The test and train data have been reshaped to 4D arrays for the convolutional neural network, displaying the same amount of pixels 32 x 32, and 1 channel in the images representing that the images are monochrome\n",
        "\n",
        "*  On the training data, the number of inputs, match the number of labels 42,000\n",
        "\n",
        "* Labels have been converted again from integers to one-hot encoded vectors\n"
      ]
    },
    {
      "cell_type": "markdown",
      "metadata": {
        "id": "Vjx_LI4_AjQH"
      },
      "source": [
        "## **Model Building**\n",
        "\n",
        "Now that we have done data preprocessing, let's build a CNN model.\n",
        "Fix the seed for random number generators"
      ]
    },
    {
      "cell_type": "code",
      "execution_count": null,
      "metadata": {
        "id": "ZY5pyF4-KDNt"
      },
      "outputs": [],
      "source": [
        "#seed() used to initialize random number generator\n",
        "import random\n",
        "\n",
        "seed = 42\n",
        "random.seed()\n",
        "np.random.seed(seed)\n",
        "tf.random.set_seed(seed)"
      ]
    },
    {
      "cell_type": "markdown",
      "metadata": {
        "id": "1JUAczhzAjQH"
      },
      "source": [
        "### **Model Architecture**\n",
        "- **Write a function** that returns a sequential model with the following architecture:\n",
        " - First Convolutional layer with **16 filters and the kernel size of 3x3**. Use the **'same' padding** and provide the **input shape = (32, 32, 1)**\n",
        " - Add a **LeakyRelu layer** with the **slope equal to 0.1**\n",
        " - Second Convolutional layer with **32 filters and the kernel size of 3x3 with 'same' padding**\n",
        " - Another **LeakyRelu** with the **slope equal to 0.1**\n",
        " - A **max-pooling layer** with a **pool size of 2x2**\n",
        " - **Flatten** the output from the previous layer\n",
        " - Add a **dense layer with 32 nodes**\n",
        " - Add a **LeakyRelu layer with the slope equal to 0.1**\n",
        " - Add the final **output layer with nodes equal to the number of classes, i.e., 10** and **'softmax' as the activation function**\n",
        " - Compile the model with the **loss equal to categorical_crossentropy, optimizer equal to Adam(learning_rate = 0.001), and metric equal to 'accuracy'**. Do not fit the model here, just return the compiled model.\n",
        "- Call the function cnn_model_1 and store the output in a new variable.\n",
        "- Print the summary of the model.\n",
        "- Fit the model on the training data with a **validation split of 0.2, batch size = 32, verbose = 1, and epochs = 20**. Store the model building history to use later for visualization."
      ]
    },
    {
      "cell_type": "markdown",
      "metadata": {
        "id": "JWsAd45JKDNu"
      },
      "source": [
        "### **Build and train a CNN model as per the above mentioned architecture.**"
      ]
    },
    {
      "cell_type": "code",
      "source": [
        "def cnn_model_1():\n",
        "  model = Sequential()\n",
        "  #First convuloutional layer\n",
        "  model.add(Conv2D(16, (3, 3), padding='same', input_shape=(32, 32, 1)))\n",
        "  #LeakyRelu slope 0.1\n",
        "  model.add(LeakyReLU(alpha=0.1))\n",
        "  #Second convolutional layer\n",
        "  model.add(Conv2D(32, (3, 3), padding='same'))\n",
        "  #LeakyRelu slope 0.1\n",
        "  model.add(LeakyReLU(alpha=0.1))\n",
        "  #max-pooling layer with 2x2 pool size\n",
        "  model.add(MaxPooling2D(pool_size=(2, 2)))\n",
        "  #flatten output from prev layer\n",
        "  model.add(Flatten())\n",
        "  #dense layer with 32 nodes\n",
        "  model.add(Dense(32))\n",
        "  #LeakyRelu slope 0.1\n",
        "  model.add(LeakyReLU(alpha=0.1))\n",
        "  #final layer with 10 nodes, and  softmax activation\n",
        "  model.add(Dense(10, activation = 'softmax'))\n",
        "  #compile model\n",
        "  model.compile(loss='categorical_crossentropy', optimizer=Adam(learning_rate=0.001), metrics=['accuracy'])\n",
        "  return model"
      ],
      "metadata": {
        "id": "dhtWrVmneuEf"
      },
      "execution_count": null,
      "outputs": []
    },
    {
      "cell_type": "code",
      "source": [
        "#build cnn model 1 and print summary\n",
        "cnn_model_1 = cnn_model_1()\n",
        "cnn_model_1.summary()"
      ],
      "metadata": {
        "colab": {
          "base_uri": "https://localhost:8080/"
        },
        "id": "LXFVY6Krgy33",
        "outputId": "8a0c332d-eb13-4dea-af56-99902badc4e4"
      },
      "execution_count": null,
      "outputs": [
        {
          "output_type": "stream",
          "name": "stdout",
          "text": [
            "Model: \"sequential\"\n",
            "_________________________________________________________________\n",
            " Layer (type)                Output Shape              Param #   \n",
            "=================================================================\n",
            " conv2d (Conv2D)             (None, 32, 32, 16)        160       \n",
            "                                                                 \n",
            " leaky_re_lu (LeakyReLU)     (None, 32, 32, 16)        0         \n",
            "                                                                 \n",
            " conv2d_1 (Conv2D)           (None, 32, 32, 32)        4640      \n",
            "                                                                 \n",
            " leaky_re_lu_1 (LeakyReLU)   (None, 32, 32, 32)        0         \n",
            "                                                                 \n",
            " max_pooling2d (MaxPooling2  (None, 16, 16, 32)        0         \n",
            " D)                                                              \n",
            "                                                                 \n",
            " flatten (Flatten)           (None, 8192)              0         \n",
            "                                                                 \n",
            " dense (Dense)               (None, 32)                262176    \n",
            "                                                                 \n",
            " leaky_re_lu_2 (LeakyReLU)   (None, 32)                0         \n",
            "                                                                 \n",
            " dense_1 (Dense)             (None, 10)                330       \n",
            "                                                                 \n",
            "=================================================================\n",
            "Total params: 267306 (1.02 MB)\n",
            "Trainable params: 267306 (1.02 MB)\n",
            "Non-trainable params: 0 (0.00 Byte)\n",
            "_________________________________________________________________\n"
          ]
        }
      ]
    },
    {
      "cell_type": "code",
      "source": [
        "#fit cnn model 1\n",
        "history_cnn_model_1 = cnn_model_1.fit(X_train, y_train, batch_size=32, epochs=20, validation_split=0.2, verbose=1)"
      ],
      "metadata": {
        "colab": {
          "base_uri": "https://localhost:8080/"
        },
        "id": "Yi3XBeXzhjhy",
        "outputId": "5cb9dbd1-dcd4-47b9-ad99-07b6ac842d71"
      },
      "execution_count": null,
      "outputs": [
        {
          "output_type": "stream",
          "name": "stdout",
          "text": [
            "Epoch 1/20\n",
            "1050/1050 [==============================] - 11s 6ms/step - loss: 1.1188 - accuracy: 0.6334 - val_loss: 0.6402 - val_accuracy: 0.8120\n",
            "Epoch 2/20\n",
            "1050/1050 [==============================] - 9s 8ms/step - loss: 0.5313 - accuracy: 0.8464 - val_loss: 0.5283 - val_accuracy: 0.8536\n",
            "Epoch 3/20\n",
            "1050/1050 [==============================] - 5s 4ms/step - loss: 0.4420 - accuracy: 0.8720 - val_loss: 0.5005 - val_accuracy: 0.8570\n",
            "Epoch 4/20\n",
            "1050/1050 [==============================] - 6s 6ms/step - loss: 0.3882 - accuracy: 0.8875 - val_loss: 0.4543 - val_accuracy: 0.8735\n",
            "Epoch 5/20\n",
            "1050/1050 [==============================] - 5s 4ms/step - loss: 0.3430 - accuracy: 0.8983 - val_loss: 0.4978 - val_accuracy: 0.8625\n",
            "Epoch 6/20\n",
            "1050/1050 [==============================] - 5s 5ms/step - loss: 0.3054 - accuracy: 0.9098 - val_loss: 0.4616 - val_accuracy: 0.8710\n",
            "Epoch 7/20\n",
            "1050/1050 [==============================] - 5s 4ms/step - loss: 0.2737 - accuracy: 0.9189 - val_loss: 0.4762 - val_accuracy: 0.8692\n",
            "Epoch 8/20\n",
            "1050/1050 [==============================] - 5s 4ms/step - loss: 0.2416 - accuracy: 0.9269 - val_loss: 0.4692 - val_accuracy: 0.8727\n",
            "Epoch 9/20\n",
            "1050/1050 [==============================] - 6s 5ms/step - loss: 0.2173 - accuracy: 0.9335 - val_loss: 0.4701 - val_accuracy: 0.8786\n",
            "Epoch 10/20\n",
            "1050/1050 [==============================] - 5s 4ms/step - loss: 0.1948 - accuracy: 0.9419 - val_loss: 0.4999 - val_accuracy: 0.8774\n",
            "Epoch 11/20\n",
            "1050/1050 [==============================] - 5s 4ms/step - loss: 0.1749 - accuracy: 0.9460 - val_loss: 0.5458 - val_accuracy: 0.8723\n",
            "Epoch 12/20\n",
            "1050/1050 [==============================] - 6s 5ms/step - loss: 0.1576 - accuracy: 0.9512 - val_loss: 0.5286 - val_accuracy: 0.8731\n",
            "Epoch 13/20\n",
            "1050/1050 [==============================] - 5s 4ms/step - loss: 0.1398 - accuracy: 0.9568 - val_loss: 0.5841 - val_accuracy: 0.8681\n",
            "Epoch 14/20\n",
            "1050/1050 [==============================] - 5s 5ms/step - loss: 0.1252 - accuracy: 0.9610 - val_loss: 0.6050 - val_accuracy: 0.8715\n",
            "Epoch 15/20\n",
            "1050/1050 [==============================] - 5s 5ms/step - loss: 0.1163 - accuracy: 0.9639 - val_loss: 0.6466 - val_accuracy: 0.8693\n",
            "Epoch 16/20\n",
            "1050/1050 [==============================] - 4s 4ms/step - loss: 0.1093 - accuracy: 0.9660 - val_loss: 0.6626 - val_accuracy: 0.8679\n",
            "Epoch 17/20\n",
            "1050/1050 [==============================] - 6s 5ms/step - loss: 0.0958 - accuracy: 0.9699 - val_loss: 0.6913 - val_accuracy: 0.8698\n",
            "Epoch 18/20\n",
            "1050/1050 [==============================] - 5s 4ms/step - loss: 0.0864 - accuracy: 0.9717 - val_loss: 0.7366 - val_accuracy: 0.8668\n",
            "Epoch 19/20\n",
            "1050/1050 [==============================] - 5s 4ms/step - loss: 0.0781 - accuracy: 0.9746 - val_loss: 0.8191 - val_accuracy: 0.8646\n",
            "Epoch 20/20\n",
            "1050/1050 [==============================] - 6s 5ms/step - loss: 0.0752 - accuracy: 0.9761 - val_loss: 0.7891 - val_accuracy: 0.8702\n"
          ]
        }
      ]
    },
    {
      "cell_type": "markdown",
      "metadata": {
        "id": "JPzfIf9kKDNw"
      },
      "source": [
        "### **Plot the Training and Validation Accuracies and Write your observations.**"
      ]
    },
    {
      "cell_type": "code",
      "execution_count": null,
      "metadata": {
        "id": "07oUCr1kAjQH",
        "colab": {
          "base_uri": "https://localhost:8080/",
          "height": 472
        },
        "outputId": "2a57366a-33c1-422d-a61b-46ef21f98830"
      },
      "outputs": [
        {
          "output_type": "display_data",
          "data": {
            "text/plain": [
              "<Figure size 640x480 with 1 Axes>"
            ],
            "image/png": "[encoded data removed]"
          },
          "metadata": {}
        }
      ],
      "source": [
        "#plot accuracy data for CNN Model 1\n",
        "plt.plot(history_cnn_model_1.history['accuracy'])\n",
        "plt.plot(history_cnn_model_1.history['val_accuracy'])\n",
        "plt.title('CNN model 1 accuracy')\n",
        "plt.ylabel('accuracy')\n",
        "plt.xlabel('epoch')\n",
        "plt.legend(['train', 'test'], loc='upper left')\n",
        "plt.show()"
      ]
    },
    {
      "cell_type": "markdown",
      "metadata": {
        "id": "P6zTLyp9AjQH"
      },
      "source": [
        "**Observations:**\n",
        "\n",
        "\n",
        "*   CNN Model 1 performed very well with over 97% accuracy on the training data, but idid not perform significantly as well on testing data at 86%, suggesting that overfitting is occuring\n",
        "* CNN Model 1 had 2 convolutional layers and used the LeakyRelu activation method. It resulted in 267,306 total traininable parameters\n",
        "*   The training data increased with each epoch, though the test set remained consistent at ~86% accuracy with each epoch\n",
        "* this suggests that CNN Model 1 will not perform as accurately as the training data with new and unseen data introduced to the model\n"
      ]
    },
    {
      "cell_type": "markdown",
      "metadata": {
        "id": "Ukvtg2eMAjQH"
      },
      "source": [
        "Let's build another model and see if we can get a better model with generalized performance.\n",
        "\n",
        "First, we need to clear the previous model's history from the Keras backend. Also, let's fix the seed again after clearing the backend."
      ]
    },
    {
      "cell_type": "code",
      "execution_count": null,
      "metadata": {
        "id": "HbKi93HTolGW"
      },
      "outputs": [],
      "source": [
        "#clear backend and reset seed\n",
        "backend.clear_session()"
      ]
    },
    {
      "cell_type": "code",
      "source": [
        "#reset random seed\n",
        "seed = 42\n",
        "random.seed()\n",
        "np.random.seed(seed)\n",
        "tf.random.set_seed(seed)"
      ],
      "metadata": {
        "id": "UYYDRR8Ok9PY"
      },
      "execution_count": null,
      "outputs": []
    },
    {
      "cell_type": "markdown",
      "metadata": {
        "id": "Ep19Jd8HAjQH"
      },
      "source": [
        "### **Second Model Architecture**\n",
        "\n",
        "- Write a function that returns a sequential model with the following architecture:\n",
        " - First Convolutional layer with **16 filters and the kernel size of 3x3**. Use the **'same' padding** and provide the **input shape = (32, 32, 1)**\n",
        " - Add a **LeakyRelu layer** with the **slope equal to 0.1**\n",
        " - Second Convolutional layer with **32 filters and the kernel size of 3x3 with 'same' padding**\n",
        " - Add **LeakyRelu** with the **slope equal to 0.1**\n",
        " - Add a **max-pooling layer** with a **pool size of 2x2**\n",
        " - Add a **BatchNormalization layer**\n",
        " - Third Convolutional layer with **32 filters and the kernel size of 3x3 with 'same' padding**\n",
        " - Add a **LeakyRelu layer with the slope equal to 0.1**\n",
        " - Fourth Convolutional layer **64 filters and the kernel size of 3x3 with 'same' padding**\n",
        " - Add a **LeakyRelu layer with the slope equal to 0.1**\n",
        " - Add a **max-pooling layer** with a **pool size of 2x2**\n",
        " - Add a **BatchNormalization layer**\n",
        " - **Flatten** the output from the previous layer\n",
        " - Add a **dense layer with 32 nodes**\n",
        " - Add a **LeakyRelu layer with the slope equal to 0.1**\n",
        " - Add a **dropout layer with the rate equal to 0.5**\n",
        " - Add the final **output layer with nodes equal to the number of classes, i.e., 10** and **'softmax' as the activation function**\n",
        " - Compile the model with the **categorical_crossentropy loss, adam optimizers (learning_rate = 0.001), and metric equal to 'accuracy'**. Do not fit the model here, just return the compiled model.\n",
        "- Call the function cnn_model_2 and store the model in a new variable.\n",
        "- Print the summary of the model.\n",
        "- Fit the model on the train data with a **validation split of 0.2, batch size = 128, verbose = 1, and epochs = 30**. Store the model building history to use later for visualization."
      ]
    },
    {
      "cell_type": "markdown",
      "metadata": {
        "id": "y5IBLS1eKDNy"
      },
      "source": [
        "### **Build and train the second CNN model as per the above mentioned architecture.**"
      ]
    },
    {
      "cell_type": "code",
      "execution_count": null,
      "metadata": {
        "id": "wk9sl2UEAjQH"
      },
      "outputs": [],
      "source": [
        "def cnn_model_2():\n",
        "  model = Sequential()\n",
        "\n",
        "  #First convuloutional layer\n",
        "  model.add(Conv2D(16, (3, 3), padding='same', input_shape=(32, 32, 1)))\n",
        "  #LeakyRelu layer with slope 0.1\n",
        "  model.add(LeakyReLU(alpha=0.1))\n",
        "  #Second convolutional layer\n",
        "  model.add(Conv2D(32, (3, 3), padding='same'))\n",
        "  #LeakyRelu layer\n",
        "  model.add(LeakyReLU(alpha=0.1))\n",
        "  #maxpooling layer\n",
        "  model.add(MaxPooling2D(pool_size=(2,2)))\n",
        "  #BatchNormalization Layer\n",
        "  model.add(BatchNormalization())\n",
        "  #Third Convolutional layer\n",
        "  model.add(Conv2D(32, (3, 3), padding='same'))\n",
        "  #LeakyRelu layer\n",
        "  model.add(LeakyReLU(alpha=0.1))\n",
        "  #Fourth Convolutional Layer\n",
        "  model.add(Conv2D(64, (3, 3), padding='same'))\n",
        "  #LeakyRelu layer\n",
        "  model.add(LeakyReLU(alpha=0.1))\n",
        "  #maxpooling layer\n",
        "  model.add(MaxPooling2D(pool_size=(2,2)))\n",
        "  #BatchNormalization Layer\n",
        "  model.add(BatchNormalization())\n",
        "  #flatten output\n",
        "  model.add(Flatten())\n",
        "  #Dense Layer\n",
        "  model.add(Dense(32))\n",
        "  #LeakyRelu layer\n",
        "  model.add(LeakyReLU(alpha=0.1))\n",
        "  #Dropout layer\n",
        "  model.add(Dropout(0.5))\n",
        "  #Output layer\n",
        "  model.add(Dense(10, activation='softmax'))\n",
        "  #compile model\n",
        "  model.compile(loss='categorical_crossentropy', optimizer=Adam(learning_rate=0.001), metrics=['accuracy'])\n",
        "\n",
        "  return model\n"
      ]
    },
    {
      "cell_type": "code",
      "source": [
        "#build cnn model 2 and print summary\n",
        "cnn_model_2 = cnn_model_2()\n",
        "cnn_model_2.summary()"
      ],
      "metadata": {
        "colab": {
          "base_uri": "https://localhost:8080/"
        },
        "id": "e31zaTdwnpoM",
        "outputId": "fbbeb3d2-68bb-40c3-9af9-df6d81ab8e66"
      },
      "execution_count": null,
      "outputs": [
        {
          "output_type": "stream",
          "name": "stdout",
          "text": [
            "Model: \"sequential\"\n",
            "_________________________________________________________________\n",
            " Layer (type)                Output Shape              Param #   \n",
            "=================================================================\n",
            " conv2d (Conv2D)             (None, 32, 32, 16)        160       \n",
            "                                                                 \n",
            " leaky_re_lu (LeakyReLU)     (None, 32, 32, 16)        0         \n",
            "                                                                 \n",
            " conv2d_1 (Conv2D)           (None, 32, 32, 32)        4640      \n",
            "                                                                 \n",
            " leaky_re_lu_1 (LeakyReLU)   (None, 32, 32, 32)        0         \n",
            "                                                                 \n",
            " max_pooling2d (MaxPooling2  (None, 16, 16, 32)        0         \n",
            " D)                                                              \n",
            "                                                                 \n",
            " batch_normalization (Batch  (None, 16, 16, 32)        128       \n",
            " Normalization)                                                  \n",
            "                                                                 \n",
            " conv2d_2 (Conv2D)           (None, 16, 16, 32)        9248      \n",
            "                                                                 \n",
            " leaky_re_lu_2 (LeakyReLU)   (None, 16, 16, 32)        0         \n",
            "                                                                 \n",
            " conv2d_3 (Conv2D)           (None, 16, 16, 64)        18496     \n",
            "                                                                 \n",
            " leaky_re_lu_3 (LeakyReLU)   (None, 16, 16, 64)        0         \n",
            "                                                                 \n",
            " max_pooling2d_1 (MaxPoolin  (None, 8, 8, 64)          0         \n",
            " g2D)                                                            \n",
            "                                                                 \n",
            " batch_normalization_1 (Bat  (None, 8, 8, 64)          256       \n",
            " chNormalization)                                                \n",
            "                                                                 \n",
            " flatten (Flatten)           (None, 4096)              0         \n",
            "                                                                 \n",
            " dense (Dense)               (None, 32)                131104    \n",
            "                                                                 \n",
            " leaky_re_lu_4 (LeakyReLU)   (None, 32)                0         \n",
            "                                                                 \n",
            " dropout (Dropout)           (None, 32)                0         \n",
            "                                                                 \n",
            " dense_1 (Dense)             (None, 10)                330       \n",
            "                                                                 \n",
            "=================================================================\n",
            "Total params: 164362 (642.04 KB)\n",
            "Trainable params: 164170 (641.29 KB)\n",
            "Non-trainable params: 192 (768.00 Byte)\n",
            "_________________________________________________________________\n"
          ]
        }
      ]
    },
    {
      "cell_type": "code",
      "execution_count": null,
      "metadata": {
        "id": "YVQu7uWiAjQH",
        "colab": {
          "base_uri": "https://localhost:8080/"
        },
        "outputId": "0db62c45-c7e3-44db-fb3c-f001bb90ca23"
      },
      "outputs": [
        {
          "output_type": "stream",
          "name": "stdout",
          "text": [
            "Epoch 1/30\n",
            "263/263 [==============================] - 12s 9ms/step - loss: 1.4856 - accuracy: 0.4903 - val_loss: 1.4996 - val_accuracy: 0.4489\n",
            "Epoch 2/30\n",
            "263/263 [==============================] - 2s 6ms/step - loss: 0.6805 - accuracy: 0.7913 - val_loss: 0.5641 - val_accuracy: 0.8318\n",
            "Epoch 3/30\n",
            "263/263 [==============================] - 2s 7ms/step - loss: 0.5546 - accuracy: 0.8310 - val_loss: 0.4333 - val_accuracy: 0.8735\n",
            "Epoch 4/30\n",
            "263/263 [==============================] - 2s 7ms/step - loss: 0.4836 - accuracy: 0.8542 - val_loss: 0.4674 - val_accuracy: 0.8645\n",
            "Epoch 5/30\n",
            "263/263 [==============================] - 2s 7ms/step - loss: 0.4429 - accuracy: 0.8655 - val_loss: 0.4073 - val_accuracy: 0.8843\n",
            "Epoch 6/30\n",
            "263/263 [==============================] - 2s 8ms/step - loss: 0.4097 - accuracy: 0.8741 - val_loss: 0.4122 - val_accuracy: 0.8864\n",
            "Epoch 7/30\n",
            "263/263 [==============================] - 3s 10ms/step - loss: 0.3792 - accuracy: 0.8830 - val_loss: 0.4273 - val_accuracy: 0.8810\n",
            "Epoch 8/30\n",
            "263/263 [==============================] - 2s 7ms/step - loss: 0.3566 - accuracy: 0.8896 - val_loss: 0.3694 - val_accuracy: 0.8996\n",
            "Epoch 9/30\n",
            "263/263 [==============================] - 2s 7ms/step - loss: 0.3291 - accuracy: 0.8981 - val_loss: 0.3643 - val_accuracy: 0.9017\n",
            "Epoch 10/30\n",
            "263/263 [==============================] - 2s 7ms/step - loss: 0.3127 - accuracy: 0.9008 - val_loss: 0.3730 - val_accuracy: 0.9021\n",
            "Epoch 11/30\n",
            "263/263 [==============================] - 2s 7ms/step - loss: 0.2927 - accuracy: 0.9080 - val_loss: 0.3550 - val_accuracy: 0.9074\n",
            "Epoch 12/30\n",
            "263/263 [==============================] - 2s 6ms/step - loss: 0.2849 - accuracy: 0.9105 - val_loss: 0.3768 - val_accuracy: 0.9023\n",
            "Epoch 13/30\n",
            "263/263 [==============================] - 2s 8ms/step - loss: 0.2719 - accuracy: 0.9147 - val_loss: 0.4410 - val_accuracy: 0.8850\n",
            "Epoch 14/30\n",
            "263/263 [==============================] - 2s 9ms/step - loss: 0.2561 - accuracy: 0.9176 - val_loss: 0.3952 - val_accuracy: 0.8974\n",
            "Epoch 15/30\n",
            "263/263 [==============================] - 2s 6ms/step - loss: 0.2464 - accuracy: 0.9219 - val_loss: 0.3791 - val_accuracy: 0.9087\n",
            "Epoch 16/30\n",
            "263/263 [==============================] - 2s 7ms/step - loss: 0.2383 - accuracy: 0.9241 - val_loss: 0.4345 - val_accuracy: 0.8923\n",
            "Epoch 17/30\n",
            "263/263 [==============================] - 2s 6ms/step - loss: 0.2187 - accuracy: 0.9291 - val_loss: 0.4143 - val_accuracy: 0.9027\n",
            "Epoch 18/30\n",
            "263/263 [==============================] - 2s 7ms/step - loss: 0.2234 - accuracy: 0.9283 - val_loss: 0.3835 - val_accuracy: 0.9113\n",
            "Epoch 19/30\n",
            "263/263 [==============================] - 2s 7ms/step - loss: 0.2115 - accuracy: 0.9314 - val_loss: 0.3797 - val_accuracy: 0.9087\n",
            "Epoch 20/30\n",
            "263/263 [==============================] - 2s 9ms/step - loss: 0.2050 - accuracy: 0.9340 - val_loss: 0.4722 - val_accuracy: 0.9142\n",
            "Epoch 21/30\n",
            "263/263 [==============================] - 2s 9ms/step - loss: 0.1902 - accuracy: 0.9372 - val_loss: 0.4081 - val_accuracy: 0.9120\n",
            "Epoch 22/30\n",
            "263/263 [==============================] - 2s 6ms/step - loss: 0.1926 - accuracy: 0.9362 - val_loss: 0.4039 - val_accuracy: 0.9113\n",
            "Epoch 23/30\n",
            "263/263 [==============================] - 2s 7ms/step - loss: 0.1789 - accuracy: 0.9404 - val_loss: 0.4854 - val_accuracy: 0.9017\n",
            "Epoch 24/30\n",
            "263/263 [==============================] - 2s 7ms/step - loss: 0.1741 - accuracy: 0.9421 - val_loss: 0.4351 - val_accuracy: 0.9123\n",
            "Epoch 25/30\n",
            "263/263 [==============================] - 2s 7ms/step - loss: 0.1689 - accuracy: 0.9437 - val_loss: 0.4333 - val_accuracy: 0.9125\n",
            "Epoch 26/30\n",
            "263/263 [==============================] - 2s 7ms/step - loss: 0.1656 - accuracy: 0.9454 - val_loss: 0.4906 - val_accuracy: 0.9032\n",
            "Epoch 27/30\n",
            "263/263 [==============================] - 2s 9ms/step - loss: 0.1583 - accuracy: 0.9473 - val_loss: 0.4083 - val_accuracy: 0.9114\n",
            "Epoch 28/30\n",
            "263/263 [==============================] - 2s 8ms/step - loss: 0.1567 - accuracy: 0.9482 - val_loss: 0.4164 - val_accuracy: 0.9115\n",
            "Epoch 29/30\n",
            "263/263 [==============================] - 2s 7ms/step - loss: 0.1506 - accuracy: 0.9495 - val_loss: 0.4504 - val_accuracy: 0.9108\n",
            "Epoch 30/30\n",
            "263/263 [==============================] - 2s 7ms/step - loss: 0.1506 - accuracy: 0.9498 - val_loss: 0.4726 - val_accuracy: 0.9152\n"
          ]
        }
      ],
      "source": [
        "#fit cnn model 2\n",
        "history_cnn_model_2 = cnn_model_2.fit(X_train, y_train, batch_size=128, epochs=30, validation_split=0.2, verbose=1,)"
      ]
    },
    {
      "cell_type": "markdown",
      "metadata": {
        "id": "PyhUtMy3KDN1"
      },
      "source": [
        "### **Plot the Training and Validation accuracies and write your observations.**"
      ]
    },
    {
      "cell_type": "code",
      "source": [
        "#plot accuracy data for CNN Model 2\n",
        "plt.plot(history_cnn_model_2.history['accuracy'])\n",
        "plt.plot(history_cnn_model_2.history['val_accuracy'])\n",
        "plt.title('CNN model 2 accuracy')\n",
        "plt.ylabel('accuracy')\n",
        "plt.xlabel('epoch')\n",
        "plt.legend(['train', 'test'], loc='upper left')\n",
        "plt.show()"
      ],
      "metadata": {
        "colab": {
          "base_uri": "https://localhost:8080/",
          "height": 472
        },
        "id": "2mrmPc_ToLyS",
        "outputId": "933622e6-cb1b-4318-cf91-47fa1a881805"
      },
      "execution_count": null,
      "outputs": [
        {
          "output_type": "display_data",
          "data": {
            "text/plain": [
              "<Figure size 640x480 with 1 Axes>"
            ],
            "image/png": "[encoded data removed]"
          },
          "metadata": {}
        }
      ]
    },
    {
      "cell_type": "markdown",
      "metadata": {
        "id": "Qrrt0Ac3AjQH"
      },
      "source": [
        "**Observations:**\n",
        "\n",
        "\n",
        "\n",
        "*   CNN model 2 continued to use the LeakyRelu activation function, but also included 4 convultional layers, and regularization including batch normalization and dropout.\n",
        "* CNN Model 2 resulted in 164,362 trainable parameters, which is slightly more than half the number of trainable parameters in CNN Model 1.\n",
        "*   Validation accuracy reached 90% after 8 epochs and remained around 90% accuracy throughout the process.\n",
        "* Training and validation accuracy are much similar to each other with training accurary ~94% and validation ~90%, suggesting that this model has eliminated much of the overfitting in CNN Model 1.\n",
        "* CNN Model 2 is expected to perform better than CNN Model 1 on new and unseen data.\n",
        "\n",
        "\n"
      ]
    },
    {
      "cell_type": "markdown",
      "metadata": {
        "id": "kja4SnOdAjQI"
      },
      "source": [
        "## **Predictions on the test data**\n",
        "\n",
        "- Make predictions on the test set using the second model.\n",
        "- Print the obtained results using the classification report and the confusion matrix.\n",
        "- Final observations on the obtained results."
      ]
    },
    {
      "cell_type": "markdown",
      "metadata": {
        "id": "eHCRwRbgKDN2"
      },
      "source": [
        "### **Make predictions on the test data using the second model.**"
      ]
    },
    {
      "cell_type": "code",
      "execution_count": null,
      "metadata": {
        "id": "f1d-VvaLAjQI",
        "colab": {
          "base_uri": "https://localhost:8080/"
        },
        "outputId": "5d11bdb6-5c4c-43ec-9e23-e57dc2c3c8be"
      },
      "outputs": [
        {
          "output_type": "stream",
          "name": "stdout",
          "text": [
            "563/563 [==============================] - 3s 4ms/step\n"
          ]
        }
      ],
      "source": [
        "#prediction on test data with CNN model 2\n",
        "pred = cnn_model_2.predict(X_test)\n",
        "pred = np.argmax(pred, axis=-1)"
      ]
    },
    {
      "cell_type": "markdown",
      "metadata": {
        "id": "DrV1tOG0AjQI"
      },
      "source": [
        "**Note:** Earlier, we noticed that each entry of the target variable is a one-hot encoded vector, but to print the classification report and confusion matrix, we must convert each entry of y_test to a single label."
      ]
    },
    {
      "cell_type": "code",
      "execution_count": null,
      "metadata": {
        "id": "dUSHU9W0AjQI"
      },
      "outputs": [],
      "source": [
        "#convert y_test from one-hot encoded to single labels\n",
        "y_test = np.argmax(y_test, axis=-1)"
      ]
    },
    {
      "cell_type": "markdown",
      "metadata": {
        "id": "aVCa-ysWKDN3"
      },
      "source": [
        "### **Write your final observations on the performance of the model on the test data.**"
      ]
    },
    {
      "cell_type": "code",
      "source": [
        "#import library for confusion matrix and classification report\n",
        "from sklearn.metrics import classification_report, confusion_matrix, ConfusionMatrixDisplay"
      ],
      "metadata": {
        "id": "y3D3TpZgqCJF"
      },
      "execution_count": null,
      "outputs": []
    },
    {
      "cell_type": "code",
      "execution_count": null,
      "metadata": {
        "id": "sOMq2rCJAjQJ",
        "colab": {
          "base_uri": "https://localhost:8080/"
        },
        "outputId": "c4c94927-d26a-4aac-81f7-14b970bae68e"
      },
      "outputs": [
        {
          "output_type": "stream",
          "name": "stdout",
          "text": [
            "              precision    recall  f1-score   support\n",
            "\n",
            "           0       0.92      0.95      0.93      1814\n",
            "           1       0.92      0.91      0.92      1828\n",
            "           2       0.92      0.93      0.93      1803\n",
            "           3       0.91      0.89      0.90      1719\n",
            "           4       0.94      0.92      0.93      1812\n",
            "           5       0.93      0.90      0.91      1768\n",
            "           6       0.90      0.91      0.90      1832\n",
            "           7       0.93      0.94      0.94      1808\n",
            "           8       0.89      0.92      0.91      1812\n",
            "           9       0.91      0.90      0.90      1804\n",
            "\n",
            "    accuracy                           0.92     18000\n",
            "   macro avg       0.92      0.92      0.92     18000\n",
            "weighted avg       0.92      0.92      0.92     18000\n",
            "\n"
          ]
        }
      ],
      "source": [
        "#print classification report\n",
        "print(classification_report(y_test, pred))"
      ]
    },
    {
      "cell_type": "code",
      "source": [
        "#plot confusion  matrix\n",
        "ConfusionMatrixDisplay.from_predictions(y_test, pred)\n",
        "plt.show()"
      ],
      "metadata": {
        "colab": {
          "base_uri": "https://localhost:8080/",
          "height": 449
        },
        "id": "J5ByucSEp5kI",
        "outputId": "2642c42b-84d7-4c41-f9a9-bf0f5286f7bb"
      },
      "execution_count": null,
      "outputs": [
        {
          "output_type": "display_data",
          "data": {
            "text/plain": [
              "<Figure size 640x480 with 2 Axes>"
            ],
            "image/png": "[encoded data removed]"
          },
          "metadata": {}
        }
      ]
    },
    {
      "cell_type": "markdown",
      "metadata": {
        "id": "TNN9v713AjQJ"
      },
      "source": [
        "**Final Observations:**\n",
        "\n",
        "* CNN Model 2 performed better than NN Model 2 in detecting accurate predictions across all labels. In general, the number of predicted labels vs. true labels is higher, ilustrating that CNN Model 2 had a higher accuracy rate.\n",
        "\n",
        "* Precision and recall have increased significantly with all labels having at least 89% precision and recall, resulting in high F1 scores.\n",
        "\n",
        "* Reviewing the results of all models, convolutional neural networks with additional layers and added regularization resulted in the most accurate predictions across the 4 models created."
      ]
    },
    {
      "cell_type": "code",
      "source": [
        "%%shell\n",
        "jupyter nbconvert --to html /content/High_Code_SVHN_Digit_Recognition_DaraDelaCruz.ipynb"
      ],
      "metadata": {
        "colab": {
          "base_uri": "https://localhost:8080/"
        },
        "id": "y41RG4e2_Drd",
        "outputId": "3483962c-3dd2-49ce-ab96-c7d3ef4f0faa"
      },
      "execution_count": null,
      "outputs": [
        {
          "output_type": "stream",
          "name": "stdout",
          "text": [
            "[NbConvertApp] Converting notebook /content/High_Code_SVHN_Digit_Recognition_DaraDelaCruz.ipynb to html\n",
            "[NbConvertApp] Writing 1081821 bytes to /content/High_Code_SVHN_Digit_Recognition_DaraDelaCruz.html\n"
          ]
        },
        {
          "output_type": "execute_result",
          "data": {
            "text/plain": []
          },
          "metadata": {},
          "execution_count": 34
        }
      ]
    }
  ],
  "metadata": {
    "colab": {
      "provenance": [],
      "gpuType": "V100",
      "include_colab_link": true
    },
    "kernelspec": {
      "display_name": "Python 3",
      "name": "python3"
    },
    "language_info": {
      "codemirror_mode": {
        "name": "ipython",
        "version": 3
      },
      "file_extension": ".py",
      "mimetype": "text/x-python",
      "name": "python",
      "nbconvert_exporter": "python",
      "pygments_lexer": "ipython3",
      "version": "3.9.7"
    },
    "accelerator": "GPU"
  },
  "nbformat": 4,
  "nbformat_minor": 0
}
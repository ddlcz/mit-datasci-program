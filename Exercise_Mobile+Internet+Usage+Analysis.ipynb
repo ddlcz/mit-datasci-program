{
  "cells": [
    {
      "cell_type": "markdown",
      "metadata": {
        "id": "view-in-github",
        "colab_type": "text"
      },
      "source": [
        "<a href=\"https://colab.research.google.com/github/ddlcz/mit-datasci-program/blob/main/Exercise_Mobile%2BInternet%2BUsage%2BAnalysis.ipynb\" target=\"_parent\"><img src=\"https://colab.research.google.com/assets/colab-badge.svg\" alt=\"Open In Colab\"/></a>"
      ]
    },
    {
      "cell_type": "markdown",
      "metadata": {
        "id": "fNQ9mYtCb3yM"
      },
      "source": [
        "-------------------------------------------------------\n",
        "# **Mobile_Internet_Case_Study**\n",
        "-------------------------------------------------------\n",
        "---------------------\n",
        "## **Context**\n",
        "---------------------\n",
        "\n",
        "ExperienceMyServices reported that a typical American spends an average of 144 minutes (2.4 hours) per day accessing the Internet via a mobile device with a standard deviation of 110 minutes.\n",
        "\n",
        "To test the validity of this statement, you collected 30 samples from friends and family. The results for the time spent per day accessing the Internet via a mobile device (in minutes) are stored in \"InternetMobileTime.csv\".\n",
        "\n",
        "--------------------------\n",
        "## **Key Question**\n",
        "--------------------------\n",
        "\n",
        "Is there enough statistical evidence to conclude that the population mean time spent per day accessing the Internet via mobile device is different from 144 minutes? Use the p-value approach and a level of significance of 0.05.\n",
        "\n",
        "**Note:** We can assume that the samples are randomly selected, independent, and come from a normally distributed population."
      ]
    },
    {
      "cell_type": "markdown",
      "metadata": {
        "id": "5nFy-Lkmb3yR"
      },
      "source": [
        "## **Importing the necessary libraries**"
      ]
    },
    {
      "cell_type": "code",
      "execution_count": null,
      "metadata": {
        "ExecuteTime": {
          "end_time": "2020-05-12T08:39:10.385004Z",
          "start_time": "2020-05-12T08:39:07.270284Z"
        },
        "id": "MyVUpMAeb3yS"
      },
      "outputs": [],
      "source": [
        "# Import the important packages\n",
        "import pandas as pd  # Library used for data manipulation and analysis\n",
        "\n",
        "import numpy as np  # Library used for working with arrays\n",
        "\n",
        "import matplotlib.pyplot as plt  # Library for visualization\n",
        "\n",
        "import seaborn as sns  # Library for visualization\n",
        "\n",
        "%matplotlib inline\n",
        "\n",
        "import scipy.stats as stats  # This library contains a large number of probability distributions as well as a growing library of statistical functions"
      ]
    },
    {
      "cell_type": "markdown",
      "metadata": {
        "id": "H0wFBWuMb3yT"
      },
      "source": [
        "## **Loading the  Data**"
      ]
    },
    {
      "cell_type": "code",
      "source": [
        "#Mount GDrive to access dataset\n",
        "from google.colab import drive\n",
        "drive.mount('/content/drive')"
      ],
      "metadata": {
        "colab": {
          "base_uri": "https://localhost:8080/"
        },
        "id": "hdYHfTW6fkV2",
        "outputId": "3232433f-78ed-4987-d073-615affd8f216"
      },
      "execution_count": null,
      "outputs": [
        {
          "output_type": "stream",
          "name": "stdout",
          "text": [
            "Mounted at /content/drive\n"
          ]
        }
      ]
    },
    {
      "cell_type": "code",
      "source": [
        "#access dataset from GDrive\n",
        "path = \"/content/drive/MyDrive/Python Course/InternetMobileTime.csv\"\n",
        "mydata = pd.read_csv(path)"
      ],
      "metadata": {
        "id": "tE9sQJ5Zfygv"
      },
      "execution_count": null,
      "outputs": []
    },
    {
      "cell_type": "code",
      "execution_count": null,
      "metadata": {
        "ExecuteTime": {
          "end_time": "2020-05-12T08:39:10.606474Z",
          "start_time": "2020-05-12T08:39:10.476659Z"
        },
        "id": "1jnK18ELb3yT",
        "outputId": "9215acb5-bd63-4e74-b906-0c2acba4e487",
        "colab": {
          "base_uri": "https://localhost:8080/",
          "height": 206
        }
      },
      "outputs": [
        {
          "output_type": "execute_result",
          "data": {
            "text/plain": [
              "   Minutes\n",
              "0       72\n",
              "1      144\n",
              "2       48\n",
              "3       72\n",
              "4       36"
            ],
            "text/html": [
              "\n",
              "  <div id=\"df-f6622c73-662c-4b4d-a22b-e334083446a0\" class=\"colab-df-container\">\n",
              "    <div>\n",
              "<style scoped>\n",
              "    .dataframe tbody tr th:only-of-type {\n",
              "        vertical-align: middle;\n",
              "    }\n",
              "\n",
              "    .dataframe tbody tr th {\n",
              "        vertical-align: top;\n",
              "    }\n",
              "\n",
              "    .dataframe thead th {\n",
              "        text-align: right;\n",
              "    }\n",
              "</style>\n",
              "<table border=\"1\" class=\"dataframe\">\n",
              "  <thead>\n",
              "    <tr style=\"text-align: right;\">\n",
              "      <th></th>\n",
              "      <th>Minutes</th>\n",
              "    </tr>\n",
              "  </thead>\n",
              "  <tbody>\n",
              "    <tr>\n",
              "      <th>0</th>\n",
              "      <td>72</td>\n",
              "    </tr>\n",
              "    <tr>\n",
              "      <th>1</th>\n",
              "      <td>144</td>\n",
              "    </tr>\n",
              "    <tr>\n",
              "      <th>2</th>\n",
              "      <td>48</td>\n",
              "    </tr>\n",
              "    <tr>\n",
              "      <th>3</th>\n",
              "      <td>72</td>\n",
              "    </tr>\n",
              "    <tr>\n",
              "      <th>4</th>\n",
              "      <td>36</td>\n",
              "    </tr>\n",
              "  </tbody>\n",
              "</table>\n",
              "</div>\n",
              "    <div class=\"colab-df-buttons\">\n",
              "\n",
              "  <div class=\"colab-df-container\">\n",
              "    <button class=\"colab-df-convert\" onclick=\"convertToInteractive('df-f6622c73-662c-4b4d-a22b-e334083446a0')\"\n",
              "            title=\"Convert this dataframe to an interactive table.\"\n",
              "            style=\"display:none;\">\n",
              "\n",
              "  <svg xmlns=\"http://www.w3.org/2000/svg\" height=\"24px\" viewBox=\"0 -960 960 960\">\n",
              "    <path d=\"M120-120v-720h720v720H120Zm60-500h600v-160H180v160Zm220 220h160v-160H400v160Zm0 220h160v-160H400v160ZM180-400h160v-160H180v160Zm440 0h160v-160H620v160ZM180-180h160v-160H180v160Zm440 0h160v-160H620v160Z\"/>\n",
              "  </svg>\n",
              "    </button>\n",
              "\n",
              "  <style>\n",
              "    .colab-df-container {\n",
              "      display:flex;\n",
              "      gap: 12px;\n",
              "    }\n",
              "\n",
              "    .colab-df-convert {\n",
              "      background-color: #E8F0FE;\n",
              "      border: none;\n",
              "      border-radius: 50%;\n",
              "      cursor: pointer;\n",
              "      display: none;\n",
              "      fill: #1967D2;\n",
              "      height: 32px;\n",
              "      padding: 0 0 0 0;\n",
              "      width: 32px;\n",
              "    }\n",
              "\n",
              "    .colab-df-convert:hover {\n",
              "      background-color: #E2EBFA;\n",
              "      box-shadow: 0px 1px 2px rgba(60, 64, 67, 0.3), 0px 1px 3px 1px rgba(60, 64, 67, 0.15);\n",
              "      fill: #174EA6;\n",
              "    }\n",
              "\n",
              "    .colab-df-buttons div {\n",
              "      margin-bottom: 4px;\n",
              "    }\n",
              "\n",
              "    [theme=dark] .colab-df-convert {\n",
              "      background-color: #3B4455;\n",
              "      fill: #D2E3FC;\n",
              "    }\n",
              "\n",
              "    [theme=dark] .colab-df-convert:hover {\n",
              "      background-color: #434B5C;\n",
              "      box-shadow: 0px 1px 3px 1px rgba(0, 0, 0, 0.15);\n",
              "      filter: drop-shadow(0px 1px 2px rgba(0, 0, 0, 0.3));\n",
              "      fill: #FFFFFF;\n",
              "    }\n",
              "  </style>\n",
              "\n",
              "    <script>\n",
              "      const buttonEl =\n",
              "        document.querySelector('#df-f6622c73-662c-4b4d-a22b-e334083446a0 button.colab-df-convert');\n",
              "      buttonEl.style.display =\n",
              "        google.colab.kernel.accessAllowed ? 'block' : 'none';\n",
              "\n",
              "      async function convertToInteractive(key) {\n",
              "        const element = document.querySelector('#df-f6622c73-662c-4b4d-a22b-e334083446a0');\n",
              "        const dataTable =\n",
              "          await google.colab.kernel.invokeFunction('convertToInteractive',\n",
              "                                                    [key], {});\n",
              "        if (!dataTable) return;\n",
              "\n",
              "        const docLinkHtml = 'Like what you see? Visit the ' +\n",
              "          '<a target=\"_blank\" href=https://colab.research.google.com/notebooks/data_table.ipynb>data table notebook</a>'\n",
              "          + ' to learn more about interactive tables.';\n",
              "        element.innerHTML = '';\n",
              "        dataTable['output_type'] = 'display_data';\n",
              "        await google.colab.output.renderOutput(dataTable, element);\n",
              "        const docLink = document.createElement('div');\n",
              "        docLink.innerHTML = docLinkHtml;\n",
              "        element.appendChild(docLink);\n",
              "      }\n",
              "    </script>\n",
              "  </div>\n",
              "\n",
              "\n",
              "<div id=\"df-5f6d2b95-3301-49c1-8e1b-3ab47f3019af\">\n",
              "  <button class=\"colab-df-quickchart\" onclick=\"quickchart('df-5f6d2b95-3301-49c1-8e1b-3ab47f3019af')\"\n",
              "            title=\"Suggest charts\"\n",
              "            style=\"display:none;\">\n",
              "\n",
              "<svg xmlns=\"http://www.w3.org/2000/svg\" height=\"24px\"viewBox=\"0 0 24 24\"\n",
              "     width=\"24px\">\n",
              "    <g>\n",
              "        <path d=\"M19 3H5c-1.1 0-2 .9-2 2v14c0 1.1.9 2 2 2h14c1.1 0 2-.9 2-2V5c0-1.1-.9-2-2-2zM9 17H7v-7h2v7zm4 0h-2V7h2v10zm4 0h-2v-4h2v4z\"/>\n",
              "    </g>\n",
              "</svg>\n",
              "  </button>\n",
              "\n",
              "<style>\n",
              "  .colab-df-quickchart {\n",
              "      --bg-color: #E8F0FE;\n",
              "      --fill-color: #1967D2;\n",
              "      --hover-bg-color: #E2EBFA;\n",
              "      --hover-fill-color: #174EA6;\n",
              "      --disabled-fill-color: #AAA;\n",
              "      --disabled-bg-color: #DDD;\n",
              "  }\n",
              "\n",
              "  [theme=dark] .colab-df-quickchart {\n",
              "      --bg-color: #3B4455;\n",
              "      --fill-color: #D2E3FC;\n",
              "      --hover-bg-color: #434B5C;\n",
              "      --hover-fill-color: #FFFFFF;\n",
              "      --disabled-bg-color: #3B4455;\n",
              "      --disabled-fill-color: #666;\n",
              "  }\n",
              "\n",
              "  .colab-df-quickchart {\n",
              "    background-color: var(--bg-color);\n",
              "    border: none;\n",
              "    border-radius: 50%;\n",
              "    cursor: pointer;\n",
              "    display: none;\n",
              "    fill: var(--fill-color);\n",
              "    height: 32px;\n",
              "    padding: 0;\n",
              "    width: 32px;\n",
              "  }\n",
              "\n",
              "  .colab-df-quickchart:hover {\n",
              "    background-color: var(--hover-bg-color);\n",
              "    box-shadow: 0 1px 2px rgba(60, 64, 67, 0.3), 0 1px 3px 1px rgba(60, 64, 67, 0.15);\n",
              "    fill: var(--button-hover-fill-color);\n",
              "  }\n",
              "\n",
              "  .colab-df-quickchart-complete:disabled,\n",
              "  .colab-df-quickchart-complete:disabled:hover {\n",
              "    background-color: var(--disabled-bg-color);\n",
              "    fill: var(--disabled-fill-color);\n",
              "    box-shadow: none;\n",
              "  }\n",
              "\n",
              "  .colab-df-spinner {\n",
              "    border: 2px solid var(--fill-color);\n",
              "    border-color: transparent;\n",
              "    border-bottom-color: var(--fill-color);\n",
              "    animation:\n",
              "      spin 1s steps(1) infinite;\n",
              "  }\n",
              "\n",
              "  @keyframes spin {\n",
              "    0% {\n",
              "      border-color: transparent;\n",
              "      border-bottom-color: var(--fill-color);\n",
              "      border-left-color: var(--fill-color);\n",
              "    }\n",
              "    20% {\n",
              "      border-color: transparent;\n",
              "      border-left-color: var(--fill-color);\n",
              "      border-top-color: var(--fill-color);\n",
              "    }\n",
              "    30% {\n",
              "      border-color: transparent;\n",
              "      border-left-color: var(--fill-color);\n",
              "      border-top-color: var(--fill-color);\n",
              "      border-right-color: var(--fill-color);\n",
              "    }\n",
              "    40% {\n",
              "      border-color: transparent;\n",
              "      border-right-color: var(--fill-color);\n",
              "      border-top-color: var(--fill-color);\n",
              "    }\n",
              "    60% {\n",
              "      border-color: transparent;\n",
              "      border-right-color: var(--fill-color);\n",
              "    }\n",
              "    80% {\n",
              "      border-color: transparent;\n",
              "      border-right-color: var(--fill-color);\n",
              "      border-bottom-color: var(--fill-color);\n",
              "    }\n",
              "    90% {\n",
              "      border-color: transparent;\n",
              "      border-bottom-color: var(--fill-color);\n",
              "    }\n",
              "  }\n",
              "</style>\n",
              "\n",
              "  <script>\n",
              "    async function quickchart(key) {\n",
              "      const quickchartButtonEl =\n",
              "        document.querySelector('#' + key + ' button');\n",
              "      quickchartButtonEl.disabled = true;  // To prevent multiple clicks.\n",
              "      quickchartButtonEl.classList.add('colab-df-spinner');\n",
              "      try {\n",
              "        const charts = await google.colab.kernel.invokeFunction(\n",
              "            'suggestCharts', [key], {});\n",
              "      } catch (error) {\n",
              "        console.error('Error during call to suggestCharts:', error);\n",
              "      }\n",
              "      quickchartButtonEl.classList.remove('colab-df-spinner');\n",
              "      quickchartButtonEl.classList.add('colab-df-quickchart-complete');\n",
              "    }\n",
              "    (() => {\n",
              "      let quickchartButtonEl =\n",
              "        document.querySelector('#df-5f6d2b95-3301-49c1-8e1b-3ab47f3019af button');\n",
              "      quickchartButtonEl.style.display =\n",
              "        google.colab.kernel.accessAllowed ? 'block' : 'none';\n",
              "    })();\n",
              "  </script>\n",
              "</div>\n",
              "\n",
              "    </div>\n",
              "  </div>\n"
            ]
          },
          "metadata": {},
          "execution_count": 5
        }
      ],
      "source": [
        "mydata.head()"
      ]
    },
    {
      "cell_type": "code",
      "execution_count": null,
      "metadata": {
        "id": "rctzWw0xb3yV",
        "outputId": "76e8eb8a-7a3e-4436-bca4-eff7c20efc2e",
        "colab": {
          "base_uri": "https://localhost:8080/"
        }
      },
      "outputs": [
        {
          "output_type": "execute_result",
          "data": {
            "text/plain": [
              "(30, 1)"
            ]
          },
          "metadata": {},
          "execution_count": 6
        }
      ],
      "source": [
        "mydata.shape"
      ]
    },
    {
      "cell_type": "code",
      "source": [
        "len(mydata)"
      ],
      "metadata": {
        "colab": {
          "base_uri": "https://localhost:8080/"
        },
        "id": "8qeYA8eFgDH-",
        "outputId": "e81a082f-eef4-43ea-ad93-93499b8ad0ee"
      },
      "execution_count": null,
      "outputs": [
        {
          "output_type": "execute_result",
          "data": {
            "text/plain": [
              "30"
            ]
          },
          "metadata": {},
          "execution_count": 8
        }
      ]
    },
    {
      "cell_type": "markdown",
      "metadata": {
        "id": "Kf8j2ErWfcQz"
      },
      "source": [
        "## **Steps of Hypothesis Testing**"
      ]
    },
    {
      "cell_type": "markdown",
      "metadata": {
        "id": "SOItsu_8b3yW"
      },
      "source": [
        "### **Step 1: Define the null and the alternate hypotheses**"
      ]
    },
    {
      "cell_type": "markdown",
      "metadata": {
        "id": "urdL3y-yb3yX"
      },
      "source": [
        "**Null hypothesis states that the mean Internet usage time, $\\mu$ is equal to 144.**\n",
        "**Alternative hypothesis states that the mean Internet usage time, $\\mu$ is not equal to 144.**\n",
        "\n",
        "* $H_0$: $\\mu$ = 144\n",
        "* $H_a$: $\\mu$ $\\neq$ 144"
      ]
    },
    {
      "cell_type": "markdown",
      "metadata": {
        "id": "UWcBNG9jb3yY"
      },
      "source": [
        "### **Step 2: Decide the significance level**"
      ]
    },
    {
      "cell_type": "markdown",
      "metadata": {
        "id": "n7H1gdpJb3yY"
      },
      "source": [
        "Here, we are given that $\\alpha$ = 0.05."
      ]
    },
    {
      "cell_type": "code",
      "execution_count": null,
      "metadata": {
        "ExecuteTime": {
          "end_time": "2020-05-12T08:39:11.495916Z",
          "start_time": "2020-05-12T08:39:11.488554Z"
        },
        "id": "Gy3bJLLmb3yZ",
        "outputId": "a25a2139-117f-490d-cc8e-f7abca00fb4c",
        "colab": {
          "base_uri": "https://localhost:8080/"
        }
      },
      "outputs": [
        {
          "output_type": "stream",
          "name": "stdout",
          "text": [
            "The sample size for this problem is 30\n"
          ]
        }
      ],
      "source": [
        "print(\"The sample size for this problem is\", len(mydata))"
      ]
    },
    {
      "cell_type": "markdown",
      "metadata": {
        "id": "gIND9yN0b3yZ"
      },
      "source": [
        "### **Step 3: Identify the test statistic**"
      ]
    },
    {
      "cell_type": "markdown",
      "metadata": {
        "id": "Haq829H5b3ya"
      },
      "source": [
        "The population is normally distributed and the population standard deviation is known to be equal to 110. So, we can use the Z-test statistic (normal test when std dev is provided)."
      ]
    },
    {
      "cell_type": "markdown",
      "metadata": {
        "id": "gCmn7vI5b3ya"
      },
      "source": [
        "### **Step 4: Calculate the p-value using z-statistic**"
      ]
    },
    {
      "cell_type": "code",
      "execution_count": null,
      "metadata": {
        "id": "jAR-d5ypb3ye",
        "colab": {
          "base_uri": "https://localhost:8080/"
        },
        "outputId": "5f6e234c-9ad7-4065-edf1-cc96d864ddd3"
      },
      "outputs": [
        {
          "output_type": "execute_result",
          "data": {
            "text/plain": [
              "180.46666666666667"
            ]
          },
          "metadata": {},
          "execution_count": 9
        }
      ],
      "source": [
        "sample_mean = mydata[\"Minutes\"].mean()\n",
        "sample_mean\n",
        "#sampe avg is higher than 144"
      ]
    },
    {
      "cell_type": "code",
      "execution_count": null,
      "metadata": {
        "ExecuteTime": {
          "end_time": "2020-05-12T08:39:14.193366Z",
          "start_time": "2020-05-12T08:39:14.185193Z"
        },
        "id": "YJj4tUYQb3ye"
      },
      "outputs": [],
      "source": [
        "# Calculating the z-stat\n",
        "\n",
        "mu = 144\n",
        "sigma = 110\n",
        "\n",
        "z_test_stat =  (sample_mean - mu) / (sigma / np.sqrt(n))"
      ]
    },
    {
      "cell_type": "code",
      "execution_count": null,
      "metadata": {
        "id": "6kTNDptbb3ye",
        "outputId": "0dc81e1a-b180-4aba-96d6-bb524f0085f1",
        "colab": {
          "base_uri": "https://localhost:8080/"
        }
      },
      "outputs": [
        {
          "output_type": "execute_result",
          "data": {
            "text/plain": [
              "1.8157832663959144"
            ]
          },
          "metadata": {},
          "execution_count": 13
        }
      ],
      "source": [
        "z_test_stat"
      ]
    },
    {
      "cell_type": "code",
      "execution_count": null,
      "metadata": {
        "id": "s30Wp6Pdb3yf"
      },
      "outputs": [],
      "source": [
        "from scipy.stats import norm\n",
        "\n",
        "# The p-value for one-tailed test\n",
        "p_value1 = 1 - norm.cdf(z_test_stat)\n",
        "\n",
        "# We can find the p_value for the the two-tailed test from the one-tailed test\n",
        "p_value_ztest = p_value1 * 2"
      ]
    },
    {
      "cell_type": "code",
      "execution_count": null,
      "metadata": {
        "id": "W6KfZDe7b3yf",
        "outputId": "9e85144d-67e4-45f0-fd52-148ff8449475",
        "colab": {
          "base_uri": "https://localhost:8080/"
        }
      },
      "outputs": [
        {
          "output_type": "stream",
          "name": "stdout",
          "text": [
            "The p-value is: 0.06940362517785204 \n"
          ]
        }
      ],
      "source": [
        "print('The p-value is: {0} '.format(p_value_ztest))"
      ]
    },
    {
      "cell_type": "code",
      "source": [
        "from scipy.stats import norm\n",
        "\n",
        "# The p-value for one-tailed test\n",
        "p_value1 = 1 - norm.cdf(z_test_stat)\n",
        "p_value1"
      ],
      "metadata": {
        "colab": {
          "base_uri": "https://localhost:8080/"
        },
        "id": "JjDEAJvtgw3k",
        "outputId": "cbc49021-7f8e-490b-d2d9-ad3f07b3a2e9"
      },
      "execution_count": null,
      "outputs": [
        {
          "output_type": "execute_result",
          "data": {
            "text/plain": [
              "0.03470181258892602"
            ]
          },
          "metadata": {},
          "execution_count": 17
        }
      ]
    },
    {
      "cell_type": "code",
      "source": [
        "p_value_ztest = p_value1 * 2\n",
        "p_value_ztest"
      ],
      "metadata": {
        "colab": {
          "base_uri": "https://localhost:8080/"
        },
        "id": "FgluU_iNg3gN",
        "outputId": "2e46a9d2-44f3-44cb-8197-b36aec62f83b"
      },
      "execution_count": null,
      "outputs": [
        {
          "output_type": "execute_result",
          "data": {
            "text/plain": [
              "0.06940362517785204"
            ]
          },
          "metadata": {},
          "execution_count": 19
        }
      ]
    },
    {
      "cell_type": "markdown",
      "metadata": {
        "id": "224Pd6vgb3yg"
      },
      "source": [
        "### **Step 5: Decide to reject or fail to reject the null hypothesis based on the z-statistic**"
      ]
    },
    {
      "cell_type": "code",
      "execution_count": null,
      "metadata": {
        "id": "Li5vbRrkb3yg",
        "outputId": "7b25e133-4ae2-4ce9-b62a-55ac87fa1dea",
        "colab": {
          "base_uri": "https://localhost:8080/"
        }
      },
      "outputs": [
        {
          "output_type": "stream",
          "name": "stdout",
          "text": [
            "Level of significance: 0.05\n",
            "We do not have sufficient evidence to reject the null hypothesis as the p-value is greater than the level of significance\n"
          ]
        }
      ],
      "source": [
        "alpha_value = 0.05 # Level of significance\n",
        "\n",
        "print('Level of significance: %.2f' %alpha_value)\n",
        "\n",
        "if p_value_ztest < alpha_value:\n",
        "    print('We have the evidence to reject the null hypothesis as the p-value is less than the level of significance'.format(p_value_ztest))\n",
        "else:\n",
        "    print('We do not have sufficient evidence to reject the null hypothesis as the p-value is greater than the level of significance'.format(p_value_ztest))\n",
        "\n"
      ]
    },
    {
      "cell_type": "markdown",
      "metadata": {
        "id": "MiNHxWM3b3yh"
      },
      "source": [
        "We have calculated the z-statistic, which works on the assumption that population standard deviation is known but in real life, this assumption is very unlikely, and to deal with this problem there is another test called **t-statistic**, which is similar to z-statistic, with the assumption that population standard deviation is not known and sample standard deviation is used to calculate the test statistic."
      ]
    },
    {
      "cell_type": "markdown",
      "metadata": {
        "id": "O2ywLjzsb3yh"
      },
      "source": [
        "We will use **scipy.stats.ttest_1samp** which calculates the t-test for the mean of one sample given the sample observations. This function returns the t statistic and the p-value for a two-tailed t-test."
      ]
    },
    {
      "cell_type": "markdown",
      "metadata": {
        "id": "G6ejuDieb3yi"
      },
      "source": [
        "### **Step 6: Calculate the p-value using t-statistic**"
      ]
    },
    {
      "cell_type": "code",
      "execution_count": null,
      "metadata": {
        "id": "MuOryIk3b3yi",
        "outputId": "1be4cd00-a472-421b-fac7-6077fab560db",
        "colab": {
          "base_uri": "https://localhost:8080/"
        }
      },
      "outputs": [
        {
          "output_type": "stream",
          "name": "stdout",
          "text": [
            "One sample t-test \n",
            "t statistic: [1.41131966] p value: [0.16878961] \n"
          ]
        }
      ],
      "source": [
        "#T-test, you do not need to know standard deviation\n",
        "t_statistic, p_value_ttest = stats.ttest_1samp(mydata, popmean = 144)\n",
        "print('One sample t-test \\nt statistic: {0} p value: {1} '.format(t_statistic, p_value_ttest))"
      ]
    },
    {
      "cell_type": "markdown",
      "source": [
        "pvalue > alpha = cannot reject null hyp"
      ],
      "metadata": {
        "id": "QgoKAQ3nhXHk"
      }
    },
    {
      "cell_type": "markdown",
      "metadata": {
        "id": "XbTKSdV8b3yi"
      },
      "source": [
        "### **Step 7: Decide to reject or not to reject the null hypothesis based on t-statistic**"
      ]
    },
    {
      "cell_type": "code",
      "execution_count": null,
      "metadata": {
        "ExecuteTime": {
          "end_time": "2020-03-27T11:10:29.927035Z",
          "start_time": "2020-03-27T11:10:29.921051Z"
        },
        "id": "thWqVEosb3yj",
        "outputId": "bdefee51-a498-4fe8-cfeb-355c0e38a232"
      },
      "outputs": [
        {
          "name": "stdout",
          "output_type": "stream",
          "text": [
            "Level of significance: 0.05\n",
            "We do not have sufficient evidence to reject the null hypothesis as the p-value is greater than the level of significance\n"
          ]
        }
      ],
      "source": [
        "alpha_value = 0.05 # Level of significance\n",
        "\n",
        "print('Level of significance: %.2f' %alpha_value)\n",
        "\n",
        "if p_value_ttest < alpha_value:\n",
        "    print('We have the evidence to reject the null hypothesis as the p-value is less than the level of significance'.format(p_value_ttest))\n",
        "else:\n",
        "    print('We do not have sufficient evidence to reject the null hypothesis as the p-value is greater than the level of significance'.format(p_value_ttest))\n",
        "\n"
      ]
    },
    {
      "cell_type": "markdown",
      "metadata": {
        "id": "0cx01v8Ib3yj"
      },
      "source": [
        "**Observation:**\n",
        "\n",
        "- At a 5% significance level, we do not have enough statistical evidence to prove that the mean time spent on the Internet is not equal to 144 minutes."
      ]
    },
    {
      "cell_type": "code",
      "source": [
        "t_statistic, p_value_ttest = stats.ttest_1samp(mydata, popmean = 190)\n",
        "print('One sample t-test \\nt statistic: {0} p value: {1} '.format(t_statistic, p_value_ttest))"
      ],
      "metadata": {
        "colab": {
          "base_uri": "https://localhost:8080/"
        },
        "id": "GSC5wsmXhhV8",
        "outputId": "c70bfcfe-abf3-4bfb-e985-7cdb23479bbf"
      },
      "execution_count": null,
      "outputs": [
        {
          "output_type": "stream",
          "name": "stdout",
          "text": [
            "One sample t-test \n",
            "t statistic: [-0.3689556] p value: [0.71484097] \n"
          ]
        }
      ]
    },
    {
      "cell_type": "code",
      "source": [
        "stats.ttest_ind()\n",
        "#independent T test - have two samples want to compare against each other - e.g. drug vs. placebo"
      ],
      "metadata": {
        "id": "EvlQYyZbhpZg"
      },
      "execution_count": null,
      "outputs": []
    }
  ],
  "metadata": {
    "colab": {
      "provenance": [],
      "include_colab_link": true
    },
    "kernelspec": {
      "display_name": "Python 3 (ipykernel)",
      "language": "python",
      "name": "python3"
    },
    "language_info": {
      "codemirror_mode": {
        "name": "ipython",
        "version": 3
      },
      "file_extension": ".py",
      "mimetype": "text/x-python",
      "name": "python",
      "nbconvert_exporter": "python",
      "pygments_lexer": "ipython3",
      "version": "3.9.7"
    },
    "toc": {
      "base_numbering": 1,
      "nav_menu": {},
      "number_sections": true,
      "sideBar": true,
      "skip_h1_title": false,
      "title_cell": "Table of Contents",
      "title_sidebar": "Contents",
      "toc_cell": false,
      "toc_position": {},
      "toc_section_display": true,
      "toc_window_display": false
    },
    "varInspector": {
      "cols": {
        "lenName": 16,
        "lenType": 16,
        "lenVar": 40
      },
      "kernels_config": {
        "python": {
          "delete_cmd_postfix": "",
          "delete_cmd_prefix": "del ",
          "library": "var_list.py",
          "varRefreshCmd": "print(var_dic_list())"
        },
        "r": {
          "delete_cmd_postfix": ") ",
          "delete_cmd_prefix": "rm(",
          "library": "var_list.r",
          "varRefreshCmd": "cat(var_dic_list()) "
        }
      },
      "types_to_exclude": [
        "module",
        "function",
        "builtin_function_or_method",
        "instance",
        "_Feature"
      ],
      "window_display": false
    }
  },
  "nbformat": 4,
  "nbformat_minor": 0
}
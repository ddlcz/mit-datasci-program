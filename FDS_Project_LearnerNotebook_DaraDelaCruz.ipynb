{
  "cells": [
    {
      "cell_type": "markdown",
      "metadata": {
        "id": "view-in-github",
        "colab_type": "text"
      },
      "source": [
        "<a href=\"https://colab.research.google.com/github/ddlcz/mit-datasci-program/blob/main/FDS_Project_LearnerNotebook_DaraDelaCruz.ipynb\" target=\"_parent\"><img src=\"https://colab.research.google.com/assets/colab-badge.svg\" alt=\"Open In Colab\"/></a>"
      ]
    },
    {
      "cell_type": "markdown",
      "metadata": {
        "id": "Gc8x8QimJY_H"
      },
      "source": [
        "# Project Foundations for Data Science: FoodHub Data Analysis\n",
        "\n",
        "**Marks: 60**"
      ]
    },
    {
      "cell_type": "markdown",
      "metadata": {
        "id": "NqikjkWwJY_L"
      },
      "source": [
        "### Context\n",
        "\n",
        "The number of restaurants in New York is increasing day by day. Lots of students and busy professionals rely on those restaurants due to their hectic lifestyles. Online food delivery service is a great option for them. It provides them with good food from their favorite restaurants. A food aggregator company FoodHub offers access to multiple restaurants through a single smartphone app.\n",
        "\n",
        "The app allows the restaurants to receive a direct online order from a customer. The app assigns a delivery person from the company to pick up the order after it is confirmed by the restaurant. The delivery person then uses the map to reach the restaurant and waits for the food package. Once the food package is handed over to the delivery person, he/she confirms the pick-up in the app and travels to the customer's location to deliver the food. The delivery person confirms the drop-off in the app after delivering the food package to the customer. The customer can rate the order in the app. The food aggregator earns money by collecting a fixed margin of the delivery order from the restaurants.\n",
        "\n",
        "### Objective\n",
        "\n",
        "The food aggregator company has stored the data of the different orders made by the registered customers in their online portal. They want to analyze the data to get a fair idea about the demand of different restaurants which will help them in enhancing their customer experience. Suppose you are hired as a Data Scientist in this company and the Data Science team has shared some of the key questions that need to be answered. Perform the data analysis to find answers to these questions that will help the company to improve the business.\n",
        "\n",
        "### Data Description\n",
        "\n",
        "The data contains the different data related to a food order. The detailed data dictionary is given below.\n",
        "\n",
        "### Data Dictionary\n",
        "\n",
        "* order_id: Unique ID of the order\n",
        "* customer_id: ID of the customer who ordered the food\n",
        "* restaurant_name: Name of the restaurant\n",
        "* cuisine_type: Cuisine ordered by the customer\n",
        "* cost: Cost of the order\n",
        "* day_of_the_week: Indicates whether the order is placed on a weekday or weekend (The weekday is from Monday to Friday and the weekend is Saturday and Sunday)\n",
        "* rating: Rating given by the customer out of 5\n",
        "* food_preparation_time: Time (in minutes) taken by the restaurant to prepare the food. This is calculated by taking the difference between the timestamps of the restaurant's order confirmation and the delivery person's pick-up confirmation.\n",
        "* delivery_time: Time (in minutes) taken by the delivery person to deliver the food package. This is calculated by taking the difference between the timestamps of the delivery person's pick-up confirmation and drop-off information"
      ]
    },
    {
      "cell_type": "markdown",
      "metadata": {
        "id": "cEtNUxNAJY_M"
      },
      "source": [
        "### Let us start by importing the required libraries"
      ]
    },
    {
      "cell_type": "code",
      "execution_count": null,
      "metadata": {
        "id": "u6PlpJAPJY_N"
      },
      "outputs": [],
      "source": [
        "# import libraries for data manipulation\n",
        "import numpy as np\n",
        "import pandas as pd\n",
        "\n",
        "# import libraries for data visualization\n",
        "import matplotlib.pyplot as plt\n",
        "import seaborn as sns\n",
        "\n",
        "# Command to tell Python to display the graphs\n",
        "%matplotlib inline"
      ]
    },
    {
      "cell_type": "code",
      "source": [
        "#Mount GDrive to access dataset\n",
        "from google.colab import drive\n",
        "drive.mount('/content/drive')"
      ],
      "metadata": {
        "colab": {
          "base_uri": "https://localhost:8080/"
        },
        "id": "XdeB6ldepTe_",
        "outputId": "03e985d5-2f36-4e09-fcf0-82b3a83bd9c4"
      },
      "execution_count": null,
      "outputs": [
        {
          "output_type": "stream",
          "name": "stdout",
          "text": [
            "Mounted at /content/drive\n"
          ]
        }
      ]
    },
    {
      "cell_type": "code",
      "source": [
        "#access dataset from GDrive\n",
        "path = \"/content/drive/MyDrive/Python Course/foodhub_order.csv\"\n",
        "df = pd.read_csv(path)"
      ],
      "metadata": {
        "id": "ZAyI0qn1p1pP"
      },
      "execution_count": null,
      "outputs": []
    },
    {
      "cell_type": "markdown",
      "metadata": {
        "id": "AdracY0HJY_O"
      },
      "source": [
        "### Understanding the structure of the data"
      ]
    },
    {
      "cell_type": "code",
      "execution_count": null,
      "metadata": {
        "id": "GF01IZDbJY_O",
        "scrolled": true,
        "colab": {
          "base_uri": "https://localhost:8080/",
          "height": 206
        },
        "outputId": "7deadc45-bdbb-488d-d638-dd57caf4068e"
      },
      "outputs": [
        {
          "output_type": "execute_result",
          "data": {
            "text/plain": [
              "   order_id  customer_id            restaurant_name cuisine_type  \\\n",
              "0   1477147       337525                    Hangawi       Korean   \n",
              "1   1477685       358141  Blue Ribbon Sushi Izakaya     Japanese   \n",
              "2   1477070        66393                Cafe Habana      Mexican   \n",
              "3   1477334       106968  Blue Ribbon Fried Chicken     American   \n",
              "4   1478249        76942           Dirty Bird to Go     American   \n",
              "\n",
              "   cost_of_the_order day_of_the_week     rating  food_preparation_time  \\\n",
              "0              30.75         Weekend  Not given                     25   \n",
              "1              12.08         Weekend  Not given                     25   \n",
              "2              12.23         Weekday          5                     23   \n",
              "3              29.20         Weekend          3                     25   \n",
              "4              11.59         Weekday          4                     25   \n",
              "\n",
              "   delivery_time  \n",
              "0             20  \n",
              "1             23  \n",
              "2             28  \n",
              "3             15  \n",
              "4             24  "
            ],
            "text/html": [
              "\n",
              "  <div id=\"df-19d83ecc-0586-4daa-bc89-771d2142228e\" class=\"colab-df-container\">\n",
              "    <div>\n",
              "<style scoped>\n",
              "    .dataframe tbody tr th:only-of-type {\n",
              "        vertical-align: middle;\n",
              "    }\n",
              "\n",
              "    .dataframe tbody tr th {\n",
              "        vertical-align: top;\n",
              "    }\n",
              "\n",
              "    .dataframe thead th {\n",
              "        text-align: right;\n",
              "    }\n",
              "</style>\n",
              "<table border=\"1\" class=\"dataframe\">\n",
              "  <thead>\n",
              "    <tr style=\"text-align: right;\">\n",
              "      <th></th>\n",
              "      <th>order_id</th>\n",
              "      <th>customer_id</th>\n",
              "      <th>restaurant_name</th>\n",
              "      <th>cuisine_type</th>\n",
              "      <th>cost_of_the_order</th>\n",
              "      <th>day_of_the_week</th>\n",
              "      <th>rating</th>\n",
              "      <th>food_preparation_time</th>\n",
              "      <th>delivery_time</th>\n",
              "    </tr>\n",
              "  </thead>\n",
              "  <tbody>\n",
              "    <tr>\n",
              "      <th>0</th>\n",
              "      <td>1477147</td>\n",
              "      <td>337525</td>\n",
              "      <td>Hangawi</td>\n",
              "      <td>Korean</td>\n",
              "      <td>30.75</td>\n",
              "      <td>Weekend</td>\n",
              "      <td>Not given</td>\n",
              "      <td>25</td>\n",
              "      <td>20</td>\n",
              "    </tr>\n",
              "    <tr>\n",
              "      <th>1</th>\n",
              "      <td>1477685</td>\n",
              "      <td>358141</td>\n",
              "      <td>Blue Ribbon Sushi Izakaya</td>\n",
              "      <td>Japanese</td>\n",
              "      <td>12.08</td>\n",
              "      <td>Weekend</td>\n",
              "      <td>Not given</td>\n",
              "      <td>25</td>\n",
              "      <td>23</td>\n",
              "    </tr>\n",
              "    <tr>\n",
              "      <th>2</th>\n",
              "      <td>1477070</td>\n",
              "      <td>66393</td>\n",
              "      <td>Cafe Habana</td>\n",
              "      <td>Mexican</td>\n",
              "      <td>12.23</td>\n",
              "      <td>Weekday</td>\n",
              "      <td>5</td>\n",
              "      <td>23</td>\n",
              "      <td>28</td>\n",
              "    </tr>\n",
              "    <tr>\n",
              "      <th>3</th>\n",
              "      <td>1477334</td>\n",
              "      <td>106968</td>\n",
              "      <td>Blue Ribbon Fried Chicken</td>\n",
              "      <td>American</td>\n",
              "      <td>29.20</td>\n",
              "      <td>Weekend</td>\n",
              "      <td>3</td>\n",
              "      <td>25</td>\n",
              "      <td>15</td>\n",
              "    </tr>\n",
              "    <tr>\n",
              "      <th>4</th>\n",
              "      <td>1478249</td>\n",
              "      <td>76942</td>\n",
              "      <td>Dirty Bird to Go</td>\n",
              "      <td>American</td>\n",
              "      <td>11.59</td>\n",
              "      <td>Weekday</td>\n",
              "      <td>4</td>\n",
              "      <td>25</td>\n",
              "      <td>24</td>\n",
              "    </tr>\n",
              "  </tbody>\n",
              "</table>\n",
              "</div>\n",
              "    <div class=\"colab-df-buttons\">\n",
              "\n",
              "  <div class=\"colab-df-container\">\n",
              "    <button class=\"colab-df-convert\" onclick=\"convertToInteractive('df-19d83ecc-0586-4daa-bc89-771d2142228e')\"\n",
              "            title=\"Convert this dataframe to an interactive table.\"\n",
              "            style=\"display:none;\">\n",
              "\n",
              "  <svg xmlns=\"http://www.w3.org/2000/svg\" height=\"24px\" viewBox=\"0 -960 960 960\">\n",
              "    <path d=\"M120-120v-720h720v720H120Zm60-500h600v-160H180v160Zm220 220h160v-160H400v160Zm0 220h160v-160H400v160ZM180-400h160v-160H180v160Zm440 0h160v-160H620v160ZM180-180h160v-160H180v160Zm440 0h160v-160H620v160Z\"/>\n",
              "  </svg>\n",
              "    </button>\n",
              "\n",
              "  <style>\n",
              "    .colab-df-container {\n",
              "      display:flex;\n",
              "      gap: 12px;\n",
              "    }\n",
              "\n",
              "    .colab-df-convert {\n",
              "      background-color: #E8F0FE;\n",
              "      border: none;\n",
              "      border-radius: 50%;\n",
              "      cursor: pointer;\n",
              "      display: none;\n",
              "      fill: #1967D2;\n",
              "      height: 32px;\n",
              "      padding: 0 0 0 0;\n",
              "      width: 32px;\n",
              "    }\n",
              "\n",
              "    .colab-df-convert:hover {\n",
              "      background-color: #E2EBFA;\n",
              "      box-shadow: 0px 1px 2px rgba(60, 64, 67, 0.3), 0px 1px 3px 1px rgba(60, 64, 67, 0.15);\n",
              "      fill: #174EA6;\n",
              "    }\n",
              "\n",
              "    .colab-df-buttons div {\n",
              "      margin-bottom: 4px;\n",
              "    }\n",
              "\n",
              "    [theme=dark] .colab-df-convert {\n",
              "      background-color: #3B4455;\n",
              "      fill: #D2E3FC;\n",
              "    }\n",
              "\n",
              "    [theme=dark] .colab-df-convert:hover {\n",
              "      background-color: #434B5C;\n",
              "      box-shadow: 0px 1px 3px 1px rgba(0, 0, 0, 0.15);\n",
              "      filter: drop-shadow(0px 1px 2px rgba(0, 0, 0, 0.3));\n",
              "      fill: #FFFFFF;\n",
              "    }\n",
              "  </style>\n",
              "\n",
              "    <script>\n",
              "      const buttonEl =\n",
              "        document.querySelector('#df-19d83ecc-0586-4daa-bc89-771d2142228e button.colab-df-convert');\n",
              "      buttonEl.style.display =\n",
              "        google.colab.kernel.accessAllowed ? 'block' : 'none';\n",
              "\n",
              "      async function convertToInteractive(key) {\n",
              "        const element = document.querySelector('#df-19d83ecc-0586-4daa-bc89-771d2142228e');\n",
              "        const dataTable =\n",
              "          await google.colab.kernel.invokeFunction('convertToInteractive',\n",
              "                                                    [key], {});\n",
              "        if (!dataTable) return;\n",
              "\n",
              "        const docLinkHtml = 'Like what you see? Visit the ' +\n",
              "          '<a target=\"_blank\" href=https://colab.research.google.com/notebooks/data_table.ipynb>data table notebook</a>'\n",
              "          + ' to learn more about interactive tables.';\n",
              "        element.innerHTML = '';\n",
              "        dataTable['output_type'] = 'display_data';\n",
              "        await google.colab.output.renderOutput(dataTable, element);\n",
              "        const docLink = document.createElement('div');\n",
              "        docLink.innerHTML = docLinkHtml;\n",
              "        element.appendChild(docLink);\n",
              "      }\n",
              "    </script>\n",
              "  </div>\n",
              "\n",
              "\n",
              "<div id=\"df-098e545e-1eb5-4d6b-87a3-a4f5f5a0bfcf\">\n",
              "  <button class=\"colab-df-quickchart\" onclick=\"quickchart('df-098e545e-1eb5-4d6b-87a3-a4f5f5a0bfcf')\"\n",
              "            title=\"Suggest charts\"\n",
              "            style=\"display:none;\">\n",
              "\n",
              "<svg xmlns=\"http://www.w3.org/2000/svg\" height=\"24px\"viewBox=\"0 0 24 24\"\n",
              "     width=\"24px\">\n",
              "    <g>\n",
              "        <path d=\"M19 3H5c-1.1 0-2 .9-2 2v14c0 1.1.9 2 2 2h14c1.1 0 2-.9 2-2V5c0-1.1-.9-2-2-2zM9 17H7v-7h2v7zm4 0h-2V7h2v10zm4 0h-2v-4h2v4z\"/>\n",
              "    </g>\n",
              "</svg>\n",
              "  </button>\n",
              "\n",
              "<style>\n",
              "  .colab-df-quickchart {\n",
              "      --bg-color: #E8F0FE;\n",
              "      --fill-color: #1967D2;\n",
              "      --hover-bg-color: #E2EBFA;\n",
              "      --hover-fill-color: #174EA6;\n",
              "      --disabled-fill-color: #AAA;\n",
              "      --disabled-bg-color: #DDD;\n",
              "  }\n",
              "\n",
              "  [theme=dark] .colab-df-quickchart {\n",
              "      --bg-color: #3B4455;\n",
              "      --fill-color: #D2E3FC;\n",
              "      --hover-bg-color: #434B5C;\n",
              "      --hover-fill-color: #FFFFFF;\n",
              "      --disabled-bg-color: #3B4455;\n",
              "      --disabled-fill-color: #666;\n",
              "  }\n",
              "\n",
              "  .colab-df-quickchart {\n",
              "    background-color: var(--bg-color);\n",
              "    border: none;\n",
              "    border-radius: 50%;\n",
              "    cursor: pointer;\n",
              "    display: none;\n",
              "    fill: var(--fill-color);\n",
              "    height: 32px;\n",
              "    padding: 0;\n",
              "    width: 32px;\n",
              "  }\n",
              "\n",
              "  .colab-df-quickchart:hover {\n",
              "    background-color: var(--hover-bg-color);\n",
              "    box-shadow: 0 1px 2px rgba(60, 64, 67, 0.3), 0 1px 3px 1px rgba(60, 64, 67, 0.15);\n",
              "    fill: var(--button-hover-fill-color);\n",
              "  }\n",
              "\n",
              "  .colab-df-quickchart-complete:disabled,\n",
              "  .colab-df-quickchart-complete:disabled:hover {\n",
              "    background-color: var(--disabled-bg-color);\n",
              "    fill: var(--disabled-fill-color);\n",
              "    box-shadow: none;\n",
              "  }\n",
              "\n",
              "  .colab-df-spinner {\n",
              "    border: 2px solid var(--fill-color);\n",
              "    border-color: transparent;\n",
              "    border-bottom-color: var(--fill-color);\n",
              "    animation:\n",
              "      spin 1s steps(1) infinite;\n",
              "  }\n",
              "\n",
              "  @keyframes spin {\n",
              "    0% {\n",
              "      border-color: transparent;\n",
              "      border-bottom-color: var(--fill-color);\n",
              "      border-left-color: var(--fill-color);\n",
              "    }\n",
              "    20% {\n",
              "      border-color: transparent;\n",
              "      border-left-color: var(--fill-color);\n",
              "      border-top-color: var(--fill-color);\n",
              "    }\n",
              "    30% {\n",
              "      border-color: transparent;\n",
              "      border-left-color: var(--fill-color);\n",
              "      border-top-color: var(--fill-color);\n",
              "      border-right-color: var(--fill-color);\n",
              "    }\n",
              "    40% {\n",
              "      border-color: transparent;\n",
              "      border-right-color: var(--fill-color);\n",
              "      border-top-color: var(--fill-color);\n",
              "    }\n",
              "    60% {\n",
              "      border-color: transparent;\n",
              "      border-right-color: var(--fill-color);\n",
              "    }\n",
              "    80% {\n",
              "      border-color: transparent;\n",
              "      border-right-color: var(--fill-color);\n",
              "      border-bottom-color: var(--fill-color);\n",
              "    }\n",
              "    90% {\n",
              "      border-color: transparent;\n",
              "      border-bottom-color: var(--fill-color);\n",
              "    }\n",
              "  }\n",
              "</style>\n",
              "\n",
              "  <script>\n",
              "    async function quickchart(key) {\n",
              "      const quickchartButtonEl =\n",
              "        document.querySelector('#' + key + ' button');\n",
              "      quickchartButtonEl.disabled = true;  // To prevent multiple clicks.\n",
              "      quickchartButtonEl.classList.add('colab-df-spinner');\n",
              "      try {\n",
              "        const charts = await google.colab.kernel.invokeFunction(\n",
              "            'suggestCharts', [key], {});\n",
              "      } catch (error) {\n",
              "        console.error('Error during call to suggestCharts:', error);\n",
              "      }\n",
              "      quickchartButtonEl.classList.remove('colab-df-spinner');\n",
              "      quickchartButtonEl.classList.add('colab-df-quickchart-complete');\n",
              "    }\n",
              "    (() => {\n",
              "      let quickchartButtonEl =\n",
              "        document.querySelector('#df-098e545e-1eb5-4d6b-87a3-a4f5f5a0bfcf button');\n",
              "      quickchartButtonEl.style.display =\n",
              "        google.colab.kernel.accessAllowed ? 'block' : 'none';\n",
              "    })();\n",
              "  </script>\n",
              "</div>\n",
              "\n",
              "    </div>\n",
              "  </div>\n"
            ]
          },
          "metadata": {},
          "execution_count": 12
        }
      ],
      "source": [
        "#display first 5 lines of data\n",
        "df.head()"
      ]
    },
    {
      "cell_type": "markdown",
      "metadata": {
        "id": "J_Y9aJDJJY_P"
      },
      "source": [
        "#### Observations:\n",
        "\n",
        "The DataFrame has 9 columns as mentioned in the Data Dictionary. Data in each row corresponds to the order placed by a customer."
      ]
    },
    {
      "cell_type": "markdown",
      "metadata": {
        "id": "c3kenV4vJY_Q"
      },
      "source": [
        "### **Question 1:** How many rows and columns are present in the data? [0.5 mark]"
      ]
    },
    {
      "cell_type": "code",
      "execution_count": null,
      "metadata": {
        "id": "Yvz5i-PhJY_Q",
        "colab": {
          "base_uri": "https://localhost:8080/"
        },
        "outputId": "0e0ad99e-6a10-4895-aaaf-1fd08121e354"
      },
      "outputs": [
        {
          "output_type": "execute_result",
          "data": {
            "text/plain": [
              "(1898, 9)"
            ]
          },
          "metadata": {},
          "execution_count": 18
        }
      ],
      "source": [
        "#Use .shape to display tnumber of rows and columsns in dataset\n",
        "df.shape"
      ]
    },
    {
      "cell_type": "markdown",
      "metadata": {
        "id": "UsTNy3unJY_R"
      },
      "source": [
        "####Observations:\n",
        "\n",
        "\n",
        "*   1898 rows\n",
        "*   9 columns\n",
        "\n",
        "\n"
      ]
    },
    {
      "cell_type": "markdown",
      "metadata": {
        "id": "jRXakVrUJY_R"
      },
      "source": [
        "### **Question 2:** What are the datatypes of the different columns in the dataset? (The info() function can be used) [0.5 mark]"
      ]
    },
    {
      "cell_type": "code",
      "execution_count": null,
      "metadata": {
        "id": "Kp70Z0BNJY_R",
        "colab": {
          "base_uri": "https://localhost:8080/"
        },
        "outputId": "f7870bbd-8694-4572-9be2-2ea3e4d8eb4a"
      },
      "outputs": [
        {
          "output_type": "stream",
          "name": "stdout",
          "text": [
            "<class 'pandas.core.frame.DataFrame'>\n",
            "RangeIndex: 1898 entries, 0 to 1897\n",
            "Data columns (total 9 columns):\n",
            " #   Column                 Non-Null Count  Dtype  \n",
            "---  ------                 --------------  -----  \n",
            " 0   order_id               1898 non-null   int64  \n",
            " 1   customer_id            1898 non-null   int64  \n",
            " 2   restaurant_name        1898 non-null   object \n",
            " 3   cuisine_type           1898 non-null   object \n",
            " 4   cost_of_the_order      1898 non-null   float64\n",
            " 5   day_of_the_week        1898 non-null   object \n",
            " 6   rating                 1898 non-null   object \n",
            " 7   food_preparation_time  1898 non-null   int64  \n",
            " 8   delivery_time          1898 non-null   int64  \n",
            "dtypes: float64(1), int64(4), object(4)\n",
            "memory usage: 133.6+ KB\n"
          ]
        }
      ],
      "source": [
        "# Use info() to print a concise summary of the DataFrame\n",
        "df.info()"
      ]
    },
    {
      "cell_type": "code",
      "source": [
        "#.dytypes can also be used to identify datatypes\n",
        "df.dtypes"
      ],
      "metadata": {
        "colab": {
          "base_uri": "https://localhost:8080/"
        },
        "id": "-L4eeph1sohs",
        "outputId": "bd98d913-d58c-440a-b6f5-1610a4d2717e"
      },
      "execution_count": null,
      "outputs": [
        {
          "output_type": "execute_result",
          "data": {
            "text/plain": [
              "order_id                   int64\n",
              "customer_id                int64\n",
              "restaurant_name           object\n",
              "cuisine_type              object\n",
              "cost_of_the_order        float64\n",
              "day_of_the_week           object\n",
              "rating                    object\n",
              "food_preparation_time      int64\n",
              "delivery_time              int64\n",
              "dtype: object"
            ]
          },
          "metadata": {},
          "execution_count": 20
        }
      ]
    },
    {
      "cell_type": "markdown",
      "metadata": {
        "id": "WJes5GP2JY_S"
      },
      "source": [
        "#### Observations:\n",
        "\n",
        "Datatypes include:\n",
        "\n",
        "\n",
        "*   integers\n",
        "*   objects (strings)\n",
        "*   floats\n",
        "\n",
        "\n"
      ]
    },
    {
      "cell_type": "markdown",
      "metadata": {
        "id": "pF_92MN6JY_S"
      },
      "source": [
        "### **Question 3:** Are there any missing values in the data? If yes, treat them using an appropriate method. [1 mark]"
      ]
    },
    {
      "cell_type": "code",
      "execution_count": null,
      "metadata": {
        "id": "Zth-RR1PJY_S",
        "colab": {
          "base_uri": "https://localhost:8080/"
        },
        "outputId": "48c05d3d-e7d2-4207-a83c-2376142bc5e6"
      },
      "outputs": [
        {
          "output_type": "stream",
          "name": "stdout",
          "text": [
            "<class 'pandas.core.frame.DataFrame'>\n",
            "RangeIndex: 1898 entries, 0 to 1897\n",
            "Data columns (total 9 columns):\n",
            " #   Column                 Non-Null Count  Dtype  \n",
            "---  ------                 --------------  -----  \n",
            " 0   order_id               1898 non-null   int64  \n",
            " 1   customer_id            1898 non-null   int64  \n",
            " 2   restaurant_name        1898 non-null   object \n",
            " 3   cuisine_type           1898 non-null   object \n",
            " 4   cost_of_the_order      1898 non-null   float64\n",
            " 5   day_of_the_week        1898 non-null   object \n",
            " 6   rating                 1898 non-null   object \n",
            " 7   food_preparation_time  1898 non-null   int64  \n",
            " 8   delivery_time          1898 non-null   int64  \n",
            "dtypes: float64(1), int64(4), object(4)\n",
            "memory usage: 133.6+ KB\n"
          ]
        }
      ],
      "source": [
        "# info() used again to display null values\n",
        "df.info()"
      ]
    },
    {
      "cell_type": "markdown",
      "metadata": {
        "id": "jDHT3vD1JY_S"
      },
      "source": [
        "#### Observations:\n",
        "\n",
        "\n",
        "*   There are no missing values in the data\n",
        "\n"
      ]
    },
    {
      "cell_type": "markdown",
      "metadata": {
        "id": "MnJo7MWrJY_S"
      },
      "source": [
        "### **Question 4:** Check the statistical summary of the data. What is the minimum, average, and maximum time it takes for food to be prepared once an order is placed? [2 marks]"
      ]
    },
    {
      "cell_type": "code",
      "execution_count": null,
      "metadata": {
        "id": "WprQBgOSJY_T",
        "colab": {
          "base_uri": "https://localhost:8080/",
          "height": 300
        },
        "outputId": "c6ad2ea9-ce9c-4296-f5fd-36a8b4607604"
      },
      "outputs": [
        {
          "output_type": "execute_result",
          "data": {
            "text/plain": [
              "           order_id    customer_id  cost_of_the_order  food_preparation_time  \\\n",
              "count  1.898000e+03    1898.000000        1898.000000            1898.000000   \n",
              "mean   1.477496e+06  171168.478398          16.498851              27.371970   \n",
              "std    5.480497e+02  113698.139743           7.483812               4.632481   \n",
              "min    1.476547e+06    1311.000000           4.470000              20.000000   \n",
              "25%    1.477021e+06   77787.750000          12.080000              23.000000   \n",
              "50%    1.477496e+06  128600.000000          14.140000              27.000000   \n",
              "75%    1.477970e+06  270525.000000          22.297500              31.000000   \n",
              "max    1.478444e+06  405334.000000          35.410000              35.000000   \n",
              "\n",
              "       delivery_time  \n",
              "count    1898.000000  \n",
              "mean       24.161749  \n",
              "std         4.972637  \n",
              "min        15.000000  \n",
              "25%        20.000000  \n",
              "50%        25.000000  \n",
              "75%        28.000000  \n",
              "max        33.000000  "
            ],
            "text/html": [
              "\n",
              "  <div id=\"df-ee6ccf71-0cc5-41e6-9476-8df920d9a414\" class=\"colab-df-container\">\n",
              "    <div>\n",
              "<style scoped>\n",
              "    .dataframe tbody tr th:only-of-type {\n",
              "        vertical-align: middle;\n",
              "    }\n",
              "\n",
              "    .dataframe tbody tr th {\n",
              "        vertical-align: top;\n",
              "    }\n",
              "\n",
              "    .dataframe thead th {\n",
              "        text-align: right;\n",
              "    }\n",
              "</style>\n",
              "<table border=\"1\" class=\"dataframe\">\n",
              "  <thead>\n",
              "    <tr style=\"text-align: right;\">\n",
              "      <th></th>\n",
              "      <th>order_id</th>\n",
              "      <th>customer_id</th>\n",
              "      <th>cost_of_the_order</th>\n",
              "      <th>food_preparation_time</th>\n",
              "      <th>delivery_time</th>\n",
              "    </tr>\n",
              "  </thead>\n",
              "  <tbody>\n",
              "    <tr>\n",
              "      <th>count</th>\n",
              "      <td>1.898000e+03</td>\n",
              "      <td>1898.000000</td>\n",
              "      <td>1898.000000</td>\n",
              "      <td>1898.000000</td>\n",
              "      <td>1898.000000</td>\n",
              "    </tr>\n",
              "    <tr>\n",
              "      <th>mean</th>\n",
              "      <td>1.477496e+06</td>\n",
              "      <td>171168.478398</td>\n",
              "      <td>16.498851</td>\n",
              "      <td>27.371970</td>\n",
              "      <td>24.161749</td>\n",
              "    </tr>\n",
              "    <tr>\n",
              "      <th>std</th>\n",
              "      <td>5.480497e+02</td>\n",
              "      <td>113698.139743</td>\n",
              "      <td>7.483812</td>\n",
              "      <td>4.632481</td>\n",
              "      <td>4.972637</td>\n",
              "    </tr>\n",
              "    <tr>\n",
              "      <th>min</th>\n",
              "      <td>1.476547e+06</td>\n",
              "      <td>1311.000000</td>\n",
              "      <td>4.470000</td>\n",
              "      <td>20.000000</td>\n",
              "      <td>15.000000</td>\n",
              "    </tr>\n",
              "    <tr>\n",
              "      <th>25%</th>\n",
              "      <td>1.477021e+06</td>\n",
              "      <td>77787.750000</td>\n",
              "      <td>12.080000</td>\n",
              "      <td>23.000000</td>\n",
              "      <td>20.000000</td>\n",
              "    </tr>\n",
              "    <tr>\n",
              "      <th>50%</th>\n",
              "      <td>1.477496e+06</td>\n",
              "      <td>128600.000000</td>\n",
              "      <td>14.140000</td>\n",
              "      <td>27.000000</td>\n",
              "      <td>25.000000</td>\n",
              "    </tr>\n",
              "    <tr>\n",
              "      <th>75%</th>\n",
              "      <td>1.477970e+06</td>\n",
              "      <td>270525.000000</td>\n",
              "      <td>22.297500</td>\n",
              "      <td>31.000000</td>\n",
              "      <td>28.000000</td>\n",
              "    </tr>\n",
              "    <tr>\n",
              "      <th>max</th>\n",
              "      <td>1.478444e+06</td>\n",
              "      <td>405334.000000</td>\n",
              "      <td>35.410000</td>\n",
              "      <td>35.000000</td>\n",
              "      <td>33.000000</td>\n",
              "    </tr>\n",
              "  </tbody>\n",
              "</table>\n",
              "</div>\n",
              "    <div class=\"colab-df-buttons\">\n",
              "\n",
              "  <div class=\"colab-df-container\">\n",
              "    <button class=\"colab-df-convert\" onclick=\"convertToInteractive('df-ee6ccf71-0cc5-41e6-9476-8df920d9a414')\"\n",
              "            title=\"Convert this dataframe to an interactive table.\"\n",
              "            style=\"display:none;\">\n",
              "\n",
              "  <svg xmlns=\"http://www.w3.org/2000/svg\" height=\"24px\" viewBox=\"0 -960 960 960\">\n",
              "    <path d=\"M120-120v-720h720v720H120Zm60-500h600v-160H180v160Zm220 220h160v-160H400v160Zm0 220h160v-160H400v160ZM180-400h160v-160H180v160Zm440 0h160v-160H620v160ZM180-180h160v-160H180v160Zm440 0h160v-160H620v160Z\"/>\n",
              "  </svg>\n",
              "    </button>\n",
              "\n",
              "  <style>\n",
              "    .colab-df-container {\n",
              "      display:flex;\n",
              "      gap: 12px;\n",
              "    }\n",
              "\n",
              "    .colab-df-convert {\n",
              "      background-color: #E8F0FE;\n",
              "      border: none;\n",
              "      border-radius: 50%;\n",
              "      cursor: pointer;\n",
              "      display: none;\n",
              "      fill: #1967D2;\n",
              "      height: 32px;\n",
              "      padding: 0 0 0 0;\n",
              "      width: 32px;\n",
              "    }\n",
              "\n",
              "    .colab-df-convert:hover {\n",
              "      background-color: #E2EBFA;\n",
              "      box-shadow: 0px 1px 2px rgba(60, 64, 67, 0.3), 0px 1px 3px 1px rgba(60, 64, 67, 0.15);\n",
              "      fill: #174EA6;\n",
              "    }\n",
              "\n",
              "    .colab-df-buttons div {\n",
              "      margin-bottom: 4px;\n",
              "    }\n",
              "\n",
              "    [theme=dark] .colab-df-convert {\n",
              "      background-color: #3B4455;\n",
              "      fill: #D2E3FC;\n",
              "    }\n",
              "\n",
              "    [theme=dark] .colab-df-convert:hover {\n",
              "      background-color: #434B5C;\n",
              "      box-shadow: 0px 1px 3px 1px rgba(0, 0, 0, 0.15);\n",
              "      filter: drop-shadow(0px 1px 2px rgba(0, 0, 0, 0.3));\n",
              "      fill: #FFFFFF;\n",
              "    }\n",
              "  </style>\n",
              "\n",
              "    <script>\n",
              "      const buttonEl =\n",
              "        document.querySelector('#df-ee6ccf71-0cc5-41e6-9476-8df920d9a414 button.colab-df-convert');\n",
              "      buttonEl.style.display =\n",
              "        google.colab.kernel.accessAllowed ? 'block' : 'none';\n",
              "\n",
              "      async function convertToInteractive(key) {\n",
              "        const element = document.querySelector('#df-ee6ccf71-0cc5-41e6-9476-8df920d9a414');\n",
              "        const dataTable =\n",
              "          await google.colab.kernel.invokeFunction('convertToInteractive',\n",
              "                                                    [key], {});\n",
              "        if (!dataTable) return;\n",
              "\n",
              "        const docLinkHtml = 'Like what you see? Visit the ' +\n",
              "          '<a target=\"_blank\" href=https://colab.research.google.com/notebooks/data_table.ipynb>data table notebook</a>'\n",
              "          + ' to learn more about interactive tables.';\n",
              "        element.innerHTML = '';\n",
              "        dataTable['output_type'] = 'display_data';\n",
              "        await google.colab.output.renderOutput(dataTable, element);\n",
              "        const docLink = document.createElement('div');\n",
              "        docLink.innerHTML = docLinkHtml;\n",
              "        element.appendChild(docLink);\n",
              "      }\n",
              "    </script>\n",
              "  </div>\n",
              "\n",
              "\n",
              "<div id=\"df-07d2e6cb-c403-4ca4-9141-0a57e4441c9c\">\n",
              "  <button class=\"colab-df-quickchart\" onclick=\"quickchart('df-07d2e6cb-c403-4ca4-9141-0a57e4441c9c')\"\n",
              "            title=\"Suggest charts\"\n",
              "            style=\"display:none;\">\n",
              "\n",
              "<svg xmlns=\"http://www.w3.org/2000/svg\" height=\"24px\"viewBox=\"0 0 24 24\"\n",
              "     width=\"24px\">\n",
              "    <g>\n",
              "        <path d=\"M19 3H5c-1.1 0-2 .9-2 2v14c0 1.1.9 2 2 2h14c1.1 0 2-.9 2-2V5c0-1.1-.9-2-2-2zM9 17H7v-7h2v7zm4 0h-2V7h2v10zm4 0h-2v-4h2v4z\"/>\n",
              "    </g>\n",
              "</svg>\n",
              "  </button>\n",
              "\n",
              "<style>\n",
              "  .colab-df-quickchart {\n",
              "      --bg-color: #E8F0FE;\n",
              "      --fill-color: #1967D2;\n",
              "      --hover-bg-color: #E2EBFA;\n",
              "      --hover-fill-color: #174EA6;\n",
              "      --disabled-fill-color: #AAA;\n",
              "      --disabled-bg-color: #DDD;\n",
              "  }\n",
              "\n",
              "  [theme=dark] .colab-df-quickchart {\n",
              "      --bg-color: #3B4455;\n",
              "      --fill-color: #D2E3FC;\n",
              "      --hover-bg-color: #434B5C;\n",
              "      --hover-fill-color: #FFFFFF;\n",
              "      --disabled-bg-color: #3B4455;\n",
              "      --disabled-fill-color: #666;\n",
              "  }\n",
              "\n",
              "  .colab-df-quickchart {\n",
              "    background-color: var(--bg-color);\n",
              "    border: none;\n",
              "    border-radius: 50%;\n",
              "    cursor: pointer;\n",
              "    display: none;\n",
              "    fill: var(--fill-color);\n",
              "    height: 32px;\n",
              "    padding: 0;\n",
              "    width: 32px;\n",
              "  }\n",
              "\n",
              "  .colab-df-quickchart:hover {\n",
              "    background-color: var(--hover-bg-color);\n",
              "    box-shadow: 0 1px 2px rgba(60, 64, 67, 0.3), 0 1px 3px 1px rgba(60, 64, 67, 0.15);\n",
              "    fill: var(--button-hover-fill-color);\n",
              "  }\n",
              "\n",
              "  .colab-df-quickchart-complete:disabled,\n",
              "  .colab-df-quickchart-complete:disabled:hover {\n",
              "    background-color: var(--disabled-bg-color);\n",
              "    fill: var(--disabled-fill-color);\n",
              "    box-shadow: none;\n",
              "  }\n",
              "\n",
              "  .colab-df-spinner {\n",
              "    border: 2px solid var(--fill-color);\n",
              "    border-color: transparent;\n",
              "    border-bottom-color: var(--fill-color);\n",
              "    animation:\n",
              "      spin 1s steps(1) infinite;\n",
              "  }\n",
              "\n",
              "  @keyframes spin {\n",
              "    0% {\n",
              "      border-color: transparent;\n",
              "      border-bottom-color: var(--fill-color);\n",
              "      border-left-color: var(--fill-color);\n",
              "    }\n",
              "    20% {\n",
              "      border-color: transparent;\n",
              "      border-left-color: var(--fill-color);\n",
              "      border-top-color: var(--fill-color);\n",
              "    }\n",
              "    30% {\n",
              "      border-color: transparent;\n",
              "      border-left-color: var(--fill-color);\n",
              "      border-top-color: var(--fill-color);\n",
              "      border-right-color: var(--fill-color);\n",
              "    }\n",
              "    40% {\n",
              "      border-color: transparent;\n",
              "      border-right-color: var(--fill-color);\n",
              "      border-top-color: var(--fill-color);\n",
              "    }\n",
              "    60% {\n",
              "      border-color: transparent;\n",
              "      border-right-color: var(--fill-color);\n",
              "    }\n",
              "    80% {\n",
              "      border-color: transparent;\n",
              "      border-right-color: var(--fill-color);\n",
              "      border-bottom-color: var(--fill-color);\n",
              "    }\n",
              "    90% {\n",
              "      border-color: transparent;\n",
              "      border-bottom-color: var(--fill-color);\n",
              "    }\n",
              "  }\n",
              "</style>\n",
              "\n",
              "  <script>\n",
              "    async function quickchart(key) {\n",
              "      const quickchartButtonEl =\n",
              "        document.querySelector('#' + key + ' button');\n",
              "      quickchartButtonEl.disabled = true;  // To prevent multiple clicks.\n",
              "      quickchartButtonEl.classList.add('colab-df-spinner');\n",
              "      try {\n",
              "        const charts = await google.colab.kernel.invokeFunction(\n",
              "            'suggestCharts', [key], {});\n",
              "      } catch (error) {\n",
              "        console.error('Error during call to suggestCharts:', error);\n",
              "      }\n",
              "      quickchartButtonEl.classList.remove('colab-df-spinner');\n",
              "      quickchartButtonEl.classList.add('colab-df-quickchart-complete');\n",
              "    }\n",
              "    (() => {\n",
              "      let quickchartButtonEl =\n",
              "        document.querySelector('#df-07d2e6cb-c403-4ca4-9141-0a57e4441c9c button');\n",
              "      quickchartButtonEl.style.display =\n",
              "        google.colab.kernel.accessAllowed ? 'block' : 'none';\n",
              "    })();\n",
              "  </script>\n",
              "</div>\n",
              "\n",
              "    </div>\n",
              "  </div>\n"
            ]
          },
          "metadata": {},
          "execution_count": 21
        }
      ],
      "source": [
        "# .describe used to view statistical summary\n",
        "df.describe()"
      ]
    },
    {
      "cell_type": "markdown",
      "metadata": {
        "id": "9YbSOR5wJY_T"
      },
      "source": [
        "#### Observations:\n",
        "\n",
        "\n",
        "*   Minimum preparation time: 20 min\n",
        "*   Average preparation time: : 27.3 min\n",
        "*   Maximum preparation time: 35 min\n",
        "\n",
        "\n",
        "\n",
        "\n"
      ]
    },
    {
      "cell_type": "markdown",
      "metadata": {
        "id": "cw3l58z_JY_T"
      },
      "source": [
        "### **Question 5:** How many orders are not rated? [1 mark]"
      ]
    },
    {
      "cell_type": "code",
      "execution_count": null,
      "metadata": {
        "id": "hEzDUL9wgksi",
        "colab": {
          "base_uri": "https://localhost:8080/"
        },
        "outputId": "87abdca2-8e31-49ec-e11f-b8d94496fabf"
      },
      "outputs": [
        {
          "output_type": "execute_result",
          "data": {
            "text/plain": [
              "Not given    736\n",
              "5            588\n",
              "4            386\n",
              "3            188\n",
              "Name: rating, dtype: int64"
            ]
          },
          "metadata": {},
          "execution_count": 31
        }
      ],
      "source": [
        "#use .value_counts() on a particular column to determine the distribution of potential values\n",
        "df.rating.value_counts()"
      ]
    },
    {
      "cell_type": "markdown",
      "metadata": {
        "id": "5E0O_oviJY_T"
      },
      "source": [
        "#### Observations:\n",
        "\n",
        "\n",
        "*   736 orders where ratings = Not given\n",
        "\n",
        "\n"
      ]
    },
    {
      "cell_type": "markdown",
      "metadata": {
        "id": "7msIfXE-JY_T"
      },
      "source": [
        "### Exploratory Data Analysis (EDA)"
      ]
    },
    {
      "cell_type": "markdown",
      "metadata": {
        "id": "-2xfI28YJY_T"
      },
      "source": [
        "### Univariate Analysis"
      ]
    },
    {
      "cell_type": "markdown",
      "metadata": {
        "id": "0RHZnugBJY_U"
      },
      "source": [
        "### **Question 6:** Explore all the variables and provide observations on their distributions. (Generally, histograms, boxplots, countplots, etc. are used for univariate exploration.) [9 marks]"
      ]
    },
    {
      "cell_type": "code",
      "source": [
        "#OrderID - list unique values of OrderIDs\n",
        "df['order_id'].nunique()"
      ],
      "metadata": {
        "colab": {
          "base_uri": "https://localhost:8080/"
        },
        "id": "fF7UyqC4vomt",
        "outputId": "c084bdd6-f131-481f-be0c-49cecbb88bfd"
      },
      "execution_count": null,
      "outputs": [
        {
          "output_type": "execute_result",
          "data": {
            "text/plain": [
              "1898"
            ]
          },
          "metadata": {},
          "execution_count": 36
        }
      ]
    },
    {
      "cell_type": "code",
      "source": [
        "#CustomerID - list unique values of OrderIDs\n",
        "df['customer_id'].nunique()"
      ],
      "metadata": {
        "colab": {
          "base_uri": "https://localhost:8080/"
        },
        "id": "t-eSeabyvu1-",
        "outputId": "0309180b-fcc3-46f1-8369-8c9a70928a79"
      },
      "execution_count": null,
      "outputs": [
        {
          "output_type": "execute_result",
          "data": {
            "text/plain": [
              "1200"
            ]
          },
          "metadata": {},
          "execution_count": 37
        }
      ]
    },
    {
      "cell_type": "code",
      "source": [
        "#Restaurant Name - list count different restauarnts\n",
        "df.restaurant_name.value_counts()"
      ],
      "metadata": {
        "colab": {
          "base_uri": "https://localhost:8080/"
        },
        "id": "nKzryMh_v10r",
        "outputId": "6194a1ec-0509-46f8-9a32-52e486ce0685"
      },
      "execution_count": null,
      "outputs": [
        {
          "output_type": "execute_result",
          "data": {
            "text/plain": [
              "Shake Shack                  219\n",
              "The Meatball Shop            132\n",
              "Blue Ribbon Sushi            119\n",
              "Blue Ribbon Fried Chicken     96\n",
              "Parm                          68\n",
              "                            ... \n",
              "Sushi Choshi                   1\n",
              "Dos Caminos Soho               1\n",
              "La Follia                      1\n",
              "Philippe Chow                  1\n",
              "'wichcraft                     1\n",
              "Name: restaurant_name, Length: 178, dtype: int64"
            ]
          },
          "metadata": {},
          "execution_count": 42
        }
      ]
    },
    {
      "cell_type": "code",
      "source": [
        "#Restaurant Name - list unique values of restaurants\n",
        "df['restaurant_name'].nunique()"
      ],
      "metadata": {
        "colab": {
          "base_uri": "https://localhost:8080/"
        },
        "id": "WD_k2ZxRwSDu",
        "outputId": "49039b41-0be4-4f57-c48f-31d946fc61a4"
      },
      "execution_count": null,
      "outputs": [
        {
          "output_type": "execute_result",
          "data": {
            "text/plain": [
              "178"
            ]
          },
          "metadata": {},
          "execution_count": 44
        }
      ]
    },
    {
      "cell_type": "code",
      "source": [
        "#Cost - boxplot to display cost of order\n",
        "sns.boxplot(data=df, x='cost_of_the_order')"
      ],
      "metadata": {
        "colab": {
          "base_uri": "https://localhost:8080/",
          "height": 468
        },
        "id": "4jNQchV8wnJR",
        "outputId": "82bb83b8-adeb-4d65-f661-7a1ef81f763a"
      },
      "execution_count": null,
      "outputs": [
        {
          "output_type": "execute_result",
          "data": {
            "text/plain": [
              "<Axes: xlabel='cost_of_the_order'>"
            ]
          },
          "metadata": {},
          "execution_count": 45
        },
        {
          "output_type": "display_data",
          "data": {
            "text/plain": [
              "<Figure size 640x480 with 1 Axes>"
            ],
            "image/png": "[encoded data removed]"
          },
          "metadata": {}
        }
      ]
    },
    {
      "cell_type": "code",
      "source": [
        "#Cost - histogram to display distribution of cost of the orders\n",
        "sns.histplot(data=df, x='cost_of_the_order', kde=True)"
      ],
      "metadata": {
        "colab": {
          "base_uri": "https://localhost:8080/",
          "height": 468
        },
        "id": "eG3Ondh3wxlN",
        "outputId": "9b4e7366-a940-4668-c3de-9c6d3ff6fcad"
      },
      "execution_count": null,
      "outputs": [
        {
          "output_type": "execute_result",
          "data": {
            "text/plain": [
              "<Axes: xlabel='cost_of_the_order', ylabel='Count'>"
            ]
          },
          "metadata": {},
          "execution_count": 48
        },
        {
          "output_type": "display_data",
          "data": {
            "text/plain": [
              "<Figure size 640x480 with 1 Axes>"
            ],
            "image/png": "[encoded data removed]"
          },
          "metadata": {}
        }
      ]
    },
    {
      "cell_type": "code",
      "source": [
        "#Day of the Week - list unique values of day of the week\n",
        "df['day_of_the_week'].nunique()"
      ],
      "metadata": {
        "colab": {
          "base_uri": "https://localhost:8080/"
        },
        "id": "EHCLA3VkxBUj",
        "outputId": "2faabb46-726a-4593-f37c-39a91c31a965"
      },
      "execution_count": null,
      "outputs": [
        {
          "output_type": "execute_result",
          "data": {
            "text/plain": [
              "2"
            ]
          },
          "metadata": {},
          "execution_count": 49
        }
      ]
    },
    {
      "cell_type": "code",
      "source": [
        "#Day of the week - countplot for each day\n",
        "sns.countplot(data=df, x='day_of_the_week')"
      ],
      "metadata": {
        "colab": {
          "base_uri": "https://localhost:8080/",
          "height": 468
        },
        "id": "y6YKqigVxKFc",
        "outputId": "89606fab-640e-49ab-d48e-aef0cd89f172"
      },
      "execution_count": null,
      "outputs": [
        {
          "output_type": "execute_result",
          "data": {
            "text/plain": [
              "<Axes: xlabel='day_of_the_week', ylabel='count'>"
            ]
          },
          "metadata": {},
          "execution_count": 51
        },
        {
          "output_type": "display_data",
          "data": {
            "text/plain": [
              "<Figure size 640x480 with 1 Axes>"
            ],
            "image/png": "[encoded data removed]"
          },
          "metadata": {}
        }
      ]
    },
    {
      "cell_type": "code",
      "source": [
        "#Rating - display distribution of \"Rating\"\n",
        "sns.histplot(data=df, x='rating')"
      ],
      "metadata": {
        "colab": {
          "base_uri": "https://localhost:8080/",
          "height": 467
        },
        "id": "PyMlWOIcvMgv",
        "outputId": "9cc1565f-6c22-4f4d-feb1-21f0b6e76e78"
      },
      "execution_count": null,
      "outputs": [
        {
          "output_type": "execute_result",
          "data": {
            "text/plain": [
              "<Axes: xlabel='rating', ylabel='Count'>"
            ]
          },
          "metadata": {},
          "execution_count": 14
        },
        {
          "output_type": "display_data",
          "data": {
            "text/plain": [
              "<Figure size 640x480 with 1 Axes>"
            ],
            "image/png": "[encoded data removed]"
          },
          "metadata": {}
        }
      ]
    },
    {
      "cell_type": "code",
      "execution_count": null,
      "metadata": {
        "id": "rU5ZqISjJY_U",
        "colab": {
          "base_uri": "https://localhost:8080/",
          "height": 467
        },
        "outputId": "c6a9b319-8b08-4555-c709-9a6207110640"
      },
      "outputs": [
        {
          "output_type": "execute_result",
          "data": {
            "text/plain": [
              "<Axes: xlabel='rating'>"
            ]
          },
          "metadata": {},
          "execution_count": 8
        },
        {
          "output_type": "display_data",
          "data": {
            "text/plain": [
              "<Figure size 640x480 with 1 Axes>"
            ],
            "image/png": "[encoded data removed]"
          },
          "metadata": {}
        }
      ],
      "source": [
        "#Rating - display boxplot distribution of ratings\n",
        "sns.boxplot(data=df, x='rating')"
      ]
    },
    {
      "cell_type": "code",
      "source": [
        "#Food Preparation Time - display countplot\n",
        "sns.countplot(data=df, x='food_preparation_time')"
      ],
      "metadata": {
        "colab": {
          "base_uri": "https://localhost:8080/",
          "height": 468
        },
        "id": "J69H876Cxi8d",
        "outputId": "7fd315a5-3097-4cf9-8268-017e659a1c9c"
      },
      "execution_count": null,
      "outputs": [
        {
          "output_type": "execute_result",
          "data": {
            "text/plain": [
              "<Axes: xlabel='food_preparation_time', ylabel='count'>"
            ]
          },
          "metadata": {},
          "execution_count": 55
        },
        {
          "output_type": "display_data",
          "data": {
            "text/plain": [
              "<Figure size 640x480 with 1 Axes>"
            ],
            "image/png": "[encoded data removed]"
          },
          "metadata": {}
        }
      ]
    },
    {
      "cell_type": "code",
      "source": [
        "#Food Preparation time - display boxplot\n",
        "sns.boxplot(data=df, x='food_preparation_time')"
      ],
      "metadata": {
        "colab": {
          "base_uri": "https://localhost:8080/",
          "height": 468
        },
        "id": "wUP-J5jPxy-4",
        "outputId": "9e4b69a4-2f95-4ade-e205-ca67294ef932"
      },
      "execution_count": null,
      "outputs": [
        {
          "output_type": "execute_result",
          "data": {
            "text/plain": [
              "<Axes: xlabel='food_preparation_time'>"
            ]
          },
          "metadata": {},
          "execution_count": 56
        },
        {
          "output_type": "display_data",
          "data": {
            "text/plain": [
              "<Figure size 640x480 with 1 Axes>"
            ],
            "image/png": "[encoded data removed]"
          },
          "metadata": {}
        }
      ]
    },
    {
      "cell_type": "code",
      "source": [
        "#Cusine Type - list different types of cuisine\n",
        "cuis = df.cuisine_type.unique().tolist()\n",
        "cuis"
      ],
      "metadata": {
        "colab": {
          "base_uri": "https://localhost:8080/"
        },
        "id": "_X-QeCENtFGx",
        "outputId": "5142f0dd-a416-4197-f761-4fbcbaa2df34"
      },
      "execution_count": null,
      "outputs": [
        {
          "output_type": "execute_result",
          "data": {
            "text/plain": [
              "['Korean',\n",
              " 'Japanese',\n",
              " 'Mexican',\n",
              " 'American',\n",
              " 'Indian',\n",
              " 'Italian',\n",
              " 'Mediterranean',\n",
              " 'Chinese',\n",
              " 'Middle Eastern',\n",
              " 'Thai',\n",
              " 'Southern',\n",
              " 'French',\n",
              " 'Spanish',\n",
              " 'Vietnamese']"
            ]
          },
          "metadata": {},
          "execution_count": 12
        }
      ]
    },
    {
      "cell_type": "code",
      "source": [
        "#Cuisine Type - display boxplot of\n",
        "sns.boxplot(data = df, x='cuisine_type')\n",
        "plt.xticks(rotation=90);"
      ],
      "metadata": {
        "colab": {
          "base_uri": "https://localhost:8080/",
          "height": 539
        },
        "id": "dHOP_S2vtfu_",
        "outputId": "914f80d2-0916-491b-cbbb-b37799838851"
      },
      "execution_count": null,
      "outputs": [
        {
          "output_type": "display_data",
          "data": {
            "text/plain": [
              "<Figure size 640x480 with 1 Axes>"
            ],
            "image/png": "[encoded data removed]"
          },
          "metadata": {}
        }
      ]
    },
    {
      "cell_type": "code",
      "source": [
        "#Cusine Type - display histograme w/ kernal density estimate\n",
        "sns.histplot(data = df, x='cuisine_type', binwidth=1000, kde = True)\n",
        "plt.xticks(rotation=90);"
      ],
      "metadata": {
        "colab": {
          "base_uri": "https://localhost:8080/",
          "height": 539
        },
        "id": "pMpORzSXtyyz",
        "outputId": "fc77463f-4279-4d74-c3f0-e50f2deb6690"
      },
      "execution_count": null,
      "outputs": [
        {
          "output_type": "display_data",
          "data": {
            "text/plain": [
              "<Figure size 640x480 with 1 Axes>"
            ],
            "image/png": "[encoded data removed]"
          },
          "metadata": {}
        }
      ]
    },
    {
      "cell_type": "code",
      "source": [
        "#Delivery Time - display histogram for delivery time\n",
        "sns.histplot(data=df, x='delivery_time')"
      ],
      "metadata": {
        "colab": {
          "base_uri": "https://localhost:8080/",
          "height": 468
        },
        "id": "-5IXN5wax7gg",
        "outputId": "a7be63d5-ee66-4efb-e047-8dcb6444beba"
      },
      "execution_count": null,
      "outputs": [
        {
          "output_type": "execute_result",
          "data": {
            "text/plain": [
              "<Axes: xlabel='delivery_time', ylabel='Count'>"
            ]
          },
          "metadata": {},
          "execution_count": 57
        },
        {
          "output_type": "display_data",
          "data": {
            "text/plain": [
              "<Figure size 640x480 with 1 Axes>"
            ],
            "image/png": "[encoded data removed]"
          },
          "metadata": {}
        }
      ]
    },
    {
      "cell_type": "code",
      "source": [
        "#Delivery time - display boxplot for delivery time\n",
        "sns.boxplot(data=df, x='delivery_time')"
      ],
      "metadata": {
        "colab": {
          "base_uri": "https://localhost:8080/",
          "height": 468
        },
        "id": "NPmPNalcyFXb",
        "outputId": "d4a48a8c-5564-4153-8202-e77faf02fdd7"
      },
      "execution_count": null,
      "outputs": [
        {
          "output_type": "execute_result",
          "data": {
            "text/plain": [
              "<Axes: xlabel='delivery_time'>"
            ]
          },
          "metadata": {},
          "execution_count": 58
        },
        {
          "output_type": "display_data",
          "data": {
            "text/plain": [
              "<Figure size 640x480 with 1 Axes>"
            ],
            "image/png": "[encoded data removed]"
          },
          "metadata": {}
        }
      ]
    },
    {
      "cell_type": "markdown",
      "metadata": {
        "id": "K9CqA5H_JY_U"
      },
      "source": [
        "### **Question 7**: Which are the top 5 restaurants in terms of the number of orders received? [1 mark]"
      ]
    },
    {
      "cell_type": "code",
      "execution_count": null,
      "metadata": {
        "id": "PaJZ3wlOJY_U",
        "colab": {
          "base_uri": "https://localhost:8080/"
        },
        "outputId": "b7c1df8b-7658-4c80-9290-0c0d2a56fc5f"
      },
      "outputs": [
        {
          "output_type": "execute_result",
          "data": {
            "text/plain": [
              "Shake Shack                  219\n",
              "The Meatball Shop            132\n",
              "Blue Ribbon Sushi            119\n",
              "Blue Ribbon Fried Chicken     96\n",
              "Parm                          68\n",
              "                            ... \n",
              "Sushi Choshi                   1\n",
              "Dos Caminos Soho               1\n",
              "La Follia                      1\n",
              "Philippe Chow                  1\n",
              "'wichcraft                     1\n",
              "Name: restaurant_name, Length: 178, dtype: int64"
            ]
          },
          "metadata": {},
          "execution_count": 59
        }
      ],
      "source": [
        "#list value counts of each restaurant\n",
        "df.restaurant_name.value_counts()"
      ]
    },
    {
      "cell_type": "markdown",
      "metadata": {
        "id": "tnjhWgUfJY_U"
      },
      "source": [
        "#### Observations:\n",
        "\n",
        "\n",
        "*   Shake Shack, The meatball shop, Blue ribbon sushi, Blue Ribbon Fried Chicken, and Parm are the top 5 restaurants in terms of # of orders received\n",
        "\n"
      ]
    },
    {
      "cell_type": "markdown",
      "metadata": {
        "id": "gWPMqGq0JY_U"
      },
      "source": [
        "### **Question 8**: Which is the most popular cuisine on weekends? [1 mark]"
      ]
    },
    {
      "cell_type": "code",
      "execution_count": null,
      "metadata": {
        "id": "c-Xnus3VJY_U",
        "colab": {
          "base_uri": "https://localhost:8080/",
          "height": 423
        },
        "outputId": "989c0989-dcb2-4960-ea6b-b3ba279f27bb"
      },
      "outputs": [
        {
          "output_type": "execute_result",
          "data": {
            "text/plain": [
              "      order_id  customer_id                        restaurant_name  \\\n",
              "0      1477147       337525                                Hangawi   \n",
              "1      1477685       358141              Blue Ribbon Sushi Izakaya   \n",
              "3      1477334       106968              Blue Ribbon Fried Chicken   \n",
              "6      1477894       157711                      The Meatball Shop   \n",
              "11     1478437       221206                 Empanada Mama (closed)   \n",
              "...        ...          ...                                    ...   \n",
              "1891   1476981       138586                            Shake Shack   \n",
              "1892   1477473        97838                            Han Dynasty   \n",
              "1893   1476701       292602  Chipotle Mexican Grill $1.99 Delivery   \n",
              "1894   1477421       397537                              The Smile   \n",
              "1897   1478056       120353                      Blue Ribbon Sushi   \n",
              "\n",
              "     cuisine_type  cost_of_the_order day_of_the_week     rating  \\\n",
              "0          Korean              30.75         Weekend  Not given   \n",
              "1        Japanese              12.08         Weekend  Not given   \n",
              "3        American              29.20         Weekend          3   \n",
              "6         Italian               6.07         Weekend  Not given   \n",
              "11        Mexican               8.10         Weekend          5   \n",
              "...           ...                ...             ...        ...   \n",
              "1891     American               5.82         Weekend  Not given   \n",
              "1892      Chinese              29.15         Weekend  Not given   \n",
              "1893      Mexican              22.31         Weekend          5   \n",
              "1894     American              12.18         Weekend          5   \n",
              "1897     Japanese              19.45         Weekend  Not given   \n",
              "\n",
              "      food_preparation_time  delivery_time  \n",
              "0                        25             20  \n",
              "1                        25             23  \n",
              "3                        25             15  \n",
              "6                        28             21  \n",
              "11                       23             22  \n",
              "...                     ...            ...  \n",
              "1891                     22             28  \n",
              "1892                     29             21  \n",
              "1893                     31             17  \n",
              "1894                     31             19  \n",
              "1897                     28             24  \n",
              "\n",
              "[1351 rows x 9 columns]"
            ],
            "text/html": [
              "\n",
              "  <div id=\"df-a22a603b-aac7-407b-afb0-a4682ecdc780\" class=\"colab-df-container\">\n",
              "    <div>\n",
              "<style scoped>\n",
              "    .dataframe tbody tr th:only-of-type {\n",
              "        vertical-align: middle;\n",
              "    }\n",
              "\n",
              "    .dataframe tbody tr th {\n",
              "        vertical-align: top;\n",
              "    }\n",
              "\n",
              "    .dataframe thead th {\n",
              "        text-align: right;\n",
              "    }\n",
              "</style>\n",
              "<table border=\"1\" class=\"dataframe\">\n",
              "  <thead>\n",
              "    <tr style=\"text-align: right;\">\n",
              "      <th></th>\n",
              "      <th>order_id</th>\n",
              "      <th>customer_id</th>\n",
              "      <th>restaurant_name</th>\n",
              "      <th>cuisine_type</th>\n",
              "      <th>cost_of_the_order</th>\n",
              "      <th>day_of_the_week</th>\n",
              "      <th>rating</th>\n",
              "      <th>food_preparation_time</th>\n",
              "      <th>delivery_time</th>\n",
              "    </tr>\n",
              "  </thead>\n",
              "  <tbody>\n",
              "    <tr>\n",
              "      <th>0</th>\n",
              "      <td>1477147</td>\n",
              "      <td>337525</td>\n",
              "      <td>Hangawi</td>\n",
              "      <td>Korean</td>\n",
              "      <td>30.75</td>\n",
              "      <td>Weekend</td>\n",
              "      <td>Not given</td>\n",
              "      <td>25</td>\n",
              "      <td>20</td>\n",
              "    </tr>\n",
              "    <tr>\n",
              "      <th>1</th>\n",
              "      <td>1477685</td>\n",
              "      <td>358141</td>\n",
              "      <td>Blue Ribbon Sushi Izakaya</td>\n",
              "      <td>Japanese</td>\n",
              "      <td>12.08</td>\n",
              "      <td>Weekend</td>\n",
              "      <td>Not given</td>\n",
              "      <td>25</td>\n",
              "      <td>23</td>\n",
              "    </tr>\n",
              "    <tr>\n",
              "      <th>3</th>\n",
              "      <td>1477334</td>\n",
              "      <td>106968</td>\n",
              "      <td>Blue Ribbon Fried Chicken</td>\n",
              "      <td>American</td>\n",
              "      <td>29.20</td>\n",
              "      <td>Weekend</td>\n",
              "      <td>3</td>\n",
              "      <td>25</td>\n",
              "      <td>15</td>\n",
              "    </tr>\n",
              "    <tr>\n",
              "      <th>6</th>\n",
              "      <td>1477894</td>\n",
              "      <td>157711</td>\n",
              "      <td>The Meatball Shop</td>\n",
              "      <td>Italian</td>\n",
              "      <td>6.07</td>\n",
              "      <td>Weekend</td>\n",
              "      <td>Not given</td>\n",
              "      <td>28</td>\n",
              "      <td>21</td>\n",
              "    </tr>\n",
              "    <tr>\n",
              "      <th>11</th>\n",
              "      <td>1478437</td>\n",
              "      <td>221206</td>\n",
              "      <td>Empanada Mama (closed)</td>\n",
              "      <td>Mexican</td>\n",
              "      <td>8.10</td>\n",
              "      <td>Weekend</td>\n",
              "      <td>5</td>\n",
              "      <td>23</td>\n",
              "      <td>22</td>\n",
              "    </tr>\n",
              "    <tr>\n",
              "      <th>...</th>\n",
              "      <td>...</td>\n",
              "      <td>...</td>\n",
              "      <td>...</td>\n",
              "      <td>...</td>\n",
              "      <td>...</td>\n",
              "      <td>...</td>\n",
              "      <td>...</td>\n",
              "      <td>...</td>\n",
              "      <td>...</td>\n",
              "    </tr>\n",
              "    <tr>\n",
              "      <th>1891</th>\n",
              "      <td>1476981</td>\n",
              "      <td>138586</td>\n",
              "      <td>Shake Shack</td>\n",
              "      <td>American</td>\n",
              "      <td>5.82</td>\n",
              "      <td>Weekend</td>\n",
              "      <td>Not given</td>\n",
              "      <td>22</td>\n",
              "      <td>28</td>\n",
              "    </tr>\n",
              "    <tr>\n",
              "      <th>1892</th>\n",
              "      <td>1477473</td>\n",
              "      <td>97838</td>\n",
              "      <td>Han Dynasty</td>\n",
              "      <td>Chinese</td>\n",
              "      <td>29.15</td>\n",
              "      <td>Weekend</td>\n",
              "      <td>Not given</td>\n",
              "      <td>29</td>\n",
              "      <td>21</td>\n",
              "    </tr>\n",
              "    <tr>\n",
              "      <th>1893</th>\n",
              "      <td>1476701</td>\n",
              "      <td>292602</td>\n",
              "      <td>Chipotle Mexican Grill $1.99 Delivery</td>\n",
              "      <td>Mexican</td>\n",
              "      <td>22.31</td>\n",
              "      <td>Weekend</td>\n",
              "      <td>5</td>\n",
              "      <td>31</td>\n",
              "      <td>17</td>\n",
              "    </tr>\n",
              "    <tr>\n",
              "      <th>1894</th>\n",
              "      <td>1477421</td>\n",
              "      <td>397537</td>\n",
              "      <td>The Smile</td>\n",
              "      <td>American</td>\n",
              "      <td>12.18</td>\n",
              "      <td>Weekend</td>\n",
              "      <td>5</td>\n",
              "      <td>31</td>\n",
              "      <td>19</td>\n",
              "    </tr>\n",
              "    <tr>\n",
              "      <th>1897</th>\n",
              "      <td>1478056</td>\n",
              "      <td>120353</td>\n",
              "      <td>Blue Ribbon Sushi</td>\n",
              "      <td>Japanese</td>\n",
              "      <td>19.45</td>\n",
              "      <td>Weekend</td>\n",
              "      <td>Not given</td>\n",
              "      <td>28</td>\n",
              "      <td>24</td>\n",
              "    </tr>\n",
              "  </tbody>\n",
              "</table>\n",
              "<p>1351 rows × 9 columns</p>\n",
              "</div>\n",
              "    <div class=\"colab-df-buttons\">\n",
              "\n",
              "  <div class=\"colab-df-container\">\n",
              "    <button class=\"colab-df-convert\" onclick=\"convertToInteractive('df-a22a603b-aac7-407b-afb0-a4682ecdc780')\"\n",
              "            title=\"Convert this dataframe to an interactive table.\"\n",
              "            style=\"display:none;\">\n",
              "\n",
              "  <svg xmlns=\"http://www.w3.org/2000/svg\" height=\"24px\" viewBox=\"0 -960 960 960\">\n",
              "    <path d=\"M120-120v-720h720v720H120Zm60-500h600v-160H180v160Zm220 220h160v-160H400v160Zm0 220h160v-160H400v160ZM180-400h160v-160H180v160Zm440 0h160v-160H620v160ZM180-180h160v-160H180v160Zm440 0h160v-160H620v160Z\"/>\n",
              "  </svg>\n",
              "    </button>\n",
              "\n",
              "  <style>\n",
              "    .colab-df-container {\n",
              "      display:flex;\n",
              "      gap: 12px;\n",
              "    }\n",
              "\n",
              "    .colab-df-convert {\n",
              "      background-color: #E8F0FE;\n",
              "      border: none;\n",
              "      border-radius: 50%;\n",
              "      cursor: pointer;\n",
              "      display: none;\n",
              "      fill: #1967D2;\n",
              "      height: 32px;\n",
              "      padding: 0 0 0 0;\n",
              "      width: 32px;\n",
              "    }\n",
              "\n",
              "    .colab-df-convert:hover {\n",
              "      background-color: #E2EBFA;\n",
              "      box-shadow: 0px 1px 2px rgba(60, 64, 67, 0.3), 0px 1px 3px 1px rgba(60, 64, 67, 0.15);\n",
              "      fill: #174EA6;\n",
              "    }\n",
              "\n",
              "    .colab-df-buttons div {\n",
              "      margin-bottom: 4px;\n",
              "    }\n",
              "\n",
              "    [theme=dark] .colab-df-convert {\n",
              "      background-color: #3B4455;\n",
              "      fill: #D2E3FC;\n",
              "    }\n",
              "\n",
              "    [theme=dark] .colab-df-convert:hover {\n",
              "      background-color: #434B5C;\n",
              "      box-shadow: 0px 1px 3px 1px rgba(0, 0, 0, 0.15);\n",
              "      filter: drop-shadow(0px 1px 2px rgba(0, 0, 0, 0.3));\n",
              "      fill: #FFFFFF;\n",
              "    }\n",
              "  </style>\n",
              "\n",
              "    <script>\n",
              "      const buttonEl =\n",
              "        document.querySelector('#df-a22a603b-aac7-407b-afb0-a4682ecdc780 button.colab-df-convert');\n",
              "      buttonEl.style.display =\n",
              "        google.colab.kernel.accessAllowed ? 'block' : 'none';\n",
              "\n",
              "      async function convertToInteractive(key) {\n",
              "        const element = document.querySelector('#df-a22a603b-aac7-407b-afb0-a4682ecdc780');\n",
              "        const dataTable =\n",
              "          await google.colab.kernel.invokeFunction('convertToInteractive',\n",
              "                                                    [key], {});\n",
              "        if (!dataTable) return;\n",
              "\n",
              "        const docLinkHtml = 'Like what you see? Visit the ' +\n",
              "          '<a target=\"_blank\" href=https://colab.research.google.com/notebooks/data_table.ipynb>data table notebook</a>'\n",
              "          + ' to learn more about interactive tables.';\n",
              "        element.innerHTML = '';\n",
              "        dataTable['output_type'] = 'display_data';\n",
              "        await google.colab.output.renderOutput(dataTable, element);\n",
              "        const docLink = document.createElement('div');\n",
              "        docLink.innerHTML = docLinkHtml;\n",
              "        element.appendChild(docLink);\n",
              "      }\n",
              "    </script>\n",
              "  </div>\n",
              "\n",
              "\n",
              "<div id=\"df-05a29e59-cd0d-48b9-94f6-f3f369e8b616\">\n",
              "  <button class=\"colab-df-quickchart\" onclick=\"quickchart('df-05a29e59-cd0d-48b9-94f6-f3f369e8b616')\"\n",
              "            title=\"Suggest charts\"\n",
              "            style=\"display:none;\">\n",
              "\n",
              "<svg xmlns=\"http://www.w3.org/2000/svg\" height=\"24px\"viewBox=\"0 0 24 24\"\n",
              "     width=\"24px\">\n",
              "    <g>\n",
              "        <path d=\"M19 3H5c-1.1 0-2 .9-2 2v14c0 1.1.9 2 2 2h14c1.1 0 2-.9 2-2V5c0-1.1-.9-2-2-2zM9 17H7v-7h2v7zm4 0h-2V7h2v10zm4 0h-2v-4h2v4z\"/>\n",
              "    </g>\n",
              "</svg>\n",
              "  </button>\n",
              "\n",
              "<style>\n",
              "  .colab-df-quickchart {\n",
              "      --bg-color: #E8F0FE;\n",
              "      --fill-color: #1967D2;\n",
              "      --hover-bg-color: #E2EBFA;\n",
              "      --hover-fill-color: #174EA6;\n",
              "      --disabled-fill-color: #AAA;\n",
              "      --disabled-bg-color: #DDD;\n",
              "  }\n",
              "\n",
              "  [theme=dark] .colab-df-quickchart {\n",
              "      --bg-color: #3B4455;\n",
              "      --fill-color: #D2E3FC;\n",
              "      --hover-bg-color: #434B5C;\n",
              "      --hover-fill-color: #FFFFFF;\n",
              "      --disabled-bg-color: #3B4455;\n",
              "      --disabled-fill-color: #666;\n",
              "  }\n",
              "\n",
              "  .colab-df-quickchart {\n",
              "    background-color: var(--bg-color);\n",
              "    border: none;\n",
              "    border-radius: 50%;\n",
              "    cursor: pointer;\n",
              "    display: none;\n",
              "    fill: var(--fill-color);\n",
              "    height: 32px;\n",
              "    padding: 0;\n",
              "    width: 32px;\n",
              "  }\n",
              "\n",
              "  .colab-df-quickchart:hover {\n",
              "    background-color: var(--hover-bg-color);\n",
              "    box-shadow: 0 1px 2px rgba(60, 64, 67, 0.3), 0 1px 3px 1px rgba(60, 64, 67, 0.15);\n",
              "    fill: var(--button-hover-fill-color);\n",
              "  }\n",
              "\n",
              "  .colab-df-quickchart-complete:disabled,\n",
              "  .colab-df-quickchart-complete:disabled:hover {\n",
              "    background-color: var(--disabled-bg-color);\n",
              "    fill: var(--disabled-fill-color);\n",
              "    box-shadow: none;\n",
              "  }\n",
              "\n",
              "  .colab-df-spinner {\n",
              "    border: 2px solid var(--fill-color);\n",
              "    border-color: transparent;\n",
              "    border-bottom-color: var(--fill-color);\n",
              "    animation:\n",
              "      spin 1s steps(1) infinite;\n",
              "  }\n",
              "\n",
              "  @keyframes spin {\n",
              "    0% {\n",
              "      border-color: transparent;\n",
              "      border-bottom-color: var(--fill-color);\n",
              "      border-left-color: var(--fill-color);\n",
              "    }\n",
              "    20% {\n",
              "      border-color: transparent;\n",
              "      border-left-color: var(--fill-color);\n",
              "      border-top-color: var(--fill-color);\n",
              "    }\n",
              "    30% {\n",
              "      border-color: transparent;\n",
              "      border-left-color: var(--fill-color);\n",
              "      border-top-color: var(--fill-color);\n",
              "      border-right-color: var(--fill-color);\n",
              "    }\n",
              "    40% {\n",
              "      border-color: transparent;\n",
              "      border-right-color: var(--fill-color);\n",
              "      border-top-color: var(--fill-color);\n",
              "    }\n",
              "    60% {\n",
              "      border-color: transparent;\n",
              "      border-right-color: var(--fill-color);\n",
              "    }\n",
              "    80% {\n",
              "      border-color: transparent;\n",
              "      border-right-color: var(--fill-color);\n",
              "      border-bottom-color: var(--fill-color);\n",
              "    }\n",
              "    90% {\n",
              "      border-color: transparent;\n",
              "      border-bottom-color: var(--fill-color);\n",
              "    }\n",
              "  }\n",
              "</style>\n",
              "\n",
              "  <script>\n",
              "    async function quickchart(key) {\n",
              "      const quickchartButtonEl =\n",
              "        document.querySelector('#' + key + ' button');\n",
              "      quickchartButtonEl.disabled = true;  // To prevent multiple clicks.\n",
              "      quickchartButtonEl.classList.add('colab-df-spinner');\n",
              "      try {\n",
              "        const charts = await google.colab.kernel.invokeFunction(\n",
              "            'suggestCharts', [key], {});\n",
              "      } catch (error) {\n",
              "        console.error('Error during call to suggestCharts:', error);\n",
              "      }\n",
              "      quickchartButtonEl.classList.remove('colab-df-spinner');\n",
              "      quickchartButtonEl.classList.add('colab-df-quickchart-complete');\n",
              "    }\n",
              "    (() => {\n",
              "      let quickchartButtonEl =\n",
              "        document.querySelector('#df-05a29e59-cd0d-48b9-94f6-f3f369e8b616 button');\n",
              "      quickchartButtonEl.style.display =\n",
              "        google.colab.kernel.accessAllowed ? 'block' : 'none';\n",
              "    })();\n",
              "  </script>\n",
              "</div>\n",
              "\n",
              "  <div id=\"id_8a0ae951-d3d7-470f-b435-9ba7086517ec\">\n",
              "    <style>\n",
              "      .colab-df-generate {\n",
              "        background-color: #E8F0FE;\n",
              "        border: none;\n",
              "        border-radius: 50%;\n",
              "        cursor: pointer;\n",
              "        display: none;\n",
              "        fill: #1967D2;\n",
              "        height: 32px;\n",
              "        padding: 0 0 0 0;\n",
              "        width: 32px;\n",
              "      }\n",
              "\n",
              "      .colab-df-generate:hover {\n",
              "        background-color: #E2EBFA;\n",
              "        box-shadow: 0px 1px 2px rgba(60, 64, 67, 0.3), 0px 1px 3px 1px rgba(60, 64, 67, 0.15);\n",
              "        fill: #174EA6;\n",
              "      }\n",
              "\n",
              "      [theme=dark] .colab-df-generate {\n",
              "        background-color: #3B4455;\n",
              "        fill: #D2E3FC;\n",
              "      }\n",
              "\n",
              "      [theme=dark] .colab-df-generate:hover {\n",
              "        background-color: #434B5C;\n",
              "        box-shadow: 0px 1px 3px 1px rgba(0, 0, 0, 0.15);\n",
              "        filter: drop-shadow(0px 1px 2px rgba(0, 0, 0, 0.3));\n",
              "        fill: #FFFFFF;\n",
              "      }\n",
              "    </style>\n",
              "    <button class=\"colab-df-generate\" onclick=\"generateWithVariable('weekend')\"\n",
              "            title=\"Generate code using this dataframe.\"\n",
              "            style=\"display:none;\">\n",
              "\n",
              "  <svg xmlns=\"http://www.w3.org/2000/svg\" height=\"24px\"viewBox=\"0 0 24 24\"\n",
              "       width=\"24px\">\n",
              "    <path d=\"M7,19H8.4L18.45,9,17,7.55,7,17.6ZM5,21V16.75L18.45,3.32a2,2,0,0,1,2.83,0l1.4,1.43a1.91,1.91,0,0,1,.58,1.4,1.91,1.91,0,0,1-.58,1.4L9.25,21ZM18.45,9,17,7.55Zm-12,3A5.31,5.31,0,0,0,4.9,8.1,5.31,5.31,0,0,0,1,6.5,5.31,5.31,0,0,0,4.9,4.9,5.31,5.31,0,0,0,6.5,1,5.31,5.31,0,0,0,8.1,4.9,5.31,5.31,0,0,0,12,6.5,5.46,5.46,0,0,0,6.5,12Z\"/>\n",
              "  </svg>\n",
              "    </button>\n",
              "    <script>\n",
              "      (() => {\n",
              "      const buttonEl =\n",
              "        document.querySelector('#id_8a0ae951-d3d7-470f-b435-9ba7086517ec button.colab-df-generate');\n",
              "      buttonEl.style.display =\n",
              "        google.colab.kernel.accessAllowed ? 'block' : 'none';\n",
              "\n",
              "      buttonEl.onclick = () => {\n",
              "        google.colab.notebook.generateWithVariable('weekend');\n",
              "      }\n",
              "      })();\n",
              "    </script>\n",
              "  </div>\n",
              "\n",
              "    </div>\n",
              "  </div>\n"
            ]
          },
          "metadata": {},
          "execution_count": 13
        }
      ],
      "source": [
        "#Filter for orders on weekends only\n",
        "weekend = df[df['day_of_the_week'] == 'Weekend']\n",
        "weekend"
      ]
    },
    {
      "cell_type": "code",
      "source": [
        "#Find count of each cuisine type ordered on the weekends\n",
        "weekend['cuisine_type'].value_counts(ascending = False)"
      ],
      "metadata": {
        "colab": {
          "base_uri": "https://localhost:8080/"
        },
        "id": "93V0XPf9fYg0",
        "outputId": "8379578e-e8d2-47c3-b984-dec35bf8353d"
      },
      "execution_count": null,
      "outputs": [
        {
          "output_type": "execute_result",
          "data": {
            "text/plain": [
              "American          415\n",
              "Japanese          335\n",
              "Italian           207\n",
              "Chinese           163\n",
              "Mexican            53\n",
              "Indian             49\n",
              "Mediterranean      32\n",
              "Middle Eastern     32\n",
              "Thai               15\n",
              "French             13\n",
              "Korean             11\n",
              "Southern           11\n",
              "Spanish            11\n",
              "Vietnamese          4\n",
              "Name: cuisine_type, dtype: int64"
            ]
          },
          "metadata": {},
          "execution_count": 14
        }
      ]
    },
    {
      "cell_type": "markdown",
      "metadata": {
        "id": "bpQ270TUJY_U"
      },
      "source": [
        "#### Observations:\n",
        "\n",
        "\n",
        "*   American cuisine is the most popular on weekends\n",
        "\n",
        "\n"
      ]
    },
    {
      "cell_type": "markdown",
      "metadata": {
        "id": "88xgTqkxJY_U"
      },
      "source": [
        "### **Question 9**: What percentage of the orders cost more than 20 dollars? [2 marks]"
      ]
    },
    {
      "cell_type": "code",
      "execution_count": null,
      "metadata": {
        "id": "OTpHyTdzJY_U",
        "colab": {
          "base_uri": "https://localhost:8080/",
          "height": 423
        },
        "outputId": "94b4b45e-4052-4192-de6a-570dbeaad197"
      },
      "outputs": [
        {
          "output_type": "execute_result",
          "data": {
            "text/plain": [
              "      order_id  customer_id                        restaurant_name  \\\n",
              "0      1477147       337525                                Hangawi   \n",
              "3      1477334       106968              Blue Ribbon Fried Chicken   \n",
              "5      1477224       147468                       Tamarind TriBeCa   \n",
              "12     1476966       129969              Blue Ribbon Fried Chicken   \n",
              "17     1477373       139885              Blue Ribbon Sushi Izakaya   \n",
              "...        ...          ...                                    ...   \n",
              "1884   1477437       304993                            Shake Shack   \n",
              "1885   1477550        97324                            Shake Shack   \n",
              "1892   1477473        97838                            Han Dynasty   \n",
              "1893   1476701       292602  Chipotle Mexican Grill $1.99 Delivery   \n",
              "1895   1477819        35309                      Blue Ribbon Sushi   \n",
              "\n",
              "     cuisine_type  cost_of_the_order day_of_the_week     rating  \\\n",
              "0          Korean              30.75         Weekend  Not given   \n",
              "3        American              29.20         Weekend          3   \n",
              "5          Indian              25.22         Weekday          3   \n",
              "12       American              24.30         Weekend          5   \n",
              "17       Japanese              33.03         Weekend  Not given   \n",
              "...           ...                ...             ...        ...   \n",
              "1884     American              31.43         Weekend          3   \n",
              "1885     American              29.05         Weekday          4   \n",
              "1892      Chinese              29.15         Weekend  Not given   \n",
              "1893      Mexican              22.31         Weekend          5   \n",
              "1895     Japanese              25.22         Weekday  Not given   \n",
              "\n",
              "      food_preparation_time  delivery_time  \n",
              "0                        25             20  \n",
              "3                        25             15  \n",
              "5                        20             24  \n",
              "12                       23             17  \n",
              "17                       21             22  \n",
              "...                     ...            ...  \n",
              "1884                     31             24  \n",
              "1885                     27             29  \n",
              "1892                     29             21  \n",
              "1893                     31             17  \n",
              "1895                     31             24  \n",
              "\n",
              "[555 rows x 9 columns]"
            ],
            "text/html": [
              "\n",
              "  <div id=\"df-ffa73868-cdd5-452b-b7c5-22ad0c20413d\" class=\"colab-df-container\">\n",
              "    <div>\n",
              "<style scoped>\n",
              "    .dataframe tbody tr th:only-of-type {\n",
              "        vertical-align: middle;\n",
              "    }\n",
              "\n",
              "    .dataframe tbody tr th {\n",
              "        vertical-align: top;\n",
              "    }\n",
              "\n",
              "    .dataframe thead th {\n",
              "        text-align: right;\n",
              "    }\n",
              "</style>\n",
              "<table border=\"1\" class=\"dataframe\">\n",
              "  <thead>\n",
              "    <tr style=\"text-align: right;\">\n",
              "      <th></th>\n",
              "      <th>order_id</th>\n",
              "      <th>customer_id</th>\n",
              "      <th>restaurant_name</th>\n",
              "      <th>cuisine_type</th>\n",
              "      <th>cost_of_the_order</th>\n",
              "      <th>day_of_the_week</th>\n",
              "      <th>rating</th>\n",
              "      <th>food_preparation_time</th>\n",
              "      <th>delivery_time</th>\n",
              "    </tr>\n",
              "  </thead>\n",
              "  <tbody>\n",
              "    <tr>\n",
              "      <th>0</th>\n",
              "      <td>1477147</td>\n",
              "      <td>337525</td>\n",
              "      <td>Hangawi</td>\n",
              "      <td>Korean</td>\n",
              "      <td>30.75</td>\n",
              "      <td>Weekend</td>\n",
              "      <td>Not given</td>\n",
              "      <td>25</td>\n",
              "      <td>20</td>\n",
              "    </tr>\n",
              "    <tr>\n",
              "      <th>3</th>\n",
              "      <td>1477334</td>\n",
              "      <td>106968</td>\n",
              "      <td>Blue Ribbon Fried Chicken</td>\n",
              "      <td>American</td>\n",
              "      <td>29.20</td>\n",
              "      <td>Weekend</td>\n",
              "      <td>3</td>\n",
              "      <td>25</td>\n",
              "      <td>15</td>\n",
              "    </tr>\n",
              "    <tr>\n",
              "      <th>5</th>\n",
              "      <td>1477224</td>\n",
              "      <td>147468</td>\n",
              "      <td>Tamarind TriBeCa</td>\n",
              "      <td>Indian</td>\n",
              "      <td>25.22</td>\n",
              "      <td>Weekday</td>\n",
              "      <td>3</td>\n",
              "      <td>20</td>\n",
              "      <td>24</td>\n",
              "    </tr>\n",
              "    <tr>\n",
              "      <th>12</th>\n",
              "      <td>1476966</td>\n",
              "      <td>129969</td>\n",
              "      <td>Blue Ribbon Fried Chicken</td>\n",
              "      <td>American</td>\n",
              "      <td>24.30</td>\n",
              "      <td>Weekend</td>\n",
              "      <td>5</td>\n",
              "      <td>23</td>\n",
              "      <td>17</td>\n",
              "    </tr>\n",
              "    <tr>\n",
              "      <th>17</th>\n",
              "      <td>1477373</td>\n",
              "      <td>139885</td>\n",
              "      <td>Blue Ribbon Sushi Izakaya</td>\n",
              "      <td>Japanese</td>\n",
              "      <td>33.03</td>\n",
              "      <td>Weekend</td>\n",
              "      <td>Not given</td>\n",
              "      <td>21</td>\n",
              "      <td>22</td>\n",
              "    </tr>\n",
              "    <tr>\n",
              "      <th>...</th>\n",
              "      <td>...</td>\n",
              "      <td>...</td>\n",
              "      <td>...</td>\n",
              "      <td>...</td>\n",
              "      <td>...</td>\n",
              "      <td>...</td>\n",
              "      <td>...</td>\n",
              "      <td>...</td>\n",
              "      <td>...</td>\n",
              "    </tr>\n",
              "    <tr>\n",
              "      <th>1884</th>\n",
              "      <td>1477437</td>\n",
              "      <td>304993</td>\n",
              "      <td>Shake Shack</td>\n",
              "      <td>American</td>\n",
              "      <td>31.43</td>\n",
              "      <td>Weekend</td>\n",
              "      <td>3</td>\n",
              "      <td>31</td>\n",
              "      <td>24</td>\n",
              "    </tr>\n",
              "    <tr>\n",
              "      <th>1885</th>\n",
              "      <td>1477550</td>\n",
              "      <td>97324</td>\n",
              "      <td>Shake Shack</td>\n",
              "      <td>American</td>\n",
              "      <td>29.05</td>\n",
              "      <td>Weekday</td>\n",
              "      <td>4</td>\n",
              "      <td>27</td>\n",
              "      <td>29</td>\n",
              "    </tr>\n",
              "    <tr>\n",
              "      <th>1892</th>\n",
              "      <td>1477473</td>\n",
              "      <td>97838</td>\n",
              "      <td>Han Dynasty</td>\n",
              "      <td>Chinese</td>\n",
              "      <td>29.15</td>\n",
              "      <td>Weekend</td>\n",
              "      <td>Not given</td>\n",
              "      <td>29</td>\n",
              "      <td>21</td>\n",
              "    </tr>\n",
              "    <tr>\n",
              "      <th>1893</th>\n",
              "      <td>1476701</td>\n",
              "      <td>292602</td>\n",
              "      <td>Chipotle Mexican Grill $1.99 Delivery</td>\n",
              "      <td>Mexican</td>\n",
              "      <td>22.31</td>\n",
              "      <td>Weekend</td>\n",
              "      <td>5</td>\n",
              "      <td>31</td>\n",
              "      <td>17</td>\n",
              "    </tr>\n",
              "    <tr>\n",
              "      <th>1895</th>\n",
              "      <td>1477819</td>\n",
              "      <td>35309</td>\n",
              "      <td>Blue Ribbon Sushi</td>\n",
              "      <td>Japanese</td>\n",
              "      <td>25.22</td>\n",
              "      <td>Weekday</td>\n",
              "      <td>Not given</td>\n",
              "      <td>31</td>\n",
              "      <td>24</td>\n",
              "    </tr>\n",
              "  </tbody>\n",
              "</table>\n",
              "<p>555 rows × 9 columns</p>\n",
              "</div>\n",
              "    <div class=\"colab-df-buttons\">\n",
              "\n",
              "  <div class=\"colab-df-container\">\n",
              "    <button class=\"colab-df-convert\" onclick=\"convertToInteractive('df-ffa73868-cdd5-452b-b7c5-22ad0c20413d')\"\n",
              "            title=\"Convert this dataframe to an interactive table.\"\n",
              "            style=\"display:none;\">\n",
              "\n",
              "  <svg xmlns=\"http://www.w3.org/2000/svg\" height=\"24px\" viewBox=\"0 -960 960 960\">\n",
              "    <path d=\"M120-120v-720h720v720H120Zm60-500h600v-160H180v160Zm220 220h160v-160H400v160Zm0 220h160v-160H400v160ZM180-400h160v-160H180v160Zm440 0h160v-160H620v160ZM180-180h160v-160H180v160Zm440 0h160v-160H620v160Z\"/>\n",
              "  </svg>\n",
              "    </button>\n",
              "\n",
              "  <style>\n",
              "    .colab-df-container {\n",
              "      display:flex;\n",
              "      gap: 12px;\n",
              "    }\n",
              "\n",
              "    .colab-df-convert {\n",
              "      background-color: #E8F0FE;\n",
              "      border: none;\n",
              "      border-radius: 50%;\n",
              "      cursor: pointer;\n",
              "      display: none;\n",
              "      fill: #1967D2;\n",
              "      height: 32px;\n",
              "      padding: 0 0 0 0;\n",
              "      width: 32px;\n",
              "    }\n",
              "\n",
              "    .colab-df-convert:hover {\n",
              "      background-color: #E2EBFA;\n",
              "      box-shadow: 0px 1px 2px rgba(60, 64, 67, 0.3), 0px 1px 3px 1px rgba(60, 64, 67, 0.15);\n",
              "      fill: #174EA6;\n",
              "    }\n",
              "\n",
              "    .colab-df-buttons div {\n",
              "      margin-bottom: 4px;\n",
              "    }\n",
              "\n",
              "    [theme=dark] .colab-df-convert {\n",
              "      background-color: #3B4455;\n",
              "      fill: #D2E3FC;\n",
              "    }\n",
              "\n",
              "    [theme=dark] .colab-df-convert:hover {\n",
              "      background-color: #434B5C;\n",
              "      box-shadow: 0px 1px 3px 1px rgba(0, 0, 0, 0.15);\n",
              "      filter: drop-shadow(0px 1px 2px rgba(0, 0, 0, 0.3));\n",
              "      fill: #FFFFFF;\n",
              "    }\n",
              "  </style>\n",
              "\n",
              "    <script>\n",
              "      const buttonEl =\n",
              "        document.querySelector('#df-ffa73868-cdd5-452b-b7c5-22ad0c20413d button.colab-df-convert');\n",
              "      buttonEl.style.display =\n",
              "        google.colab.kernel.accessAllowed ? 'block' : 'none';\n",
              "\n",
              "      async function convertToInteractive(key) {\n",
              "        const element = document.querySelector('#df-ffa73868-cdd5-452b-b7c5-22ad0c20413d');\n",
              "        const dataTable =\n",
              "          await google.colab.kernel.invokeFunction('convertToInteractive',\n",
              "                                                    [key], {});\n",
              "        if (!dataTable) return;\n",
              "\n",
              "        const docLinkHtml = 'Like what you see? Visit the ' +\n",
              "          '<a target=\"_blank\" href=https://colab.research.google.com/notebooks/data_table.ipynb>data table notebook</a>'\n",
              "          + ' to learn more about interactive tables.';\n",
              "        element.innerHTML = '';\n",
              "        dataTable['output_type'] = 'display_data';\n",
              "        await google.colab.output.renderOutput(dataTable, element);\n",
              "        const docLink = document.createElement('div');\n",
              "        docLink.innerHTML = docLinkHtml;\n",
              "        element.appendChild(docLink);\n",
              "      }\n",
              "    </script>\n",
              "  </div>\n",
              "\n",
              "\n",
              "<div id=\"df-02cfac6c-019a-42f7-aec4-21d303bff8b3\">\n",
              "  <button class=\"colab-df-quickchart\" onclick=\"quickchart('df-02cfac6c-019a-42f7-aec4-21d303bff8b3')\"\n",
              "            title=\"Suggest charts\"\n",
              "            style=\"display:none;\">\n",
              "\n",
              "<svg xmlns=\"http://www.w3.org/2000/svg\" height=\"24px\"viewBox=\"0 0 24 24\"\n",
              "     width=\"24px\">\n",
              "    <g>\n",
              "        <path d=\"M19 3H5c-1.1 0-2 .9-2 2v14c0 1.1.9 2 2 2h14c1.1 0 2-.9 2-2V5c0-1.1-.9-2-2-2zM9 17H7v-7h2v7zm4 0h-2V7h2v10zm4 0h-2v-4h2v4z\"/>\n",
              "    </g>\n",
              "</svg>\n",
              "  </button>\n",
              "\n",
              "<style>\n",
              "  .colab-df-quickchart {\n",
              "      --bg-color: #E8F0FE;\n",
              "      --fill-color: #1967D2;\n",
              "      --hover-bg-color: #E2EBFA;\n",
              "      --hover-fill-color: #174EA6;\n",
              "      --disabled-fill-color: #AAA;\n",
              "      --disabled-bg-color: #DDD;\n",
              "  }\n",
              "\n",
              "  [theme=dark] .colab-df-quickchart {\n",
              "      --bg-color: #3B4455;\n",
              "      --fill-color: #D2E3FC;\n",
              "      --hover-bg-color: #434B5C;\n",
              "      --hover-fill-color: #FFFFFF;\n",
              "      --disabled-bg-color: #3B4455;\n",
              "      --disabled-fill-color: #666;\n",
              "  }\n",
              "\n",
              "  .colab-df-quickchart {\n",
              "    background-color: var(--bg-color);\n",
              "    border: none;\n",
              "    border-radius: 50%;\n",
              "    cursor: pointer;\n",
              "    display: none;\n",
              "    fill: var(--fill-color);\n",
              "    height: 32px;\n",
              "    padding: 0;\n",
              "    width: 32px;\n",
              "  }\n",
              "\n",
              "  .colab-df-quickchart:hover {\n",
              "    background-color: var(--hover-bg-color);\n",
              "    box-shadow: 0 1px 2px rgba(60, 64, 67, 0.3), 0 1px 3px 1px rgba(60, 64, 67, 0.15);\n",
              "    fill: var(--button-hover-fill-color);\n",
              "  }\n",
              "\n",
              "  .colab-df-quickchart-complete:disabled,\n",
              "  .colab-df-quickchart-complete:disabled:hover {\n",
              "    background-color: var(--disabled-bg-color);\n",
              "    fill: var(--disabled-fill-color);\n",
              "    box-shadow: none;\n",
              "  }\n",
              "\n",
              "  .colab-df-spinner {\n",
              "    border: 2px solid var(--fill-color);\n",
              "    border-color: transparent;\n",
              "    border-bottom-color: var(--fill-color);\n",
              "    animation:\n",
              "      spin 1s steps(1) infinite;\n",
              "  }\n",
              "\n",
              "  @keyframes spin {\n",
              "    0% {\n",
              "      border-color: transparent;\n",
              "      border-bottom-color: var(--fill-color);\n",
              "      border-left-color: var(--fill-color);\n",
              "    }\n",
              "    20% {\n",
              "      border-color: transparent;\n",
              "      border-left-color: var(--fill-color);\n",
              "      border-top-color: var(--fill-color);\n",
              "    }\n",
              "    30% {\n",
              "      border-color: transparent;\n",
              "      border-left-color: var(--fill-color);\n",
              "      border-top-color: var(--fill-color);\n",
              "      border-right-color: var(--fill-color);\n",
              "    }\n",
              "    40% {\n",
              "      border-color: transparent;\n",
              "      border-right-color: var(--fill-color);\n",
              "      border-top-color: var(--fill-color);\n",
              "    }\n",
              "    60% {\n",
              "      border-color: transparent;\n",
              "      border-right-color: var(--fill-color);\n",
              "    }\n",
              "    80% {\n",
              "      border-color: transparent;\n",
              "      border-right-color: var(--fill-color);\n",
              "      border-bottom-color: var(--fill-color);\n",
              "    }\n",
              "    90% {\n",
              "      border-color: transparent;\n",
              "      border-bottom-color: var(--fill-color);\n",
              "    }\n",
              "  }\n",
              "</style>\n",
              "\n",
              "  <script>\n",
              "    async function quickchart(key) {\n",
              "      const quickchartButtonEl =\n",
              "        document.querySelector('#' + key + ' button');\n",
              "      quickchartButtonEl.disabled = true;  // To prevent multiple clicks.\n",
              "      quickchartButtonEl.classList.add('colab-df-spinner');\n",
              "      try {\n",
              "        const charts = await google.colab.kernel.invokeFunction(\n",
              "            'suggestCharts', [key], {});\n",
              "      } catch (error) {\n",
              "        console.error('Error during call to suggestCharts:', error);\n",
              "      }\n",
              "      quickchartButtonEl.classList.remove('colab-df-spinner');\n",
              "      quickchartButtonEl.classList.add('colab-df-quickchart-complete');\n",
              "    }\n",
              "    (() => {\n",
              "      let quickchartButtonEl =\n",
              "        document.querySelector('#df-02cfac6c-019a-42f7-aec4-21d303bff8b3 button');\n",
              "      quickchartButtonEl.style.display =\n",
              "        google.colab.kernel.accessAllowed ? 'block' : 'none';\n",
              "    })();\n",
              "  </script>\n",
              "</div>\n",
              "\n",
              "  <div id=\"id_39627741-d40f-453b-b027-dee79b7adc04\">\n",
              "    <style>\n",
              "      .colab-df-generate {\n",
              "        background-color: #E8F0FE;\n",
              "        border: none;\n",
              "        border-radius: 50%;\n",
              "        cursor: pointer;\n",
              "        display: none;\n",
              "        fill: #1967D2;\n",
              "        height: 32px;\n",
              "        padding: 0 0 0 0;\n",
              "        width: 32px;\n",
              "      }\n",
              "\n",
              "      .colab-df-generate:hover {\n",
              "        background-color: #E2EBFA;\n",
              "        box-shadow: 0px 1px 2px rgba(60, 64, 67, 0.3), 0px 1px 3px 1px rgba(60, 64, 67, 0.15);\n",
              "        fill: #174EA6;\n",
              "      }\n",
              "\n",
              "      [theme=dark] .colab-df-generate {\n",
              "        background-color: #3B4455;\n",
              "        fill: #D2E3FC;\n",
              "      }\n",
              "\n",
              "      [theme=dark] .colab-df-generate:hover {\n",
              "        background-color: #434B5C;\n",
              "        box-shadow: 0px 1px 3px 1px rgba(0, 0, 0, 0.15);\n",
              "        filter: drop-shadow(0px 1px 2px rgba(0, 0, 0, 0.3));\n",
              "        fill: #FFFFFF;\n",
              "      }\n",
              "    </style>\n",
              "    <button class=\"colab-df-generate\" onclick=\"generateWithVariable('orders_20')\"\n",
              "            title=\"Generate code using this dataframe.\"\n",
              "            style=\"display:none;\">\n",
              "\n",
              "  <svg xmlns=\"http://www.w3.org/2000/svg\" height=\"24px\"viewBox=\"0 0 24 24\"\n",
              "       width=\"24px\">\n",
              "    <path d=\"M7,19H8.4L18.45,9,17,7.55,7,17.6ZM5,21V16.75L18.45,3.32a2,2,0,0,1,2.83,0l1.4,1.43a1.91,1.91,0,0,1,.58,1.4,1.91,1.91,0,0,1-.58,1.4L9.25,21ZM18.45,9,17,7.55Zm-12,3A5.31,5.31,0,0,0,4.9,8.1,5.31,5.31,0,0,0,1,6.5,5.31,5.31,0,0,0,4.9,4.9,5.31,5.31,0,0,0,6.5,1,5.31,5.31,0,0,0,8.1,4.9,5.31,5.31,0,0,0,12,6.5,5.46,5.46,0,0,0,6.5,12Z\"/>\n",
              "  </svg>\n",
              "    </button>\n",
              "    <script>\n",
              "      (() => {\n",
              "      const buttonEl =\n",
              "        document.querySelector('#id_39627741-d40f-453b-b027-dee79b7adc04 button.colab-df-generate');\n",
              "      buttonEl.style.display =\n",
              "        google.colab.kernel.accessAllowed ? 'block' : 'none';\n",
              "\n",
              "      buttonEl.onclick = () => {\n",
              "        google.colab.notebook.generateWithVariable('orders_20');\n",
              "      }\n",
              "      })();\n",
              "    </script>\n",
              "  </div>\n",
              "\n",
              "    </div>\n",
              "  </div>\n"
            ]
          },
          "metadata": {},
          "execution_count": 5
        }
      ],
      "source": [
        "#list orders where cost of the order is greater than $20:\n",
        "orders_20 = df[df['cost_of_the_order']>20]\n",
        "orders_20"
      ]
    },
    {
      "cell_type": "markdown",
      "source": [
        "Observation = there are 555 orders greater than $20"
      ],
      "metadata": {
        "id": "eQ7xxxHt7nPW"
      }
    },
    {
      "cell_type": "code",
      "source": [
        "percentage = (orders_20.shape[0] / df.shape[0])\n",
        "percentage\n"
      ],
      "metadata": {
        "colab": {
          "base_uri": "https://localhost:8080/"
        },
        "id": "XEuGkfojY0Kz",
        "outputId": "c6f93ad2-a12a-4e1b-9847-4d72d3abc82a"
      },
      "execution_count": null,
      "outputs": [
        {
          "output_type": "execute_result",
          "data": {
            "text/plain": [
              "0.2924130663856691"
            ]
          },
          "metadata": {},
          "execution_count": 6
        }
      ]
    },
    {
      "cell_type": "markdown",
      "metadata": {
        "id": "77KNAC5zJY_U"
      },
      "source": [
        "#### Observations:\n",
        "\n",
        "* 29.24% of all orders are over $20"
      ]
    },
    {
      "cell_type": "markdown",
      "metadata": {
        "id": "HFyHn7hsJY_V"
      },
      "source": [
        "### **Question 10**: What is the mean order delivery time? [1 mark]"
      ]
    },
    {
      "cell_type": "code",
      "execution_count": null,
      "metadata": {
        "id": "cyFL13hNJY_V",
        "colab": {
          "base_uri": "https://localhost:8080/"
        },
        "outputId": "79417cd6-e550-4f08-dca6-e94674ebce25"
      },
      "outputs": [
        {
          "output_type": "execute_result",
          "data": {
            "text/plain": [
              "24.161749209694417"
            ]
          },
          "metadata": {},
          "execution_count": 100
        }
      ],
      "source": [
        "#Function to find the mean of total delivery times\n",
        "df['delivery_time'].mean()"
      ]
    },
    {
      "cell_type": "markdown",
      "metadata": {
        "id": "F35SRV-HJY_V"
      },
      "source": [
        "#### Observations:\n",
        "\n",
        "\n",
        "*   Mean Order delivery time is ~24 minutes\n",
        "\n",
        "\n"
      ]
    },
    {
      "cell_type": "markdown",
      "metadata": {
        "id": "48IjaOuDJY_V"
      },
      "source": [
        "### **Question 11:** The company has decided to give 20% discount vouchers to the top 3 most frequent customers. Find the IDs of these customers and the number of orders they placed. [1 mark]"
      ]
    },
    {
      "cell_type": "code",
      "execution_count": null,
      "metadata": {
        "id": "Hz8-DE4Zge0j",
        "colab": {
          "base_uri": "https://localhost:8080/"
        },
        "outputId": "de6c904b-504e-49cc-ea8d-55db46a522b7"
      },
      "outputs": [
        {
          "output_type": "execute_result",
          "data": {
            "text/plain": [
              "52832     13\n",
              "47440     10\n",
              "83287      9\n",
              "250494     8\n",
              "259341     7\n",
              "          ..\n",
              "385426     1\n",
              "254913     1\n",
              "289597     1\n",
              "74412      1\n",
              "397537     1\n",
              "Name: customer_id, Length: 1200, dtype: int64"
            ]
          },
          "metadata": {},
          "execution_count": 37
        }
      ],
      "source": [
        "#Identify value counts of customer IDs\n",
        "df['customer_id'].value_counts(ascending = False)"
      ]
    },
    {
      "cell_type": "markdown",
      "metadata": {
        "id": "9tWVwfX6JY_V"
      },
      "source": [
        "#### Observations:\n",
        "\n",
        "Customer IDs of the top 3 most frequent customers:\n",
        "\n",
        "\n",
        "*  Customer ID: 52832 - 13 orders\n",
        "*  Customer ID: 47440 - 10 orders\n",
        "*  Customer ID: 83287 - 9 orders\n",
        "\n"
      ]
    },
    {
      "cell_type": "markdown",
      "metadata": {
        "id": "AfIc2jPaJY_V"
      },
      "source": [
        "### Multivariate Analysis"
      ]
    },
    {
      "cell_type": "markdown",
      "source": [],
      "metadata": {
        "id": "MEzSMlKVHHqj"
      }
    },
    {
      "cell_type": "markdown",
      "source": [
        "* order_id:\n",
        "* customer_id:\n",
        "* restaurant_name:\n",
        "* cuisine_type:\n",
        "* cost_of_the_order:\n",
        "* day_of_the_week:\n",
        "* rating:\n",
        "* food_preparation_time: Time (in minutes)\n",
        "* delivery_time: Time (in minutes)"
      ],
      "metadata": {
        "id": "V59m6j7BG483"
      }
    },
    {
      "cell_type": "markdown",
      "metadata": {
        "id": "iqiS0RT_JY_V"
      },
      "source": [
        "### **Question 12**: Perform a multivariate analysis to explore relationships between the important variables in the dataset. (It is a good idea to explore relations between numerical variables as well as relations between numerical and categorical variables) [10 marks]\n"
      ]
    },
    {
      "cell_type": "code",
      "execution_count": null,
      "metadata": {
        "id": "3qt4MCNTJY_V",
        "colab": {
          "base_uri": "https://localhost:8080/",
          "height": 143
        },
        "outputId": "03df30b0-adc4-4ac3-b438-7573782528d4"
      },
      "outputs": [
        {
          "output_type": "execute_result",
          "data": {
            "text/plain": [
              "                       cost_of_the_order  food_preparation_time  delivery_time\n",
              "cost_of_the_order               1.000000               0.041527      -0.029949\n",
              "food_preparation_time           0.041527               1.000000       0.011094\n",
              "delivery_time                  -0.029949               0.011094       1.000000"
            ],
            "text/html": [
              "\n",
              "  <div id=\"df-e65a7ad2-a884-4136-a526-8ac799b269e3\" class=\"colab-df-container\">\n",
              "    <div>\n",
              "<style scoped>\n",
              "    .dataframe tbody tr th:only-of-type {\n",
              "        vertical-align: middle;\n",
              "    }\n",
              "\n",
              "    .dataframe tbody tr th {\n",
              "        vertical-align: top;\n",
              "    }\n",
              "\n",
              "    .dataframe thead th {\n",
              "        text-align: right;\n",
              "    }\n",
              "</style>\n",
              "<table border=\"1\" class=\"dataframe\">\n",
              "  <thead>\n",
              "    <tr style=\"text-align: right;\">\n",
              "      <th></th>\n",
              "      <th>cost_of_the_order</th>\n",
              "      <th>food_preparation_time</th>\n",
              "      <th>delivery_time</th>\n",
              "    </tr>\n",
              "  </thead>\n",
              "  <tbody>\n",
              "    <tr>\n",
              "      <th>cost_of_the_order</th>\n",
              "      <td>1.000000</td>\n",
              "      <td>0.041527</td>\n",
              "      <td>-0.029949</td>\n",
              "    </tr>\n",
              "    <tr>\n",
              "      <th>food_preparation_time</th>\n",
              "      <td>0.041527</td>\n",
              "      <td>1.000000</td>\n",
              "      <td>0.011094</td>\n",
              "    </tr>\n",
              "    <tr>\n",
              "      <th>delivery_time</th>\n",
              "      <td>-0.029949</td>\n",
              "      <td>0.011094</td>\n",
              "      <td>1.000000</td>\n",
              "    </tr>\n",
              "  </tbody>\n",
              "</table>\n",
              "</div>\n",
              "    <div class=\"colab-df-buttons\">\n",
              "\n",
              "  <div class=\"colab-df-container\">\n",
              "    <button class=\"colab-df-convert\" onclick=\"convertToInteractive('df-e65a7ad2-a884-4136-a526-8ac799b269e3')\"\n",
              "            title=\"Convert this dataframe to an interactive table.\"\n",
              "            style=\"display:none;\">\n",
              "\n",
              "  <svg xmlns=\"http://www.w3.org/2000/svg\" height=\"24px\" viewBox=\"0 -960 960 960\">\n",
              "    <path d=\"M120-120v-720h720v720H120Zm60-500h600v-160H180v160Zm220 220h160v-160H400v160Zm0 220h160v-160H400v160ZM180-400h160v-160H180v160Zm440 0h160v-160H620v160ZM180-180h160v-160H180v160Zm440 0h160v-160H620v160Z\"/>\n",
              "  </svg>\n",
              "    </button>\n",
              "\n",
              "  <style>\n",
              "    .colab-df-container {\n",
              "      display:flex;\n",
              "      gap: 12px;\n",
              "    }\n",
              "\n",
              "    .colab-df-convert {\n",
              "      background-color: #E8F0FE;\n",
              "      border: none;\n",
              "      border-radius: 50%;\n",
              "      cursor: pointer;\n",
              "      display: none;\n",
              "      fill: #1967D2;\n",
              "      height: 32px;\n",
              "      padding: 0 0 0 0;\n",
              "      width: 32px;\n",
              "    }\n",
              "\n",
              "    .colab-df-convert:hover {\n",
              "      background-color: #E2EBFA;\n",
              "      box-shadow: 0px 1px 2px rgba(60, 64, 67, 0.3), 0px 1px 3px 1px rgba(60, 64, 67, 0.15);\n",
              "      fill: #174EA6;\n",
              "    }\n",
              "\n",
              "    .colab-df-buttons div {\n",
              "      margin-bottom: 4px;\n",
              "    }\n",
              "\n",
              "    [theme=dark] .colab-df-convert {\n",
              "      background-color: #3B4455;\n",
              "      fill: #D2E3FC;\n",
              "    }\n",
              "\n",
              "    [theme=dark] .colab-df-convert:hover {\n",
              "      background-color: #434B5C;\n",
              "      box-shadow: 0px 1px 3px 1px rgba(0, 0, 0, 0.15);\n",
              "      filter: drop-shadow(0px 1px 2px rgba(0, 0, 0, 0.3));\n",
              "      fill: #FFFFFF;\n",
              "    }\n",
              "  </style>\n",
              "\n",
              "    <script>\n",
              "      const buttonEl =\n",
              "        document.querySelector('#df-e65a7ad2-a884-4136-a526-8ac799b269e3 button.colab-df-convert');\n",
              "      buttonEl.style.display =\n",
              "        google.colab.kernel.accessAllowed ? 'block' : 'none';\n",
              "\n",
              "      async function convertToInteractive(key) {\n",
              "        const element = document.querySelector('#df-e65a7ad2-a884-4136-a526-8ac799b269e3');\n",
              "        const dataTable =\n",
              "          await google.colab.kernel.invokeFunction('convertToInteractive',\n",
              "                                                    [key], {});\n",
              "        if (!dataTable) return;\n",
              "\n",
              "        const docLinkHtml = 'Like what you see? Visit the ' +\n",
              "          '<a target=\"_blank\" href=https://colab.research.google.com/notebooks/data_table.ipynb>data table notebook</a>'\n",
              "          + ' to learn more about interactive tables.';\n",
              "        element.innerHTML = '';\n",
              "        dataTable['output_type'] = 'display_data';\n",
              "        await google.colab.output.renderOutput(dataTable, element);\n",
              "        const docLink = document.createElement('div');\n",
              "        docLink.innerHTML = docLinkHtml;\n",
              "        element.appendChild(docLink);\n",
              "      }\n",
              "    </script>\n",
              "  </div>\n",
              "\n",
              "\n",
              "<div id=\"df-7d699c35-86ef-40d3-ba0d-e559ff40570a\">\n",
              "  <button class=\"colab-df-quickchart\" onclick=\"quickchart('df-7d699c35-86ef-40d3-ba0d-e559ff40570a')\"\n",
              "            title=\"Suggest charts\"\n",
              "            style=\"display:none;\">\n",
              "\n",
              "<svg xmlns=\"http://www.w3.org/2000/svg\" height=\"24px\"viewBox=\"0 0 24 24\"\n",
              "     width=\"24px\">\n",
              "    <g>\n",
              "        <path d=\"M19 3H5c-1.1 0-2 .9-2 2v14c0 1.1.9 2 2 2h14c1.1 0 2-.9 2-2V5c0-1.1-.9-2-2-2zM9 17H7v-7h2v7zm4 0h-2V7h2v10zm4 0h-2v-4h2v4z\"/>\n",
              "    </g>\n",
              "</svg>\n",
              "  </button>\n",
              "\n",
              "<style>\n",
              "  .colab-df-quickchart {\n",
              "      --bg-color: #E8F0FE;\n",
              "      --fill-color: #1967D2;\n",
              "      --hover-bg-color: #E2EBFA;\n",
              "      --hover-fill-color: #174EA6;\n",
              "      --disabled-fill-color: #AAA;\n",
              "      --disabled-bg-color: #DDD;\n",
              "  }\n",
              "\n",
              "  [theme=dark] .colab-df-quickchart {\n",
              "      --bg-color: #3B4455;\n",
              "      --fill-color: #D2E3FC;\n",
              "      --hover-bg-color: #434B5C;\n",
              "      --hover-fill-color: #FFFFFF;\n",
              "      --disabled-bg-color: #3B4455;\n",
              "      --disabled-fill-color: #666;\n",
              "  }\n",
              "\n",
              "  .colab-df-quickchart {\n",
              "    background-color: var(--bg-color);\n",
              "    border: none;\n",
              "    border-radius: 50%;\n",
              "    cursor: pointer;\n",
              "    display: none;\n",
              "    fill: var(--fill-color);\n",
              "    height: 32px;\n",
              "    padding: 0;\n",
              "    width: 32px;\n",
              "  }\n",
              "\n",
              "  .colab-df-quickchart:hover {\n",
              "    background-color: var(--hover-bg-color);\n",
              "    box-shadow: 0 1px 2px rgba(60, 64, 67, 0.3), 0 1px 3px 1px rgba(60, 64, 67, 0.15);\n",
              "    fill: var(--button-hover-fill-color);\n",
              "  }\n",
              "\n",
              "  .colab-df-quickchart-complete:disabled,\n",
              "  .colab-df-quickchart-complete:disabled:hover {\n",
              "    background-color: var(--disabled-bg-color);\n",
              "    fill: var(--disabled-fill-color);\n",
              "    box-shadow: none;\n",
              "  }\n",
              "\n",
              "  .colab-df-spinner {\n",
              "    border: 2px solid var(--fill-color);\n",
              "    border-color: transparent;\n",
              "    border-bottom-color: var(--fill-color);\n",
              "    animation:\n",
              "      spin 1s steps(1) infinite;\n",
              "  }\n",
              "\n",
              "  @keyframes spin {\n",
              "    0% {\n",
              "      border-color: transparent;\n",
              "      border-bottom-color: var(--fill-color);\n",
              "      border-left-color: var(--fill-color);\n",
              "    }\n",
              "    20% {\n",
              "      border-color: transparent;\n",
              "      border-left-color: var(--fill-color);\n",
              "      border-top-color: var(--fill-color);\n",
              "    }\n",
              "    30% {\n",
              "      border-color: transparent;\n",
              "      border-left-color: var(--fill-color);\n",
              "      border-top-color: var(--fill-color);\n",
              "      border-right-color: var(--fill-color);\n",
              "    }\n",
              "    40% {\n",
              "      border-color: transparent;\n",
              "      border-right-color: var(--fill-color);\n",
              "      border-top-color: var(--fill-color);\n",
              "    }\n",
              "    60% {\n",
              "      border-color: transparent;\n",
              "      border-right-color: var(--fill-color);\n",
              "    }\n",
              "    80% {\n",
              "      border-color: transparent;\n",
              "      border-right-color: var(--fill-color);\n",
              "      border-bottom-color: var(--fill-color);\n",
              "    }\n",
              "    90% {\n",
              "      border-color: transparent;\n",
              "      border-bottom-color: var(--fill-color);\n",
              "    }\n",
              "  }\n",
              "</style>\n",
              "\n",
              "  <script>\n",
              "    async function quickchart(key) {\n",
              "      const quickchartButtonEl =\n",
              "        document.querySelector('#' + key + ' button');\n",
              "      quickchartButtonEl.disabled = true;  // To prevent multiple clicks.\n",
              "      quickchartButtonEl.classList.add('colab-df-spinner');\n",
              "      try {\n",
              "        const charts = await google.colab.kernel.invokeFunction(\n",
              "            'suggestCharts', [key], {});\n",
              "      } catch (error) {\n",
              "        console.error('Error during call to suggestCharts:', error);\n",
              "      }\n",
              "      quickchartButtonEl.classList.remove('colab-df-spinner');\n",
              "      quickchartButtonEl.classList.add('colab-df-quickchart-complete');\n",
              "    }\n",
              "    (() => {\n",
              "      let quickchartButtonEl =\n",
              "        document.querySelector('#df-7d699c35-86ef-40d3-ba0d-e559ff40570a button');\n",
              "      quickchartButtonEl.style.display =\n",
              "        google.colab.kernel.accessAllowed ? 'block' : 'none';\n",
              "    })();\n",
              "  </script>\n",
              "</div>\n",
              "\n",
              "  <div id=\"id_9fbf14dc-9301-42ff-8037-2a3216a2c146\">\n",
              "    <style>\n",
              "      .colab-df-generate {\n",
              "        background-color: #E8F0FE;\n",
              "        border: none;\n",
              "        border-radius: 50%;\n",
              "        cursor: pointer;\n",
              "        display: none;\n",
              "        fill: #1967D2;\n",
              "        height: 32px;\n",
              "        padding: 0 0 0 0;\n",
              "        width: 32px;\n",
              "      }\n",
              "\n",
              "      .colab-df-generate:hover {\n",
              "        background-color: #E2EBFA;\n",
              "        box-shadow: 0px 1px 2px rgba(60, 64, 67, 0.3), 0px 1px 3px 1px rgba(60, 64, 67, 0.15);\n",
              "        fill: #174EA6;\n",
              "      }\n",
              "\n",
              "      [theme=dark] .colab-df-generate {\n",
              "        background-color: #3B4455;\n",
              "        fill: #D2E3FC;\n",
              "      }\n",
              "\n",
              "      [theme=dark] .colab-df-generate:hover {\n",
              "        background-color: #434B5C;\n",
              "        box-shadow: 0px 1px 3px 1px rgba(0, 0, 0, 0.15);\n",
              "        filter: drop-shadow(0px 1px 2px rgba(0, 0, 0, 0.3));\n",
              "        fill: #FFFFFF;\n",
              "      }\n",
              "    </style>\n",
              "    <button class=\"colab-df-generate\" onclick=\"generateWithVariable('corr')\"\n",
              "            title=\"Generate code using this dataframe.\"\n",
              "            style=\"display:none;\">\n",
              "\n",
              "  <svg xmlns=\"http://www.w3.org/2000/svg\" height=\"24px\"viewBox=\"0 0 24 24\"\n",
              "       width=\"24px\">\n",
              "    <path d=\"M7,19H8.4L18.45,9,17,7.55,7,17.6ZM5,21V16.75L18.45,3.32a2,2,0,0,1,2.83,0l1.4,1.43a1.91,1.91,0,0,1,.58,1.4,1.91,1.91,0,0,1-.58,1.4L9.25,21ZM18.45,9,17,7.55Zm-12,3A5.31,5.31,0,0,0,4.9,8.1,5.31,5.31,0,0,0,1,6.5,5.31,5.31,0,0,0,4.9,4.9,5.31,5.31,0,0,0,6.5,1,5.31,5.31,0,0,0,8.1,4.9,5.31,5.31,0,0,0,12,6.5,5.46,5.46,0,0,0,6.5,12Z\"/>\n",
              "  </svg>\n",
              "    </button>\n",
              "    <script>\n",
              "      (() => {\n",
              "      const buttonEl =\n",
              "        document.querySelector('#id_9fbf14dc-9301-42ff-8037-2a3216a2c146 button.colab-df-generate');\n",
              "      buttonEl.style.display =\n",
              "        google.colab.kernel.accessAllowed ? 'block' : 'none';\n",
              "\n",
              "      buttonEl.onclick = () => {\n",
              "        google.colab.notebook.generateWithVariable('corr');\n",
              "      }\n",
              "      })();\n",
              "    </script>\n",
              "  </div>\n",
              "\n",
              "    </div>\n",
              "  </div>\n"
            ]
          },
          "metadata": {},
          "execution_count": 9
        }
      ],
      "source": [
        "#check for correlation among numerical variables in the dataframe\n",
        "num_var = ['cost_of_the_order', 'food_preparation_time', 'delivery_time']\n",
        "corr = df[num_var].corr()\n",
        "corr"
      ]
    },
    {
      "cell_type": "code",
      "source": [
        "# Plot the heatmap for numerical variables in the dataframe\n",
        "sns.heatmap(corr, annot = True,\n",
        "        xticklabels = corr.columns,\n",
        "        yticklabels = corr.columns)"
      ],
      "metadata": {
        "colab": {
          "base_uri": "https://localhost:8080/",
          "height": 597
        },
        "id": "w7JAZg5hJsQZ",
        "outputId": "05eb9574-324b-4be5-82aa-aa27ae35299f"
      },
      "execution_count": null,
      "outputs": [
        {
          "output_type": "execute_result",
          "data": {
            "text/plain": [
              "<Axes: >"
            ]
          },
          "metadata": {},
          "execution_count": 10
        },
        {
          "output_type": "display_data",
          "data": {
            "text/plain": [
              "<Figure size 640x480 with 2 Axes>"
            ],
            "image/png": "[encoded data removed]"
          },
          "metadata": {}
        }
      ]
    },
    {
      "cell_type": "code",
      "source": [
        "#Create boxplot to illustrate cost of the order and day of the week\n",
        "plt.figure(figsize=(15,5))\n",
        "sns.boxplot(data=df, x='cost_of_the_order', y='day_of_the_week')"
      ],
      "metadata": {
        "colab": {
          "base_uri": "https://localhost:8080/",
          "height": 483
        },
        "id": "nWZ-7lPmKY-z",
        "outputId": "9b773986-b5c5-4d66-b7ca-116d6f27fe52"
      },
      "execution_count": null,
      "outputs": [
        {
          "output_type": "execute_result",
          "data": {
            "text/plain": [
              "<Axes: xlabel='cost_of_the_order', ylabel='day_of_the_week'>"
            ]
          },
          "metadata": {},
          "execution_count": 43
        },
        {
          "output_type": "display_data",
          "data": {
            "text/plain": [
              "<Figure size 1500x500 with 1 Axes>"
            ],
            "image/png": "[encoded data removed]"
          },
          "metadata": {}
        }
      ]
    },
    {
      "cell_type": "code",
      "source": [
        "#Create a lineplot for ratings and the delivery times\n",
        "sns.lineplot(data=df, x='rating', y='delivery_time', errorbar=('ci',0))"
      ],
      "metadata": {
        "colab": {
          "base_uri": "https://localhost:8080/",
          "height": 467
        },
        "id": "dzZO22hyCY4t",
        "outputId": "8a1bbbfb-5795-4619-a89c-25f8685c121f"
      },
      "execution_count": null,
      "outputs": [
        {
          "output_type": "execute_result",
          "data": {
            "text/plain": [
              "<Axes: xlabel='rating', ylabel='delivery_time'>"
            ]
          },
          "metadata": {},
          "execution_count": 58
        },
        {
          "output_type": "display_data",
          "data": {
            "text/plain": [
              "<Figure size 640x480 with 1 Axes>"
            ],
            "image/png": "[encoded data removed]"
          },
          "metadata": {}
        }
      ]
    },
    {
      "cell_type": "code",
      "source": [
        "# importing library to create vissualizations through plotly\n",
        "import plotly.express as px"
      ],
      "metadata": {
        "id": "5fUp2AmxASHX"
      },
      "execution_count": null,
      "outputs": []
    },
    {
      "cell_type": "code",
      "source": [
        "#Create a plotly bar graph to display most popular cuisines (count of orders)\n",
        "bar = px.bar(df, x='cuisine_type', y='cost_of_the_order')\n",
        "bar.show()"
      ],
      "metadata": {
        "colab": {
          "base_uri": "https://localhost:8080/",
          "height": 542
        },
        "id": "5oMVuStMKpAI",
        "outputId": "7e2d5674-f705-4fab-a402-d8e278785f75"
      },
      "execution_count": null,
      "outputs": [
        {
          "output_type": "display_data",
          "data": {
            "text/html": [
              "<html>\n",
              "<head><meta charset=\"utf-8\" /></head>\n",
              "<body>\n",
              "    <div>            <script src=\"https://cdnjs.cloudflare.com/ajax/libs/mathjax/2.7.5/MathJax.js?config=TeX-AMS-MML_SVG\"></script><script type=\"text/javascript\">if (window.MathJax && window.MathJax.Hub && window.MathJax.Hub.Config) {window.MathJax.Hub.Config({SVG: {font: \"STIX-Web\"}});}</script>                <script type=\"text/javascript\">window.PlotlyConfig = {MathJaxConfig: 'local'};</script>\n",
              "        <script charset=\"utf-8\" src=\"https://cdn.plot.ly/plotly-2.24.1.min.js\"></script>                <div id=\"a387fba1-e882-47d1-9e30-6c304a46743a\" class=\"plotly-graph-div\" style=\"height:525px; width:100%;\"></div>            <script type=\"text/javascript\">                                    window.PLOTLYENV=window.PLOTLYENV || {};                                    if (document.getElementById(\"a387fba1-e882-47d1-9e30-6c304a46743a\")) {                    Plotly.newPlot(                        \"a387fba1-e882-47d1-9e30-6c304a46743a\",                        [{\"alignmentgroup\":\"True\",\"hovertemplate\":\"cuisine_type=%{x}\\u003cbr\\u003ecost_of_the_order=%{y}\\u003cextra\\u003e\\u003c\\u002fextra\\u003e\",\"legendgroup\":\"\",\"marker\":{\"color\":\"#636efa\",\"pattern\":{\"shape\":\"\"}},\"name\":\"\",\"offsetgroup\":\"\",\"orientation\":\"v\",\"showlegend\":false,\"textposition\":\"auto\",\"x\":[\"Korean\",\"Japanese\",\"Mexican\",\"American\",\"American\",\"Indian\",\"Italian\",\"Mediterranean\",\"Indian\",\"Indian\",\"Chinese\",\"Mexican\",\"American\",\"Mediterranean\",\"American\",\"American\",\"Japanese\",\"Japanese\",\"Chinese\",\"Japanese\",\"American\",\"American\",\"American\",\"Mexican\",\"Middle Eastern\",\"Middle Eastern\",\"Italian\",\"Italian\",\"Italian\",\"Japanese\",\"Indian\",\"Thai\",\"American\",\"Japanese\",\"Italian\",\"Japanese\",\"Japanese\",\"Italian\",\"Japanese\",\"American\",\"Mexican\",\"Japanese\",\"Chinese\",\"American\",\"American\",\"Italian\",\"American\",\"American\",\"American\",\"Southern\",\"Italian\",\"American\",\"Japanese\",\"Chinese\",\"Mediterranean\",\"Mediterranean\",\"Japanese\",\"Chinese\",\"Chinese\",\"American\",\"American\",\"Japanese\",\"Mexican\",\"American\",\"American\",\"American\",\"Chinese\",\"Japanese\",\"Italian\",\"American\",\"American\",\"American\",\"Italian\",\"Japanese\",\"Indian\",\"Italian\",\"Japanese\",\"Indian\",\"Chinese\",\"Chinese\",\"American\",\"American\",\"American\",\"Mexican\",\"Italian\",\"Mexican\",\"Japanese\",\"Italian\",\"Japanese\",\"Southern\",\"American\",\"Indian\",\"Chinese\",\"Mexican\",\"Chinese\",\"American\",\"American\",\"American\",\"American\",\"Mexican\",\"Italian\",\"American\",\"Japanese\",\"American\",\"Italian\",\"Japanese\",\"Japanese\",\"Chinese\",\"Italian\",\"Japanese\",\"American\",\"American\",\"American\",\"Italian\",\"Thai\",\"Japanese\",\"American\",\"American\",\"Japanese\",\"Japanese\",\"Italian\",\"American\",\"American\",\"American\",\"French\",\"Japanese\",\"Italian\",\"Italian\",\"Chinese\",\"American\",\"Chinese\",\"Chinese\",\"Italian\",\"Chinese\",\"Japanese\",\"Italian\",\"Japanese\",\"Chinese\",\"Spanish\",\"American\",\"American\",\"Japanese\",\"Thai\",\"Japanese\",\"Italian\",\"American\",\"Japanese\",\"American\",\"Italian\",\"Chinese\",\"American\",\"Japanese\",\"American\",\"American\",\"American\",\"Japanese\",\"Chinese\",\"Japanese\",\"Indian\",\"Japanese\",\"Indian\",\"American\",\"Italian\",\"Indian\",\"Italian\",\"Japanese\",\"Chinese\",\"American\",\"Italian\",\"Thai\",\"Mediterranean\",\"Middle Eastern\",\"American\",\"Chinese\",\"Italian\",\"Mediterranean\",\"Chinese\",\"American\",\"Italian\",\"Southern\",\"Italian\",\"Japanese\",\"Indian\",\"Italian\",\"Chinese\",\"Italian\",\"Chinese\",\"Mexican\",\"American\",\"American\",\"Japanese\",\"Japanese\",\"American\",\"Japanese\",\"Japanese\",\"American\",\"Italian\",\"Japanese\",\"American\",\"Chinese\",\"Southern\",\"American\",\"Italian\",\"American\",\"Chinese\",\"American\",\"American\",\"Mediterranean\",\"American\",\"American\",\"Japanese\",\"Japanese\",\"Chinese\",\"French\",\"Italian\",\"American\",\"Mexican\",\"American\",\"Chinese\",\"Chinese\",\"Japanese\",\"Chinese\",\"Chinese\",\"Indian\",\"Japanese\",\"American\",\"Japanese\",\"Japanese\",\"American\",\"American\",\"Italian\",\"Italian\",\"American\",\"Chinese\",\"Japanese\",\"Indian\",\"Mexican\",\"Japanese\",\"Indian\",\"American\",\"Japanese\",\"Japanese\",\"Japanese\",\"American\",\"Southern\",\"Italian\",\"Italian\",\"Chinese\",\"American\",\"Italian\",\"Italian\",\"Japanese\",\"American\",\"Japanese\",\"French\",\"Japanese\",\"Chinese\",\"Chinese\",\"Japanese\",\"American\",\"Italian\",\"Japanese\",\"American\",\"American\",\"American\",\"Italian\",\"Italian\",\"Indian\",\"Italian\",\"Italian\",\"Thai\",\"American\",\"Middle Eastern\",\"Japanese\",\"American\",\"American\",\"Chinese\",\"Italian\",\"Chinese\",\"Italian\",\"Japanese\",\"American\",\"Italian\",\"American\",\"Japanese\",\"Chinese\",\"Japanese\",\"Japanese\",\"American\",\"Japanese\",\"French\",\"American\",\"Chinese\",\"Mexican\",\"Italian\",\"American\",\"Chinese\",\"Chinese\",\"American\",\"Chinese\",\"Chinese\",\"Korean\",\"American\",\"American\",\"Italian\",\"Chinese\",\"American\",\"Italian\",\"Italian\",\"Italian\",\"Japanese\",\"American\",\"American\",\"Indian\",\"American\",\"American\",\"American\",\"American\",\"Mexican\",\"Mexican\",\"American\",\"Italian\",\"Italian\",\"American\",\"Japanese\",\"American\",\"Mexican\",\"American\",\"American\",\"Italian\",\"Japanese\",\"Indian\",\"American\",\"Mexican\",\"Chinese\",\"Mexican\",\"Japanese\",\"Southern\",\"American\",\"American\",\"American\",\"Chinese\",\"Italian\",\"Middle Eastern\",\"Japanese\",\"Japanese\",\"Chinese\",\"American\",\"American\",\"American\",\"American\",\"Italian\",\"Italian\",\"Italian\",\"Japanese\",\"Chinese\",\"American\",\"Japanese\",\"Japanese\",\"Japanese\",\"American\",\"American\",\"Chinese\",\"Middle Eastern\",\"Mediterranean\",\"Thai\",\"Japanese\",\"American\",\"American\",\"American\",\"Japanese\",\"American\",\"American\",\"Vietnamese\",\"Japanese\",\"Indian\",\"Chinese\",\"Southern\",\"American\",\"Japanese\",\"American\",\"American\",\"Japanese\",\"Mexican\",\"Italian\",\"American\",\"American\",\"Japanese\",\"Italian\",\"Chinese\",\"Mexican\",\"Chinese\",\"American\",\"Japanese\",\"Chinese\",\"American\",\"American\",\"American\",\"American\",\"American\",\"Spanish\",\"Italian\",\"American\",\"Middle Eastern\",\"American\",\"American\",\"Mediterranean\",\"American\",\"Japanese\",\"American\",\"American\",\"Italian\",\"American\",\"American\",\"Indian\",\"American\",\"Italian\",\"Japanese\",\"Italian\",\"American\",\"Mexican\",\"Chinese\",\"Japanese\",\"Chinese\",\"American\",\"Japanese\",\"Chinese\",\"American\",\"Mediterranean\",\"Middle Eastern\",\"Japanese\",\"American\",\"Italian\",\"Indian\",\"Japanese\",\"American\",\"Italian\",\"American\",\"American\",\"Italian\",\"Italian\",\"Italian\",\"Mexican\",\"Middle Eastern\",\"American\",\"Japanese\",\"Japanese\",\"Middle Eastern\",\"American\",\"Indian\",\"Japanese\",\"American\",\"Japanese\",\"American\",\"American\",\"American\",\"Japanese\",\"American\",\"Italian\",\"Chinese\",\"Indian\",\"Japanese\",\"Japanese\",\"Japanese\",\"Korean\",\"Mexican\",\"Chinese\",\"Mexican\",\"Japanese\",\"Japanese\",\"Japanese\",\"Middle Eastern\",\"Italian\",\"American\",\"Chinese\",\"Japanese\",\"Japanese\",\"Italian\",\"American\",\"Mexican\",\"Japanese\",\"Chinese\",\"Italian\",\"Japanese\",\"American\",\"Chinese\",\"Italian\",\"Italian\",\"Chinese\",\"Italian\",\"Japanese\",\"Italian\",\"Mediterranean\",\"Chinese\",\"Indian\",\"Japanese\",\"Japanese\",\"Japanese\",\"Japanese\",\"Japanese\",\"American\",\"American\",\"Mediterranean\",\"Japanese\",\"American\",\"Chinese\",\"American\",\"American\",\"American\",\"American\",\"American\",\"Japanese\",\"Thai\",\"Mexican\",\"Italian\",\"Japanese\",\"Thai\",\"American\",\"Japanese\",\"Chinese\",\"American\",\"Japanese\",\"Italian\",\"Japanese\",\"Mediterranean\",\"Japanese\",\"Japanese\",\"Japanese\",\"Italian\",\"Italian\",\"American\",\"Japanese\",\"American\",\"Italian\",\"Chinese\",\"Japanese\",\"Italian\",\"American\",\"Italian\",\"American\",\"American\",\"Italian\",\"American\",\"American\",\"Japanese\",\"Chinese\",\"American\",\"American\",\"Mexican\",\"Italian\",\"Japanese\",\"Italian\",\"French\",\"Japanese\",\"American\",\"American\",\"Middle Eastern\",\"Chinese\",\"American\",\"Indian\",\"Japanese\",\"Japanese\",\"Italian\",\"Chinese\",\"Chinese\",\"Japanese\",\"Chinese\",\"Italian\",\"Japanese\",\"Thai\",\"Italian\",\"Japanese\",\"Mediterranean\",\"Mediterranean\",\"Italian\",\"American\",\"Japanese\",\"American\",\"Italian\",\"American\",\"American\",\"American\",\"Chinese\",\"Middle Eastern\",\"Japanese\",\"Japanese\",\"Italian\",\"Indian\",\"Japanese\",\"Chinese\",\"Mediterranean\",\"Chinese\",\"American\",\"Thai\",\"Japanese\",\"Italian\",\"Italian\",\"Japanese\",\"Italian\",\"Japanese\",\"Japanese\",\"Indian\",\"Chinese\",\"Chinese\",\"American\",\"American\",\"Chinese\",\"Indian\",\"American\",\"Indian\",\"Chinese\",\"American\",\"Chinese\",\"Italian\",\"Italian\",\"Italian\",\"Chinese\",\"American\",\"Middle Eastern\",\"Thai\",\"Chinese\",\"Japanese\",\"Southern\",\"American\",\"Japanese\",\"Chinese\",\"American\",\"American\",\"American\",\"American\",\"Japanese\",\"Chinese\",\"Mexican\",\"Mediterranean\",\"American\",\"Mediterranean\",\"Japanese\",\"Japanese\",\"Japanese\",\"Japanese\",\"Vietnamese\",\"Italian\",\"American\",\"Japanese\",\"Italian\",\"American\",\"Chinese\",\"American\",\"Italian\",\"American\",\"Middle Eastern\",\"Southern\",\"American\",\"Korean\",\"Mexican\",\"Chinese\",\"Italian\",\"American\",\"Chinese\",\"Japanese\",\"Mexican\",\"Mediterranean\",\"American\",\"Japanese\",\"Japanese\",\"American\",\"Mexican\",\"Spanish\",\"Italian\",\"American\",\"Korean\",\"Indian\",\"American\",\"Chinese\",\"American\",\"Japanese\",\"Italian\",\"Italian\",\"Chinese\",\"American\",\"American\",\"Chinese\",\"Italian\",\"American\",\"American\",\"Japanese\",\"Japanese\",\"Japanese\",\"American\",\"Italian\",\"Italian\",\"American\",\"Japanese\",\"Italian\",\"Mexican\",\"Chinese\",\"American\",\"Mexican\",\"Japanese\",\"Italian\",\"Japanese\",\"Japanese\",\"Japanese\",\"American\",\"Mediterranean\",\"American\",\"Chinese\",\"American\",\"Japanese\",\"American\",\"American\",\"Mexican\",\"American\",\"American\",\"American\",\"Japanese\",\"Italian\",\"Chinese\",\"American\",\"Japanese\",\"American\",\"Indian\",\"Japanese\",\"American\",\"Mexican\",\"Chinese\",\"Mexican\",\"Italian\",\"Italian\",\"Chinese\",\"American\",\"Japanese\",\"Italian\",\"Italian\",\"Chinese\",\"American\",\"American\",\"American\",\"Chinese\",\"Japanese\",\"Japanese\",\"American\",\"Italian\",\"Italian\",\"American\",\"Indian\",\"Vietnamese\",\"Korean\",\"Japanese\",\"Italian\",\"Italian\",\"Chinese\",\"Japanese\",\"Japanese\",\"Japanese\",\"Chinese\",\"Chinese\",\"Indian\",\"Japanese\",\"Middle Eastern\",\"Japanese\",\"American\",\"Chinese\",\"Japanese\",\"Italian\",\"Japanese\",\"Japanese\",\"Japanese\",\"American\",\"Middle Eastern\",\"Mexican\",\"American\",\"American\",\"Japanese\",\"American\",\"American\",\"American\",\"Italian\",\"American\",\"Southern\",\"Italian\",\"Italian\",\"Japanese\",\"Italian\",\"American\",\"Indian\",\"American\",\"American\",\"Italian\",\"Japanese\",\"Chinese\",\"Japanese\",\"Italian\",\"Japanese\",\"Japanese\",\"Japanese\",\"Japanese\",\"Japanese\",\"Italian\",\"Japanese\",\"Japanese\",\"American\",\"Chinese\",\"Italian\",\"Japanese\",\"American\",\"Italian\",\"American\",\"Japanese\",\"American\",\"Chinese\",\"American\",\"Japanese\",\"American\",\"Italian\",\"American\",\"Middle Eastern\",\"American\",\"American\",\"Japanese\",\"Italian\",\"Japanese\",\"Japanese\",\"American\",\"American\",\"American\",\"Chinese\",\"Southern\",\"Japanese\",\"Mexican\",\"Japanese\",\"American\",\"Japanese\",\"Japanese\",\"Japanese\",\"French\",\"Japanese\",\"Japanese\",\"Chinese\",\"Japanese\",\"Chinese\",\"Mediterranean\",\"American\",\"Mediterranean\",\"Italian\",\"American\",\"American\",\"Japanese\",\"American\",\"American\",\"American\",\"American\",\"Korean\",\"Italian\",\"American\",\"Indian\",\"Japanese\",\"Italian\",\"Mediterranean\",\"Japanese\",\"American\",\"American\",\"American\",\"Japanese\",\"American\",\"Chinese\",\"Japanese\",\"American\",\"Japanese\",\"Japanese\",\"American\",\"Mexican\",\"Italian\",\"Indian\",\"Japanese\",\"Japanese\",\"American\",\"Italian\",\"Italian\",\"Japanese\",\"Japanese\",\"Indian\",\"Japanese\",\"Japanese\",\"Chinese\",\"Japanese\",\"Italian\",\"Middle Eastern\",\"American\",\"American\",\"Italian\",\"Japanese\",\"Japanese\",\"American\",\"Chinese\",\"Chinese\",\"Italian\",\"Thai\",\"Chinese\",\"American\",\"American\",\"American\",\"Japanese\",\"Italian\",\"American\",\"Indian\",\"Chinese\",\"Japanese\",\"Italian\",\"American\",\"Middle Eastern\",\"Japanese\",\"Japanese\",\"Japanese\",\"Italian\",\"Indian\",\"American\",\"Italian\",\"Chinese\",\"Chinese\",\"Indian\",\"Japanese\",\"Chinese\",\"Japanese\",\"Mexican\",\"Middle Eastern\",\"Japanese\",\"American\",\"Japanese\",\"Indian\",\"Chinese\",\"Japanese\",\"Japanese\",\"Japanese\",\"Italian\",\"American\",\"Italian\",\"Japanese\",\"Chinese\",\"American\",\"Chinese\",\"American\",\"Middle Eastern\",\"Southern\",\"Japanese\",\"Japanese\",\"American\",\"Japanese\",\"Chinese\",\"American\",\"Chinese\",\"Chinese\",\"Japanese\",\"American\",\"American\",\"American\",\"American\",\"Japanese\",\"Chinese\",\"Japanese\",\"Italian\",\"American\",\"Mexican\",\"Mexican\",\"Mediterranean\",\"Japanese\",\"Thai\",\"American\",\"Italian\",\"American\",\"Chinese\",\"Chinese\",\"Japanese\",\"American\",\"Italian\",\"American\",\"Mediterranean\",\"Japanese\",\"Italian\",\"American\",\"American\",\"Italian\",\"Japanese\",\"Japanese\",\"Indian\",\"American\",\"American\",\"American\",\"American\",\"American\",\"American\",\"Japanese\",\"American\",\"Italian\",\"Japanese\",\"Japanese\",\"American\",\"American\",\"Middle Eastern\",\"Japanese\",\"Japanese\",\"Japanese\",\"American\",\"Italian\",\"American\",\"Southern\",\"Italian\",\"Japanese\",\"Japanese\",\"American\",\"Italian\",\"Japanese\",\"American\",\"Japanese\",\"Italian\",\"Japanese\",\"Japanese\",\"Chinese\",\"American\",\"Italian\",\"Indian\",\"Japanese\",\"American\",\"Mexican\",\"American\",\"Indian\",\"Italian\",\"American\",\"Mediterranean\",\"Italian\",\"Mexican\",\"Indian\",\"American\",\"American\",\"Japanese\",\"Japanese\",\"Italian\",\"Japanese\",\"Japanese\",\"Japanese\",\"Italian\",\"Japanese\",\"Italian\",\"Japanese\",\"Italian\",\"Indian\",\"Japanese\",\"Japanese\",\"Italian\",\"American\",\"Japanese\",\"American\",\"American\",\"Chinese\",\"Italian\",\"Middle Eastern\",\"Japanese\",\"Italian\",\"Japanese\",\"Mexican\",\"Italian\",\"Japanese\",\"Japanese\",\"Italian\",\"Japanese\",\"American\",\"Chinese\",\"American\",\"Japanese\",\"Indian\",\"Japanese\",\"American\",\"Japanese\",\"Middle Eastern\",\"American\",\"American\",\"Japanese\",\"Italian\",\"Indian\",\"American\",\"American\",\"Japanese\",\"American\",\"American\",\"Japanese\",\"Chinese\",\"American\",\"Chinese\",\"Middle Eastern\",\"American\",\"Japanese\",\"American\",\"Italian\",\"Italian\",\"Middle Eastern\",\"Indian\",\"American\",\"American\",\"Middle Eastern\",\"Japanese\",\"Italian\",\"Japanese\",\"Japanese\",\"Mexican\",\"American\",\"Indian\",\"Japanese\",\"American\",\"Japanese\",\"Japanese\",\"Chinese\",\"Italian\",\"Italian\",\"Chinese\",\"Japanese\",\"Italian\",\"Italian\",\"Italian\",\"American\",\"Chinese\",\"Chinese\",\"Japanese\",\"Japanese\",\"Indian\",\"American\",\"Italian\",\"Mexican\",\"Italian\",\"American\",\"Korean\",\"Italian\",\"American\",\"Mediterranean\",\"Japanese\",\"Japanese\",\"American\",\"Chinese\",\"Japanese\",\"Spanish\",\"Italian\",\"Japanese\",\"American\",\"Japanese\",\"Italian\",\"Chinese\",\"American\",\"American\",\"Japanese\",\"Mediterranean\",\"Japanese\",\"American\",\"Italian\",\"American\",\"American\",\"American\",\"Japanese\",\"Italian\",\"American\",\"American\",\"Japanese\",\"Japanese\",\"French\",\"American\",\"American\",\"Vietnamese\",\"Japanese\",\"Japanese\",\"Chinese\",\"American\",\"Chinese\",\"Italian\",\"Indian\",\"American\",\"Chinese\",\"Japanese\",\"American\",\"Japanese\",\"Japanese\",\"Mexican\",\"American\",\"Italian\",\"American\",\"American\",\"American\",\"Japanese\",\"Japanese\",\"Japanese\",\"American\",\"American\",\"Italian\",\"Vietnamese\",\"Japanese\",\"American\",\"American\",\"Japanese\",\"Japanese\",\"Japanese\",\"Italian\",\"Italian\",\"Southern\",\"Indian\",\"Japanese\",\"American\",\"Japanese\",\"Japanese\",\"American\",\"American\",\"American\",\"American\",\"Japanese\",\"Mediterranean\",\"Japanese\",\"American\",\"American\",\"Indian\",\"American\",\"American\",\"Italian\",\"Japanese\",\"Italian\",\"American\",\"Indian\",\"Chinese\",\"American\",\"Indian\",\"American\",\"Japanese\",\"Italian\",\"American\",\"Chinese\",\"Indian\",\"Japanese\",\"Chinese\",\"American\",\"Japanese\",\"American\",\"Italian\",\"Indian\",\"American\",\"Japanese\",\"American\",\"Middle Eastern\",\"Chinese\",\"Japanese\",\"Chinese\",\"American\",\"Middle Eastern\",\"Chinese\",\"Italian\",\"Mexican\",\"American\",\"Middle Eastern\",\"Japanese\",\"Japanese\",\"Indian\",\"Korean\",\"American\",\"Japanese\",\"American\",\"Mexican\",\"Japanese\",\"American\",\"Japanese\",\"American\",\"American\",\"American\",\"Japanese\",\"American\",\"American\",\"Japanese\",\"Italian\",\"American\",\"Vietnamese\",\"Japanese\",\"Thai\",\"American\",\"Italian\",\"Japanese\",\"American\",\"Italian\",\"American\",\"American\",\"Japanese\",\"Chinese\",\"American\",\"Middle Eastern\",\"Japanese\",\"American\",\"American\",\"American\",\"Italian\",\"Japanese\",\"Japanese\",\"Japanese\",\"Thai\",\"American\",\"Italian\",\"Japanese\",\"Japanese\",\"American\",\"Italian\",\"Italian\",\"Mediterranean\",\"American\",\"Middle Eastern\",\"Japanese\",\"American\",\"Japanese\",\"American\",\"American\",\"Spanish\",\"American\",\"Japanese\",\"American\",\"Thai\",\"Italian\",\"American\",\"Japanese\",\"Japanese\",\"Italian\",\"French\",\"Japanese\",\"Mexican\",\"French\",\"Japanese\",\"Japanese\",\"Japanese\",\"Japanese\",\"American\",\"Chinese\",\"Indian\",\"American\",\"Japanese\",\"Thai\",\"American\",\"Italian\",\"Japanese\",\"American\",\"Middle Eastern\",\"Mexican\",\"Japanese\",\"Chinese\",\"Chinese\",\"Southern\",\"American\",\"American\",\"Chinese\",\"Italian\",\"Middle Eastern\",\"American\",\"Indian\",\"Italian\",\"American\",\"Japanese\",\"American\",\"Japanese\",\"Mexican\",\"Japanese\",\"Chinese\",\"American\",\"Japanese\",\"Japanese\",\"Japanese\",\"Japanese\",\"Italian\",\"Mediterranean\",\"Italian\",\"American\",\"Japanese\",\"Mexican\",\"Mexican\",\"American\",\"American\",\"Japanese\",\"Japanese\",\"American\",\"American\",\"Chinese\",\"Chinese\",\"Japanese\",\"Japanese\",\"Japanese\",\"American\",\"American\",\"Chinese\",\"Japanese\",\"Italian\",\"Mexican\",\"American\",\"American\",\"Italian\",\"Mediterranean\",\"American\",\"American\",\"Chinese\",\"Italian\",\"Chinese\",\"Japanese\",\"American\",\"American\",\"Mexican\",\"American\",\"Chinese\",\"American\",\"American\",\"American\",\"American\",\"Chinese\",\"Japanese\",\"American\",\"American\",\"Italian\",\"Middle Eastern\",\"Chinese\",\"American\",\"Mediterranean\",\"Middle Eastern\",\"Thai\",\"Mexican\",\"Chinese\",\"American\",\"American\",\"Japanese\",\"American\",\"American\",\"Japanese\",\"Italian\",\"Japanese\",\"Japanese\",\"American\",\"Japanese\",\"Chinese\",\"American\",\"American\",\"French\",\"Chinese\",\"American\",\"Mexican\",\"Chinese\",\"Italian\",\"Italian\",\"Italian\",\"Japanese\",\"Italian\",\"American\",\"Italian\",\"Japanese\",\"Italian\",\"American\",\"Korean\",\"Chinese\",\"American\",\"American\",\"Spanish\",\"Japanese\",\"Japanese\",\"Italian\",\"Middle Eastern\",\"Italian\",\"Japanese\",\"Italian\",\"French\",\"Mexican\",\"Chinese\",\"Mexican\",\"Japanese\",\"American\",\"Italian\",\"Mexican\",\"Italian\",\"Japanese\",\"Korean\",\"Mexican\",\"American\",\"Japanese\",\"Middle Eastern\",\"American\",\"Chinese\",\"Mexican\",\"American\",\"Japanese\",\"Italian\",\"Italian\",\"French\",\"Italian\",\"Italian\",\"Japanese\",\"Japanese\",\"American\",\"American\",\"Indian\",\"Italian\",\"American\",\"Italian\",\"Japanese\",\"Japanese\",\"Mediterranean\",\"Spanish\",\"Italian\",\"Italian\",\"American\",\"Italian\",\"Italian\",\"Spanish\",\"Italian\",\"American\",\"American\",\"Chinese\",\"Japanese\",\"Chinese\",\"Japanese\",\"Italian\",\"Italian\",\"Spanish\",\"Japanese\",\"American\",\"Italian\",\"Italian\",\"Japanese\",\"American\",\"American\",\"Japanese\",\"Chinese\",\"American\",\"Mediterranean\",\"American\",\"American\",\"Thai\",\"Mediterranean\",\"American\",\"Japanese\",\"Italian\",\"Japanese\",\"Indian\",\"Japanese\",\"French\",\"Italian\",\"Italian\",\"Japanese\",\"Italian\",\"Japanese\",\"Chinese\",\"American\",\"American\",\"Italian\",\"Mexican\",\"American\",\"American\",\"American\",\"American\",\"Korean\",\"American\",\"Mexican\",\"Chinese\",\"Vietnamese\",\"Japanese\",\"American\",\"Spanish\",\"American\",\"Japanese\",\"Japanese\",\"Japanese\",\"Italian\",\"Mediterranean\",\"Indian\",\"Italian\",\"Chinese\",\"Japanese\",\"Chinese\",\"Chinese\",\"American\",\"American\",\"Italian\",\"Italian\",\"Chinese\",\"Japanese\",\"Japanese\",\"Japanese\",\"American\",\"Italian\",\"American\",\"Spanish\",\"American\",\"Middle Eastern\",\"Chinese\",\"American\",\"Italian\",\"Japanese\",\"Japanese\",\"Japanese\",\"American\",\"Japanese\",\"American\",\"American\",\"Chinese\",\"Italian\",\"American\",\"American\",\"Indian\",\"American\",\"Chinese\",\"American\",\"American\",\"American\",\"American\",\"Mexican\",\"American\",\"Chinese\",\"Japanese\",\"American\",\"French\",\"Mexican\",\"American\",\"Indian\",\"American\",\"American\",\"Chinese\",\"Japanese\",\"American\",\"Japanese\",\"American\",\"Italian\",\"Japanese\",\"Italian\",\"Indian\",\"Japanese\",\"American\",\"Italian\",\"American\",\"Middle Eastern\",\"Japanese\",\"American\",\"Chinese\",\"Japanese\",\"Middle Eastern\",\"Japanese\",\"American\",\"American\",\"Italian\",\"Japanese\",\"American\",\"Italian\",\"Japanese\",\"Japanese\",\"Chinese\",\"American\",\"Chinese\",\"American\",\"Italian\",\"American\",\"Japanese\",\"Japanese\",\"Japanese\",\"American\",\"Japanese\",\"American\",\"Italian\",\"American\",\"American\",\"Japanese\",\"Mediterranean\",\"American\",\"Middle Eastern\",\"Indian\",\"American\",\"Japanese\",\"Mexican\",\"American\",\"American\",\"American\",\"American\",\"Mexican\",\"Italian\",\"Italian\",\"Chinese\",\"Mediterranean\",\"Italian\",\"Japanese\",\"American\",\"Japanese\",\"Japanese\",\"American\",\"American\",\"Chinese\",\"Japanese\",\"American\",\"Japanese\",\"Italian\",\"American\",\"Japanese\",\"Italian\",\"Spanish\",\"Italian\",\"Japanese\",\"Chinese\",\"Japanese\",\"Italian\",\"Italian\",\"Japanese\",\"American\",\"Mediterranean\",\"Mediterranean\",\"Italian\",\"Indian\",\"Southern\",\"Italian\",\"Japanese\",\"American\",\"Italian\",\"Mexican\",\"Italian\",\"Italian\",\"Chinese\",\"Italian\",\"Japanese\",\"Japanese\",\"Italian\",\"American\",\"Chinese\",\"Japanese\",\"Chinese\",\"Chinese\",\"Mediterranean\",\"Italian\",\"Chinese\",\"Chinese\",\"Italian\",\"American\",\"Japanese\",\"Chinese\",\"Chinese\",\"American\",\"American\",\"American\",\"Middle Eastern\",\"Indian\",\"Indian\",\"Italian\",\"American\",\"French\",\"Chinese\",\"Japanese\",\"American\",\"Chinese\",\"American\",\"Chinese\",\"American\",\"Chinese\",\"Italian\",\"Italian\",\"Chinese\",\"American\",\"Indian\",\"Italian\",\"Chinese\",\"American\",\"American\",\"Japanese\",\"Italian\",\"Japanese\",\"American\",\"American\",\"Japanese\",\"American\",\"Japanese\",\"Chinese\",\"Japanese\",\"Indian\",\"Middle Eastern\",\"American\",\"Chinese\",\"Japanese\",\"American\",\"Chinese\",\"Chinese\",\"Middle Eastern\",\"American\",\"Mexican\",\"Japanese\",\"Middle Eastern\",\"French\",\"American\",\"Japanese\",\"American\",\"Japanese\",\"American\",\"Mediterranean\",\"Japanese\",\"Chinese\",\"Italian\",\"Japanese\",\"Japanese\",\"Chinese\",\"Japanese\",\"American\",\"American\",\"Middle Eastern\",\"American\",\"French\",\"Japanese\",\"American\",\"American\",\"American\",\"Middle Eastern\",\"Italian\",\"Italian\",\"American\",\"Mexican\",\"Italian\",\"American\",\"Mediterranean\",\"American\",\"Japanese\",\"American\",\"American\",\"Mexican\",\"Japanese\",\"American\",\"Mexican\",\"American\",\"Italian\",\"Chinese\",\"Japanese\",\"American\",\"Japanese\",\"American\",\"Japanese\",\"Japanese\",\"Chinese\",\"American\",\"Japanese\",\"Japanese\",\"American\",\"French\",\"Mexican\",\"Italian\",\"Japanese\",\"Indian\",\"Italian\",\"Chinese\",\"American\",\"Italian\",\"Japanese\",\"American\",\"Chinese\",\"Japanese\",\"Chinese\",\"Japanese\",\"Italian\",\"Japanese\",\"Italian\",\"American\",\"American\",\"Mediterranean\",\"Japanese\",\"Chinese\",\"American\",\"Italian\",\"Japanese\",\"Korean\",\"American\",\"Japanese\",\"American\",\"Japanese\",\"Italian\",\"Japanese\",\"Chinese\",\"Japanese\",\"Chinese\",\"American\",\"American\",\"Japanese\",\"American\",\"American\",\"American\",\"Southern\",\"Italian\",\"American\",\"Japanese\",\"Japanese\",\"American\",\"American\",\"American\",\"American\",\"American\",\"American\",\"American\",\"American\",\"Italian\",\"Chinese\",\"Japanese\",\"American\",\"Chinese\",\"Mexican\",\"American\",\"Japanese\",\"Mediterranean\",\"Japanese\"],\"xaxis\":\"x\",\"y\":[30.75,12.08,12.23,29.2,11.59,25.22,6.07,5.97,16.44,7.18,5.92,8.1,24.3,11.3,12.13,16.2,16.98,33.03,14.12,16.2,24.2,15.91,29.1,8.92,15.86,29.1,21.88,14.02,9.17,12.18,31.33,29.05,8.39,9.12,29.1,15.47,16.01,24.3,29.83,19.89,19.35,33.22,24.25,16.44,22.75,6.74,29.05,13.78,19.89,16.93,21.88,29.39,20.23,29.1,22.75,14.12,14.6,12.23,14.02,6.79,24.25,33.03,31.38,8.34,33.03,24.2,12.46,15.86,14.55,32.93,16.98,8.0,13.05,29.05,5.67,16.93,29.29,16.15,22.75,13.34,9.75,6.69,4.75,12.56,21.2,19.31,16.3,13.05,25.27,14.79,5.72,16.15,33.03,16.2,9.22,16.39,12.18,24.2,17.03,6.79,21.83,31.29,11.83,24.3,22.26,20.47,12.18,15.81,22.36,8.68,21.83,16.3,12.9,29.15,13.05,22.36,31.29,7.86,16.1,16.98,12.95,11.69,12.13,12.32,12.13,12.18,14.99,6.74,24.3,10.38,6.79,25.27,14.99,29.05,9.65,29.2,5.77,32.93,12.13,12.08,11.59,9.56,24.2,29.34,11.16,24.25,29.2,14.07,19.35,16.1,22.8,15.23,33.03,12.95,16.49,29.05,31.33,16.01,14.07,8.83,33.03,16.25,22.36,16.83,8.0,16.01,16.01,10.24,19.4,19.35,13.97,13.0,13.05,8.49,22.8,20.18,19.59,19.4,17.03,16.11,14.6,12.27,22.26,6.79,14.12,29.15,12.18,25.22,13.39,9.02,29.15,13.0,15.33,14.55,31.43,33.03,15.91,12.18,19.35,19.35,29.35,15.28,12.23,9.6,12.95,8.88,15.96,15.47,12.23,8.05,8.54,29.15,7.23,19.69,12.13,16.49,12.08,9.27,24.25,5.67,14.12,33.03,8.97,8.88,12.13,11.64,31.43,13.15,14.02,9.41,9.07,14.07,14.46,6.7,14.07,19.45,13.97,12.22,29.25,17.03,16.05,17.08,11.3,32.98,29.15,13.0,13.73,12.23,16.25,24.2,14.31,19.4,14.12,14.7,15.52,8.97,29.2,11.64,11.64,19.4,29.1,14.02,6.11,12.23,12.18,24.2,12.18,17.03,22.26,19.45,21.93,15.76,9.46,12.61,22.85,12.18,12.61,12.13,12.13,8.54,19.35,12.18,22.8,12.13,19.45,12.13,12.18,12.13,12.56,24.3,29.15,16.06,24.3,9.6,19.4,29.1,12.18,21.39,24.25,32.93,14.07,8.25,19.4,12.18,14.94,14.26,8.54,12.18,29.1,12.56,9.17,16.2,14.12,5.72,21.34,6.79,12.18,12.18,6.11,14.16,5.68,12.27,20.18,14.02,16.2,15.57,14.45,8.15,29.25,8.78,15.96,8.59,15.62,13.0,12.23,25.22,5.87,24.2,19.45,12.18,6.01,21.93,5.92,24.2,15.76,6.11,5.72,19.4,8.49,32.93,12.23,9.17,11.69,24.2,9.85,25.22,22.75,6.84,24.3,19.35,12.13,9.02,12.18,9.17,19.4,6.69,5.82,12.08,15.76,33.03,24.25,12.13,5.72,7.96,14.02,14.07,21.83,29.15,22.26,5.82,29.1,13.39,9.7,22.36,12.13,6.07,24.3,8.78,24.25,20.18,4.85,6.06,6.84,13.05,5.92,12.13,12.18,29.15,8.1,7.23,12.66,12.23,9.07,6.02,14.12,21.93,16.15,7.08,32.93,12.13,15.57,29.15,15.47,12.37,16.49,24.3,14.84,25.27,17.08,22.31,12.08,12.61,13.1,12.13,8.25,16.39,14.75,12.66,9.07,16.15,29.29,20.47,11.59,24.35,16.44,5.92,14.12,5.92,13.0,21.83,16.15,12.23,24.3,29.05,15.76,8.1,12.18,25.17,20.23,9.12,12.18,20.23,24.25,16.2,9.12,9.75,31.38,24.3,19.35,14.16,9.26,32.98,12.18,9.55,6.74,14.07,14.02,5.92,12.46,29.2,15.76,9.22,8.88,13.92,29.34,22.36,5.77,12.13,6.69,15.57,4.66,19.35,8.78,9.17,29.1,5.77,24.25,9.41,29.15,15.57,11.59,16.3,12.18,12.08,17.03,8.54,6.74,32.93,12.18,12.23,14.94,12.95,25.17,13.87,24.3,14.16,25.17,31.43,13.0,24.2,12.66,6.84,15.86,9.75,7.61,29.05,22.31,15.72,25.22,24.3,8.35,22.85,29.15,19.35,32.93,14.21,15.86,15.28,12.13,22.36,5.68,29.15,22.8,19.45,15.52,25.27,32.93,24.2,24.2,14.65,12.08,5.77,4.71,8.78,12.23,12.23,29.15,13.1,22.26,12.56,13.05,13.92,21.39,29.25,12.18,12.18,12.66,12.18,8.63,12.18,14.12,16.93,6.79,29.2,14.02,25.17,12.61,13.68,11.93,13.97,14.02,8.1,12.18,35.41,8.78,16.25,6.64,15.86,17.03,24.2,8.25,12.08,12.13,16.49,6.79,10.72,19.35,8.73,9.65,16.78,12.61,24.25,11.16,20.18,32.93,15.86,12.13,13.87,14.12,24.25,14.07,5.58,13.63,15.52,8.73,25.27,29.54,9.22,15.33,12.13,14.02,8.39,12.13,16.49,9.22,19.35,22.8,29.49,16.93,29.1,15.04,11.59,31.43,18.24,4.47,8.98,29.39,15.71,29.1,8.39,8.93,13.0,16.06,6.69,16.1,6.69,9.51,12.08,5.82,9.41,14.07,22.8,12.23,15.91,9.61,8.0,12.08,12.08,14.12,21.93,15.91,7.38,21.39,29.25,13.19,15.57,19.45,25.17,19.35,12.61,12.13,12.08,12.08,9.51,4.85,14.07,29.1,25.22,31.33,17.03,12.23,6.07,10.82,9.51,8.73,12.23,32.98,19.35,19.45,6.26,12.61,13.1,14.07,15.57,13.05,16.44,8.54,12.13,33.03,5.92,32.98,16.25,29.1,12.08,8.25,8.2,22.36,16.44,24.3,8.63,9.02,12.08,15.76,21.88,5.77,32.98,29.1,14.12,11.59,9.75,12.18,15.57,24.25,31.38,15.76,24.25,29.1,12.08,12.13,15.86,14.07,24.25,13.73,12.18,29.05,32.98,6.69,24.3,7.33,9.12,12.13,32.98,14.65,31.33,9.65,12.95,21.34,19.4,6.69,12.13,15.91,5.77,12.23,12.23,12.18,11.64,22.26,14.07,16.49,9.65,12.23,12.18,12.13,12.95,19.4,29.1,29.15,31.43,16.15,8.97,15.28,10.24,29.1,12.9,29.05,19.35,12.71,24.3,12.08,29.25,13.05,25.22,12.95,16.06,29.05,5.63,19.4,25.17,25.22,14.84,6.69,22.36,15.28,8.2,22.31,12.23,12.18,12.61,14.12,14.07,12.18,17.07,12.18,8.83,14.31,25.22,14.65,12.71,21.88,12.95,8.63,21.83,5.48,22.36,12.13,12.18,12.18,12.18,22.12,33.03,16.1,22.26,19.45,15.77,14.7,14.07,13.73,12.61,8.34,12.18,29.15,24.25,12.32,15.96,6.45,24.3,12.56,22.31,15.52,6.74,6.02,6.74,11.79,29.05,19.35,11.98,11.69,16.44,20.32,14.02,9.07,5.92,15.52,22.31,28.57,24.25,12.08,22.07,21.29,16.49,25.27,11.64,12.61,13.0,31.43,25.17,9.12,31.43,29.05,31.33,24.25,12.37,24.25,29.05,5.63,9.51,15.76,11.64,12.13,14.99,12.18,12.66,12.08,15.52,20.18,31.43,12.18,8.05,14.41,12.23,13.0,24.2,14.75,5.77,13.0,29.05,12.23,29.88,20.23,4.8,14.84,24.25,12.18,10.14,12.13,14.12,11.3,32.93,24.2,8.44,24.25,31.43,9.46,15.81,12.18,29.25,6.84,12.66,12.18,33.03,16.3,12.95,25.27,6.74,21.88,32.98,16.98,11.59,12.18,24.2,16.54,9.27,24.3,12.18,12.13,29.1,12.37,12.13,18.24,12.13,12.08,6.79,12.13,29.49,13.05,15.77,22.26,9.02,7.71,14.65,22.31,5.72,6.69,29.78,16.01,15.96,14.07,24.25,14.84,22.85,20.23,14.6,15.52,8.98,19.4,13.0,5.82,16.06,5.82,13.05,9.22,8.35,25.17,29.05,8.49,6.74,24.2,12.18,19.4,14.07,31.86,12.56,14.07,5.82,19.98,14.07,14.12,12.42,12.13,19.45,12.18,6.69,13.97,5.72,13.1,6.07,12.56,14.07,12.52,21.93,25.27,22.75,12.18,15.38,12.66,25.17,24.25,14.02,31.33,9.7,33.03,24.2,16.15,21.93,9.41,14.12,14.55,33.03,13.0,25.17,5.97,13.0,12.66,14.12,8.3,17.03,14.02,24.2,16.01,25.22,19.45,12.08,24.25,16.98,13.0,13.24,29.39,11.59,12.13,24.2,15.86,12.95,15.86,14.84,5.77,22.8,29.25,22.36,22.26,8.01,16.3,31.43,12.13,8.05,19.4,19.35,16.15,16.05,24.25,9.07,13.05,12.13,24.35,16.01,5.82,16.15,29.68,12.18,12.56,16.1,21.93,5.77,6.02,6.74,11.59,33.03,33.03,5.72,29.15,14.07,6.64,9.6,9.32,25.22,16.93,16.44,14.41,12.13,22.26,24.3,12.27,12.23,14.6,14.94,16.54,11.64,11.69,6.74,9.22,5.77,21.93,9.02,22.8,12.51,14.07,5.34,29.1,6.4,14.12,12.18,19.45,11.59,9.22,12.13,15.76,29.49,19.35,31.43,19.4,11.69,19.3,7.61,8.3,25.17,12.08,12.71,12.18,29.35,25.27,8.54,29.15,17.85,16.1,14.07,15.57,16.44,16.06,6.74,14.07,12.13,8.54,11.59,31.43,16.11,9.41,29.05,5.87,12.18,12.13,16.2,5.97,12.23,14.12,6.74,19.4,12.13,14.16,12.13,31.38,22.85,32.93,19.4,8.1,9.02,9.12,6.69,16.88,16.3,9.27,15.86,12.23,12.13,17.03,13.77,6.01,29.25,16.1,5.73,6.07,15.23,9.17,29.15,29.05,33.03,8.83,6.74,17.03,25.22,9.17,12.18,12.18,15.57,12.13,14.6,11.84,14.07,33.03,8.1,12.18,5.72,15.67,12.18,16.2,6.79,12.61,32.93,14.79,24.2,6.69,12.23,6.74,16.06,12.23,22.8,12.18,9.17,14.07,14.84,6.69,14.07,14.12,6.69,13.58,33.18,29.1,24.25,29.05,6.55,24.3,19.4,20.52,29.39,13.78,14.12,19.4,19.4,6.84,22.8,19.4,14.12,28.62,29.25,9.65,15.71,12.13,15.18,22.36,12.13,12.13,31.43,20.18,16.3,14.07,6.69,24.2,6.69,9.56,8.54,24.2,8.1,19.35,13.68,13.97,9.75,6.74,11.84,16.05,12.23,32.93,14.21,29.1,15.57,12.13,29.15,11.98,29.3,14.02,32.93,14.07,25.17,16.06,24.25,12.13,13.05,12.23,12.18,29.1,12.81,24.3,14.79,29.3,8.93,12.23,16.1,12.08,24.25,12.18,14.07,15.52,12.13,29.44,8.63,5.67,12.18,12.37,19.35,32.98,8.1,11.11,12.56,25.27,12.13,9.41,9.51,25.27,12.56,15.57,19.35,29.1,12.23,14.5,25.22,24.35,21.29,9.46,14.02,15.96,19.4,12.37,12.13,21.93,6.02,19.35,22.02,8.0,29.1,12.95,16.1,5.73,8.1,16.98,8.34,24.25,29.2,14.55,24.2,12.13,19.45,9.75,19.98,11.88,6.69,21.29,11.64,32.93,12.56,14.07,33.03,12.95,12.27,12.18,12.08,12.18,12.22,12.95,29.1,15.23,15.81,15.96,16.25,8.54,29.1,6.74,31.38,22.75,16.93,32.98,5.82,22.26,15.57,33.32,21.34,31.43,9.22,9.55,8.59,14.02,16.15,8.97,9.22,8.97,14.12,19.35,20.52,18.43,9.27,12.47,29.15,12.18,9.51,12.18,12.13,6.79,12.08,13.92,6.84,25.27,9.17,24.3,16.2,20.13,19.35,14.02,22.36,12.08,12.18,12.27,6.64,31.33,6.06,24.2,15.77,29.05,15.96,5.72,5.67,24.2,11.79,8.73,21.93,24.2,22.26,14.5,12.23,20.57,16.05,25.27,7.38,13.78,22.85,12.13,12.9,29.49,15.76,29.25,5.82,21.88,9.51,15.09,24.2,29.25,16.44,24.3,6.06,12.18,12.08,19.45,9.65,19.74,12.18,14.55,6.07,15.91,16.98,25.22,32.93,12.08,29.05,24.3,18.04,9.22,29.2,29.15,12.32,19.35,29.1,29.2,13.68,11.88,14.12,16.06,14.02,24.2,8.2,24.25,25.27,5.97,22.36,24.3,12.13,19.4,12.23,8.54,24.2,8.59,31.67,24.3,29.05,12.13,12.23,16.44,5.05,22.75,16.98,12.13,12.08,12.23,29.05,8.68,29.2,24.2,29.05,9.17,13.0,11.69,13.0,29.25,7.03,16.11,14.8,19.45,8.83,29.1,29.1,29.49,9.07,21.93,16.05,16.98,12.13,12.13,12.66,21.34,14.94,12.13,12.23,29.1,17.08,14.02,14.5,6.69,12.13,12.17,15.77,12.18,12.18,16.1,6.4,9.41,12.08,8.54,24.25,7.28,6.01,16.1,11.59,29.15,5.77,6.79,5.92,5.77,15.72,31.38,19.35,12.08,15.13,29.25,24.25,12.13,12.23,15.81,5.77,9.17,12.47,25.22,33.03,29.44,15.96,12.13,4.75,21.83,6.84,6.74,16.54,29.29,12.23,17.08,12.13,12.61,24.2,7.81,22.85,24.2,14.12,12.23,14.12,24.35,16.74,9.85,9.31,17.03,12.08,12.13,8.39,6.64,9.22,31.33,22.36,20.13,13.1,22.31,14.94,16.15,25.27,9.7,29.1,9.17,9.51,6.02,15.72,21.25,29.1,24.2,9.17,11.69,25.22,31.87,9.22,12.18,16.44,13.1,12.13,12.13,15.57,14.02,24.25,6.69,24.3,24.25,19.45,9.65,12.66,5.72,19.02,16.06,29.15,12.13,19.45,21.83,21.83,29.05,12.56,29.15,12.13,12.23,14.55,34.19,19.45,14.6,5.53,10.82,32.93,19.45,29.15,19.35,14.6,11.59,29.15,29.05,22.46,16.01,11.59,25.22,22.75,7.33,15.81,8.1,16.01,29.73,10.43,32.93,31.33,10.14,13.05,16.2,14.46,19.5,14.5,13.0,25.27,12.08,12.18,29.1,12.61,12.18,8.63,9.02,9.51,29.05,14.02,29.05,16.06,24.3,12.13,9.27,4.9,31.43,9.12,15.33,12.13,16.15,6.74,7.38,6.69,12.47,6.79,12.13,12.18,24.25,22.75,24.3,13.05,15.57,12.95,22.75,24.3,14.02,24.2,6.74,14.02,14.07,12.18,12.95,15.37,7.67,8.3,12.18,29.44,12.56,12.18,14.12,25.22,13.05,12.08,24.2,12.47,5.87,15.47,24.3,15.96,24.2,29.35,8.63,16.44,24.25,14.12,7.91,19.4,21.34,13.19,9.75,8.2,24.2,13.53,12.13,9.56,5.72,9.46,15.91,29.1,12.18,20.13,33.37,29.15,17.03,22.31,31.33,24.2,31.43,29.3,6.02,19.6,6.84,16.49,12.23,5.77,24.3,12.37,19.4,12.23,29.1,12.13,25.27,11.59,13.48,25.27,20.71,24.2,24.2,20.61,13.05,15.76,7.66,10.86,22.26,31.38,29.05,7.81,16.98,29.15,24.3,13.1,25.22,32.93,25.27,12.95,31.43,15.62,5.87,8.83,24.2,29.3,24.3,25.22,12.61,29.1,21.83,9.27,15.37,12.18,12.08,32.93,22.31,15.18,16.01,29.1,12.18,12.08,12.13,12.56,22.36,33.37,12.18,12.23,12.18,5.77,16.3,11.64,15.91,16.49,14.12,7.95,9.7,15.52,16.2,24.3,12.61,22.26,9.07,7.86,12.23,21.39,16.93,14.41,8.05,19.35,16.98,11.64,29.15,12.18,24.25,19.45,16.11,31.43,25.27,12.13,20.86,8.54,31.43,19.4,12.23,6.69,29.59,22.31,12.56,12.23,13.53,8.1,5.92,12.13,13.97,12.23,16.98,9.27,31.43,29.05,14.5,5.82,16.2,8.68,15.67,5.82,29.15,22.31,12.18,25.22,12.18,19.45],\"yaxis\":\"y\",\"type\":\"bar\"}],                        {\"template\":{\"data\":{\"histogram2dcontour\":[{\"type\":\"histogram2dcontour\",\"colorbar\":{\"outlinewidth\":0,\"ticks\":\"\"},\"colorscale\":[[0.0,\"#0d0887\"],[0.1111111111111111,\"#46039f\"],[0.2222222222222222,\"#7201a8\"],[0.3333333333333333,\"#9c179e\"],[0.4444444444444444,\"#bd3786\"],[0.5555555555555556,\"#d8576b\"],[0.6666666666666666,\"#ed7953\"],[0.7777777777777778,\"#fb9f3a\"],[0.8888888888888888,\"#fdca26\"],[1.0,\"#f0f921\"]]}],\"choropleth\":[{\"type\":\"choropleth\",\"colorbar\":{\"outlinewidth\":0,\"ticks\":\"\"}}],\"histogram2d\":[{\"type\":\"histogram2d\",\"colorbar\":{\"outlinewidth\":0,\"ticks\":\"\"},\"colorscale\":[[0.0,\"#0d0887\"],[0.1111111111111111,\"#46039f\"],[0.2222222222222222,\"#7201a8\"],[0.3333333333333333,\"#9c179e\"],[0.4444444444444444,\"#bd3786\"],[0.5555555555555556,\"#d8576b\"],[0.6666666666666666,\"#ed7953\"],[0.7777777777777778,\"#fb9f3a\"],[0.8888888888888888,\"#fdca26\"],[1.0,\"#f0f921\"]]}],\"heatmap\":[{\"type\":\"heatmap\",\"colorbar\":{\"outlinewidth\":0,\"ticks\":\"\"},\"colorscale\":[[0.0,\"#0d0887\"],[0.1111111111111111,\"#46039f\"],[0.2222222222222222,\"#7201a8\"],[0.3333333333333333,\"#9c179e\"],[0.4444444444444444,\"#bd3786\"],[0.5555555555555556,\"#d8576b\"],[0.6666666666666666,\"#ed7953\"],[0.7777777777777778,\"#fb9f3a\"],[0.8888888888888888,\"#fdca26\"],[1.0,\"#f0f921\"]]}],\"heatmapgl\":[{\"type\":\"heatmapgl\",\"colorbar\":{\"outlinewidth\":0,\"ticks\":\"\"},\"colorscale\":[[0.0,\"#0d0887\"],[0.1111111111111111,\"#46039f\"],[0.2222222222222222,\"#7201a8\"],[0.3333333333333333,\"#9c179e\"],[0.4444444444444444,\"#bd3786\"],[0.5555555555555556,\"#d8576b\"],[0.6666666666666666,\"#ed7953\"],[0.7777777777777778,\"#fb9f3a\"],[0.8888888888888888,\"#fdca26\"],[1.0,\"#f0f921\"]]}],\"contourcarpet\":[{\"type\":\"contourcarpet\",\"colorbar\":{\"outlinewidth\":0,\"ticks\":\"\"}}],\"contour\":[{\"type\":\"contour\",\"colorbar\":{\"outlinewidth\":0,\"ticks\":\"\"},\"colorscale\":[[0.0,\"#0d0887\"],[0.1111111111111111,\"#46039f\"],[0.2222222222222222,\"#7201a8\"],[0.3333333333333333,\"#9c179e\"],[0.4444444444444444,\"#bd3786\"],[0.5555555555555556,\"#d8576b\"],[0.6666666666666666,\"#ed7953\"],[0.7777777777777778,\"#fb9f3a\"],[0.8888888888888888,\"#fdca26\"],[1.0,\"#f0f921\"]]}],\"surface\":[{\"type\":\"surface\",\"colorbar\":{\"outlinewidth\":0,\"ticks\":\"\"},\"colorscale\":[[0.0,\"#0d0887\"],[0.1111111111111111,\"#46039f\"],[0.2222222222222222,\"#7201a8\"],[0.3333333333333333,\"#9c179e\"],[0.4444444444444444,\"#bd3786\"],[0.5555555555555556,\"#d8576b\"],[0.6666666666666666,\"#ed7953\"],[0.7777777777777778,\"#fb9f3a\"],[0.8888888888888888,\"#fdca26\"],[1.0,\"#f0f921\"]]}],\"mesh3d\":[{\"type\":\"mesh3d\",\"colorbar\":{\"outlinewidth\":0,\"ticks\":\"\"}}],\"scatter\":[{\"fillpattern\":{\"fillmode\":\"overlay\",\"size\":10,\"solidity\":0.2},\"type\":\"scatter\"}],\"parcoords\":[{\"type\":\"parcoords\",\"line\":{\"colorbar\":{\"outlinewidth\":0,\"ticks\":\"\"}}}],\"scatterpolargl\":[{\"type\":\"scatterpolargl\",\"marker\":{\"colorbar\":{\"outlinewidth\":0,\"ticks\":\"\"}}}],\"bar\":[{\"error_x\":{\"color\":\"#2a3f5f\"},\"error_y\":{\"color\":\"#2a3f5f\"},\"marker\":{\"line\":{\"color\":\"#E5ECF6\",\"width\":0.5},\"pattern\":{\"fillmode\":\"overlay\",\"size\":10,\"solidity\":0.2}},\"type\":\"bar\"}],\"scattergeo\":[{\"type\":\"scattergeo\",\"marker\":{\"colorbar\":{\"outlinewidth\":0,\"ticks\":\"\"}}}],\"scatterpolar\":[{\"type\":\"scatterpolar\",\"marker\":{\"colorbar\":{\"outlinewidth\":0,\"ticks\":\"\"}}}],\"histogram\":[{\"marker\":{\"pattern\":{\"fillmode\":\"overlay\",\"size\":10,\"solidity\":0.2}},\"type\":\"histogram\"}],\"scattergl\":[{\"type\":\"scattergl\",\"marker\":{\"colorbar\":{\"outlinewidth\":0,\"ticks\":\"\"}}}],\"scatter3d\":[{\"type\":\"scatter3d\",\"line\":{\"colorbar\":{\"outlinewidth\":0,\"ticks\":\"\"}},\"marker\":{\"colorbar\":{\"outlinewidth\":0,\"ticks\":\"\"}}}],\"scattermapbox\":[{\"type\":\"scattermapbox\",\"marker\":{\"colorbar\":{\"outlinewidth\":0,\"ticks\":\"\"}}}],\"scatterternary\":[{\"type\":\"scatterternary\",\"marker\":{\"colorbar\":{\"outlinewidth\":0,\"ticks\":\"\"}}}],\"scattercarpet\":[{\"type\":\"scattercarpet\",\"marker\":{\"colorbar\":{\"outlinewidth\":0,\"ticks\":\"\"}}}],\"carpet\":[{\"aaxis\":{\"endlinecolor\":\"#2a3f5f\",\"gridcolor\":\"white\",\"linecolor\":\"white\",\"minorgridcolor\":\"white\",\"startlinecolor\":\"#2a3f5f\"},\"baxis\":{\"endlinecolor\":\"#2a3f5f\",\"gridcolor\":\"white\",\"linecolor\":\"white\",\"minorgridcolor\":\"white\",\"startlinecolor\":\"#2a3f5f\"},\"type\":\"carpet\"}],\"table\":[{\"cells\":{\"fill\":{\"color\":\"#EBF0F8\"},\"line\":{\"color\":\"white\"}},\"header\":{\"fill\":{\"color\":\"#C8D4E3\"},\"line\":{\"color\":\"white\"}},\"type\":\"table\"}],\"barpolar\":[{\"marker\":{\"line\":{\"color\":\"#E5ECF6\",\"width\":0.5},\"pattern\":{\"fillmode\":\"overlay\",\"size\":10,\"solidity\":0.2}},\"type\":\"barpolar\"}],\"pie\":[{\"automargin\":true,\"type\":\"pie\"}]},\"layout\":{\"autotypenumbers\":\"strict\",\"colorway\":[\"#636efa\",\"#EF553B\",\"#00cc96\",\"#ab63fa\",\"#FFA15A\",\"#19d3f3\",\"#FF6692\",\"#B6E880\",\"#FF97FF\",\"#FECB52\"],\"font\":{\"color\":\"#2a3f5f\"},\"hovermode\":\"closest\",\"hoverlabel\":{\"align\":\"left\"},\"paper_bgcolor\":\"white\",\"plot_bgcolor\":\"#E5ECF6\",\"polar\":{\"bgcolor\":\"#E5ECF6\",\"angularaxis\":{\"gridcolor\":\"white\",\"linecolor\":\"white\",\"ticks\":\"\"},\"radialaxis\":{\"gridcolor\":\"white\",\"linecolor\":\"white\",\"ticks\":\"\"}},\"ternary\":{\"bgcolor\":\"#E5ECF6\",\"aaxis\":{\"gridcolor\":\"white\",\"linecolor\":\"white\",\"ticks\":\"\"},\"baxis\":{\"gridcolor\":\"white\",\"linecolor\":\"white\",\"ticks\":\"\"},\"caxis\":{\"gridcolor\":\"white\",\"linecolor\":\"white\",\"ticks\":\"\"}},\"coloraxis\":{\"colorbar\":{\"outlinewidth\":0,\"ticks\":\"\"}},\"colorscale\":{\"sequential\":[[0.0,\"#0d0887\"],[0.1111111111111111,\"#46039f\"],[0.2222222222222222,\"#7201a8\"],[0.3333333333333333,\"#9c179e\"],[0.4444444444444444,\"#bd3786\"],[0.5555555555555556,\"#d8576b\"],[0.6666666666666666,\"#ed7953\"],[0.7777777777777778,\"#fb9f3a\"],[0.8888888888888888,\"#fdca26\"],[1.0,\"#f0f921\"]],\"sequentialminus\":[[0.0,\"#0d0887\"],[0.1111111111111111,\"#46039f\"],[0.2222222222222222,\"#7201a8\"],[0.3333333333333333,\"#9c179e\"],[0.4444444444444444,\"#bd3786\"],[0.5555555555555556,\"#d8576b\"],[0.6666666666666666,\"#ed7953\"],[0.7777777777777778,\"#fb9f3a\"],[0.8888888888888888,\"#fdca26\"],[1.0,\"#f0f921\"]],\"diverging\":[[0,\"#8e0152\"],[0.1,\"#c51b7d\"],[0.2,\"#de77ae\"],[0.3,\"#f1b6da\"],[0.4,\"#fde0ef\"],[0.5,\"#f7f7f7\"],[0.6,\"#e6f5d0\"],[0.7,\"#b8e186\"],[0.8,\"#7fbc41\"],[0.9,\"#4d9221\"],[1,\"#276419\"]]},\"xaxis\":{\"gridcolor\":\"white\",\"linecolor\":\"white\",\"ticks\":\"\",\"title\":{\"standoff\":15},\"zerolinecolor\":\"white\",\"automargin\":true,\"zerolinewidth\":2},\"yaxis\":{\"gridcolor\":\"white\",\"linecolor\":\"white\",\"ticks\":\"\",\"title\":{\"standoff\":15},\"zerolinecolor\":\"white\",\"automargin\":true,\"zerolinewidth\":2},\"scene\":{\"xaxis\":{\"backgroundcolor\":\"#E5ECF6\",\"gridcolor\":\"white\",\"linecolor\":\"white\",\"showbackground\":true,\"ticks\":\"\",\"zerolinecolor\":\"white\",\"gridwidth\":2},\"yaxis\":{\"backgroundcolor\":\"#E5ECF6\",\"gridcolor\":\"white\",\"linecolor\":\"white\",\"showbackground\":true,\"ticks\":\"\",\"zerolinecolor\":\"white\",\"gridwidth\":2},\"zaxis\":{\"backgroundcolor\":\"#E5ECF6\",\"gridcolor\":\"white\",\"linecolor\":\"white\",\"showbackground\":true,\"ticks\":\"\",\"zerolinecolor\":\"white\",\"gridwidth\":2}},\"shapedefaults\":{\"line\":{\"color\":\"#2a3f5f\"}},\"annotationdefaults\":{\"arrowcolor\":\"#2a3f5f\",\"arrowhead\":0,\"arrowwidth\":1},\"geo\":{\"bgcolor\":\"white\",\"landcolor\":\"#E5ECF6\",\"subunitcolor\":\"white\",\"showland\":true,\"showlakes\":true,\"lakecolor\":\"white\"},\"title\":{\"x\":0.05},\"mapbox\":{\"style\":\"light\"}}},\"xaxis\":{\"anchor\":\"y\",\"domain\":[0.0,1.0],\"title\":{\"text\":\"cuisine_type\"}},\"yaxis\":{\"anchor\":\"x\",\"domain\":[0.0,1.0],\"title\":{\"text\":\"cost_of_the_order\"}},\"legend\":{\"tracegroupgap\":0},\"margin\":{\"t\":60},\"barmode\":\"relative\"},                        {\"responsive\": true}                    ).then(function(){\n",
              "                            \n",
              "var gd = document.getElementById('a387fba1-e882-47d1-9e30-6c304a46743a');\n",
              "var x = new MutationObserver(function (mutations, observer) {{\n",
              "        var display = window.getComputedStyle(gd).display;\n",
              "        if (!display || display === 'none') {{\n",
              "            console.log([gd, 'removed!']);\n",
              "            Plotly.purge(gd);\n",
              "            observer.disconnect();\n",
              "        }}\n",
              "}});\n",
              "\n",
              "// Listen for the removal of the full notebook cells\n",
              "var notebookContainer = gd.closest('#notebook-container');\n",
              "if (notebookContainer) {{\n",
              "    x.observe(notebookContainer, {childList: true});\n",
              "}}\n",
              "\n",
              "// Listen for the clearing of the current output cell\n",
              "var outputEl = gd.closest('.output');\n",
              "if (outputEl) {{\n",
              "    x.observe(outputEl, {childList: true});\n",
              "}}\n",
              "\n",
              "                        })                };                            </script>        </div>\n",
              "</body>\n",
              "</html>"
            ]
          },
          "metadata": {}
        }
      ]
    },
    {
      "cell_type": "code",
      "source": [
        "#Create lineplot displaying cuisine vs. cost of order\n",
        "plt.figure(figsize=(15,7))\n",
        "sns.lineplot(data=df, x='cuisine_type', y='cost_of_the_order', errorbar=('ci', False))\n",
        "plt.ylabel('Order Cost')\n",
        "plt.xlabel('Cuisine Type')\n",
        "plt.xticks(rotation=90);"
      ],
      "metadata": {
        "colab": {
          "base_uri": "https://localhost:8080/",
          "height": 708
        },
        "id": "WzKtq3P4gStO",
        "outputId": "0a50d7f5-5571-4823-c328-beb7be2d014f"
      },
      "execution_count": null,
      "outputs": [
        {
          "output_type": "display_data",
          "data": {
            "text/plain": [
              "<Figure size 1500x700 with 1 Axes>"
            ],
            "image/png": "[encoded data removed]"
          },
          "metadata": {}
        }
      ]
    },
    {
      "cell_type": "code",
      "source": [
        "#Create lineplot displaying cuisine vs. cost of order, separated by day of the week\n",
        "plt.figure(figsize=(15,7))\n",
        "sns.lineplot(data=df, x='cuisine_type', y='cost_of_the_order', hue='day_of_the_week', errorbar=('ci', False))\n",
        "plt.ylabel('Order Cost')\n",
        "plt.xlabel('Cuisine Type')\n",
        "plt.xticks(rotation=90);"
      ],
      "metadata": {
        "colab": {
          "base_uri": "https://localhost:8080/",
          "height": 708
        },
        "id": "ty4GgRnnErb5",
        "outputId": "aa0fdd3e-acc1-4880-9492-fcd625be3bc8"
      },
      "execution_count": null,
      "outputs": [
        {
          "output_type": "display_data",
          "data": {
            "text/plain": [
              "<Figure size 1500x700 with 1 Axes>"
            ],
            "image/png": "[encoded data removed]"
          },
          "metadata": {}
        }
      ]
    },
    {
      "cell_type": "markdown",
      "source": [],
      "metadata": {
        "id": "nvS242ewErSL"
      }
    },
    {
      "cell_type": "code",
      "source": [
        "#Boxplot displaying cost of the order and rating\n",
        "fig = px.box(df, x='rating', y='cost_of_the_order', points='all')\n",
        "fig.show()"
      ],
      "metadata": {
        "colab": {
          "base_uri": "https://localhost:8080/",
          "height": 542
        },
        "id": "LQs1Q0HzCbNj",
        "outputId": "1929257f-0086-486b-822d-44ea754da993"
      },
      "execution_count": null,
      "outputs": [
        {
          "output_type": "display_data",
          "data": {
            "text/html": [
              "<html>\n",
              "<head><meta charset=\"utf-8\" /></head>\n",
              "<body>\n",
              "    <div>            <script src=\"https://cdnjs.cloudflare.com/ajax/libs/mathjax/2.7.5/MathJax.js?config=TeX-AMS-MML_SVG\"></script><script type=\"text/javascript\">if (window.MathJax && window.MathJax.Hub && window.MathJax.Hub.Config) {window.MathJax.Hub.Config({SVG: {font: \"STIX-Web\"}});}</script>                <script type=\"text/javascript\">window.PlotlyConfig = {MathJaxConfig: 'local'};</script>\n",
              "        <script charset=\"utf-8\" src=\"https://cdn.plot.ly/plotly-2.24.1.min.js\"></script>                <div id=\"e883e07d-6cd1-4c07-8e69-e5567b42da97\" class=\"plotly-graph-div\" style=\"height:525px; width:100%;\"></div>            <script type=\"text/javascript\">                                    window.PLOTLYENV=window.PLOTLYENV || {};                                    if (document.getElementById(\"e883e07d-6cd1-4c07-8e69-e5567b42da97\")) {                    Plotly.newPlot(                        \"e883e07d-6cd1-4c07-8e69-e5567b42da97\",                        [{\"alignmentgroup\":\"True\",\"boxpoints\":\"all\",\"hovertemplate\":\"rating=%{x}\\u003cbr\\u003ecost_of_the_order=%{y}\\u003cextra\\u003e\\u003c\\u002fextra\\u003e\",\"legendgroup\":\"\",\"marker\":{\"color\":\"#636efa\"},\"name\":\"\",\"notched\":false,\"offsetgroup\":\"\",\"orientation\":\"v\",\"showlegend\":false,\"x\":[\"Not given\",\"Not given\",\"5\",\"3\",\"4\",\"3\",\"Not given\",\"3\",\"5\",\"5\",\"Not given\",\"5\",\"5\",\"3\",\"Not given\",\"5\",\"Not given\",\"Not given\",\"4\",\"4\",\"4\",\"Not given\",\"5\",\"Not given\",\"Not given\",\"5\",\"5\",\"Not given\",\"Not given\",\"Not given\",\"5\",\"5\",\"Not given\",\"Not given\",\"5\",\"Not given\",\"4\",\"4\",\"5\",\"Not given\",\"4\",\"Not given\",\"5\",\"Not given\",\"5\",\"5\",\"5\",\"4\",\"Not given\",\"5\",\"Not given\",\"Not given\",\"5\",\"Not given\",\"3\",\"3\",\"3\",\"5\",\"5\",\"Not given\",\"Not given\",\"Not given\",\"4\",\"Not given\",\"Not given\",\"3\",\"4\",\"5\",\"Not given\",\"5\",\"Not given\",\"5\",\"Not given\",\"5\",\"4\",\"Not given\",\"5\",\"5\",\"Not given\",\"4\",\"5\",\"4\",\"4\",\"5\",\"Not given\",\"Not given\",\"3\",\"5\",\"4\",\"5\",\"3\",\"5\",\"4\",\"5\",\"Not given\",\"Not given\",\"3\",\"4\",\"3\",\"Not given\",\"3\",\"Not given\",\"4\",\"5\",\"Not given\",\"4\",\"5\",\"5\",\"5\",\"5\",\"Not given\",\"Not given\",\"3\",\"5\",\"4\",\"5\",\"Not given\",\"4\",\"Not given\",\"5\",\"5\",\"5\",\"Not given\",\"Not given\",\"Not given\",\"5\",\"Not given\",\"5\",\"Not given\",\"3\",\"5\",\"Not given\",\"Not given\",\"4\",\"Not given\",\"Not given\",\"4\",\"3\",\"5\",\"Not given\",\"Not given\",\"5\",\"5\",\"Not given\",\"5\",\"Not given\",\"Not given\",\"Not given\",\"4\",\"4\",\"Not given\",\"Not given\",\"Not given\",\"Not given\",\"5\",\"Not given\",\"3\",\"Not given\",\"4\",\"Not given\",\"Not given\",\"3\",\"4\",\"4\",\"4\",\"Not given\",\"4\",\"Not given\",\"4\",\"4\",\"5\",\"Not given\",\"Not given\",\"Not given\",\"5\",\"5\",\"5\",\"4\",\"Not given\",\"4\",\"3\",\"Not given\",\"Not given\",\"Not given\",\"4\",\"5\",\"Not given\",\"4\",\"Not given\",\"5\",\"Not given\",\"5\",\"4\",\"5\",\"Not given\",\"5\",\"4\",\"4\",\"Not given\",\"Not given\",\"4\",\"4\",\"3\",\"4\",\"Not given\",\"5\",\"3\",\"5\",\"5\",\"4\",\"4\",\"5\",\"5\",\"3\",\"3\",\"Not given\",\"Not given\",\"Not given\",\"5\",\"4\",\"3\",\"Not given\",\"4\",\"4\",\"5\",\"Not given\",\"4\",\"5\",\"5\",\"Not given\",\"Not given\",\"5\",\"Not given\",\"5\",\"4\",\"4\",\"3\",\"4\",\"5\",\"Not given\",\"5\",\"5\",\"Not given\",\"5\",\"5\",\"5\",\"Not given\",\"3\",\"Not given\",\"Not given\",\"Not given\",\"Not given\",\"Not given\",\"Not given\",\"Not given\",\"4\",\"Not given\",\"3\",\"5\",\"5\",\"Not given\",\"4\",\"4\",\"4\",\"Not given\",\"5\",\"Not given\",\"Not given\",\"4\",\"5\",\"Not given\",\"5\",\"4\",\"5\",\"3\",\"3\",\"Not given\",\"5\",\"Not given\",\"5\",\"Not given\",\"Not given\",\"Not given\",\"4\",\"5\",\"3\",\"Not given\",\"5\",\"Not given\",\"Not given\",\"4\",\"5\",\"5\",\"3\",\"Not given\",\"4\",\"Not given\",\"5\",\"Not given\",\"Not given\",\"Not given\",\"3\",\"5\",\"4\",\"5\",\"Not given\",\"Not given\",\"Not given\",\"5\",\"4\",\"3\",\"5\",\"5\",\"3\",\"Not given\",\"Not given\",\"4\",\"Not given\",\"5\",\"Not given\",\"Not given\",\"5\",\"4\",\"5\",\"5\",\"Not given\",\"Not given\",\"Not given\",\"3\",\"3\",\"5\",\"5\",\"5\",\"5\",\"4\",\"Not given\",\"4\",\"4\",\"4\",\"Not given\",\"Not given\",\"Not given\",\"3\",\"4\",\"Not given\",\"5\",\"Not given\",\"Not given\",\"Not given\",\"Not given\",\"Not given\",\"Not given\",\"Not given\",\"3\",\"Not given\",\"Not given\",\"5\",\"4\",\"4\",\"4\",\"3\",\"5\",\"Not given\",\"Not given\",\"Not given\",\"Not given\",\"Not given\",\"Not given\",\"5\",\"5\",\"4\",\"Not given\",\"Not given\",\"5\",\"4\",\"5\",\"4\",\"Not given\",\"4\",\"Not given\",\"Not given\",\"Not given\",\"5\",\"Not given\",\"4\",\"4\",\"5\",\"4\",\"Not given\",\"Not given\",\"5\",\"3\",\"Not given\",\"4\",\"Not given\",\"5\",\"5\",\"Not given\",\"Not given\",\"3\",\"Not given\",\"4\",\"4\",\"Not given\",\"4\",\"5\",\"4\",\"4\",\"3\",\"Not given\",\"5\",\"5\",\"5\",\"4\",\"Not given\",\"5\",\"Not given\",\"Not given\",\"5\",\"5\",\"5\",\"4\",\"5\",\"5\",\"Not given\",\"Not given\",\"Not given\",\"4\",\"Not given\",\"4\",\"4\",\"3\",\"Not given\",\"Not given\",\"4\",\"3\",\"Not given\",\"4\",\"Not given\",\"4\",\"Not given\",\"Not given\",\"Not given\",\"Not given\",\"3\",\"5\",\"5\",\"4\",\"Not given\",\"5\",\"Not given\",\"Not given\",\"5\",\"Not given\",\"Not given\",\"Not given\",\"4\",\"5\",\"5\",\"Not given\",\"5\",\"4\",\"5\",\"4\",\"Not given\",\"4\",\"Not given\",\"3\",\"4\",\"5\",\"Not given\",\"5\",\"Not given\",\"Not given\",\"5\",\"Not given\",\"Not given\",\"5\",\"4\",\"4\",\"Not given\",\"5\",\"5\",\"Not given\",\"Not given\",\"4\",\"Not given\",\"5\",\"Not given\",\"5\",\"5\",\"3\",\"5\",\"Not given\",\"5\",\"3\",\"Not given\",\"5\",\"Not given\",\"3\",\"Not given\",\"5\",\"4\",\"Not given\",\"4\",\"4\",\"3\",\"5\",\"Not given\",\"Not given\",\"5\",\"Not given\",\"Not given\",\"5\",\"Not given\",\"Not given\",\"Not given\",\"4\",\"Not given\",\"4\",\"5\",\"4\",\"Not given\",\"5\",\"3\",\"Not given\",\"5\",\"4\",\"5\",\"4\",\"Not given\",\"4\",\"4\",\"5\",\"5\",\"3\",\"5\",\"Not given\",\"5\",\"Not given\",\"3\",\"Not given\",\"Not given\",\"Not given\",\"3\",\"4\",\"5\",\"Not given\",\"4\",\"Not given\",\"Not given\",\"Not given\",\"Not given\",\"Not given\",\"4\",\"Not given\",\"5\",\"Not given\",\"4\",\"Not given\",\"Not given\",\"4\",\"3\",\"Not given\",\"Not given\",\"4\",\"5\",\"5\",\"3\",\"Not given\",\"5\",\"5\",\"3\",\"4\",\"Not given\",\"5\",\"Not given\",\"5\",\"3\",\"4\",\"3\",\"Not given\",\"Not given\",\"4\",\"5\",\"Not given\",\"Not given\",\"5\",\"4\",\"5\",\"4\",\"5\",\"4\",\"Not given\",\"4\",\"Not given\",\"4\",\"Not given\",\"3\",\"4\",\"Not given\",\"Not given\",\"5\",\"5\",\"Not given\",\"5\",\"5\",\"Not given\",\"Not given\",\"Not given\",\"Not given\",\"Not given\",\"5\",\"3\",\"4\",\"Not given\",\"Not given\",\"Not given\",\"Not given\",\"Not given\",\"3\",\"3\",\"5\",\"Not given\",\"5\",\"Not given\",\"Not given\",\"5\",\"5\",\"3\",\"5\",\"4\",\"Not given\",\"Not given\",\"Not given\",\"5\",\"Not given\",\"Not given\",\"Not given\",\"Not given\",\"Not given\",\"5\",\"Not given\",\"Not given\",\"5\",\"4\",\"Not given\",\"Not given\",\"Not given\",\"Not given\",\"5\",\"4\",\"4\",\"4\",\"5\",\"5\",\"Not given\",\"5\",\"4\",\"5\",\"5\",\"5\",\"Not given\",\"Not given\",\"5\",\"4\",\"5\",\"5\",\"3\",\"5\",\"Not given\",\"4\",\"4\",\"Not given\",\"5\",\"Not given\",\"Not given\",\"4\",\"5\",\"5\",\"Not given\",\"4\",\"Not given\",\"Not given\",\"4\",\"Not given\",\"5\",\"Not given\",\"5\",\"5\",\"3\",\"5\",\"5\",\"Not given\",\"4\",\"4\",\"3\",\"Not given\",\"5\",\"4\",\"Not given\",\"5\",\"Not given\",\"5\",\"Not given\",\"3\",\"Not given\",\"4\",\"Not given\",\"5\",\"Not given\",\"4\",\"5\",\"3\",\"5\",\"5\",\"Not given\",\"5\",\"Not given\",\"Not given\",\"5\",\"5\",\"3\",\"5\",\"Not given\",\"4\",\"5\",\"Not given\",\"5\",\"5\",\"Not given\",\"5\",\"5\",\"Not given\",\"5\",\"5\",\"5\",\"5\",\"Not given\",\"Not given\",\"4\",\"4\",\"5\",\"5\",\"Not given\",\"Not given\",\"5\",\"3\",\"3\",\"5\",\"Not given\",\"Not given\",\"Not given\",\"5\",\"4\",\"Not given\",\"Not given\",\"5\",\"3\",\"Not given\",\"Not given\",\"Not given\",\"Not given\",\"3\",\"5\",\"5\",\"3\",\"5\",\"5\",\"3\",\"5\",\"4\",\"Not given\",\"Not given\",\"5\",\"4\",\"5\",\"4\",\"3\",\"4\",\"Not given\",\"5\",\"5\",\"Not given\",\"Not given\",\"4\",\"4\",\"4\",\"4\",\"5\",\"3\",\"4\",\"5\",\"4\",\"Not given\",\"5\",\"4\",\"Not given\",\"4\",\"Not given\",\"5\",\"Not given\",\"3\",\"Not given\",\"5\",\"Not given\",\"4\",\"3\",\"5\",\"Not given\",\"5\",\"5\",\"5\",\"3\",\"5\",\"3\",\"5\",\"4\",\"5\",\"4\",\"5\",\"5\",\"Not given\",\"4\",\"4\",\"5\",\"3\",\"3\",\"Not given\",\"5\",\"Not given\",\"5\",\"Not given\",\"4\",\"Not given\",\"5\",\"5\",\"5\",\"5\",\"4\",\"4\",\"Not given\",\"5\",\"Not given\",\"5\",\"4\",\"3\",\"4\",\"Not given\",\"5\",\"5\",\"5\",\"4\",\"5\",\"Not given\",\"Not given\",\"3\",\"5\",\"5\",\"5\",\"5\",\"3\",\"Not given\",\"3\",\"Not given\",\"3\",\"4\",\"Not given\",\"5\",\"Not given\",\"4\",\"5\",\"5\",\"5\",\"3\",\"5\",\"Not given\",\"Not given\",\"Not given\",\"5\",\"5\",\"5\",\"5\",\"4\",\"5\",\"4\",\"Not given\",\"4\",\"4\",\"4\",\"3\",\"5\",\"5\",\"4\",\"Not given\",\"4\",\"4\",\"Not given\",\"Not given\",\"3\",\"5\",\"4\",\"Not given\",\"5\",\"3\",\"Not given\",\"5\",\"Not given\",\"Not given\",\"5\",\"4\",\"Not given\",\"Not given\",\"4\",\"4\",\"Not given\",\"5\",\"Not given\",\"Not given\",\"5\",\"5\",\"Not given\",\"5\",\"Not given\",\"3\",\"Not given\",\"Not given\",\"4\",\"5\",\"4\",\"5\",\"5\",\"5\",\"Not given\",\"5\",\"4\",\"Not given\",\"5\",\"5\",\"Not given\",\"5\",\"3\",\"4\",\"Not given\",\"Not given\",\"Not given\",\"Not given\",\"4\",\"5\",\"5\",\"5\",\"3\",\"4\",\"3\",\"4\",\"5\",\"3\",\"Not given\",\"5\",\"Not given\",\"4\",\"4\",\"Not given\",\"4\",\"Not given\",\"5\",\"5\",\"5\",\"5\",\"5\",\"4\",\"4\",\"5\",\"5\",\"5\",\"Not given\",\"5\",\"4\",\"Not given\",\"3\",\"4\",\"Not given\",\"Not given\",\"5\",\"Not given\",\"4\",\"4\",\"5\",\"4\",\"Not given\",\"4\",\"5\",\"5\",\"Not given\",\"Not given\",\"Not given\",\"Not given\",\"4\",\"4\",\"Not given\",\"3\",\"Not given\",\"Not given\",\"Not given\",\"5\",\"5\",\"5\",\"5\",\"5\",\"3\",\"3\",\"4\",\"3\",\"Not given\",\"Not given\",\"4\",\"Not given\",\"5\",\"Not given\",\"5\",\"Not given\",\"5\",\"5\",\"4\",\"Not given\",\"Not given\",\"Not given\",\"Not given\",\"Not given\",\"4\",\"Not given\",\"3\",\"3\",\"5\",\"Not given\",\"Not given\",\"5\",\"4\",\"5\",\"5\",\"Not given\",\"Not given\",\"3\",\"Not given\",\"Not given\",\"Not given\",\"3\",\"4\",\"4\",\"3\",\"5\",\"5\",\"5\",\"5\",\"5\",\"5\",\"3\",\"3\",\"4\",\"Not given\",\"4\",\"4\",\"5\",\"Not given\",\"4\",\"5\",\"3\",\"Not given\",\"Not given\",\"4\",\"Not given\",\"5\",\"4\",\"5\",\"Not given\",\"4\",\"5\",\"4\",\"5\",\"4\",\"Not given\",\"Not given\",\"3\",\"5\",\"Not given\",\"Not given\",\"4\",\"Not given\",\"Not given\",\"Not given\",\"Not given\",\"4\",\"4\",\"5\",\"5\",\"4\",\"Not given\",\"5\",\"Not given\",\"Not given\",\"Not given\",\"5\",\"Not given\",\"5\",\"4\",\"5\",\"4\",\"Not given\",\"5\",\"Not given\",\"Not given\",\"3\",\"Not given\",\"Not given\",\"3\",\"5\",\"Not given\",\"5\",\"5\",\"5\",\"Not given\",\"Not given\",\"3\",\"5\",\"4\",\"4\",\"5\",\"5\",\"Not given\",\"4\",\"3\",\"Not given\",\"5\",\"Not given\",\"5\",\"5\",\"4\",\"4\",\"Not given\",\"4\",\"3\",\"5\",\"5\",\"5\",\"5\",\"Not given\",\"4\",\"Not given\",\"Not given\",\"5\",\"5\",\"Not given\",\"Not given\",\"Not given\",\"Not given\",\"4\",\"Not given\",\"3\",\"4\",\"4\",\"Not given\",\"5\",\"5\",\"3\",\"3\",\"Not given\",\"3\",\"Not given\",\"4\",\"5\",\"Not given\",\"3\",\"4\",\"5\",\"5\",\"Not given\",\"Not given\",\"4\",\"4\",\"Not given\",\"Not given\",\"5\",\"5\",\"3\",\"Not given\",\"Not given\",\"Not given\",\"5\",\"Not given\",\"4\",\"3\",\"4\",\"Not given\",\"Not given\",\"5\",\"Not given\",\"Not given\",\"Not given\",\"5\",\"4\",\"5\",\"Not given\",\"Not given\",\"Not given\",\"5\",\"4\",\"4\",\"5\",\"5\",\"Not given\",\"4\",\"Not given\",\"Not given\",\"Not given\",\"3\",\"Not given\",\"5\",\"Not given\",\"Not given\",\"4\",\"3\",\"5\",\"5\",\"Not given\",\"5\",\"4\",\"5\",\"5\",\"5\",\"5\",\"5\",\"Not given\",\"5\",\"3\",\"Not given\",\"5\",\"4\",\"Not given\",\"5\",\"Not given\",\"3\",\"4\",\"3\",\"4\",\"5\",\"Not given\",\"Not given\",\"4\",\"4\",\"Not given\",\"Not given\",\"4\",\"5\",\"5\",\"4\",\"5\",\"4\",\"Not given\",\"4\",\"Not given\",\"4\",\"Not given\",\"Not given\",\"4\",\"Not given\",\"5\",\"4\",\"3\",\"Not given\",\"Not given\",\"5\",\"5\",\"4\",\"3\",\"Not given\",\"5\",\"5\",\"5\",\"Not given\",\"Not given\",\"Not given\",\"5\",\"4\",\"5\",\"Not given\",\"Not given\",\"Not given\",\"Not given\",\"5\",\"Not given\",\"4\",\"5\",\"5\",\"4\",\"4\",\"4\",\"5\",\"Not given\",\"Not given\",\"Not given\",\"Not given\",\"4\",\"5\",\"Not given\",\"3\",\"Not given\",\"4\",\"Not given\",\"Not given\",\"Not given\",\"Not given\",\"3\",\"5\",\"5\",\"5\",\"5\",\"Not given\",\"Not given\",\"5\",\"4\",\"Not given\",\"Not given\",\"5\",\"Not given\",\"4\",\"3\",\"Not given\",\"Not given\",\"Not given\",\"5\",\"5\",\"Not given\",\"Not given\",\"5\",\"Not given\",\"4\",\"Not given\",\"5\",\"5\",\"4\",\"5\",\"Not given\",\"4\",\"4\",\"Not given\",\"5\",\"Not given\",\"5\",\"3\",\"5\",\"5\",\"3\",\"5\",\"Not given\",\"4\",\"5\",\"Not given\",\"Not given\",\"4\",\"Not given\",\"4\",\"Not given\",\"Not given\",\"Not given\",\"Not given\",\"5\",\"Not given\",\"Not given\",\"Not given\",\"5\",\"4\",\"5\",\"4\",\"4\",\"5\",\"4\",\"5\",\"3\",\"Not given\",\"5\",\"Not given\",\"3\",\"4\",\"Not given\",\"5\",\"Not given\",\"Not given\",\"Not given\",\"Not given\",\"Not given\",\"5\",\"4\",\"4\",\"4\",\"5\",\"Not given\",\"5\",\"Not given\",\"4\",\"Not given\",\"Not given\",\"4\",\"4\",\"Not given\",\"5\",\"Not given\",\"5\",\"Not given\",\"Not given\",\"4\",\"Not given\",\"4\",\"4\",\"3\",\"Not given\",\"3\",\"Not given\",\"5\",\"3\",\"Not given\",\"5\",\"5\",\"3\",\"5\",\"5\",\"4\",\"5\",\"Not given\",\"4\",\"Not given\",\"Not given\",\"3\",\"5\",\"5\",\"5\",\"Not given\",\"5\",\"5\",\"Not given\",\"3\",\"4\",\"5\",\"5\",\"Not given\",\"Not given\",\"3\",\"4\",\"Not given\",\"4\",\"4\",\"5\",\"3\",\"Not given\",\"Not given\",\"Not given\",\"5\",\"5\",\"5\",\"Not given\",\"Not given\",\"Not given\",\"5\",\"Not given\",\"Not given\",\"Not given\",\"Not given\",\"Not given\",\"4\",\"5\",\"3\",\"Not given\",\"Not given\",\"Not given\",\"5\",\"Not given\",\"5\",\"4\",\"Not given\",\"Not given\",\"5\",\"Not given\",\"5\",\"Not given\",\"Not given\",\"5\",\"Not given\",\"3\",\"5\",\"5\",\"4\",\"5\",\"Not given\",\"4\",\"Not given\",\"5\",\"3\",\"4\",\"4\",\"Not given\",\"5\",\"Not given\",\"4\",\"4\",\"5\",\"4\",\"4\",\"4\",\"5\",\"5\",\"4\",\"Not given\",\"Not given\",\"5\",\"Not given\",\"4\",\"Not given\",\"5\",\"Not given\",\"5\",\"Not given\",\"4\",\"Not given\",\"Not given\",\"Not given\",\"5\",\"5\",\"4\",\"Not given\",\"3\",\"5\",\"5\",\"5\",\"5\",\"5\",\"4\",\"3\",\"Not given\",\"Not given\",\"5\",\"Not given\",\"4\",\"5\",\"5\",\"5\",\"Not given\",\"Not given\",\"Not given\",\"4\",\"3\",\"5\",\"5\",\"4\",\"5\",\"Not given\",\"Not given\",\"Not given\",\"4\",\"Not given\",\"Not given\",\"5\",\"Not given\",\"Not given\",\"Not given\",\"5\",\"5\",\"5\",\"4\",\"5\",\"4\",\"3\",\"Not given\",\"5\",\"Not given\",\"5\",\"4\",\"3\",\"5\",\"4\",\"Not given\",\"Not given\",\"3\",\"5\",\"4\",\"Not given\",\"Not given\",\"4\",\"3\",\"4\",\"3\",\"5\",\"Not given\",\"Not given\",\"Not given\",\"4\",\"Not given\",\"Not given\",\"4\",\"4\",\"Not given\",\"Not given\",\"3\",\"Not given\",\"4\",\"5\",\"Not given\",\"5\",\"5\",\"Not given\",\"5\",\"4\",\"Not given\",\"4\",\"5\",\"Not given\",\"Not given\",\"4\",\"5\",\"Not given\",\"Not given\",\"Not given\",\"4\",\"Not given\",\"5\",\"4\",\"Not given\",\"Not given\",\"4\",\"4\",\"Not given\",\"4\",\"5\",\"5\",\"5\",\"5\",\"Not given\",\"3\",\"5\",\"3\",\"Not given\",\"Not given\",\"3\",\"Not given\",\"Not given\",\"5\",\"Not given\",\"5\",\"Not given\",\"5\",\"5\",\"4\",\"Not given\",\"3\",\"5\",\"5\",\"Not given\",\"5\",\"5\",\"4\",\"Not given\",\"Not given\",\"Not given\",\"5\",\"4\",\"5\",\"Not given\",\"5\",\"Not given\",\"5\",\"5\",\"5\",\"4\",\"4\",\"Not given\",\"Not given\",\"5\",\"Not given\",\"5\",\"Not given\",\"4\",\"Not given\",\"4\",\"4\",\"5\",\"5\",\"Not given\",\"Not given\",\"3\",\"Not given\",\"5\",\"Not given\",\"Not given\",\"5\",\"5\",\"Not given\",\"4\",\"4\",\"Not given\",\"Not given\",\"5\",\"5\",\"5\",\"Not given\",\"Not given\",\"5\",\"Not given\",\"4\",\"5\",\"Not given\",\"Not given\",\"Not given\",\"3\",\"5\",\"4\",\"4\",\"5\",\"5\",\"Not given\",\"Not given\",\"Not given\",\"Not given\",\"3\",\"5\",\"3\",\"Not given\",\"5\",\"Not given\",\"Not given\",\"4\",\"Not given\",\"Not given\",\"3\",\"Not given\",\"Not given\",\"5\",\"4\",\"5\",\"Not given\",\"Not given\",\"5\",\"4\",\"5\",\"Not given\",\"Not given\",\"Not given\",\"4\",\"Not given\",\"Not given\",\"Not given\",\"5\",\"Not given\",\"Not given\",\"4\",\"Not given\",\"5\",\"Not given\",\"Not given\",\"Not given\",\"5\",\"Not given\",\"4\",\"5\",\"4\",\"3\",\"Not given\",\"Not given\",\"3\",\"5\",\"4\",\"3\",\"5\",\"5\",\"Not given\",\"3\",\"3\",\"Not given\",\"3\",\"4\",\"Not given\",\"5\",\"5\",\"5\",\"4\",\"5\",\"3\",\"Not given\",\"5\",\"Not given\",\"4\",\"4\",\"Not given\",\"Not given\",\"Not given\",\"5\",\"4\",\"5\",\"Not given\",\"5\",\"5\",\"Not given\",\"4\",\"5\",\"Not given\",\"5\",\"4\",\"4\",\"4\",\"3\",\"Not given\",\"Not given\",\"5\",\"Not given\",\"4\",\"4\",\"4\",\"3\",\"4\",\"3\",\"Not given\",\"3\",\"4\",\"4\",\"Not given\",\"5\",\"Not given\",\"5\",\"5\",\"4\",\"Not given\",\"Not given\",\"5\",\"5\",\"4\",\"Not given\",\"4\",\"5\",\"3\",\"Not given\",\"4\",\"Not given\",\"5\",\"3\",\"Not given\",\"Not given\",\"3\",\"Not given\",\"Not given\",\"5\",\"5\",\"4\",\"5\",\"Not given\",\"3\",\"5\",\"5\",\"Not given\",\"5\",\"3\",\"4\",\"Not given\",\"5\",\"3\",\"Not given\",\"5\",\"5\",\"Not given\",\"3\",\"4\",\"5\",\"4\",\"4\",\"4\",\"4\",\"5\",\"Not given\",\"Not given\",\"Not given\",\"3\",\"5\",\"Not given\",\"5\",\"5\",\"Not given\",\"5\",\"Not given\",\"3\",\"4\",\"5\",\"Not given\",\"5\",\"3\",\"5\",\"Not given\",\"Not given\",\"5\",\"5\",\"Not given\",\"5\",\"Not given\"],\"x0\":\" \",\"xaxis\":\"x\",\"y\":[30.75,12.08,12.23,29.2,11.59,25.22,6.07,5.97,16.44,7.18,5.92,8.1,24.3,11.3,12.13,16.2,16.98,33.03,14.12,16.2,24.2,15.91,29.1,8.92,15.86,29.1,21.88,14.02,9.17,12.18,31.33,29.05,8.39,9.12,29.1,15.47,16.01,24.3,29.83,19.89,19.35,33.22,24.25,16.44,22.75,6.74,29.05,13.78,19.89,16.93,21.88,29.39,20.23,29.1,22.75,14.12,14.6,12.23,14.02,6.79,24.25,33.03,31.38,8.34,33.03,24.2,12.46,15.86,14.55,32.93,16.98,8.0,13.05,29.05,5.67,16.93,29.29,16.15,22.75,13.34,9.75,6.69,4.75,12.56,21.2,19.31,16.3,13.05,25.27,14.79,5.72,16.15,33.03,16.2,9.22,16.39,12.18,24.2,17.03,6.79,21.83,31.29,11.83,24.3,22.26,20.47,12.18,15.81,22.36,8.68,21.83,16.3,12.9,29.15,13.05,22.36,31.29,7.86,16.1,16.98,12.95,11.69,12.13,12.32,12.13,12.18,14.99,6.74,24.3,10.38,6.79,25.27,14.99,29.05,9.65,29.2,5.77,32.93,12.13,12.08,11.59,9.56,24.2,29.34,11.16,24.25,29.2,14.07,19.35,16.1,22.8,15.23,33.03,12.95,16.49,29.05,31.33,16.01,14.07,8.83,33.03,16.25,22.36,16.83,8.0,16.01,16.01,10.24,19.4,19.35,13.97,13.0,13.05,8.49,22.8,20.18,19.59,19.4,17.03,16.11,14.6,12.27,22.26,6.79,14.12,29.15,12.18,25.22,13.39,9.02,29.15,13.0,15.33,14.55,31.43,33.03,15.91,12.18,19.35,19.35,29.35,15.28,12.23,9.6,12.95,8.88,15.96,15.47,12.23,8.05,8.54,29.15,7.23,19.69,12.13,16.49,12.08,9.27,24.25,5.67,14.12,33.03,8.97,8.88,12.13,11.64,31.43,13.15,14.02,9.41,9.07,14.07,14.46,6.7,14.07,19.45,13.97,12.22,29.25,17.03,16.05,17.08,11.3,32.98,29.15,13.0,13.73,12.23,16.25,24.2,14.31,19.4,14.12,14.7,15.52,8.97,29.2,11.64,11.64,19.4,29.1,14.02,6.11,12.23,12.18,24.2,12.18,17.03,22.26,19.45,21.93,15.76,9.46,12.61,22.85,12.18,12.61,12.13,12.13,8.54,19.35,12.18,22.8,12.13,19.45,12.13,12.18,12.13,12.56,24.3,29.15,16.06,24.3,9.6,19.4,29.1,12.18,21.39,24.25,32.93,14.07,8.25,19.4,12.18,14.94,14.26,8.54,12.18,29.1,12.56,9.17,16.2,14.12,5.72,21.34,6.79,12.18,12.18,6.11,14.16,5.68,12.27,20.18,14.02,16.2,15.57,14.45,8.15,29.25,8.78,15.96,8.59,15.62,13.0,12.23,25.22,5.87,24.2,19.45,12.18,6.01,21.93,5.92,24.2,15.76,6.11,5.72,19.4,8.49,32.93,12.23,9.17,11.69,24.2,9.85,25.22,22.75,6.84,24.3,19.35,12.13,9.02,12.18,9.17,19.4,6.69,5.82,12.08,15.76,33.03,24.25,12.13,5.72,7.96,14.02,14.07,21.83,29.15,22.26,5.82,29.1,13.39,9.7,22.36,12.13,6.07,24.3,8.78,24.25,20.18,4.85,6.06,6.84,13.05,5.92,12.13,12.18,29.15,8.1,7.23,12.66,12.23,9.07,6.02,14.12,21.93,16.15,7.08,32.93,12.13,15.57,29.15,15.47,12.37,16.49,24.3,14.84,25.27,17.08,22.31,12.08,12.61,13.1,12.13,8.25,16.39,14.75,12.66,9.07,16.15,29.29,20.47,11.59,24.35,16.44,5.92,14.12,5.92,13.0,21.83,16.15,12.23,24.3,29.05,15.76,8.1,12.18,25.17,20.23,9.12,12.18,20.23,24.25,16.2,9.12,9.75,31.38,24.3,19.35,14.16,9.26,32.98,12.18,9.55,6.74,14.07,14.02,5.92,12.46,29.2,15.76,9.22,8.88,13.92,29.34,22.36,5.77,12.13,6.69,15.57,4.66,19.35,8.78,9.17,29.1,5.77,24.25,9.41,29.15,15.57,11.59,16.3,12.18,12.08,17.03,8.54,6.74,32.93,12.18,12.23,14.94,12.95,25.17,13.87,24.3,14.16,25.17,31.43,13.0,24.2,12.66,6.84,15.86,9.75,7.61,29.05,22.31,15.72,25.22,24.3,8.35,22.85,29.15,19.35,32.93,14.21,15.86,15.28,12.13,22.36,5.68,29.15,22.8,19.45,15.52,25.27,32.93,24.2,24.2,14.65,12.08,5.77,4.71,8.78,12.23,12.23,29.15,13.1,22.26,12.56,13.05,13.92,21.39,29.25,12.18,12.18,12.66,12.18,8.63,12.18,14.12,16.93,6.79,29.2,14.02,25.17,12.61,13.68,11.93,13.97,14.02,8.1,12.18,35.41,8.78,16.25,6.64,15.86,17.03,24.2,8.25,12.08,12.13,16.49,6.79,10.72,19.35,8.73,9.65,16.78,12.61,24.25,11.16,20.18,32.93,15.86,12.13,13.87,14.12,24.25,14.07,5.58,13.63,15.52,8.73,25.27,29.54,9.22,15.33,12.13,14.02,8.39,12.13,16.49,9.22,19.35,22.8,29.49,16.93,29.1,15.04,11.59,31.43,18.24,4.47,8.98,29.39,15.71,29.1,8.39,8.93,13.0,16.06,6.69,16.1,6.69,9.51,12.08,5.82,9.41,14.07,22.8,12.23,15.91,9.61,8.0,12.08,12.08,14.12,21.93,15.91,7.38,21.39,29.25,13.19,15.57,19.45,25.17,19.35,12.61,12.13,12.08,12.08,9.51,4.85,14.07,29.1,25.22,31.33,17.03,12.23,6.07,10.82,9.51,8.73,12.23,32.98,19.35,19.45,6.26,12.61,13.1,14.07,15.57,13.05,16.44,8.54,12.13,33.03,5.92,32.98,16.25,29.1,12.08,8.25,8.2,22.36,16.44,24.3,8.63,9.02,12.08,15.76,21.88,5.77,32.98,29.1,14.12,11.59,9.75,12.18,15.57,24.25,31.38,15.76,24.25,29.1,12.08,12.13,15.86,14.07,24.25,13.73,12.18,29.05,32.98,6.69,24.3,7.33,9.12,12.13,32.98,14.65,31.33,9.65,12.95,21.34,19.4,6.69,12.13,15.91,5.77,12.23,12.23,12.18,11.64,22.26,14.07,16.49,9.65,12.23,12.18,12.13,12.95,19.4,29.1,29.15,31.43,16.15,8.97,15.28,10.24,29.1,12.9,29.05,19.35,12.71,24.3,12.08,29.25,13.05,25.22,12.95,16.06,29.05,5.63,19.4,25.17,25.22,14.84,6.69,22.36,15.28,8.2,22.31,12.23,12.18,12.61,14.12,14.07,12.18,17.07,12.18,8.83,14.31,25.22,14.65,12.71,21.88,12.95,8.63,21.83,5.48,22.36,12.13,12.18,12.18,12.18,22.12,33.03,16.1,22.26,19.45,15.77,14.7,14.07,13.73,12.61,8.34,12.18,29.15,24.25,12.32,15.96,6.45,24.3,12.56,22.31,15.52,6.74,6.02,6.74,11.79,29.05,19.35,11.98,11.69,16.44,20.32,14.02,9.07,5.92,15.52,22.31,28.57,24.25,12.08,22.07,21.29,16.49,25.27,11.64,12.61,13.0,31.43,25.17,9.12,31.43,29.05,31.33,24.25,12.37,24.25,29.05,5.63,9.51,15.76,11.64,12.13,14.99,12.18,12.66,12.08,15.52,20.18,31.43,12.18,8.05,14.41,12.23,13.0,24.2,14.75,5.77,13.0,29.05,12.23,29.88,20.23,4.8,14.84,24.25,12.18,10.14,12.13,14.12,11.3,32.93,24.2,8.44,24.25,31.43,9.46,15.81,12.18,29.25,6.84,12.66,12.18,33.03,16.3,12.95,25.27,6.74,21.88,32.98,16.98,11.59,12.18,24.2,16.54,9.27,24.3,12.18,12.13,29.1,12.37,12.13,18.24,12.13,12.08,6.79,12.13,29.49,13.05,15.77,22.26,9.02,7.71,14.65,22.31,5.72,6.69,29.78,16.01,15.96,14.07,24.25,14.84,22.85,20.23,14.6,15.52,8.98,19.4,13.0,5.82,16.06,5.82,13.05,9.22,8.35,25.17,29.05,8.49,6.74,24.2,12.18,19.4,14.07,31.86,12.56,14.07,5.82,19.98,14.07,14.12,12.42,12.13,19.45,12.18,6.69,13.97,5.72,13.1,6.07,12.56,14.07,12.52,21.93,25.27,22.75,12.18,15.38,12.66,25.17,24.25,14.02,31.33,9.7,33.03,24.2,16.15,21.93,9.41,14.12,14.55,33.03,13.0,25.17,5.97,13.0,12.66,14.12,8.3,17.03,14.02,24.2,16.01,25.22,19.45,12.08,24.25,16.98,13.0,13.24,29.39,11.59,12.13,24.2,15.86,12.95,15.86,14.84,5.77,22.8,29.25,22.36,22.26,8.01,16.3,31.43,12.13,8.05,19.4,19.35,16.15,16.05,24.25,9.07,13.05,12.13,24.35,16.01,5.82,16.15,29.68,12.18,12.56,16.1,21.93,5.77,6.02,6.74,11.59,33.03,33.03,5.72,29.15,14.07,6.64,9.6,9.32,25.22,16.93,16.44,14.41,12.13,22.26,24.3,12.27,12.23,14.6,14.94,16.54,11.64,11.69,6.74,9.22,5.77,21.93,9.02,22.8,12.51,14.07,5.34,29.1,6.4,14.12,12.18,19.45,11.59,9.22,12.13,15.76,29.49,19.35,31.43,19.4,11.69,19.3,7.61,8.3,25.17,12.08,12.71,12.18,29.35,25.27,8.54,29.15,17.85,16.1,14.07,15.57,16.44,16.06,6.74,14.07,12.13,8.54,11.59,31.43,16.11,9.41,29.05,5.87,12.18,12.13,16.2,5.97,12.23,14.12,6.74,19.4,12.13,14.16,12.13,31.38,22.85,32.93,19.4,8.1,9.02,9.12,6.69,16.88,16.3,9.27,15.86,12.23,12.13,17.03,13.77,6.01,29.25,16.1,5.73,6.07,15.23,9.17,29.15,29.05,33.03,8.83,6.74,17.03,25.22,9.17,12.18,12.18,15.57,12.13,14.6,11.84,14.07,33.03,8.1,12.18,5.72,15.67,12.18,16.2,6.79,12.61,32.93,14.79,24.2,6.69,12.23,6.74,16.06,12.23,22.8,12.18,9.17,14.07,14.84,6.69,14.07,14.12,6.69,13.58,33.18,29.1,24.25,29.05,6.55,24.3,19.4,20.52,29.39,13.78,14.12,19.4,19.4,6.84,22.8,19.4,14.12,28.62,29.25,9.65,15.71,12.13,15.18,22.36,12.13,12.13,31.43,20.18,16.3,14.07,6.69,24.2,6.69,9.56,8.54,24.2,8.1,19.35,13.68,13.97,9.75,6.74,11.84,16.05,12.23,32.93,14.21,29.1,15.57,12.13,29.15,11.98,29.3,14.02,32.93,14.07,25.17,16.06,24.25,12.13,13.05,12.23,12.18,29.1,12.81,24.3,14.79,29.3,8.93,12.23,16.1,12.08,24.25,12.18,14.07,15.52,12.13,29.44,8.63,5.67,12.18,12.37,19.35,32.98,8.1,11.11,12.56,25.27,12.13,9.41,9.51,25.27,12.56,15.57,19.35,29.1,12.23,14.5,25.22,24.35,21.29,9.46,14.02,15.96,19.4,12.37,12.13,21.93,6.02,19.35,22.02,8.0,29.1,12.95,16.1,5.73,8.1,16.98,8.34,24.25,29.2,14.55,24.2,12.13,19.45,9.75,19.98,11.88,6.69,21.29,11.64,32.93,12.56,14.07,33.03,12.95,12.27,12.18,12.08,12.18,12.22,12.95,29.1,15.23,15.81,15.96,16.25,8.54,29.1,6.74,31.38,22.75,16.93,32.98,5.82,22.26,15.57,33.32,21.34,31.43,9.22,9.55,8.59,14.02,16.15,8.97,9.22,8.97,14.12,19.35,20.52,18.43,9.27,12.47,29.15,12.18,9.51,12.18,12.13,6.79,12.08,13.92,6.84,25.27,9.17,24.3,16.2,20.13,19.35,14.02,22.36,12.08,12.18,12.27,6.64,31.33,6.06,24.2,15.77,29.05,15.96,5.72,5.67,24.2,11.79,8.73,21.93,24.2,22.26,14.5,12.23,20.57,16.05,25.27,7.38,13.78,22.85,12.13,12.9,29.49,15.76,29.25,5.82,21.88,9.51,15.09,24.2,29.25,16.44,24.3,6.06,12.18,12.08,19.45,9.65,19.74,12.18,14.55,6.07,15.91,16.98,25.22,32.93,12.08,29.05,24.3,18.04,9.22,29.2,29.15,12.32,19.35,29.1,29.2,13.68,11.88,14.12,16.06,14.02,24.2,8.2,24.25,25.27,5.97,22.36,24.3,12.13,19.4,12.23,8.54,24.2,8.59,31.67,24.3,29.05,12.13,12.23,16.44,5.05,22.75,16.98,12.13,12.08,12.23,29.05,8.68,29.2,24.2,29.05,9.17,13.0,11.69,13.0,29.25,7.03,16.11,14.8,19.45,8.83,29.1,29.1,29.49,9.07,21.93,16.05,16.98,12.13,12.13,12.66,21.34,14.94,12.13,12.23,29.1,17.08,14.02,14.5,6.69,12.13,12.17,15.77,12.18,12.18,16.1,6.4,9.41,12.08,8.54,24.25,7.28,6.01,16.1,11.59,29.15,5.77,6.79,5.92,5.77,15.72,31.38,19.35,12.08,15.13,29.25,24.25,12.13,12.23,15.81,5.77,9.17,12.47,25.22,33.03,29.44,15.96,12.13,4.75,21.83,6.84,6.74,16.54,29.29,12.23,17.08,12.13,12.61,24.2,7.81,22.85,24.2,14.12,12.23,14.12,24.35,16.74,9.85,9.31,17.03,12.08,12.13,8.39,6.64,9.22,31.33,22.36,20.13,13.1,22.31,14.94,16.15,25.27,9.7,29.1,9.17,9.51,6.02,15.72,21.25,29.1,24.2,9.17,11.69,25.22,31.87,9.22,12.18,16.44,13.1,12.13,12.13,15.57,14.02,24.25,6.69,24.3,24.25,19.45,9.65,12.66,5.72,19.02,16.06,29.15,12.13,19.45,21.83,21.83,29.05,12.56,29.15,12.13,12.23,14.55,34.19,19.45,14.6,5.53,10.82,32.93,19.45,29.15,19.35,14.6,11.59,29.15,29.05,22.46,16.01,11.59,25.22,22.75,7.33,15.81,8.1,16.01,29.73,10.43,32.93,31.33,10.14,13.05,16.2,14.46,19.5,14.5,13.0,25.27,12.08,12.18,29.1,12.61,12.18,8.63,9.02,9.51,29.05,14.02,29.05,16.06,24.3,12.13,9.27,4.9,31.43,9.12,15.33,12.13,16.15,6.74,7.38,6.69,12.47,6.79,12.13,12.18,24.25,22.75,24.3,13.05,15.57,12.95,22.75,24.3,14.02,24.2,6.74,14.02,14.07,12.18,12.95,15.37,7.67,8.3,12.18,29.44,12.56,12.18,14.12,25.22,13.05,12.08,24.2,12.47,5.87,15.47,24.3,15.96,24.2,29.35,8.63,16.44,24.25,14.12,7.91,19.4,21.34,13.19,9.75,8.2,24.2,13.53,12.13,9.56,5.72,9.46,15.91,29.1,12.18,20.13,33.37,29.15,17.03,22.31,31.33,24.2,31.43,29.3,6.02,19.6,6.84,16.49,12.23,5.77,24.3,12.37,19.4,12.23,29.1,12.13,25.27,11.59,13.48,25.27,20.71,24.2,24.2,20.61,13.05,15.76,7.66,10.86,22.26,31.38,29.05,7.81,16.98,29.15,24.3,13.1,25.22,32.93,25.27,12.95,31.43,15.62,5.87,8.83,24.2,29.3,24.3,25.22,12.61,29.1,21.83,9.27,15.37,12.18,12.08,32.93,22.31,15.18,16.01,29.1,12.18,12.08,12.13,12.56,22.36,33.37,12.18,12.23,12.18,5.77,16.3,11.64,15.91,16.49,14.12,7.95,9.7,15.52,16.2,24.3,12.61,22.26,9.07,7.86,12.23,21.39,16.93,14.41,8.05,19.35,16.98,11.64,29.15,12.18,24.25,19.45,16.11,31.43,25.27,12.13,20.86,8.54,31.43,19.4,12.23,6.69,29.59,22.31,12.56,12.23,13.53,8.1,5.92,12.13,13.97,12.23,16.98,9.27,31.43,29.05,14.5,5.82,16.2,8.68,15.67,5.82,29.15,22.31,12.18,25.22,12.18,19.45],\"y0\":\" \",\"yaxis\":\"y\",\"type\":\"box\"}],                        {\"template\":{\"data\":{\"histogram2dcontour\":[{\"type\":\"histogram2dcontour\",\"colorbar\":{\"outlinewidth\":0,\"ticks\":\"\"},\"colorscale\":[[0.0,\"#0d0887\"],[0.1111111111111111,\"#46039f\"],[0.2222222222222222,\"#7201a8\"],[0.3333333333333333,\"#9c179e\"],[0.4444444444444444,\"#bd3786\"],[0.5555555555555556,\"#d8576b\"],[0.6666666666666666,\"#ed7953\"],[0.7777777777777778,\"#fb9f3a\"],[0.8888888888888888,\"#fdca26\"],[1.0,\"#f0f921\"]]}],\"choropleth\":[{\"type\":\"choropleth\",\"colorbar\":{\"outlinewidth\":0,\"ticks\":\"\"}}],\"histogram2d\":[{\"type\":\"histogram2d\",\"colorbar\":{\"outlinewidth\":0,\"ticks\":\"\"},\"colorscale\":[[0.0,\"#0d0887\"],[0.1111111111111111,\"#46039f\"],[0.2222222222222222,\"#7201a8\"],[0.3333333333333333,\"#9c179e\"],[0.4444444444444444,\"#bd3786\"],[0.5555555555555556,\"#d8576b\"],[0.6666666666666666,\"#ed7953\"],[0.7777777777777778,\"#fb9f3a\"],[0.8888888888888888,\"#fdca26\"],[1.0,\"#f0f921\"]]}],\"heatmap\":[{\"type\":\"heatmap\",\"colorbar\":{\"outlinewidth\":0,\"ticks\":\"\"},\"colorscale\":[[0.0,\"#0d0887\"],[0.1111111111111111,\"#46039f\"],[0.2222222222222222,\"#7201a8\"],[0.3333333333333333,\"#9c179e\"],[0.4444444444444444,\"#bd3786\"],[0.5555555555555556,\"#d8576b\"],[0.6666666666666666,\"#ed7953\"],[0.7777777777777778,\"#fb9f3a\"],[0.8888888888888888,\"#fdca26\"],[1.0,\"#f0f921\"]]}],\"heatmapgl\":[{\"type\":\"heatmapgl\",\"colorbar\":{\"outlinewidth\":0,\"ticks\":\"\"},\"colorscale\":[[0.0,\"#0d0887\"],[0.1111111111111111,\"#46039f\"],[0.2222222222222222,\"#7201a8\"],[0.3333333333333333,\"#9c179e\"],[0.4444444444444444,\"#bd3786\"],[0.5555555555555556,\"#d8576b\"],[0.6666666666666666,\"#ed7953\"],[0.7777777777777778,\"#fb9f3a\"],[0.8888888888888888,\"#fdca26\"],[1.0,\"#f0f921\"]]}],\"contourcarpet\":[{\"type\":\"contourcarpet\",\"colorbar\":{\"outlinewidth\":0,\"ticks\":\"\"}}],\"contour\":[{\"type\":\"contour\",\"colorbar\":{\"outlinewidth\":0,\"ticks\":\"\"},\"colorscale\":[[0.0,\"#0d0887\"],[0.1111111111111111,\"#46039f\"],[0.2222222222222222,\"#7201a8\"],[0.3333333333333333,\"#9c179e\"],[0.4444444444444444,\"#bd3786\"],[0.5555555555555556,\"#d8576b\"],[0.6666666666666666,\"#ed7953\"],[0.7777777777777778,\"#fb9f3a\"],[0.8888888888888888,\"#fdca26\"],[1.0,\"#f0f921\"]]}],\"surface\":[{\"type\":\"surface\",\"colorbar\":{\"outlinewidth\":0,\"ticks\":\"\"},\"colorscale\":[[0.0,\"#0d0887\"],[0.1111111111111111,\"#46039f\"],[0.2222222222222222,\"#7201a8\"],[0.3333333333333333,\"#9c179e\"],[0.4444444444444444,\"#bd3786\"],[0.5555555555555556,\"#d8576b\"],[0.6666666666666666,\"#ed7953\"],[0.7777777777777778,\"#fb9f3a\"],[0.8888888888888888,\"#fdca26\"],[1.0,\"#f0f921\"]]}],\"mesh3d\":[{\"type\":\"mesh3d\",\"colorbar\":{\"outlinewidth\":0,\"ticks\":\"\"}}],\"scatter\":[{\"fillpattern\":{\"fillmode\":\"overlay\",\"size\":10,\"solidity\":0.2},\"type\":\"scatter\"}],\"parcoords\":[{\"type\":\"parcoords\",\"line\":{\"colorbar\":{\"outlinewidth\":0,\"ticks\":\"\"}}}],\"scatterpolargl\":[{\"type\":\"scatterpolargl\",\"marker\":{\"colorbar\":{\"outlinewidth\":0,\"ticks\":\"\"}}}],\"bar\":[{\"error_x\":{\"color\":\"#2a3f5f\"},\"error_y\":{\"color\":\"#2a3f5f\"},\"marker\":{\"line\":{\"color\":\"#E5ECF6\",\"width\":0.5},\"pattern\":{\"fillmode\":\"overlay\",\"size\":10,\"solidity\":0.2}},\"type\":\"bar\"}],\"scattergeo\":[{\"type\":\"scattergeo\",\"marker\":{\"colorbar\":{\"outlinewidth\":0,\"ticks\":\"\"}}}],\"scatterpolar\":[{\"type\":\"scatterpolar\",\"marker\":{\"colorbar\":{\"outlinewidth\":0,\"ticks\":\"\"}}}],\"histogram\":[{\"marker\":{\"pattern\":{\"fillmode\":\"overlay\",\"size\":10,\"solidity\":0.2}},\"type\":\"histogram\"}],\"scattergl\":[{\"type\":\"scattergl\",\"marker\":{\"colorbar\":{\"outlinewidth\":0,\"ticks\":\"\"}}}],\"scatter3d\":[{\"type\":\"scatter3d\",\"line\":{\"colorbar\":{\"outlinewidth\":0,\"ticks\":\"\"}},\"marker\":{\"colorbar\":{\"outlinewidth\":0,\"ticks\":\"\"}}}],\"scattermapbox\":[{\"type\":\"scattermapbox\",\"marker\":{\"colorbar\":{\"outlinewidth\":0,\"ticks\":\"\"}}}],\"scatterternary\":[{\"type\":\"scatterternary\",\"marker\":{\"colorbar\":{\"outlinewidth\":0,\"ticks\":\"\"}}}],\"scattercarpet\":[{\"type\":\"scattercarpet\",\"marker\":{\"colorbar\":{\"outlinewidth\":0,\"ticks\":\"\"}}}],\"carpet\":[{\"aaxis\":{\"endlinecolor\":\"#2a3f5f\",\"gridcolor\":\"white\",\"linecolor\":\"white\",\"minorgridcolor\":\"white\",\"startlinecolor\":\"#2a3f5f\"},\"baxis\":{\"endlinecolor\":\"#2a3f5f\",\"gridcolor\":\"white\",\"linecolor\":\"white\",\"minorgridcolor\":\"white\",\"startlinecolor\":\"#2a3f5f\"},\"type\":\"carpet\"}],\"table\":[{\"cells\":{\"fill\":{\"color\":\"#EBF0F8\"},\"line\":{\"color\":\"white\"}},\"header\":{\"fill\":{\"color\":\"#C8D4E3\"},\"line\":{\"color\":\"white\"}},\"type\":\"table\"}],\"barpolar\":[{\"marker\":{\"line\":{\"color\":\"#E5ECF6\",\"width\":0.5},\"pattern\":{\"fillmode\":\"overlay\",\"size\":10,\"solidity\":0.2}},\"type\":\"barpolar\"}],\"pie\":[{\"automargin\":true,\"type\":\"pie\"}]},\"layout\":{\"autotypenumbers\":\"strict\",\"colorway\":[\"#636efa\",\"#EF553B\",\"#00cc96\",\"#ab63fa\",\"#FFA15A\",\"#19d3f3\",\"#FF6692\",\"#B6E880\",\"#FF97FF\",\"#FECB52\"],\"font\":{\"color\":\"#2a3f5f\"},\"hovermode\":\"closest\",\"hoverlabel\":{\"align\":\"left\"},\"paper_bgcolor\":\"white\",\"plot_bgcolor\":\"#E5ECF6\",\"polar\":{\"bgcolor\":\"#E5ECF6\",\"angularaxis\":{\"gridcolor\":\"white\",\"linecolor\":\"white\",\"ticks\":\"\"},\"radialaxis\":{\"gridcolor\":\"white\",\"linecolor\":\"white\",\"ticks\":\"\"}},\"ternary\":{\"bgcolor\":\"#E5ECF6\",\"aaxis\":{\"gridcolor\":\"white\",\"linecolor\":\"white\",\"ticks\":\"\"},\"baxis\":{\"gridcolor\":\"white\",\"linecolor\":\"white\",\"ticks\":\"\"},\"caxis\":{\"gridcolor\":\"white\",\"linecolor\":\"white\",\"ticks\":\"\"}},\"coloraxis\":{\"colorbar\":{\"outlinewidth\":0,\"ticks\":\"\"}},\"colorscale\":{\"sequential\":[[0.0,\"#0d0887\"],[0.1111111111111111,\"#46039f\"],[0.2222222222222222,\"#7201a8\"],[0.3333333333333333,\"#9c179e\"],[0.4444444444444444,\"#bd3786\"],[0.5555555555555556,\"#d8576b\"],[0.6666666666666666,\"#ed7953\"],[0.7777777777777778,\"#fb9f3a\"],[0.8888888888888888,\"#fdca26\"],[1.0,\"#f0f921\"]],\"sequentialminus\":[[0.0,\"#0d0887\"],[0.1111111111111111,\"#46039f\"],[0.2222222222222222,\"#7201a8\"],[0.3333333333333333,\"#9c179e\"],[0.4444444444444444,\"#bd3786\"],[0.5555555555555556,\"#d8576b\"],[0.6666666666666666,\"#ed7953\"],[0.7777777777777778,\"#fb9f3a\"],[0.8888888888888888,\"#fdca26\"],[1.0,\"#f0f921\"]],\"diverging\":[[0,\"#8e0152\"],[0.1,\"#c51b7d\"],[0.2,\"#de77ae\"],[0.3,\"#f1b6da\"],[0.4,\"#fde0ef\"],[0.5,\"#f7f7f7\"],[0.6,\"#e6f5d0\"],[0.7,\"#b8e186\"],[0.8,\"#7fbc41\"],[0.9,\"#4d9221\"],[1,\"#276419\"]]},\"xaxis\":{\"gridcolor\":\"white\",\"linecolor\":\"white\",\"ticks\":\"\",\"title\":{\"standoff\":15},\"zerolinecolor\":\"white\",\"automargin\":true,\"zerolinewidth\":2},\"yaxis\":{\"gridcolor\":\"white\",\"linecolor\":\"white\",\"ticks\":\"\",\"title\":{\"standoff\":15},\"zerolinecolor\":\"white\",\"automargin\":true,\"zerolinewidth\":2},\"scene\":{\"xaxis\":{\"backgroundcolor\":\"#E5ECF6\",\"gridcolor\":\"white\",\"linecolor\":\"white\",\"showbackground\":true,\"ticks\":\"\",\"zerolinecolor\":\"white\",\"gridwidth\":2},\"yaxis\":{\"backgroundcolor\":\"#E5ECF6\",\"gridcolor\":\"white\",\"linecolor\":\"white\",\"showbackground\":true,\"ticks\":\"\",\"zerolinecolor\":\"white\",\"gridwidth\":2},\"zaxis\":{\"backgroundcolor\":\"#E5ECF6\",\"gridcolor\":\"white\",\"linecolor\":\"white\",\"showbackground\":true,\"ticks\":\"\",\"zerolinecolor\":\"white\",\"gridwidth\":2}},\"shapedefaults\":{\"line\":{\"color\":\"#2a3f5f\"}},\"annotationdefaults\":{\"arrowcolor\":\"#2a3f5f\",\"arrowhead\":0,\"arrowwidth\":1},\"geo\":{\"bgcolor\":\"white\",\"landcolor\":\"#E5ECF6\",\"subunitcolor\":\"white\",\"showland\":true,\"showlakes\":true,\"lakecolor\":\"white\"},\"title\":{\"x\":0.05},\"mapbox\":{\"style\":\"light\"}}},\"xaxis\":{\"anchor\":\"y\",\"domain\":[0.0,1.0],\"title\":{\"text\":\"rating\"}},\"yaxis\":{\"anchor\":\"x\",\"domain\":[0.0,1.0],\"title\":{\"text\":\"cost_of_the_order\"}},\"legend\":{\"tracegroupgap\":0},\"margin\":{\"t\":60},\"boxmode\":\"group\"},                        {\"responsive\": true}                    ).then(function(){\n",
              "                            \n",
              "var gd = document.getElementById('e883e07d-6cd1-4c07-8e69-e5567b42da97');\n",
              "var x = new MutationObserver(function (mutations, observer) {{\n",
              "        var display = window.getComputedStyle(gd).display;\n",
              "        if (!display || display === 'none') {{\n",
              "            console.log([gd, 'removed!']);\n",
              "            Plotly.purge(gd);\n",
              "            observer.disconnect();\n",
              "        }}\n",
              "}});\n",
              "\n",
              "// Listen for the removal of the full notebook cells\n",
              "var notebookContainer = gd.closest('#notebook-container');\n",
              "if (notebookContainer) {{\n",
              "    x.observe(notebookContainer, {childList: true});\n",
              "}}\n",
              "\n",
              "// Listen for the clearing of the current output cell\n",
              "var outputEl = gd.closest('.output');\n",
              "if (outputEl) {{\n",
              "    x.observe(outputEl, {childList: true});\n",
              "}}\n",
              "\n",
              "                        })                };                            </script>        </div>\n",
              "</body>\n",
              "</html>"
            ]
          },
          "metadata": {}
        }
      ]
    },
    {
      "cell_type": "code",
      "source": [
        "#Lineplot cost of order vs. rating (dataframe from question 13 used to eliminate 'No Rating' )\n",
        "sns.lineplot(data=rated_rest, x='rating', y='cost_of_the_order')"
      ],
      "metadata": {
        "colab": {
          "base_uri": "https://localhost:8080/",
          "height": 467
        },
        "id": "gJeGqXfOHPDT",
        "outputId": "0fe55bc9-99e0-40a6-aa34-92b74981f2ee"
      },
      "execution_count": null,
      "outputs": [
        {
          "output_type": "execute_result",
          "data": {
            "text/plain": [
              "<Axes: xlabel='rating', ylabel='cost_of_the_order'>"
            ]
          },
          "metadata": {},
          "execution_count": 9
        },
        {
          "output_type": "display_data",
          "data": {
            "text/plain": [
              "<Figure size 640x480 with 1 Axes>"
            ],
            "image/png": "[encoded data removed]"
          },
          "metadata": {}
        }
      ]
    },
    {
      "cell_type": "markdown",
      "metadata": {
        "id": "YLkMf09YJY_V"
      },
      "source": [
        "### **Question 13:** The company wants to provide a promotional offer in the advertisement of the restaurants. The condition to get the offer is that the restaurants must have a rating count of more than 50 and the average rating should be greater than 4. Find the restaurants fulfilling the criteria to get the promotional offer. [3 marks]"
      ]
    },
    {
      "cell_type": "code",
      "execution_count": null,
      "metadata": {
        "id": "0M_QDvbYJY_V",
        "colab": {
          "base_uri": "https://localhost:8080/",
          "height": 423
        },
        "outputId": "8dbddf95-34b5-4649-f003-2d9e50e0ca04"
      },
      "outputs": [
        {
          "output_type": "execute_result",
          "data": {
            "text/plain": [
              "               restaurant_name  rating\n",
              "0                   'wichcraft       1\n",
              "1                Nha Trang One       1\n",
              "2         Moonstruck on Second       1\n",
              "3                   Mira Sushi       1\n",
              "4                 Lucky Strike       1\n",
              "..                         ...     ...\n",
              "151           RedFarm Broadway      41\n",
              "152  Blue Ribbon Fried Chicken      64\n",
              "153          Blue Ribbon Sushi      73\n",
              "154          The Meatball Shop      84\n",
              "155                Shake Shack     133\n",
              "\n",
              "[156 rows x 2 columns]"
            ],
            "text/html": [
              "\n",
              "  <div id=\"df-c3ce7f4b-ab3f-45c3-bfe1-5099f9f0a622\" class=\"colab-df-container\">\n",
              "    <div>\n",
              "<style scoped>\n",
              "    .dataframe tbody tr th:only-of-type {\n",
              "        vertical-align: middle;\n",
              "    }\n",
              "\n",
              "    .dataframe tbody tr th {\n",
              "        vertical-align: top;\n",
              "    }\n",
              "\n",
              "    .dataframe thead th {\n",
              "        text-align: right;\n",
              "    }\n",
              "</style>\n",
              "<table border=\"1\" class=\"dataframe\">\n",
              "  <thead>\n",
              "    <tr style=\"text-align: right;\">\n",
              "      <th></th>\n",
              "      <th>restaurant_name</th>\n",
              "      <th>rating</th>\n",
              "    </tr>\n",
              "  </thead>\n",
              "  <tbody>\n",
              "    <tr>\n",
              "      <th>0</th>\n",
              "      <td>'wichcraft</td>\n",
              "      <td>1</td>\n",
              "    </tr>\n",
              "    <tr>\n",
              "      <th>1</th>\n",
              "      <td>Nha Trang One</td>\n",
              "      <td>1</td>\n",
              "    </tr>\n",
              "    <tr>\n",
              "      <th>2</th>\n",
              "      <td>Moonstruck on Second</td>\n",
              "      <td>1</td>\n",
              "    </tr>\n",
              "    <tr>\n",
              "      <th>3</th>\n",
              "      <td>Mira Sushi</td>\n",
              "      <td>1</td>\n",
              "    </tr>\n",
              "    <tr>\n",
              "      <th>4</th>\n",
              "      <td>Lucky Strike</td>\n",
              "      <td>1</td>\n",
              "    </tr>\n",
              "    <tr>\n",
              "      <th>...</th>\n",
              "      <td>...</td>\n",
              "      <td>...</td>\n",
              "    </tr>\n",
              "    <tr>\n",
              "      <th>151</th>\n",
              "      <td>RedFarm Broadway</td>\n",
              "      <td>41</td>\n",
              "    </tr>\n",
              "    <tr>\n",
              "      <th>152</th>\n",
              "      <td>Blue Ribbon Fried Chicken</td>\n",
              "      <td>64</td>\n",
              "    </tr>\n",
              "    <tr>\n",
              "      <th>153</th>\n",
              "      <td>Blue Ribbon Sushi</td>\n",
              "      <td>73</td>\n",
              "    </tr>\n",
              "    <tr>\n",
              "      <th>154</th>\n",
              "      <td>The Meatball Shop</td>\n",
              "      <td>84</td>\n",
              "    </tr>\n",
              "    <tr>\n",
              "      <th>155</th>\n",
              "      <td>Shake Shack</td>\n",
              "      <td>133</td>\n",
              "    </tr>\n",
              "  </tbody>\n",
              "</table>\n",
              "<p>156 rows × 2 columns</p>\n",
              "</div>\n",
              "    <div class=\"colab-df-buttons\">\n",
              "\n",
              "  <div class=\"colab-df-container\">\n",
              "    <button class=\"colab-df-convert\" onclick=\"convertToInteractive('df-c3ce7f4b-ab3f-45c3-bfe1-5099f9f0a622')\"\n",
              "            title=\"Convert this dataframe to an interactive table.\"\n",
              "            style=\"display:none;\">\n",
              "\n",
              "  <svg xmlns=\"http://www.w3.org/2000/svg\" height=\"24px\" viewBox=\"0 -960 960 960\">\n",
              "    <path d=\"M120-120v-720h720v720H120Zm60-500h600v-160H180v160Zm220 220h160v-160H400v160Zm0 220h160v-160H400v160ZM180-400h160v-160H180v160Zm440 0h160v-160H620v160ZM180-180h160v-160H180v160Zm440 0h160v-160H620v160Z\"/>\n",
              "  </svg>\n",
              "    </button>\n",
              "\n",
              "  <style>\n",
              "    .colab-df-container {\n",
              "      display:flex;\n",
              "      gap: 12px;\n",
              "    }\n",
              "\n",
              "    .colab-df-convert {\n",
              "      background-color: #E8F0FE;\n",
              "      border: none;\n",
              "      border-radius: 50%;\n",
              "      cursor: pointer;\n",
              "      display: none;\n",
              "      fill: #1967D2;\n",
              "      height: 32px;\n",
              "      padding: 0 0 0 0;\n",
              "      width: 32px;\n",
              "    }\n",
              "\n",
              "    .colab-df-convert:hover {\n",
              "      background-color: #E2EBFA;\n",
              "      box-shadow: 0px 1px 2px rgba(60, 64, 67, 0.3), 0px 1px 3px 1px rgba(60, 64, 67, 0.15);\n",
              "      fill: #174EA6;\n",
              "    }\n",
              "\n",
              "    .colab-df-buttons div {\n",
              "      margin-bottom: 4px;\n",
              "    }\n",
              "\n",
              "    [theme=dark] .colab-df-convert {\n",
              "      background-color: #3B4455;\n",
              "      fill: #D2E3FC;\n",
              "    }\n",
              "\n",
              "    [theme=dark] .colab-df-convert:hover {\n",
              "      background-color: #434B5C;\n",
              "      box-shadow: 0px 1px 3px 1px rgba(0, 0, 0, 0.15);\n",
              "      filter: drop-shadow(0px 1px 2px rgba(0, 0, 0, 0.3));\n",
              "      fill: #FFFFFF;\n",
              "    }\n",
              "  </style>\n",
              "\n",
              "    <script>\n",
              "      const buttonEl =\n",
              "        document.querySelector('#df-c3ce7f4b-ab3f-45c3-bfe1-5099f9f0a622 button.colab-df-convert');\n",
              "      buttonEl.style.display =\n",
              "        google.colab.kernel.accessAllowed ? 'block' : 'none';\n",
              "\n",
              "      async function convertToInteractive(key) {\n",
              "        const element = document.querySelector('#df-c3ce7f4b-ab3f-45c3-bfe1-5099f9f0a622');\n",
              "        const dataTable =\n",
              "          await google.colab.kernel.invokeFunction('convertToInteractive',\n",
              "                                                    [key], {});\n",
              "        if (!dataTable) return;\n",
              "\n",
              "        const docLinkHtml = 'Like what you see? Visit the ' +\n",
              "          '<a target=\"_blank\" href=https://colab.research.google.com/notebooks/data_table.ipynb>data table notebook</a>'\n",
              "          + ' to learn more about interactive tables.';\n",
              "        element.innerHTML = '';\n",
              "        dataTable['output_type'] = 'display_data';\n",
              "        await google.colab.output.renderOutput(dataTable, element);\n",
              "        const docLink = document.createElement('div');\n",
              "        docLink.innerHTML = docLinkHtml;\n",
              "        element.appendChild(docLink);\n",
              "      }\n",
              "    </script>\n",
              "  </div>\n",
              "\n",
              "\n",
              "<div id=\"df-77c3e10d-a7e6-4b36-8486-e5a205347e34\">\n",
              "  <button class=\"colab-df-quickchart\" onclick=\"quickchart('df-77c3e10d-a7e6-4b36-8486-e5a205347e34')\"\n",
              "            title=\"Suggest charts\"\n",
              "            style=\"display:none;\">\n",
              "\n",
              "<svg xmlns=\"http://www.w3.org/2000/svg\" height=\"24px\"viewBox=\"0 0 24 24\"\n",
              "     width=\"24px\">\n",
              "    <g>\n",
              "        <path d=\"M19 3H5c-1.1 0-2 .9-2 2v14c0 1.1.9 2 2 2h14c1.1 0 2-.9 2-2V5c0-1.1-.9-2-2-2zM9 17H7v-7h2v7zm4 0h-2V7h2v10zm4 0h-2v-4h2v4z\"/>\n",
              "    </g>\n",
              "</svg>\n",
              "  </button>\n",
              "\n",
              "<style>\n",
              "  .colab-df-quickchart {\n",
              "      --bg-color: #E8F0FE;\n",
              "      --fill-color: #1967D2;\n",
              "      --hover-bg-color: #E2EBFA;\n",
              "      --hover-fill-color: #174EA6;\n",
              "      --disabled-fill-color: #AAA;\n",
              "      --disabled-bg-color: #DDD;\n",
              "  }\n",
              "\n",
              "  [theme=dark] .colab-df-quickchart {\n",
              "      --bg-color: #3B4455;\n",
              "      --fill-color: #D2E3FC;\n",
              "      --hover-bg-color: #434B5C;\n",
              "      --hover-fill-color: #FFFFFF;\n",
              "      --disabled-bg-color: #3B4455;\n",
              "      --disabled-fill-color: #666;\n",
              "  }\n",
              "\n",
              "  .colab-df-quickchart {\n",
              "    background-color: var(--bg-color);\n",
              "    border: none;\n",
              "    border-radius: 50%;\n",
              "    cursor: pointer;\n",
              "    display: none;\n",
              "    fill: var(--fill-color);\n",
              "    height: 32px;\n",
              "    padding: 0;\n",
              "    width: 32px;\n",
              "  }\n",
              "\n",
              "  .colab-df-quickchart:hover {\n",
              "    background-color: var(--hover-bg-color);\n",
              "    box-shadow: 0 1px 2px rgba(60, 64, 67, 0.3), 0 1px 3px 1px rgba(60, 64, 67, 0.15);\n",
              "    fill: var(--button-hover-fill-color);\n",
              "  }\n",
              "\n",
              "  .colab-df-quickchart-complete:disabled,\n",
              "  .colab-df-quickchart-complete:disabled:hover {\n",
              "    background-color: var(--disabled-bg-color);\n",
              "    fill: var(--disabled-fill-color);\n",
              "    box-shadow: none;\n",
              "  }\n",
              "\n",
              "  .colab-df-spinner {\n",
              "    border: 2px solid var(--fill-color);\n",
              "    border-color: transparent;\n",
              "    border-bottom-color: var(--fill-color);\n",
              "    animation:\n",
              "      spin 1s steps(1) infinite;\n",
              "  }\n",
              "\n",
              "  @keyframes spin {\n",
              "    0% {\n",
              "      border-color: transparent;\n",
              "      border-bottom-color: var(--fill-color);\n",
              "      border-left-color: var(--fill-color);\n",
              "    }\n",
              "    20% {\n",
              "      border-color: transparent;\n",
              "      border-left-color: var(--fill-color);\n",
              "      border-top-color: var(--fill-color);\n",
              "    }\n",
              "    30% {\n",
              "      border-color: transparent;\n",
              "      border-left-color: var(--fill-color);\n",
              "      border-top-color: var(--fill-color);\n",
              "      border-right-color: var(--fill-color);\n",
              "    }\n",
              "    40% {\n",
              "      border-color: transparent;\n",
              "      border-right-color: var(--fill-color);\n",
              "      border-top-color: var(--fill-color);\n",
              "    }\n",
              "    60% {\n",
              "      border-color: transparent;\n",
              "      border-right-color: var(--fill-color);\n",
              "    }\n",
              "    80% {\n",
              "      border-color: transparent;\n",
              "      border-right-color: var(--fill-color);\n",
              "      border-bottom-color: var(--fill-color);\n",
              "    }\n",
              "    90% {\n",
              "      border-color: transparent;\n",
              "      border-bottom-color: var(--fill-color);\n",
              "    }\n",
              "  }\n",
              "</style>\n",
              "\n",
              "  <script>\n",
              "    async function quickchart(key) {\n",
              "      const quickchartButtonEl =\n",
              "        document.querySelector('#' + key + ' button');\n",
              "      quickchartButtonEl.disabled = true;  // To prevent multiple clicks.\n",
              "      quickchartButtonEl.classList.add('colab-df-spinner');\n",
              "      try {\n",
              "        const charts = await google.colab.kernel.invokeFunction(\n",
              "            'suggestCharts', [key], {});\n",
              "      } catch (error) {\n",
              "        console.error('Error during call to suggestCharts:', error);\n",
              "      }\n",
              "      quickchartButtonEl.classList.remove('colab-df-spinner');\n",
              "      quickchartButtonEl.classList.add('colab-df-quickchart-complete');\n",
              "    }\n",
              "    (() => {\n",
              "      let quickchartButtonEl =\n",
              "        document.querySelector('#df-77c3e10d-a7e6-4b36-8486-e5a205347e34 button');\n",
              "      quickchartButtonEl.style.display =\n",
              "        google.colab.kernel.accessAllowed ? 'block' : 'none';\n",
              "    })();\n",
              "  </script>\n",
              "</div>\n",
              "\n",
              "  <div id=\"id_6f5d3982-8935-49e9-ad46-f32f817b7c72\">\n",
              "    <style>\n",
              "      .colab-df-generate {\n",
              "        background-color: #E8F0FE;\n",
              "        border: none;\n",
              "        border-radius: 50%;\n",
              "        cursor: pointer;\n",
              "        display: none;\n",
              "        fill: #1967D2;\n",
              "        height: 32px;\n",
              "        padding: 0 0 0 0;\n",
              "        width: 32px;\n",
              "      }\n",
              "\n",
              "      .colab-df-generate:hover {\n",
              "        background-color: #E2EBFA;\n",
              "        box-shadow: 0px 1px 2px rgba(60, 64, 67, 0.3), 0px 1px 3px 1px rgba(60, 64, 67, 0.15);\n",
              "        fill: #174EA6;\n",
              "      }\n",
              "\n",
              "      [theme=dark] .colab-df-generate {\n",
              "        background-color: #3B4455;\n",
              "        fill: #D2E3FC;\n",
              "      }\n",
              "\n",
              "      [theme=dark] .colab-df-generate:hover {\n",
              "        background-color: #434B5C;\n",
              "        box-shadow: 0px 1px 3px 1px rgba(0, 0, 0, 0.15);\n",
              "        filter: drop-shadow(0px 1px 2px rgba(0, 0, 0, 0.3));\n",
              "        fill: #FFFFFF;\n",
              "      }\n",
              "    </style>\n",
              "    <button class=\"colab-df-generate\" onclick=\"generateWithVariable('rated_rest_df')\"\n",
              "            title=\"Generate code using this dataframe.\"\n",
              "            style=\"display:none;\">\n",
              "\n",
              "  <svg xmlns=\"http://www.w3.org/2000/svg\" height=\"24px\"viewBox=\"0 0 24 24\"\n",
              "       width=\"24px\">\n",
              "    <path d=\"M7,19H8.4L18.45,9,17,7.55,7,17.6ZM5,21V16.75L18.45,3.32a2,2,0,0,1,2.83,0l1.4,1.43a1.91,1.91,0,0,1,.58,1.4,1.91,1.91,0,0,1-.58,1.4L9.25,21ZM18.45,9,17,7.55Zm-12,3A5.31,5.31,0,0,0,4.9,8.1,5.31,5.31,0,0,0,1,6.5,5.31,5.31,0,0,0,4.9,4.9,5.31,5.31,0,0,0,6.5,1,5.31,5.31,0,0,0,8.1,4.9,5.31,5.31,0,0,0,12,6.5,5.46,5.46,0,0,0,6.5,12Z\"/>\n",
              "  </svg>\n",
              "    </button>\n",
              "    <script>\n",
              "      (() => {\n",
              "      const buttonEl =\n",
              "        document.querySelector('#id_6f5d3982-8935-49e9-ad46-f32f817b7c72 button.colab-df-generate');\n",
              "      buttonEl.style.display =\n",
              "        google.colab.kernel.accessAllowed ? 'block' : 'none';\n",
              "\n",
              "      buttonEl.onclick = () => {\n",
              "        google.colab.notebook.generateWithVariable('rated_rest_df');\n",
              "      }\n",
              "      })();\n",
              "    </script>\n",
              "  </div>\n",
              "\n",
              "    </div>\n",
              "  </div>\n"
            ]
          },
          "metadata": {},
          "execution_count": 8
        }
      ],
      "source": [
        "#Isolate only restaruants with valid ratings\n",
        "rated_rest = df[df['rating'] != 'Not given'].copy()\n",
        "\n",
        "# Convert restaurant ratings from string to integer\n",
        "rated_rest['rating'] = rated_rest['rating'].astype('int')\n",
        "\n",
        "# Create new dataframe with restaurants that only have ratings as integers\n",
        "rated_rest_df = rated_rest.groupby(['restaurant_name'])['rating'].count().sort_values().reset_index()\n",
        "rated_rest_df\n"
      ]
    },
    {
      "cell_type": "code",
      "source": [
        "# Display restaurants with ratings that have a count of 50+ ratings\n",
        "rest_ratings_50 = rated_rest_df[rated_rest_df['rating'] > 50]['restaurant_name']\n",
        "rest_ratings_50\n"
      ],
      "metadata": {
        "colab": {
          "base_uri": "https://localhost:8080/"
        },
        "id": "QxAziqOUFpvg",
        "outputId": "7054118e-0a4d-4971-d83f-ae02572cda02"
      },
      "execution_count": null,
      "outputs": [
        {
          "output_type": "execute_result",
          "data": {
            "text/plain": [
              "152    Blue Ribbon Fried Chicken\n",
              "153            Blue Ribbon Sushi\n",
              "154            The Meatball Shop\n",
              "155                  Shake Shack\n",
              "Name: restaurant_name, dtype: object"
            ]
          },
          "metadata": {},
          "execution_count": 5
        }
      ]
    },
    {
      "cell_type": "code",
      "source": [
        "#Filter restaurants in initial dataframe that have more than 50 value count reviews\n",
        "rest_rating_avg = rated_rest[rated_rest['restaurant_name'].isin(rest_ratings_50)].copy()\n",
        "rest_rating_avg"
      ],
      "metadata": {
        "colab": {
          "base_uri": "https://localhost:8080/",
          "height": 423
        },
        "id": "bpwe0zEbEUuE",
        "outputId": "3e2569d6-c45d-4b4a-852b-f21bf2ef2dfb"
      },
      "execution_count": null,
      "outputs": [
        {
          "output_type": "execute_result",
          "data": {
            "text/plain": [
              "      order_id  customer_id            restaurant_name cuisine_type  \\\n",
              "3      1477334       106968  Blue Ribbon Fried Chicken     American   \n",
              "12     1476966       129969  Blue Ribbon Fried Chicken     American   \n",
              "15     1477414        66222                Shake Shack     American   \n",
              "19     1477354        67487          Blue Ribbon Sushi     Japanese   \n",
              "22     1478287       150599                Shake Shack     American   \n",
              "...        ...          ...                        ...          ...   \n",
              "1880   1477466       222734                Shake Shack     American   \n",
              "1884   1477437       304993                Shake Shack     American   \n",
              "1885   1477550        97324                Shake Shack     American   \n",
              "1886   1478277        48282          The Meatball Shop     American   \n",
              "1888   1477353       106324          The Meatball Shop      Italian   \n",
              "\n",
              "      cost_of_the_order day_of_the_week  rating  food_preparation_time  \\\n",
              "3                 29.20         Weekend       3                     25   \n",
              "12                24.30         Weekend       5                     23   \n",
              "15                16.20         Weekend       5                     33   \n",
              "19                16.20         Weekend       4                     35   \n",
              "22                29.10         Weekday       5                     21   \n",
              "...                 ...             ...     ...                    ...   \n",
              "1880              13.97         Weekend       5                     35   \n",
              "1884              31.43         Weekend       3                     31   \n",
              "1885              29.05         Weekday       4                     27   \n",
              "1886              14.50         Weekend       5                     34   \n",
              "1888              16.20         Weekend       5                     21   \n",
              "\n",
              "      delivery_time  \n",
              "3                15  \n",
              "12               17  \n",
              "15               25  \n",
              "19               26  \n",
              "22               30  \n",
              "...             ...  \n",
              "1880             27  \n",
              "1884             24  \n",
              "1885             29  \n",
              "1886             25  \n",
              "1888             26  \n",
              "\n",
              "[354 rows x 9 columns]"
            ],
            "text/html": [
              "\n",
              "  <div id=\"df-542d4564-885f-4a19-a450-516471cc42ec\" class=\"colab-df-container\">\n",
              "    <div>\n",
              "<style scoped>\n",
              "    .dataframe tbody tr th:only-of-type {\n",
              "        vertical-align: middle;\n",
              "    }\n",
              "\n",
              "    .dataframe tbody tr th {\n",
              "        vertical-align: top;\n",
              "    }\n",
              "\n",
              "    .dataframe thead th {\n",
              "        text-align: right;\n",
              "    }\n",
              "</style>\n",
              "<table border=\"1\" class=\"dataframe\">\n",
              "  <thead>\n",
              "    <tr style=\"text-align: right;\">\n",
              "      <th></th>\n",
              "      <th>order_id</th>\n",
              "      <th>customer_id</th>\n",
              "      <th>restaurant_name</th>\n",
              "      <th>cuisine_type</th>\n",
              "      <th>cost_of_the_order</th>\n",
              "      <th>day_of_the_week</th>\n",
              "      <th>rating</th>\n",
              "      <th>food_preparation_time</th>\n",
              "      <th>delivery_time</th>\n",
              "    </tr>\n",
              "  </thead>\n",
              "  <tbody>\n",
              "    <tr>\n",
              "      <th>3</th>\n",
              "      <td>1477334</td>\n",
              "      <td>106968</td>\n",
              "      <td>Blue Ribbon Fried Chicken</td>\n",
              "      <td>American</td>\n",
              "      <td>29.20</td>\n",
              "      <td>Weekend</td>\n",
              "      <td>3</td>\n",
              "      <td>25</td>\n",
              "      <td>15</td>\n",
              "    </tr>\n",
              "    <tr>\n",
              "      <th>12</th>\n",
              "      <td>1476966</td>\n",
              "      <td>129969</td>\n",
              "      <td>Blue Ribbon Fried Chicken</td>\n",
              "      <td>American</td>\n",
              "      <td>24.30</td>\n",
              "      <td>Weekend</td>\n",
              "      <td>5</td>\n",
              "      <td>23</td>\n",
              "      <td>17</td>\n",
              "    </tr>\n",
              "    <tr>\n",
              "      <th>15</th>\n",
              "      <td>1477414</td>\n",
              "      <td>66222</td>\n",
              "      <td>Shake Shack</td>\n",
              "      <td>American</td>\n",
              "      <td>16.20</td>\n",
              "      <td>Weekend</td>\n",
              "      <td>5</td>\n",
              "      <td>33</td>\n",
              "      <td>25</td>\n",
              "    </tr>\n",
              "    <tr>\n",
              "      <th>19</th>\n",
              "      <td>1477354</td>\n",
              "      <td>67487</td>\n",
              "      <td>Blue Ribbon Sushi</td>\n",
              "      <td>Japanese</td>\n",
              "      <td>16.20</td>\n",
              "      <td>Weekend</td>\n",
              "      <td>4</td>\n",
              "      <td>35</td>\n",
              "      <td>26</td>\n",
              "    </tr>\n",
              "    <tr>\n",
              "      <th>22</th>\n",
              "      <td>1478287</td>\n",
              "      <td>150599</td>\n",
              "      <td>Shake Shack</td>\n",
              "      <td>American</td>\n",
              "      <td>29.10</td>\n",
              "      <td>Weekday</td>\n",
              "      <td>5</td>\n",
              "      <td>21</td>\n",
              "      <td>30</td>\n",
              "    </tr>\n",
              "    <tr>\n",
              "      <th>...</th>\n",
              "      <td>...</td>\n",
              "      <td>...</td>\n",
              "      <td>...</td>\n",
              "      <td>...</td>\n",
              "      <td>...</td>\n",
              "      <td>...</td>\n",
              "      <td>...</td>\n",
              "      <td>...</td>\n",
              "      <td>...</td>\n",
              "    </tr>\n",
              "    <tr>\n",
              "      <th>1880</th>\n",
              "      <td>1477466</td>\n",
              "      <td>222734</td>\n",
              "      <td>Shake Shack</td>\n",
              "      <td>American</td>\n",
              "      <td>13.97</td>\n",
              "      <td>Weekend</td>\n",
              "      <td>5</td>\n",
              "      <td>35</td>\n",
              "      <td>27</td>\n",
              "    </tr>\n",
              "    <tr>\n",
              "      <th>1884</th>\n",
              "      <td>1477437</td>\n",
              "      <td>304993</td>\n",
              "      <td>Shake Shack</td>\n",
              "      <td>American</td>\n",
              "      <td>31.43</td>\n",
              "      <td>Weekend</td>\n",
              "      <td>3</td>\n",
              "      <td>31</td>\n",
              "      <td>24</td>\n",
              "    </tr>\n",
              "    <tr>\n",
              "      <th>1885</th>\n",
              "      <td>1477550</td>\n",
              "      <td>97324</td>\n",
              "      <td>Shake Shack</td>\n",
              "      <td>American</td>\n",
              "      <td>29.05</td>\n",
              "      <td>Weekday</td>\n",
              "      <td>4</td>\n",
              "      <td>27</td>\n",
              "      <td>29</td>\n",
              "    </tr>\n",
              "    <tr>\n",
              "      <th>1886</th>\n",
              "      <td>1478277</td>\n",
              "      <td>48282</td>\n",
              "      <td>The Meatball Shop</td>\n",
              "      <td>American</td>\n",
              "      <td>14.50</td>\n",
              "      <td>Weekend</td>\n",
              "      <td>5</td>\n",
              "      <td>34</td>\n",
              "      <td>25</td>\n",
              "    </tr>\n",
              "    <tr>\n",
              "      <th>1888</th>\n",
              "      <td>1477353</td>\n",
              "      <td>106324</td>\n",
              "      <td>The Meatball Shop</td>\n",
              "      <td>Italian</td>\n",
              "      <td>16.20</td>\n",
              "      <td>Weekend</td>\n",
              "      <td>5</td>\n",
              "      <td>21</td>\n",
              "      <td>26</td>\n",
              "    </tr>\n",
              "  </tbody>\n",
              "</table>\n",
              "<p>354 rows × 9 columns</p>\n",
              "</div>\n",
              "    <div class=\"colab-df-buttons\">\n",
              "\n",
              "  <div class=\"colab-df-container\">\n",
              "    <button class=\"colab-df-convert\" onclick=\"convertToInteractive('df-542d4564-885f-4a19-a450-516471cc42ec')\"\n",
              "            title=\"Convert this dataframe to an interactive table.\"\n",
              "            style=\"display:none;\">\n",
              "\n",
              "  <svg xmlns=\"http://www.w3.org/2000/svg\" height=\"24px\" viewBox=\"0 -960 960 960\">\n",
              "    <path d=\"M120-120v-720h720v720H120Zm60-500h600v-160H180v160Zm220 220h160v-160H400v160Zm0 220h160v-160H400v160ZM180-400h160v-160H180v160Zm440 0h160v-160H620v160ZM180-180h160v-160H180v160Zm440 0h160v-160H620v160Z\"/>\n",
              "  </svg>\n",
              "    </button>\n",
              "\n",
              "  <style>\n",
              "    .colab-df-container {\n",
              "      display:flex;\n",
              "      gap: 12px;\n",
              "    }\n",
              "\n",
              "    .colab-df-convert {\n",
              "      background-color: #E8F0FE;\n",
              "      border: none;\n",
              "      border-radius: 50%;\n",
              "      cursor: pointer;\n",
              "      display: none;\n",
              "      fill: #1967D2;\n",
              "      height: 32px;\n",
              "      padding: 0 0 0 0;\n",
              "      width: 32px;\n",
              "    }\n",
              "\n",
              "    .colab-df-convert:hover {\n",
              "      background-color: #E2EBFA;\n",
              "      box-shadow: 0px 1px 2px rgba(60, 64, 67, 0.3), 0px 1px 3px 1px rgba(60, 64, 67, 0.15);\n",
              "      fill: #174EA6;\n",
              "    }\n",
              "\n",
              "    .colab-df-buttons div {\n",
              "      margin-bottom: 4px;\n",
              "    }\n",
              "\n",
              "    [theme=dark] .colab-df-convert {\n",
              "      background-color: #3B4455;\n",
              "      fill: #D2E3FC;\n",
              "    }\n",
              "\n",
              "    [theme=dark] .colab-df-convert:hover {\n",
              "      background-color: #434B5C;\n",
              "      box-shadow: 0px 1px 3px 1px rgba(0, 0, 0, 0.15);\n",
              "      filter: drop-shadow(0px 1px 2px rgba(0, 0, 0, 0.3));\n",
              "      fill: #FFFFFF;\n",
              "    }\n",
              "  </style>\n",
              "\n",
              "    <script>\n",
              "      const buttonEl =\n",
              "        document.querySelector('#df-542d4564-885f-4a19-a450-516471cc42ec button.colab-df-convert');\n",
              "      buttonEl.style.display =\n",
              "        google.colab.kernel.accessAllowed ? 'block' : 'none';\n",
              "\n",
              "      async function convertToInteractive(key) {\n",
              "        const element = document.querySelector('#df-542d4564-885f-4a19-a450-516471cc42ec');\n",
              "        const dataTable =\n",
              "          await google.colab.kernel.invokeFunction('convertToInteractive',\n",
              "                                                    [key], {});\n",
              "        if (!dataTable) return;\n",
              "\n",
              "        const docLinkHtml = 'Like what you see? Visit the ' +\n",
              "          '<a target=\"_blank\" href=https://colab.research.google.com/notebooks/data_table.ipynb>data table notebook</a>'\n",
              "          + ' to learn more about interactive tables.';\n",
              "        element.innerHTML = '';\n",
              "        dataTable['output_type'] = 'display_data';\n",
              "        await google.colab.output.renderOutput(dataTable, element);\n",
              "        const docLink = document.createElement('div');\n",
              "        docLink.innerHTML = docLinkHtml;\n",
              "        element.appendChild(docLink);\n",
              "      }\n",
              "    </script>\n",
              "  </div>\n",
              "\n",
              "\n",
              "<div id=\"df-18d4db2d-298c-4364-bceb-02eb04feb970\">\n",
              "  <button class=\"colab-df-quickchart\" onclick=\"quickchart('df-18d4db2d-298c-4364-bceb-02eb04feb970')\"\n",
              "            title=\"Suggest charts\"\n",
              "            style=\"display:none;\">\n",
              "\n",
              "<svg xmlns=\"http://www.w3.org/2000/svg\" height=\"24px\"viewBox=\"0 0 24 24\"\n",
              "     width=\"24px\">\n",
              "    <g>\n",
              "        <path d=\"M19 3H5c-1.1 0-2 .9-2 2v14c0 1.1.9 2 2 2h14c1.1 0 2-.9 2-2V5c0-1.1-.9-2-2-2zM9 17H7v-7h2v7zm4 0h-2V7h2v10zm4 0h-2v-4h2v4z\"/>\n",
              "    </g>\n",
              "</svg>\n",
              "  </button>\n",
              "\n",
              "<style>\n",
              "  .colab-df-quickchart {\n",
              "      --bg-color: #E8F0FE;\n",
              "      --fill-color: #1967D2;\n",
              "      --hover-bg-color: #E2EBFA;\n",
              "      --hover-fill-color: #174EA6;\n",
              "      --disabled-fill-color: #AAA;\n",
              "      --disabled-bg-color: #DDD;\n",
              "  }\n",
              "\n",
              "  [theme=dark] .colab-df-quickchart {\n",
              "      --bg-color: #3B4455;\n",
              "      --fill-color: #D2E3FC;\n",
              "      --hover-bg-color: #434B5C;\n",
              "      --hover-fill-color: #FFFFFF;\n",
              "      --disabled-bg-color: #3B4455;\n",
              "      --disabled-fill-color: #666;\n",
              "  }\n",
              "\n",
              "  .colab-df-quickchart {\n",
              "    background-color: var(--bg-color);\n",
              "    border: none;\n",
              "    border-radius: 50%;\n",
              "    cursor: pointer;\n",
              "    display: none;\n",
              "    fill: var(--fill-color);\n",
              "    height: 32px;\n",
              "    padding: 0;\n",
              "    width: 32px;\n",
              "  }\n",
              "\n",
              "  .colab-df-quickchart:hover {\n",
              "    background-color: var(--hover-bg-color);\n",
              "    box-shadow: 0 1px 2px rgba(60, 64, 67, 0.3), 0 1px 3px 1px rgba(60, 64, 67, 0.15);\n",
              "    fill: var(--button-hover-fill-color);\n",
              "  }\n",
              "\n",
              "  .colab-df-quickchart-complete:disabled,\n",
              "  .colab-df-quickchart-complete:disabled:hover {\n",
              "    background-color: var(--disabled-bg-color);\n",
              "    fill: var(--disabled-fill-color);\n",
              "    box-shadow: none;\n",
              "  }\n",
              "\n",
              "  .colab-df-spinner {\n",
              "    border: 2px solid var(--fill-color);\n",
              "    border-color: transparent;\n",
              "    border-bottom-color: var(--fill-color);\n",
              "    animation:\n",
              "      spin 1s steps(1) infinite;\n",
              "  }\n",
              "\n",
              "  @keyframes spin {\n",
              "    0% {\n",
              "      border-color: transparent;\n",
              "      border-bottom-color: var(--fill-color);\n",
              "      border-left-color: var(--fill-color);\n",
              "    }\n",
              "    20% {\n",
              "      border-color: transparent;\n",
              "      border-left-color: var(--fill-color);\n",
              "      border-top-color: var(--fill-color);\n",
              "    }\n",
              "    30% {\n",
              "      border-color: transparent;\n",
              "      border-left-color: var(--fill-color);\n",
              "      border-top-color: var(--fill-color);\n",
              "      border-right-color: var(--fill-color);\n",
              "    }\n",
              "    40% {\n",
              "      border-color: transparent;\n",
              "      border-right-color: var(--fill-color);\n",
              "      border-top-color: var(--fill-color);\n",
              "    }\n",
              "    60% {\n",
              "      border-color: transparent;\n",
              "      border-right-color: var(--fill-color);\n",
              "    }\n",
              "    80% {\n",
              "      border-color: transparent;\n",
              "      border-right-color: var(--fill-color);\n",
              "      border-bottom-color: var(--fill-color);\n",
              "    }\n",
              "    90% {\n",
              "      border-color: transparent;\n",
              "      border-bottom-color: var(--fill-color);\n",
              "    }\n",
              "  }\n",
              "</style>\n",
              "\n",
              "  <script>\n",
              "    async function quickchart(key) {\n",
              "      const quickchartButtonEl =\n",
              "        document.querySelector('#' + key + ' button');\n",
              "      quickchartButtonEl.disabled = true;  // To prevent multiple clicks.\n",
              "      quickchartButtonEl.classList.add('colab-df-spinner');\n",
              "      try {\n",
              "        const charts = await google.colab.kernel.invokeFunction(\n",
              "            'suggestCharts', [key], {});\n",
              "      } catch (error) {\n",
              "        console.error('Error during call to suggestCharts:', error);\n",
              "      }\n",
              "      quickchartButtonEl.classList.remove('colab-df-spinner');\n",
              "      quickchartButtonEl.classList.add('colab-df-quickchart-complete');\n",
              "    }\n",
              "    (() => {\n",
              "      let quickchartButtonEl =\n",
              "        document.querySelector('#df-18d4db2d-298c-4364-bceb-02eb04feb970 button');\n",
              "      quickchartButtonEl.style.display =\n",
              "        google.colab.kernel.accessAllowed ? 'block' : 'none';\n",
              "    })();\n",
              "  </script>\n",
              "</div>\n",
              "\n",
              "  <div id=\"id_6ec4bdc8-f35d-40a9-91c9-983160e3512d\">\n",
              "    <style>\n",
              "      .colab-df-generate {\n",
              "        background-color: #E8F0FE;\n",
              "        border: none;\n",
              "        border-radius: 50%;\n",
              "        cursor: pointer;\n",
              "        display: none;\n",
              "        fill: #1967D2;\n",
              "        height: 32px;\n",
              "        padding: 0 0 0 0;\n",
              "        width: 32px;\n",
              "      }\n",
              "\n",
              "      .colab-df-generate:hover {\n",
              "        background-color: #E2EBFA;\n",
              "        box-shadow: 0px 1px 2px rgba(60, 64, 67, 0.3), 0px 1px 3px 1px rgba(60, 64, 67, 0.15);\n",
              "        fill: #174EA6;\n",
              "      }\n",
              "\n",
              "      [theme=dark] .colab-df-generate {\n",
              "        background-color: #3B4455;\n",
              "        fill: #D2E3FC;\n",
              "      }\n",
              "\n",
              "      [theme=dark] .colab-df-generate:hover {\n",
              "        background-color: #434B5C;\n",
              "        box-shadow: 0px 1px 3px 1px rgba(0, 0, 0, 0.15);\n",
              "        filter: drop-shadow(0px 1px 2px rgba(0, 0, 0, 0.3));\n",
              "        fill: #FFFFFF;\n",
              "      }\n",
              "    </style>\n",
              "    <button class=\"colab-df-generate\" onclick=\"generateWithVariable('rest_rating_avg')\"\n",
              "            title=\"Generate code using this dataframe.\"\n",
              "            style=\"display:none;\">\n",
              "\n",
              "  <svg xmlns=\"http://www.w3.org/2000/svg\" height=\"24px\"viewBox=\"0 0 24 24\"\n",
              "       width=\"24px\">\n",
              "    <path d=\"M7,19H8.4L18.45,9,17,7.55,7,17.6ZM5,21V16.75L18.45,3.32a2,2,0,0,1,2.83,0l1.4,1.43a1.91,1.91,0,0,1,.58,1.4,1.91,1.91,0,0,1-.58,1.4L9.25,21ZM18.45,9,17,7.55Zm-12,3A5.31,5.31,0,0,0,4.9,8.1,5.31,5.31,0,0,0,1,6.5,5.31,5.31,0,0,0,4.9,4.9,5.31,5.31,0,0,0,6.5,1,5.31,5.31,0,0,0,8.1,4.9,5.31,5.31,0,0,0,12,6.5,5.46,5.46,0,0,0,6.5,12Z\"/>\n",
              "  </svg>\n",
              "    </button>\n",
              "    <script>\n",
              "      (() => {\n",
              "      const buttonEl =\n",
              "        document.querySelector('#id_6ec4bdc8-f35d-40a9-91c9-983160e3512d button.colab-df-generate');\n",
              "      buttonEl.style.display =\n",
              "        google.colab.kernel.accessAllowed ? 'block' : 'none';\n",
              "\n",
              "      buttonEl.onclick = () => {\n",
              "        google.colab.notebook.generateWithVariable('rest_rating_avg');\n",
              "      }\n",
              "      })();\n",
              "    </script>\n",
              "  </div>\n",
              "\n",
              "    </div>\n",
              "  </div>\n"
            ]
          },
          "metadata": {},
          "execution_count": 8
        }
      ]
    },
    {
      "cell_type": "code",
      "source": [
        "#Group restaurants with 50+ rating value counts by their respective average ratings\n",
        "rest_rating_avg.groupby(['restaurant_name'])['rating'].mean().sort_values()\n"
      ],
      "metadata": {
        "colab": {
          "base_uri": "https://localhost:8080/"
        },
        "id": "m5fgnAmlJp2a",
        "outputId": "ab1ea04b-fde3-4f34-c7d0-b8d532653bfa"
      },
      "execution_count": null,
      "outputs": [
        {
          "output_type": "execute_result",
          "data": {
            "text/plain": [
              "restaurant_name\n",
              "Blue Ribbon Sushi            4.219178\n",
              "Shake Shack                  4.278195\n",
              "Blue Ribbon Fried Chicken    4.328125\n",
              "The Meatball Shop            4.511905\n",
              "Name: rating, dtype: float64"
            ]
          },
          "metadata": {},
          "execution_count": 10
        }
      ]
    },
    {
      "cell_type": "markdown",
      "metadata": {
        "id": "10uryUMhJY_V"
      },
      "source": [
        "#### Observations:\n",
        "\n",
        "The following restaurants all have more than 50 reviews and an average rating of at least 4\n",
        "\n",
        "*   Blue Ribbon Sushi\n",
        "*   Shake Shack\n",
        "*   Blue Ribbon Fried Chicken\n",
        "*   The Meatball Shop\n",
        "\n",
        "\n",
        "\n",
        "\n"
      ]
    },
    {
      "cell_type": "markdown",
      "metadata": {
        "id": "1gvWBkRUJY_V"
      },
      "source": [
        "### **Question 14:** The company charges the restaurant 25% on the orders having cost greater than 20 dollars and 15% on the orders having cost greater than 5 dollars. Find the net revenue generated by the company across all orders. [3 marks]"
      ]
    },
    {
      "cell_type": "code",
      "execution_count": null,
      "metadata": {
        "id": "rEjbnTNEJY_W"
      },
      "outputs": [],
      "source": [
        "#Function to apply restaurant charges for cost of orders of various amounts\n",
        "def rest_charges(x):\n",
        "  if x > 20:\n",
        "    return x*0.25\n",
        "  elif x > 5:\n",
        "    return x*0.15\n",
        "  else:\n",
        "    return x*0"
      ]
    },
    {
      "cell_type": "code",
      "source": [
        "#apply the function to the cost of the orders within the dataframe\n",
        "df['cost_of_the_order'].apply(rest_charges)"
      ],
      "metadata": {
        "colab": {
          "base_uri": "https://localhost:8080/"
        },
        "id": "qw-eVKbqr0s_",
        "outputId": "a4a61e11-8988-441b-fe9a-cf6de3edfb38"
      },
      "execution_count": null,
      "outputs": [
        {
          "output_type": "execute_result",
          "data": {
            "text/plain": [
              "0       7.6875\n",
              "1       1.8120\n",
              "2       1.8345\n",
              "3       7.3000\n",
              "4       1.7385\n",
              "         ...  \n",
              "1893    5.5775\n",
              "1894    1.8270\n",
              "1895    6.3050\n",
              "1896    1.8270\n",
              "1897    2.9175\n",
              "Name: cost_of_the_order, Length: 1898, dtype: float64"
            ]
          },
          "metadata": {},
          "execution_count": 13
        }
      ]
    },
    {
      "cell_type": "code",
      "source": [
        "#Add column to the dataframe displaying the additional restaurant charges\n",
        "df['rest_charge_revenue'] = df['cost_of_the_order'].apply(rest_charges)\n",
        "df.head()"
      ],
      "metadata": {
        "colab": {
          "base_uri": "https://localhost:8080/",
          "height": 258
        },
        "id": "mhV0OIzDtE41",
        "outputId": "26a3062a-c01f-48d2-8788-1670a268f3ba"
      },
      "execution_count": null,
      "outputs": [
        {
          "output_type": "execute_result",
          "data": {
            "text/plain": [
              "   order_id  customer_id            restaurant_name cuisine_type  \\\n",
              "0   1477147       337525                    Hangawi       Korean   \n",
              "1   1477685       358141  Blue Ribbon Sushi Izakaya     Japanese   \n",
              "2   1477070        66393                Cafe Habana      Mexican   \n",
              "3   1477334       106968  Blue Ribbon Fried Chicken     American   \n",
              "4   1478249        76942           Dirty Bird to Go     American   \n",
              "\n",
              "   cost_of_the_order day_of_the_week     rating  food_preparation_time  \\\n",
              "0              30.75         Weekend  Not given                     25   \n",
              "1              12.08         Weekend  Not given                     25   \n",
              "2              12.23         Weekday          5                     23   \n",
              "3              29.20         Weekend          3                     25   \n",
              "4              11.59         Weekday          4                     25   \n",
              "\n",
              "   delivery_time  rest_charge_revenue  \n",
              "0             20               7.6875  \n",
              "1             23               1.8120  \n",
              "2             28               1.8345  \n",
              "3             15               7.3000  \n",
              "4             24               1.7385  "
            ],
            "text/html": [
              "\n",
              "  <div id=\"df-a3c8c313-9e25-48c9-b723-cfa1bf3b1e36\" class=\"colab-df-container\">\n",
              "    <div>\n",
              "<style scoped>\n",
              "    .dataframe tbody tr th:only-of-type {\n",
              "        vertical-align: middle;\n",
              "    }\n",
              "\n",
              "    .dataframe tbody tr th {\n",
              "        vertical-align: top;\n",
              "    }\n",
              "\n",
              "    .dataframe thead th {\n",
              "        text-align: right;\n",
              "    }\n",
              "</style>\n",
              "<table border=\"1\" class=\"dataframe\">\n",
              "  <thead>\n",
              "    <tr style=\"text-align: right;\">\n",
              "      <th></th>\n",
              "      <th>order_id</th>\n",
              "      <th>customer_id</th>\n",
              "      <th>restaurant_name</th>\n",
              "      <th>cuisine_type</th>\n",
              "      <th>cost_of_the_order</th>\n",
              "      <th>day_of_the_week</th>\n",
              "      <th>rating</th>\n",
              "      <th>food_preparation_time</th>\n",
              "      <th>delivery_time</th>\n",
              "      <th>rest_charge_revenue</th>\n",
              "    </tr>\n",
              "  </thead>\n",
              "  <tbody>\n",
              "    <tr>\n",
              "      <th>0</th>\n",
              "      <td>1477147</td>\n",
              "      <td>337525</td>\n",
              "      <td>Hangawi</td>\n",
              "      <td>Korean</td>\n",
              "      <td>30.75</td>\n",
              "      <td>Weekend</td>\n",
              "      <td>Not given</td>\n",
              "      <td>25</td>\n",
              "      <td>20</td>\n",
              "      <td>7.6875</td>\n",
              "    </tr>\n",
              "    <tr>\n",
              "      <th>1</th>\n",
              "      <td>1477685</td>\n",
              "      <td>358141</td>\n",
              "      <td>Blue Ribbon Sushi Izakaya</td>\n",
              "      <td>Japanese</td>\n",
              "      <td>12.08</td>\n",
              "      <td>Weekend</td>\n",
              "      <td>Not given</td>\n",
              "      <td>25</td>\n",
              "      <td>23</td>\n",
              "      <td>1.8120</td>\n",
              "    </tr>\n",
              "    <tr>\n",
              "      <th>2</th>\n",
              "      <td>1477070</td>\n",
              "      <td>66393</td>\n",
              "      <td>Cafe Habana</td>\n",
              "      <td>Mexican</td>\n",
              "      <td>12.23</td>\n",
              "      <td>Weekday</td>\n",
              "      <td>5</td>\n",
              "      <td>23</td>\n",
              "      <td>28</td>\n",
              "      <td>1.8345</td>\n",
              "    </tr>\n",
              "    <tr>\n",
              "      <th>3</th>\n",
              "      <td>1477334</td>\n",
              "      <td>106968</td>\n",
              "      <td>Blue Ribbon Fried Chicken</td>\n",
              "      <td>American</td>\n",
              "      <td>29.20</td>\n",
              "      <td>Weekend</td>\n",
              "      <td>3</td>\n",
              "      <td>25</td>\n",
              "      <td>15</td>\n",
              "      <td>7.3000</td>\n",
              "    </tr>\n",
              "    <tr>\n",
              "      <th>4</th>\n",
              "      <td>1478249</td>\n",
              "      <td>76942</td>\n",
              "      <td>Dirty Bird to Go</td>\n",
              "      <td>American</td>\n",
              "      <td>11.59</td>\n",
              "      <td>Weekday</td>\n",
              "      <td>4</td>\n",
              "      <td>25</td>\n",
              "      <td>24</td>\n",
              "      <td>1.7385</td>\n",
              "    </tr>\n",
              "  </tbody>\n",
              "</table>\n",
              "</div>\n",
              "    <div class=\"colab-df-buttons\">\n",
              "\n",
              "  <div class=\"colab-df-container\">\n",
              "    <button class=\"colab-df-convert\" onclick=\"convertToInteractive('df-a3c8c313-9e25-48c9-b723-cfa1bf3b1e36')\"\n",
              "            title=\"Convert this dataframe to an interactive table.\"\n",
              "            style=\"display:none;\">\n",
              "\n",
              "  <svg xmlns=\"http://www.w3.org/2000/svg\" height=\"24px\" viewBox=\"0 -960 960 960\">\n",
              "    <path d=\"M120-120v-720h720v720H120Zm60-500h600v-160H180v160Zm220 220h160v-160H400v160Zm0 220h160v-160H400v160ZM180-400h160v-160H180v160Zm440 0h160v-160H620v160ZM180-180h160v-160H180v160Zm440 0h160v-160H620v160Z\"/>\n",
              "  </svg>\n",
              "    </button>\n",
              "\n",
              "  <style>\n",
              "    .colab-df-container {\n",
              "      display:flex;\n",
              "      gap: 12px;\n",
              "    }\n",
              "\n",
              "    .colab-df-convert {\n",
              "      background-color: #E8F0FE;\n",
              "      border: none;\n",
              "      border-radius: 50%;\n",
              "      cursor: pointer;\n",
              "      display: none;\n",
              "      fill: #1967D2;\n",
              "      height: 32px;\n",
              "      padding: 0 0 0 0;\n",
              "      width: 32px;\n",
              "    }\n",
              "\n",
              "    .colab-df-convert:hover {\n",
              "      background-color: #E2EBFA;\n",
              "      box-shadow: 0px 1px 2px rgba(60, 64, 67, 0.3), 0px 1px 3px 1px rgba(60, 64, 67, 0.15);\n",
              "      fill: #174EA6;\n",
              "    }\n",
              "\n",
              "    .colab-df-buttons div {\n",
              "      margin-bottom: 4px;\n",
              "    }\n",
              "\n",
              "    [theme=dark] .colab-df-convert {\n",
              "      background-color: #3B4455;\n",
              "      fill: #D2E3FC;\n",
              "    }\n",
              "\n",
              "    [theme=dark] .colab-df-convert:hover {\n",
              "      background-color: #434B5C;\n",
              "      box-shadow: 0px 1px 3px 1px rgba(0, 0, 0, 0.15);\n",
              "      filter: drop-shadow(0px 1px 2px rgba(0, 0, 0, 0.3));\n",
              "      fill: #FFFFFF;\n",
              "    }\n",
              "  </style>\n",
              "\n",
              "    <script>\n",
              "      const buttonEl =\n",
              "        document.querySelector('#df-a3c8c313-9e25-48c9-b723-cfa1bf3b1e36 button.colab-df-convert');\n",
              "      buttonEl.style.display =\n",
              "        google.colab.kernel.accessAllowed ? 'block' : 'none';\n",
              "\n",
              "      async function convertToInteractive(key) {\n",
              "        const element = document.querySelector('#df-a3c8c313-9e25-48c9-b723-cfa1bf3b1e36');\n",
              "        const dataTable =\n",
              "          await google.colab.kernel.invokeFunction('convertToInteractive',\n",
              "                                                    [key], {});\n",
              "        if (!dataTable) return;\n",
              "\n",
              "        const docLinkHtml = 'Like what you see? Visit the ' +\n",
              "          '<a target=\"_blank\" href=https://colab.research.google.com/notebooks/data_table.ipynb>data table notebook</a>'\n",
              "          + ' to learn more about interactive tables.';\n",
              "        element.innerHTML = '';\n",
              "        dataTable['output_type'] = 'display_data';\n",
              "        await google.colab.output.renderOutput(dataTable, element);\n",
              "        const docLink = document.createElement('div');\n",
              "        docLink.innerHTML = docLinkHtml;\n",
              "        element.appendChild(docLink);\n",
              "      }\n",
              "    </script>\n",
              "  </div>\n",
              "\n",
              "\n",
              "<div id=\"df-271e88c9-c60c-421b-99e2-a954e0ae1cb1\">\n",
              "  <button class=\"colab-df-quickchart\" onclick=\"quickchart('df-271e88c9-c60c-421b-99e2-a954e0ae1cb1')\"\n",
              "            title=\"Suggest charts\"\n",
              "            style=\"display:none;\">\n",
              "\n",
              "<svg xmlns=\"http://www.w3.org/2000/svg\" height=\"24px\"viewBox=\"0 0 24 24\"\n",
              "     width=\"24px\">\n",
              "    <g>\n",
              "        <path d=\"M19 3H5c-1.1 0-2 .9-2 2v14c0 1.1.9 2 2 2h14c1.1 0 2-.9 2-2V5c0-1.1-.9-2-2-2zM9 17H7v-7h2v7zm4 0h-2V7h2v10zm4 0h-2v-4h2v4z\"/>\n",
              "    </g>\n",
              "</svg>\n",
              "  </button>\n",
              "\n",
              "<style>\n",
              "  .colab-df-quickchart {\n",
              "      --bg-color: #E8F0FE;\n",
              "      --fill-color: #1967D2;\n",
              "      --hover-bg-color: #E2EBFA;\n",
              "      --hover-fill-color: #174EA6;\n",
              "      --disabled-fill-color: #AAA;\n",
              "      --disabled-bg-color: #DDD;\n",
              "  }\n",
              "\n",
              "  [theme=dark] .colab-df-quickchart {\n",
              "      --bg-color: #3B4455;\n",
              "      --fill-color: #D2E3FC;\n",
              "      --hover-bg-color: #434B5C;\n",
              "      --hover-fill-color: #FFFFFF;\n",
              "      --disabled-bg-color: #3B4455;\n",
              "      --disabled-fill-color: #666;\n",
              "  }\n",
              "\n",
              "  .colab-df-quickchart {\n",
              "    background-color: var(--bg-color);\n",
              "    border: none;\n",
              "    border-radius: 50%;\n",
              "    cursor: pointer;\n",
              "    display: none;\n",
              "    fill: var(--fill-color);\n",
              "    height: 32px;\n",
              "    padding: 0;\n",
              "    width: 32px;\n",
              "  }\n",
              "\n",
              "  .colab-df-quickchart:hover {\n",
              "    background-color: var(--hover-bg-color);\n",
              "    box-shadow: 0 1px 2px rgba(60, 64, 67, 0.3), 0 1px 3px 1px rgba(60, 64, 67, 0.15);\n",
              "    fill: var(--button-hover-fill-color);\n",
              "  }\n",
              "\n",
              "  .colab-df-quickchart-complete:disabled,\n",
              "  .colab-df-quickchart-complete:disabled:hover {\n",
              "    background-color: var(--disabled-bg-color);\n",
              "    fill: var(--disabled-fill-color);\n",
              "    box-shadow: none;\n",
              "  }\n",
              "\n",
              "  .colab-df-spinner {\n",
              "    border: 2px solid var(--fill-color);\n",
              "    border-color: transparent;\n",
              "    border-bottom-color: var(--fill-color);\n",
              "    animation:\n",
              "      spin 1s steps(1) infinite;\n",
              "  }\n",
              "\n",
              "  @keyframes spin {\n",
              "    0% {\n",
              "      border-color: transparent;\n",
              "      border-bottom-color: var(--fill-color);\n",
              "      border-left-color: var(--fill-color);\n",
              "    }\n",
              "    20% {\n",
              "      border-color: transparent;\n",
              "      border-left-color: var(--fill-color);\n",
              "      border-top-color: var(--fill-color);\n",
              "    }\n",
              "    30% {\n",
              "      border-color: transparent;\n",
              "      border-left-color: var(--fill-color);\n",
              "      border-top-color: var(--fill-color);\n",
              "      border-right-color: var(--fill-color);\n",
              "    }\n",
              "    40% {\n",
              "      border-color: transparent;\n",
              "      border-right-color: var(--fill-color);\n",
              "      border-top-color: var(--fill-color);\n",
              "    }\n",
              "    60% {\n",
              "      border-color: transparent;\n",
              "      border-right-color: var(--fill-color);\n",
              "    }\n",
              "    80% {\n",
              "      border-color: transparent;\n",
              "      border-right-color: var(--fill-color);\n",
              "      border-bottom-color: var(--fill-color);\n",
              "    }\n",
              "    90% {\n",
              "      border-color: transparent;\n",
              "      border-bottom-color: var(--fill-color);\n",
              "    }\n",
              "  }\n",
              "</style>\n",
              "\n",
              "  <script>\n",
              "    async function quickchart(key) {\n",
              "      const quickchartButtonEl =\n",
              "        document.querySelector('#' + key + ' button');\n",
              "      quickchartButtonEl.disabled = true;  // To prevent multiple clicks.\n",
              "      quickchartButtonEl.classList.add('colab-df-spinner');\n",
              "      try {\n",
              "        const charts = await google.colab.kernel.invokeFunction(\n",
              "            'suggestCharts', [key], {});\n",
              "      } catch (error) {\n",
              "        console.error('Error during call to suggestCharts:', error);\n",
              "      }\n",
              "      quickchartButtonEl.classList.remove('colab-df-spinner');\n",
              "      quickchartButtonEl.classList.add('colab-df-quickchart-complete');\n",
              "    }\n",
              "    (() => {\n",
              "      let quickchartButtonEl =\n",
              "        document.querySelector('#df-271e88c9-c60c-421b-99e2-a954e0ae1cb1 button');\n",
              "      quickchartButtonEl.style.display =\n",
              "        google.colab.kernel.accessAllowed ? 'block' : 'none';\n",
              "    })();\n",
              "  </script>\n",
              "</div>\n",
              "\n",
              "    </div>\n",
              "  </div>\n"
            ]
          },
          "metadata": {},
          "execution_count": 20
        }
      ]
    },
    {
      "cell_type": "code",
      "source": [
        "#Find the sum of all the restaurant charges\n",
        "df['rest_charge_revenue'].sum()"
      ],
      "metadata": {
        "colab": {
          "base_uri": "https://localhost:8080/"
        },
        "id": "TGRQqv7utiId",
        "outputId": "0d18feda-9402-404a-d383-08310164752f"
      },
      "execution_count": null,
      "outputs": [
        {
          "output_type": "execute_result",
          "data": {
            "text/plain": [
              "6166.303"
            ]
          },
          "metadata": {},
          "execution_count": 21
        }
      ]
    },
    {
      "cell_type": "markdown",
      "metadata": {
        "id": "XHCEJgH0JY_W"
      },
      "source": [
        "#### Observations:\n",
        "\n",
        "\n",
        "*   Total Revenue across all restaruant charges = $6166.30\n",
        "\n"
      ]
    },
    {
      "cell_type": "markdown",
      "metadata": {
        "id": "pRlVW-oeJY_W"
      },
      "source": [
        "### **Question 15:** The company wants to analyze the total time required to deliver the food. What percentage of orders take more than 60 minutes to get delivered from the time the order is placed? (The food has to be prepared and then delivered.) [2 marks]"
      ]
    },
    {
      "cell_type": "code",
      "execution_count": null,
      "metadata": {
        "id": "zxoTrxfLJY_W",
        "colab": {
          "base_uri": "https://localhost:8080/",
          "height": 278
        },
        "outputId": "e5cef216-c9b8-4f4f-c62b-2c4056c0ed79"
      },
      "outputs": [
        {
          "output_type": "execute_result",
          "data": {
            "text/plain": [
              "   order_id  customer_id            restaurant_name cuisine_type  \\\n",
              "0   1477147       337525                    Hangawi       Korean   \n",
              "1   1477685       358141  Blue Ribbon Sushi Izakaya     Japanese   \n",
              "2   1477070        66393                Cafe Habana      Mexican   \n",
              "3   1477334       106968  Blue Ribbon Fried Chicken     American   \n",
              "4   1478249        76942           Dirty Bird to Go     American   \n",
              "\n",
              "   cost_of_the_order day_of_the_week     rating  food_preparation_time  \\\n",
              "0              30.75         Weekend  Not given                     25   \n",
              "1              12.08         Weekend  Not given                     25   \n",
              "2              12.23         Weekday          5                     23   \n",
              "3              29.20         Weekend          3                     25   \n",
              "4              11.59         Weekday          4                     25   \n",
              "\n",
              "   delivery_time  rest_charge_revenue  total_time  \n",
              "0             20               7.6875       55.75  \n",
              "1             23               1.8120       37.08  \n",
              "2             28               1.8345       35.23  \n",
              "3             15               7.3000       54.20  \n",
              "4             24               1.7385       36.59  "
            ],
            "text/html": [
              "\n",
              "  <div id=\"df-5e4cffdc-0b87-4755-8604-525eacfd0300\" class=\"colab-df-container\">\n",
              "    <div>\n",
              "<style scoped>\n",
              "    .dataframe tbody tr th:only-of-type {\n",
              "        vertical-align: middle;\n",
              "    }\n",
              "\n",
              "    .dataframe tbody tr th {\n",
              "        vertical-align: top;\n",
              "    }\n",
              "\n",
              "    .dataframe thead th {\n",
              "        text-align: right;\n",
              "    }\n",
              "</style>\n",
              "<table border=\"1\" class=\"dataframe\">\n",
              "  <thead>\n",
              "    <tr style=\"text-align: right;\">\n",
              "      <th></th>\n",
              "      <th>order_id</th>\n",
              "      <th>customer_id</th>\n",
              "      <th>restaurant_name</th>\n",
              "      <th>cuisine_type</th>\n",
              "      <th>cost_of_the_order</th>\n",
              "      <th>day_of_the_week</th>\n",
              "      <th>rating</th>\n",
              "      <th>food_preparation_time</th>\n",
              "      <th>delivery_time</th>\n",
              "      <th>rest_charge_revenue</th>\n",
              "      <th>total_time</th>\n",
              "    </tr>\n",
              "  </thead>\n",
              "  <tbody>\n",
              "    <tr>\n",
              "      <th>0</th>\n",
              "      <td>1477147</td>\n",
              "      <td>337525</td>\n",
              "      <td>Hangawi</td>\n",
              "      <td>Korean</td>\n",
              "      <td>30.75</td>\n",
              "      <td>Weekend</td>\n",
              "      <td>Not given</td>\n",
              "      <td>25</td>\n",
              "      <td>20</td>\n",
              "      <td>7.6875</td>\n",
              "      <td>55.75</td>\n",
              "    </tr>\n",
              "    <tr>\n",
              "      <th>1</th>\n",
              "      <td>1477685</td>\n",
              "      <td>358141</td>\n",
              "      <td>Blue Ribbon Sushi Izakaya</td>\n",
              "      <td>Japanese</td>\n",
              "      <td>12.08</td>\n",
              "      <td>Weekend</td>\n",
              "      <td>Not given</td>\n",
              "      <td>25</td>\n",
              "      <td>23</td>\n",
              "      <td>1.8120</td>\n",
              "      <td>37.08</td>\n",
              "    </tr>\n",
              "    <tr>\n",
              "      <th>2</th>\n",
              "      <td>1477070</td>\n",
              "      <td>66393</td>\n",
              "      <td>Cafe Habana</td>\n",
              "      <td>Mexican</td>\n",
              "      <td>12.23</td>\n",
              "      <td>Weekday</td>\n",
              "      <td>5</td>\n",
              "      <td>23</td>\n",
              "      <td>28</td>\n",
              "      <td>1.8345</td>\n",
              "      <td>35.23</td>\n",
              "    </tr>\n",
              "    <tr>\n",
              "      <th>3</th>\n",
              "      <td>1477334</td>\n",
              "      <td>106968</td>\n",
              "      <td>Blue Ribbon Fried Chicken</td>\n",
              "      <td>American</td>\n",
              "      <td>29.20</td>\n",
              "      <td>Weekend</td>\n",
              "      <td>3</td>\n",
              "      <td>25</td>\n",
              "      <td>15</td>\n",
              "      <td>7.3000</td>\n",
              "      <td>54.20</td>\n",
              "    </tr>\n",
              "    <tr>\n",
              "      <th>4</th>\n",
              "      <td>1478249</td>\n",
              "      <td>76942</td>\n",
              "      <td>Dirty Bird to Go</td>\n",
              "      <td>American</td>\n",
              "      <td>11.59</td>\n",
              "      <td>Weekday</td>\n",
              "      <td>4</td>\n",
              "      <td>25</td>\n",
              "      <td>24</td>\n",
              "      <td>1.7385</td>\n",
              "      <td>36.59</td>\n",
              "    </tr>\n",
              "  </tbody>\n",
              "</table>\n",
              "</div>\n",
              "    <div class=\"colab-df-buttons\">\n",
              "\n",
              "  <div class=\"colab-df-container\">\n",
              "    <button class=\"colab-df-convert\" onclick=\"convertToInteractive('df-5e4cffdc-0b87-4755-8604-525eacfd0300')\"\n",
              "            title=\"Convert this dataframe to an interactive table.\"\n",
              "            style=\"display:none;\">\n",
              "\n",
              "  <svg xmlns=\"http://www.w3.org/2000/svg\" height=\"24px\" viewBox=\"0 -960 960 960\">\n",
              "    <path d=\"M120-120v-720h720v720H120Zm60-500h600v-160H180v160Zm220 220h160v-160H400v160Zm0 220h160v-160H400v160ZM180-400h160v-160H180v160Zm440 0h160v-160H620v160ZM180-180h160v-160H180v160Zm440 0h160v-160H620v160Z\"/>\n",
              "  </svg>\n",
              "    </button>\n",
              "\n",
              "  <style>\n",
              "    .colab-df-container {\n",
              "      display:flex;\n",
              "      gap: 12px;\n",
              "    }\n",
              "\n",
              "    .colab-df-convert {\n",
              "      background-color: #E8F0FE;\n",
              "      border: none;\n",
              "      border-radius: 50%;\n",
              "      cursor: pointer;\n",
              "      display: none;\n",
              "      fill: #1967D2;\n",
              "      height: 32px;\n",
              "      padding: 0 0 0 0;\n",
              "      width: 32px;\n",
              "    }\n",
              "\n",
              "    .colab-df-convert:hover {\n",
              "      background-color: #E2EBFA;\n",
              "      box-shadow: 0px 1px 2px rgba(60, 64, 67, 0.3), 0px 1px 3px 1px rgba(60, 64, 67, 0.15);\n",
              "      fill: #174EA6;\n",
              "    }\n",
              "\n",
              "    .colab-df-buttons div {\n",
              "      margin-bottom: 4px;\n",
              "    }\n",
              "\n",
              "    [theme=dark] .colab-df-convert {\n",
              "      background-color: #3B4455;\n",
              "      fill: #D2E3FC;\n",
              "    }\n",
              "\n",
              "    [theme=dark] .colab-df-convert:hover {\n",
              "      background-color: #434B5C;\n",
              "      box-shadow: 0px 1px 3px 1px rgba(0, 0, 0, 0.15);\n",
              "      filter: drop-shadow(0px 1px 2px rgba(0, 0, 0, 0.3));\n",
              "      fill: #FFFFFF;\n",
              "    }\n",
              "  </style>\n",
              "\n",
              "    <script>\n",
              "      const buttonEl =\n",
              "        document.querySelector('#df-5e4cffdc-0b87-4755-8604-525eacfd0300 button.colab-df-convert');\n",
              "      buttonEl.style.display =\n",
              "        google.colab.kernel.accessAllowed ? 'block' : 'none';\n",
              "\n",
              "      async function convertToInteractive(key) {\n",
              "        const element = document.querySelector('#df-5e4cffdc-0b87-4755-8604-525eacfd0300');\n",
              "        const dataTable =\n",
              "          await google.colab.kernel.invokeFunction('convertToInteractive',\n",
              "                                                    [key], {});\n",
              "        if (!dataTable) return;\n",
              "\n",
              "        const docLinkHtml = 'Like what you see? Visit the ' +\n",
              "          '<a target=\"_blank\" href=https://colab.research.google.com/notebooks/data_table.ipynb>data table notebook</a>'\n",
              "          + ' to learn more about interactive tables.';\n",
              "        element.innerHTML = '';\n",
              "        dataTable['output_type'] = 'display_data';\n",
              "        await google.colab.output.renderOutput(dataTable, element);\n",
              "        const docLink = document.createElement('div');\n",
              "        docLink.innerHTML = docLinkHtml;\n",
              "        element.appendChild(docLink);\n",
              "      }\n",
              "    </script>\n",
              "  </div>\n",
              "\n",
              "\n",
              "<div id=\"df-b958b2ca-3493-41f1-aed2-d20e69ca7a1d\">\n",
              "  <button class=\"colab-df-quickchart\" onclick=\"quickchart('df-b958b2ca-3493-41f1-aed2-d20e69ca7a1d')\"\n",
              "            title=\"Suggest charts\"\n",
              "            style=\"display:none;\">\n",
              "\n",
              "<svg xmlns=\"http://www.w3.org/2000/svg\" height=\"24px\"viewBox=\"0 0 24 24\"\n",
              "     width=\"24px\">\n",
              "    <g>\n",
              "        <path d=\"M19 3H5c-1.1 0-2 .9-2 2v14c0 1.1.9 2 2 2h14c1.1 0 2-.9 2-2V5c0-1.1-.9-2-2-2zM9 17H7v-7h2v7zm4 0h-2V7h2v10zm4 0h-2v-4h2v4z\"/>\n",
              "    </g>\n",
              "</svg>\n",
              "  </button>\n",
              "\n",
              "<style>\n",
              "  .colab-df-quickchart {\n",
              "      --bg-color: #E8F0FE;\n",
              "      --fill-color: #1967D2;\n",
              "      --hover-bg-color: #E2EBFA;\n",
              "      --hover-fill-color: #174EA6;\n",
              "      --disabled-fill-color: #AAA;\n",
              "      --disabled-bg-color: #DDD;\n",
              "  }\n",
              "\n",
              "  [theme=dark] .colab-df-quickchart {\n",
              "      --bg-color: #3B4455;\n",
              "      --fill-color: #D2E3FC;\n",
              "      --hover-bg-color: #434B5C;\n",
              "      --hover-fill-color: #FFFFFF;\n",
              "      --disabled-bg-color: #3B4455;\n",
              "      --disabled-fill-color: #666;\n",
              "  }\n",
              "\n",
              "  .colab-df-quickchart {\n",
              "    background-color: var(--bg-color);\n",
              "    border: none;\n",
              "    border-radius: 50%;\n",
              "    cursor: pointer;\n",
              "    display: none;\n",
              "    fill: var(--fill-color);\n",
              "    height: 32px;\n",
              "    padding: 0;\n",
              "    width: 32px;\n",
              "  }\n",
              "\n",
              "  .colab-df-quickchart:hover {\n",
              "    background-color: var(--hover-bg-color);\n",
              "    box-shadow: 0 1px 2px rgba(60, 64, 67, 0.3), 0 1px 3px 1px rgba(60, 64, 67, 0.15);\n",
              "    fill: var(--button-hover-fill-color);\n",
              "  }\n",
              "\n",
              "  .colab-df-quickchart-complete:disabled,\n",
              "  .colab-df-quickchart-complete:disabled:hover {\n",
              "    background-color: var(--disabled-bg-color);\n",
              "    fill: var(--disabled-fill-color);\n",
              "    box-shadow: none;\n",
              "  }\n",
              "\n",
              "  .colab-df-spinner {\n",
              "    border: 2px solid var(--fill-color);\n",
              "    border-color: transparent;\n",
              "    border-bottom-color: var(--fill-color);\n",
              "    animation:\n",
              "      spin 1s steps(1) infinite;\n",
              "  }\n",
              "\n",
              "  @keyframes spin {\n",
              "    0% {\n",
              "      border-color: transparent;\n",
              "      border-bottom-color: var(--fill-color);\n",
              "      border-left-color: var(--fill-color);\n",
              "    }\n",
              "    20% {\n",
              "      border-color: transparent;\n",
              "      border-left-color: var(--fill-color);\n",
              "      border-top-color: var(--fill-color);\n",
              "    }\n",
              "    30% {\n",
              "      border-color: transparent;\n",
              "      border-left-color: var(--fill-color);\n",
              "      border-top-color: var(--fill-color);\n",
              "      border-right-color: var(--fill-color);\n",
              "    }\n",
              "    40% {\n",
              "      border-color: transparent;\n",
              "      border-right-color: var(--fill-color);\n",
              "      border-top-color: var(--fill-color);\n",
              "    }\n",
              "    60% {\n",
              "      border-color: transparent;\n",
              "      border-right-color: var(--fill-color);\n",
              "    }\n",
              "    80% {\n",
              "      border-color: transparent;\n",
              "      border-right-color: var(--fill-color);\n",
              "      border-bottom-color: var(--fill-color);\n",
              "    }\n",
              "    90% {\n",
              "      border-color: transparent;\n",
              "      border-bottom-color: var(--fill-color);\n",
              "    }\n",
              "  }\n",
              "</style>\n",
              "\n",
              "  <script>\n",
              "    async function quickchart(key) {\n",
              "      const quickchartButtonEl =\n",
              "        document.querySelector('#' + key + ' button');\n",
              "      quickchartButtonEl.disabled = true;  // To prevent multiple clicks.\n",
              "      quickchartButtonEl.classList.add('colab-df-spinner');\n",
              "      try {\n",
              "        const charts = await google.colab.kernel.invokeFunction(\n",
              "            'suggestCharts', [key], {});\n",
              "      } catch (error) {\n",
              "        console.error('Error during call to suggestCharts:', error);\n",
              "      }\n",
              "      quickchartButtonEl.classList.remove('colab-df-spinner');\n",
              "      quickchartButtonEl.classList.add('colab-df-quickchart-complete');\n",
              "    }\n",
              "    (() => {\n",
              "      let quickchartButtonEl =\n",
              "        document.querySelector('#df-b958b2ca-3493-41f1-aed2-d20e69ca7a1d button');\n",
              "      quickchartButtonEl.style.display =\n",
              "        google.colab.kernel.accessAllowed ? 'block' : 'none';\n",
              "    })();\n",
              "  </script>\n",
              "</div>\n",
              "\n",
              "    </div>\n",
              "  </div>\n"
            ]
          },
          "metadata": {},
          "execution_count": 22
        }
      ],
      "source": [
        "#Add column displaying total time of preparation and delivery\n",
        "df['total_time'] = df['cost_of_the_order'] + df['food_preparation_time']\n",
        "df.head()"
      ]
    },
    {
      "cell_type": "code",
      "source": [
        "#rest_ratings_50 = rated_rest_df[rated_rest_df['rating'] > 50]['restaurant_name']\n",
        "total_time_60 = df[df['total_time'] > 60]['restaurant_name']\n",
        "total_time_60"
      ],
      "metadata": {
        "colab": {
          "base_uri": "https://localhost:8080/"
        },
        "id": "wCo1RaNdu-xj",
        "outputId": "6754ce5d-580a-4122-ab49-43274fa75466"
      },
      "execution_count": null,
      "outputs": [
        {
          "output_type": "execute_result",
          "data": {
            "text/plain": [
              "31                              Klong\n",
              "61      Blue Ribbon Sushi Bar & Grill\n",
              "73                        Sushi Samba\n",
              "135                 The Meatball Shop\n",
              "143                     Sushi of Gari\n",
              "                    ...              \n",
              "1821      Grand Sichuan International\n",
              "1831                   Nobu Next Door\n",
              "1863                 Sushi of Gari 46\n",
              "1868                 RedFarm Broadway\n",
              "1884                      Shake Shack\n",
              "Name: restaurant_name, Length: 97, dtype: object"
            ]
          },
          "metadata": {},
          "execution_count": 24
        }
      ]
    },
    {
      "cell_type": "code",
      "source": [
        "#calculate percentage of orders with total time > 60\n",
        "percentage = (total_time_60.shape[0] / df.shape[0])\n",
        "percentage"
      ],
      "metadata": {
        "colab": {
          "base_uri": "https://localhost:8080/"
        },
        "id": "hQOrB-jywZ7r",
        "outputId": "e96f29b5-14b5-4157-9995-81161192162d"
      },
      "execution_count": null,
      "outputs": [
        {
          "output_type": "execute_result",
          "data": {
            "text/plain": [
              "0.051106427818756586"
            ]
          },
          "metadata": {},
          "execution_count": 29
        }
      ]
    },
    {
      "cell_type": "markdown",
      "metadata": {
        "id": "iqzBXn2yJY_W"
      },
      "source": [
        "#### Observations:\n",
        "\n",
        "*   5.11% of orders have a total preparation & delivery time of over 60 minutes\n",
        "\n"
      ]
    },
    {
      "cell_type": "markdown",
      "metadata": {
        "id": "bUd6cYpPJY_W"
      },
      "source": [
        "### **Question 16:** The company wants to analyze the delivery time of the orders on weekdays and weekends. How does the mean delivery time vary during weekdays and weekends? [2 marks]"
      ]
    },
    {
      "cell_type": "code",
      "execution_count": null,
      "metadata": {
        "id": "pIU5xZZ6JY_W",
        "colab": {
          "base_uri": "https://localhost:8080/"
        },
        "outputId": "47ae6448-f052-418d-f516-2db76ff05747"
      },
      "outputs": [
        {
          "output_type": "execute_result",
          "data": {
            "text/plain": [
              "22.4700222057735"
            ]
          },
          "metadata": {},
          "execution_count": 31
        }
      ],
      "source": [
        "#Identify the mean delivery time on weekends\n",
        "weekend = df[df['day_of_the_week'] == 'Weekend']\n",
        "weekend['delivery_time'].mean()"
      ]
    },
    {
      "cell_type": "code",
      "source": [
        "#Identify mean delivery time on weekdays\n",
        "weekday = df[df['day_of_the_week'] == 'Weekday']\n",
        "weekday['delivery_time'].mean()"
      ],
      "metadata": {
        "colab": {
          "base_uri": "https://localhost:8080/"
        },
        "id": "tY2gFioRxinJ",
        "outputId": "5c0df552-512d-40ab-d0ac-f9fe429fc410"
      },
      "execution_count": null,
      "outputs": [
        {
          "output_type": "execute_result",
          "data": {
            "text/plain": [
              "28.340036563071298"
            ]
          },
          "metadata": {},
          "execution_count": 32
        }
      ]
    },
    {
      "cell_type": "markdown",
      "metadata": {
        "id": "8H-ODxbVJY_W"
      },
      "source": [
        "#### Observations:\n",
        "\n",
        "\n",
        "*   The mean delivery time in minutes is 22 minutes during the weekends, and 28 minutes during weekdays\n",
        "\n",
        "*   Average delivery time is shorter during weekends\n",
        "\n",
        "\n"
      ]
    },
    {
      "cell_type": "markdown",
      "metadata": {
        "id": "17roJywaJY_W"
      },
      "source": [
        "### Conclusion and Recommendations"
      ]
    },
    {
      "cell_type": "markdown",
      "metadata": {
        "id": "ZdX2Wz4FJY_W"
      },
      "source": [
        "### **Question 17:** What are your conclusions from the analysis? What recommendations would you like to share to help improve the business? (You can use cuisine type and feedback ratings to drive your business recommendations.) [6 marks]"
      ]
    },
    {
      "cell_type": "markdown",
      "metadata": {
        "id": "VTugVsL4Ddz-"
      },
      "source": [
        "### Conclusions:\n",
        "*  38% of orders were not rated\n",
        "*  Median cost of orders is higher during the weekend vs. the weekdays\n",
        "*   Average cost of orders was ~$16\n",
        "* For orders that were rated, cost of the order and ratings were positively correlated\n",
        "*   American cuisine was the most ordered, followed by Japanese, Italian & Chinese\n",
        "*   Delivery times were quicker during the weekends\n",
        "* Restaurants with 50+ ratings had average ratings of 4+\n",
        "\n",
        "\n",
        "\n"
      ]
    },
    {
      "cell_type": "markdown",
      "metadata": {
        "id": "PWnsI0i_guWJ"
      },
      "source": [
        "### Recommendations:\n",
        "\n",
        "*  Prompt users for more ratings through a loyalty program, and limited time discounts to generate more volume of customer feedback & ratings.\n",
        "\n",
        "* Work with restaurants to promote or expand menu items around the average of $16 to encourage continued business through FoodHub. Then include options to \"upgrade\" their orders via drinks, desserts, add-ons.\n",
        "\n",
        "* With American, Japanese, and Italian cuisine being the most popular, incentivize new restaurants of these cuisines to partner with FoodHub by waiving restaurant charges (15-25%) for the initial months of partnership.\n",
        "\n",
        "* Send app notifications during the end of the week to encourage ordering during the weekend where median cost of orders were higher and delivery times were quicker.\n",
        "\n",
        "* Hire more drivers, or incentivize deliveries during the week when delivery times are slower. This could increase orders from users."
      ]
    },
    {
      "cell_type": "code",
      "source": [],
      "metadata": {
        "id": "ef57NxUHjPLE"
      },
      "execution_count": null,
      "outputs": []
    },
    {
      "cell_type": "markdown",
      "metadata": {
        "id": "tSoucKKbg9Hc"
      },
      "source": [
        "---"
      ]
    }
  ],
  "metadata": {
    "colab": {
      "provenance": [],
      "include_colab_link": true
    },
    "hide_input": false,
    "kernelspec": {
      "display_name": "Python 3 (ipykernel)",
      "language": "python",
      "name": "python3"
    },
    "language_info": {
      "codemirror_mode": {
        "name": "ipython",
        "version": 3
      },
      "file_extension": ".py",
      "mimetype": "text/x-python",
      "name": "python",
      "nbconvert_exporter": "python",
      "pygments_lexer": "ipython3",
      "version": "3.9.7"
    },
    "toc": {
      "base_numbering": 1,
      "nav_menu": {},
      "number_sections": true,
      "sideBar": true,
      "skip_h1_title": false,
      "title_cell": "Table of Contents",
      "title_sidebar": "Contents",
      "toc_cell": false,
      "toc_position": {},
      "toc_section_display": true,
      "toc_window_display": false
    },
    "varInspector": {
      "cols": {
        "lenName": 16,
        "lenType": 16,
        "lenVar": 40
      },
      "kernels_config": {
        "python": {
          "delete_cmd_postfix": "",
          "delete_cmd_prefix": "del ",
          "library": "var_list.py",
          "varRefreshCmd": "print(var_dic_list())"
        },
        "r": {
          "delete_cmd_postfix": ") ",
          "delete_cmd_prefix": "rm(",
          "library": "var_list.r",
          "varRefreshCmd": "cat(var_dic_list()) "
        }
      },
      "types_to_exclude": [
        "module",
        "function",
        "builtin_function_or_method",
        "instance",
        "_Feature"
      ],
      "window_display": false
    }
  },
  "nbformat": 4,
  "nbformat_minor": 0
}